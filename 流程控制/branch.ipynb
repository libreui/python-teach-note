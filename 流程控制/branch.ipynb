{
 "cells": [
  {
   "cell_type": "markdown",
   "metadata": {},
   "source": [
    "# 分支语句 if\n",
    "## 单分支\n",
    "```\n",
    "上游代码\n",
    "if [条件]:\n",
    "    代码块\n",
    "下游代码\n",
    "```"
   ]
  },
  {
   "cell_type": "code",
   "execution_count": 8,
   "metadata": {},
   "outputs": [
    {
     "name": "stdout",
     "output_type": "stream",
     "text": [
      "程序执行完毕\n"
     ]
    }
   ],
   "source": [
    "a = -34\n",
    "if a > 0:\n",
    "    print(\"正数\")\n",
    "print('程序执行完毕')"
   ]
  },
  {
   "cell_type": "markdown",
   "metadata": {},
   "source": [
    "# 二分支\n",
    "\n",
    "```\n",
    "if [条件]:\n",
    "    代码块A\n",
    "else:\n",
    "    代码块B\n",
    "```"
   ]
  },
  {
   "cell_type": "code",
   "execution_count": 10,
   "metadata": {},
   "outputs": [
    {
     "name": "stdout",
     "output_type": "stream",
     "text": [
      "负数\n"
     ]
    }
   ],
   "source": [
    "a = -34\n",
    "if a > 0:\n",
    "    print(\"正数\")\n",
    "else:\n",
    "    print(\"负数\")"
   ]
  },
  {
   "cell_type": "markdown",
   "metadata": {},
   "source": [
    "# 多分支\n",
    "\n",
    "```\n",
    "if [条件]:\n",
    "    代码块A\n",
    "elif [条件]:\n",
    "    代码块B\n",
    "elif [条件]:\n",
    "    代码块C\n",
    "else:\n",
    "    代码块D\n",
    "```"
   ]
  },
  {
   "cell_type": "code",
   "execution_count": 2,
   "metadata": {},
   "outputs": [
    {
     "name": "stdout",
     "output_type": "stream",
     "text": [
      "这个数为0\n"
     ]
    }
   ],
   "source": [
    "a = 0\n",
    "if a == 0:\n",
    "    print(\"这个数为0\")\n",
    "elif a > 0:\n",
    "    print(\"正数\")\n",
    "else:\n",
    "    print(\"负数\")"
   ]
  },
  {
   "cell_type": "code",
   "execution_count": 4,
   "metadata": {},
   "outputs": [
    {
     "name": "stdout",
     "output_type": "stream",
     "text": [
      "F\n"
     ]
    }
   ],
   "source": [
    "'''\n",
    "分数转换等级：\n",
    "编写一个程序，将输入的分数转换为等级。根据以下规则进行转换：\n",
    "90分及以上为A等级\n",
    "80分及以上为B等级\n",
    "70分及以上为C等级\n",
    "60分及以上为D等级\n",
    "60分以下为F等级\n",
    "'''\n",
    "\n",
    "n = 54\n",
    "if n < 60:\n",
    "    print('F')\n",
    "elif n < 70:\n",
    "    print('D')\n",
    "elif n < 80:\n",
    "    print('C')\n",
    "elif n < 90:\n",
    "    print('B')\n",
    "else:\n",
    "    print('A')"
   ]
  },
  {
   "cell_type": "code",
   "execution_count": 9,
   "metadata": {},
   "outputs": [
    {
     "name": "stdout",
     "output_type": "stream",
     "text": [
      "460\n"
     ]
    }
   ],
   "source": [
    "'''\n",
    "题目：\n",
    "    坐出租车，22公里, 根据条件，计算价格\n",
    "    - 5公里以内10元，\n",
    "    - 超过5公里，每公里收2元\n",
    "    - 超过10公里， 每公里收5元\n",
    "    - 超过20公里， 每公里收10元\n",
    "    - 超过50公里， 每公里收30元\n",
    "编程：\n",
    "    计算车费 并 打印\"N公里多少元\"\n",
    "'''\n",
    "\n",
    "\n",
    "# 5 以内的条件 < 5\n",
    "# 10\n",
    "\n",
    "# 5公里以上\n",
    "# 10 + (n-5) * 2\n",
    "\n",
    "# 10公里以上 >=5 <10\n",
    "# 10 + 5*2 + (n-10)*5\n",
    "\n",
    "\n",
    "# 20公里以上 >=10 <20\n",
    "# 10 + 5*2 + 10*5 + (n-20)*10\n",
    "\n",
    "# 50公里以上 >50\n",
    "\n",
    "n = 53\n",
    "if n < 5:\n",
    "    print(10)\n",
    "elif 5 <= n < 10:\n",
    "    print(10 + (n-5) * 2)\n",
    "elif 10 <= n < 20:\n",
    "    print(10 + 5*2 + (n-10)*5)\n",
    "elif 20 <= n < 50:\n",
    "    print(10 + 5*2 + 10*5 + (n-20)*10)\n",
    "else:\n",
    "    print(10 + 5*2 + 10*5 + 30*10 + (n-50)*30)\n",
    "\n"
   ]
  },
  {
   "cell_type": "code",
   "execution_count": null,
   "metadata": {},
   "outputs": [],
   "source": [
    "# 有一家餐厅，菜单里有：红烧肉、鱼香茄子、狮子头、拌拉皮；\n",
    "# 顾客来点餐，用户输入一道菜品,如果点的菜在菜单中：我们就把菜品添加到订单列表中，\n",
    "# 否则没有这个菜，就打印，菜品不存在\n",
    "# 最后打印订单\n"
   ]
  }
 ],
 "metadata": {
  "kernelspec": {
   "display_name": "python310",
   "language": "python",
   "name": "python3"
  },
  "language_info": {
   "codemirror_mode": {
    "name": "ipython",
    "version": 3
   },
   "file_extension": ".py",
   "mimetype": "text/x-python",
   "name": "python",
   "nbconvert_exporter": "python",
   "pygments_lexer": "ipython3",
   "version": "3.10.9"
  },
  "orig_nbformat": 4
 },
 "nbformat": 4,
 "nbformat_minor": 2
}
