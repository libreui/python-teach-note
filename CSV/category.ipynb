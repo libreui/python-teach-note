{
 "cells": [
  {
   "cell_type": "code",
   "execution_count": 2,
   "metadata": {},
   "outputs": [
    {
     "name": "stdout",
     "output_type": "stream",
     "text": [
      "{'食品饮料': 18, '粮油调味': 6, '米': 3, '休闲食品': 12, '休闲零食': 1, '方便食品': 1, '坚果炒货': 3, '饼干蛋糕': 4, '蜜饯果干': 2, '肉干肉脯': 1, '母婴': 64, '洗护用品': 8, '婴童湿巾': 4, '尿裤湿巾': 54, '婴儿尿裤': 1, '洗衣液/皂': 1, '日常护理': 1, '营养辅食': 1, '宝宝零食': 1, '家庭清洁/纸品': 16, '清洁纸品': 7, '抽纸': 4, '衣物清洁': 5, '洗衣液': 3, '家庭环境清洁': 3, '洗洁精': 2, '洁厕剂': 1, '家居日用': 14, '收纳用品': 7, '收纳箱/盒': 3, '收纳柜': 2, '美妆护肤': 12, '面部护肤': 6, '面膜': 3, '手机通讯': 8, '手机配件': 9, '数据线': 6, '个人护理': 23, '口腔护理': 7, '牙膏': 5, '手帕纸': 1, '男士面部护肤': 4, '男士洁面': 3, '套装/礼盒': 1, '家用电器': 4, '生活电器': 1, '电风扇': 1, '收纳盒': 53, '调味品': 1, '内衣': 65, '内裤': 3, '男士平角裤/平脚裤': 2, '身体护理': 9, '香皂': 3, '女性护理': 2, '卫生巾': 2, '保暖裤': 2, '保暖内衣': 4, '保暖套装': 2, '文胸': 1, '无痕文胸': 1, '数码、电脑': 1, '移动电源': 2, '家纺家饰': 4, '毛巾': 4, '毛巾、面巾': 4, '袜子': 5, '运动、休闲棉袜': 2, '船袜、隐形袜': 2, '沐浴露': 6, '洗衣凝珠': 2, '饼干/膨化': 1, '挂面': 1, '个护健康': 2, '干衣机': 1, '身体护肤': 1, '护手霜': 1, '家纺': 11, '床上用品': 8, '四件套': 2, '蚊帐': 1, '冰丝席': 1, '商务袜': 1, '婴童乳霜纸': 1, '牙刷': 1, '洗发护发': 3, '护发精华': 1, '生活日用': 2, '浴室用品': 1, '服饰内衣': 3, '男装': 3, 'T恤': 1, '清洁用具': 1, '抹布/百洁布': 1, '男士面膜': 1, '美妆工具': 1, '化妆棉': 1, '拉拉裤': 53, '居家布艺': 3, '一次性洗脸巾': 2, '洗发水': 2, '座便器': 1, '纤维被': 1, '工装': 1, '湿巾': 1, '女装': 3, '连衣裙': 3, '手机支架': 1, '浴巾': 1, '床垫/床褥': 1, '花草枕': 1, '婴童寝居': 1, '婴童隔尿垫/巾': 1, '毛毯': 1, '雨伞雨具': 1, '美容护肤/彩妆': 1, '彩妆香氛': 1, '眼影': 1, '女士三角裤': 52, '其它口腔护理产品': 1, '卷纸': 1, '休闲棉袜 ': 1, '厨卫大电': 1, '油烟机': 1, '剃须刀': 2, '日用百货': 53, '餐具': 1, '西餐刀、叉、勺': 1, '美发假发/造型': 1, '美发工具': 1, '生活用品': 1, '卫浴洗漱用具': 1, '牙刷架、牙具座': 1, '洁面': 1, '男式沙滩裤': 1, '眼霜/眼部精华': 1, '收纳防尘': 51, '女士内裤': 51}\n"
     ]
    }
   ],
   "source": [
    "import csv\n",
    "\n",
    "# 计数法\n",
    "# {\n",
    "#   分类名称： 统计\n",
    "# }\n",
    "category_count = {}\n",
    "categorys = []\n",
    "with open('file/fenlei.csv', 'r') as f:\n",
    "    categorys = list(csv.reader(f))\n",
    "\n",
    "for element in categorys:\n",
    "    for el in element:\n",
    "        category_count[el] = category_count.get(el, 0) + 1\n",
    "\n",
    "print(category_count)"
   ]
  },
  {
   "cell_type": "code",
   "execution_count": 9,
   "metadata": {},
   "outputs": [
    {
     "name": "stdout",
     "output_type": "stream",
     "text": [
      "{'食品饮料': 18, '粮油调味': 6, '米': 3, '休闲食品': 12, '休闲零食': 1, '方便食品': 1, '坚果炒货': 3, '饼干蛋糕': 4, '蜜饯果干': 2, '肉干肉脯': 1, '母婴': 64, '洗护用品': 8, '婴童湿巾': 4, '尿裤湿巾': 54, '婴儿尿裤': 1, '洗衣液/皂': 1, '日常护理': 1, '营养辅食': 1, '宝宝零食': 1, '家庭清洁/纸品': 16, '清洁纸品': 7, '抽纸': 4, '衣物清洁': 5, '洗衣液': 3, '家庭环境清洁': 3, '洗洁精': 2, '洁厕剂': 1, '家居日用': 14, '收纳用品': 7, '收纳箱/盒': 3, '收纳柜': 2, '美妆护肤': 12, '面部护肤': 6, '面膜': 3, '手机通讯': 8, '手机配件': 9, '数据线': 6, '个人护理': 23, '口腔护理': 7, '牙膏': 5, '手帕纸': 1, '男士面部护肤': 4, '男士洁面': 3, '套装/礼盒': 1, '家用电器': 4, '生活电器': 1, '电风扇': 1, '收纳盒': 53, '调味品': 1, '内衣': 65, '内裤': 3, '男士平角裤/平脚裤': 2, '身体护理': 9, '香皂': 3, '女性护理': 2, '卫生巾': 2, '保暖裤': 2, '保暖内衣': 4, '保暖套装': 2, '文胸': 1, '无痕文胸': 1, '数码、电脑': 1, '移动电源': 2, '家纺家饰': 4, '毛巾': 4, '毛巾、面巾': 4, '袜子': 5, '运动、休闲棉袜': 2, '船袜、隐形袜': 2, '沐浴露': 6, '洗衣凝珠': 2, '饼干/膨化': 1, '挂面': 1, '个护健康': 2, '干衣机': 1, '身体护肤': 1, '护手霜': 1, '家纺': 11, '床上用品': 8, '四件套': 2, '蚊帐': 1, '冰丝席': 1, '商务袜': 1, '婴童乳霜纸': 1, '牙刷': 1, '洗发护发': 3, '护发精华': 1, '生活日用': 2, '浴室用品': 1, '服饰内衣': 3, '男装': 3, 'T恤': 1, '清洁用具': 1, '抹布/百洁布': 1, '男士面膜': 1, '美妆工具': 1, '化妆棉': 1, '拉拉裤': 53, '居家布艺': 3, '一次性洗脸巾': 2, '洗发水': 2, '座便器': 1, '纤维被': 1, '工装': 1, '湿巾': 1, '女装': 3, '连衣裙': 3, '手机支架': 1, '浴巾': 1, '床垫/床褥': 1, '花草枕': 1, '婴童寝居': 1, '婴童隔尿垫/巾': 1, '毛毯': 1, '雨伞雨具': 1, '美容护肤/彩妆': 1, '彩妆香氛': 1, '眼影': 1, '女士三角裤': 52, '其它口腔护理产品': 1, '卷纸': 1, '休闲棉袜 ': 1, '厨卫大电': 1, '油烟机': 1, '剃须刀': 2, '日用百货': 53, '餐具': 1, '西餐刀、叉、勺': 1, '美发假发/造型': 1, '美发工具': 1, '生活用品': 1, '卫浴洗漱用具': 1, '牙刷架、牙具座': 1, '洁面': 1, '男式沙滩裤': 1, '眼霜/眼部精华': 1, '收纳防尘': 51, '女士内裤': 51}\n"
     ]
    }
   ],
   "source": [
    "import csv\n",
    "\n",
    "# 遍历法\n",
    "category_count = {}\n",
    "temp = []\n",
    "categorys = []\n",
    "with open('file/fenlei.csv', 'r', encoding='utf-8') as f:\n",
    "    temp = list(csv.reader(f))\n",
    "\n",
    "for element in temp:\n",
    "    categorys += element\n",
    "\n",
    "for name in categorys:\n",
    "    if name not in category_count.keys():\n",
    "        category_count[name] = categorys.count(name)\n",
    "\n",
    "print(category_count)\n",
    "\n"
   ]
  },
  {
   "cell_type": "code",
   "execution_count": 37,
   "metadata": {},
   "outputs": [],
   "source": [
    "import csv\n",
    "\n",
    "# 遍历法\n",
    "category_count = {}\n",
    "temp = []\n",
    "categorys = []\n",
    "keys = []\n",
    "with open('file/fenlei.csv', 'r', encoding='utf-8') as f:\n",
    "    temp = list(csv.reader(f))\n",
    "\n",
    "for element in temp:\n",
    "    categorys += element\n",
    "\n",
    "for name in set(categorys):\n",
    "    category_count[name] = categorys.count(name)\n",
    "\n",
    "# 把统计结果写入CSC文件\n",
    "# [\n",
    "# {'分类': xxxxx, '次数': 0},\n",
    "# {'分类': xxxxx, '次数': 0}\n",
    "# ]\n",
    "data = []\n",
    "for k, v in category_count.items():\n",
    "    data.append({'分类': k, '次数': v})\n",
    "with open('file/feilei_count.csv', 'w', newline='', encoding='utf-8') as f:\n",
    "    writer = csv.DictWriter(f, ['分类', '次数'])\n",
    "    writer.writeheader()\n",
    "    writer.writerows(data)\n",
    "\n"
   ]
  },
  {
   "cell_type": "code",
   "execution_count": 7,
   "metadata": {},
   "outputs": [],
   "source": [
    "import csv\n",
    "\n",
    "data = []\n",
    "with open('file/banzi.csv', 'r', encoding='utf-8') as f:\n",
    "    data = list(csv.reader(f))\n",
    "\n",
    "with open('file/banzi_dict.txt', 'w', encoding='utf-8') as f:\n",
    "    f.write('{\\n')\n",
    "    for el in data:\n",
    "        f.write(f\"\\t'{el[1]}': {el[0]}\\n\")\n",
    "    f.write('}')\n"
   ]
  },
  {
   "cell_type": "code",
   "execution_count": 9,
   "metadata": {},
   "outputs": [
    {
     "name": "stdout",
     "output_type": "stream",
     "text": [
      "1x1=1\n",
      "1x2=2 2x2=4\n",
      "1x3=3 2x3=6 3x3=9\n",
      "1x4=4 2x4=8 3x4=12 4x4=16\n",
      "1x5=5 2x5=10 3x5=15 4x5=20 5x5=25\n",
      "1x6=6 2x6=12 3x6=18 4x6=24 5x6=30 6x6=36\n",
      "1x7=7 2x7=14 3x7=21 4x7=28 5x7=35 6x7=42 7x7=49\n",
      "1x8=8 2x8=16 3x8=24 4x8=32 5x8=40 6x8=48 7x8=56 8x8=64\n",
      "1x9=9 2x9=18 3x9=27 4x9=36 5x9=45 6x9=54 7x9=63 8x9=72 9x9=81\n",
      "abc\n"
     ]
    }
   ],
   "source": [
    "with open('./jj.csv', 'r') as f:\n",
    "    for line in f.readlines():\n",
    "        # print(line)\n",
    "        print(line.strip('\\n'))\n",
    "print('abcd\\b')"
   ]
  }
 ],
 "metadata": {
  "kernelspec": {
   "display_name": "python310",
   "language": "python",
   "name": "python3"
  },
  "language_info": {
   "codemirror_mode": {
    "name": "ipython",
    "version": 3
   },
   "file_extension": ".py",
   "mimetype": "text/x-python",
   "name": "python",
   "nbconvert_exporter": "python",
   "pygments_lexer": "ipython3",
   "version": "3.10.9"
  }
 },
 "nbformat": 4,
 "nbformat_minor": 2
}
