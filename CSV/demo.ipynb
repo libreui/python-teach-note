{
 "cells": [
  {
   "cell_type": "code",
   "execution_count": null,
   "outputs": [],
   "source": [
    "# 数据处理 数据维度\n",
    "a = [1, 'a', 3, True, ('a',['Hello'])]\n",
    "# 非零即为真；非空即为真。\n",
    "x = a[-1][1]\n",
    "print(x[0])\n",
    "# 表示、储存、格式化、读入数据、写入数据\n",
    "# \n",
    "\n"
   ],
   "metadata": {
    "collapsed": false
   }
  },
  {
   "cell_type": "code",
   "execution_count": null,
   "outputs": [],
   "source": [
    "# 如何打开一个文件\n",
    "# 文件路径的问题： ./ 当前目录开始\n",
    "# 打开的方式：1.'r'只读  2.'w'只写 3.'a'追加\n",
    "f = open('./city.csv', 'r', encoding='utf-8')\n",
    "print(f.read())\n",
    "f.close()"
   ],
   "metadata": {
    "collapsed": false
   }
  },
  {
   "cell_type": "code",
   "execution_count": null,
   "outputs": [],
   "source": [
    "# 写入数据\n",
    "a = \"今天天气真好啊！\"\n",
    "f = open('./city.csv', 'w', encoding='utf-8')\n",
    "f.write(a)\n",
    "f.close()\n",
    "print('写入完毕！')"
   ],
   "metadata": {
    "collapsed": false
   }
  },
  {
   "cell_type": "code",
   "execution_count": null,
   "outputs": [],
   "source": [
    "# 0o57 转换为10进制、二进制、十六进制\n",
    "# 0x10001 转换为十六进制、十进制\n",
    "\"\"\"\n",
    "向file目录中的文件\"2025-07-15.txt\"写入：\n",
    "./file/2025-07-15.txt\n",
    "\n",
    "静夜思\n",
    "唐 李白\n",
    "床前明月光，疑是地上霜。\n",
    "举头望明月，低头思故乡。\n",
    "\"\"\"\n",
    "\n",
    "\"\"\"\n",
    "读取刚才创建的文件\"2025-07-15.csv\",把内容打印到屏幕上\n",
    "\"\"\""
   ],
   "metadata": {
    "collapsed": false
   }
  },
  {
   "cell_type": "code",
   "execution_count": null,
   "outputs": [],
   "source": [
    "data = ['北京', '天津', '上海', '澳门']\n",
    "\n",
    "with open('./file/city_20250715.csv', 'w', encoding='utf-8', newline='') as f:\n",
    "    f.write(','.join(data))\n",
    "print('写入完毕')"
   ],
   "metadata": {
    "collapsed": false
   }
  },
  {
   "cell_type": "code",
   "execution_count": null,
   "outputs": [],
   "source": [
    "# 读取CSV数据\n",
    "with open('./file/city_20250715.csv', 'r', encoding='utf-8') as f:\n",
    "    for i in f:\n",
    "        print(i)"
   ],
   "metadata": {
    "collapsed": false
   }
  },
  {
   "cell_type": "code",
   "execution_count": null,
   "outputs": [],
   "source": [
    "lst = [1, 3, 5, 7]\n",
    "# 语法糖 列表 [表达式 循环语句 条件语句]\n",
    "lst = [i**2 for i in lst ]\n",
    "print(lst)"
   ],
   "metadata": {
    "collapsed": false
   }
  },
  {
   "cell_type": "code",
   "execution_count": null,
   "outputs": [],
   "source": [
    "from pprint import pprint\n",
    "# 定义包含学生信息和成绩的列表\n",
    "c = [\n",
    "    ['张三', 90, 85, 92],  # 张三的数学、语文、英语成绩\n",
    "    ['李四', 88, 92, 87],  # 李四的数学、语文、英语成绩\n",
    "    ['王五', 95, 89, 91],  # 王五的数学、语文、英语成绩\n",
    "    ['赵六', 80, 85, 90]   # 赵六的数学、语文、英语成绩\n",
    "]\n",
    "# 数据类型的问题\n",
    "for i in range(len(c)):\n",
    "    c[i] = [str(x) for x in c[i]]\n",
    "    \n",
    "# 写入文件\n",
    "with open('./db/cj_20250716.csv', 'w', encoding='utf-8', newline='') as f:\n",
    "    for cj in c:\n",
    "        f.write(','.join(cj) + '\\n')\n",
    "    \n",
    "    \n",
    "pprint(c)\n"
   ],
   "metadata": {
    "collapsed": false
   }
  },
  {
   "cell_type": "code",
   "execution_count": null,
   "outputs": [],
   "source": [
    "# 把刚才的成绩文件中的内容，读取出来后，还原成列表\n",
    "c = []\n",
    "# 从文件读取内容，放入列表C中\n",
    "print(c)\n",
    "\n",
    "a = \"a,b,c,d,e\\n\"\n",
    "print(a.strip('\\n').split(','))"
   ],
   "metadata": {
    "collapsed": false
   }
  },
  {
   "cell_type": "code",
   "execution_count": null,
   "outputs": [],
   "source": [
    "names = ['张三', '李四', '王五', '赵六']\n",
    "# 1. 根据姓名列表，创造一个二维数据，包含这三个人的成绩(数语外)\n",
    "'''\n",
    "[['张三', '90', '85', '92'],\n",
    " ['李四', '88', '92', '87'],\n",
    " ['王五', '95', '89', '91'],\n",
    " ['赵六', '80', '85', '90']]\n",
    "'''\n",
    "# 2. 把二维数据保存到./file/cj_20250717.csv文件中\n",
    "# 3. 通过读取./file/cj_20250717.csv，打印出一下数据\n",
    "\"\"\"\n",
    "打印出每个人的总成绩：XXX的总分：000\n",
    "\n",
    "XXX的数学成绩最高：98\n",
    "XXX的语文成绩最高：99\n",
    "XXX的外语成绩最高：100\n",
    "\n",
    "\n",
    "数学成绩的平均分：000\n",
    "语文成绩的平均分：000\n",
    "外语成绩的平均分：000\n",
    "\"\"\"\n",
    "import math\n",
    "sum([])/3\n"
   ],
   "metadata": {
    "collapsed": false
   }
  },
  {
   "cell_type": "code",
   "execution_count": null,
   "outputs": [],
   "source": [
    "a = [34, 23, 4, 55, 999, 76]\n",
    "m = a[0]\n",
    "for i in a:\n",
    "    if i > m:\n",
    "        m = i\n",
    "print(m)\n",
    "\n",
    "\"\"\"\n",
    "XXX的数学成绩最高：98\n",
    "XXX的语文成绩最高：99\n",
    "XXX的外语成绩最高：100\n",
    "\"\"\"\n",
    "\n",
    "a = [['张三', 99], ['李四', 88]]\n",
    "name = ''\n",
    "m = 0\n",
    "for cj in a:\n",
    "    if cj[1] > m:\n",
    "        m = cj[1]\n",
    "        name = cj[0]\n",
    "        \n",
    "print(name, m)"
   ],
   "metadata": {
    "collapsed": false
   }
  },
  {
   "cell_type": "code",
   "execution_count": null,
   "outputs": [],
   "source": [
    "# CSV 库 (Comma-Separated Values)\n",
    "import csv\n",
    "c = [['张三', '90', '85', '92'],\n",
    "     ['李四', '88', '92', '87'],\n",
    "     ['王五', '95', '89', '91'],\n",
    "     ['赵六', '80', '85', '90']]\n",
    "\n",
    "with open('./db/cj_20250721.csv', 'w', encoding='utf-8', newline='') as f:\n",
    "    w = csv.writer(f) # 实例化\n",
    "    w.writerows(c)\n",
    "\n",
    "print('写入完成')\n"
   ],
   "metadata": {
    "collapsed": false
   }
  },
  {
   "cell_type": "code",
   "execution_count": null,
   "outputs": [],
   "source": [
    "import csv\n",
    "with open('./db/cj_20250721.csv', 'r', encoding='utf-8') as f:\n",
    "    r = csv.reader(f)\n",
    "    for i in r:\n",
    "        print(i, type(i))\n",
    "        "
   ],
   "metadata": {
    "collapsed": false
   }
  },
  {
   "cell_type": "code",
   "execution_count": 16,
   "outputs": [
    {
     "name": "stdout",
     "output_type": "stream",
     "text": [
      "[['学号', '姓名', '性别', '年龄', '身高'], ['20240622', '张三', '男', '20', '180'], ['20240623', '李四', '女', '21', '170'], ['20240624', '王五', '男', '22', '175']]\n"
     ]
    }
   ],
   "source": [
    "\"\"\"\n",
    "用户输入：\n",
    "请输入姓名：\n",
    "请输入成绩：89 90 89\n",
    "追加到csv文件中\n",
    "\n",
    "# 查询功能\n",
    "输入姓名：李禹晨1\n",
    "['李禹晨', '59','59','59']\n",
    "没有找到！\n",
    "\"\"\"\n",
    "import csv\n",
    "data = []\n",
    "with open('./file/20240622.csv', 'r', encoding='utf-8') as f:\n",
    "    data = list(csv.reader(f))\n",
    "print(data)\n"
   ],
   "metadata": {
    "collapsed": false,
    "ExecuteTime": {
     "end_time": "2025-07-24T09:30:29.901796Z",
     "start_time": "2025-07-24T09:30:29.888883Z"
    }
   }
  }
 ],
 "metadata": {
  "kernelspec": {
   "display_name": "python310",
   "language": "python",
   "name": "python3"
  },
  "language_info": {
   "codemirror_mode": {
    "name": "ipython",
    "version": 3
   },
   "file_extension": ".py",
   "mimetype": "text/x-python",
   "name": "python",
   "nbconvert_exporter": "python",
   "pygments_lexer": "ipython3",
   "version": "3.10.13"
  }
 },
 "nbformat": 4,
 "nbformat_minor": 2
}
