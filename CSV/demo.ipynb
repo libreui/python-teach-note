{
 "cells": [
  {
   "cell_type": "code",
   "execution_count": null,
   "metadata": {},
   "outputs": [],
   "source": [
    "f = open('./file/user.csv', 'r', encoding='utf-8')\n",
    "value = f.read()\n",
    "f.close()\n",
    "print(value)"
   ]
  },
  {
   "cell_type": "code",
   "execution_count": 2,
   "metadata": {
    "ExecuteTime": {
     "end_time": "2024-06-24T12:48:10.407340Z",
     "start_time": "2024-06-24T12:48:10.394821Z"
    },
    "collapsed": false
   },
   "outputs": [],
   "source": [
    "header = ['name', 'shuxue', 'yuwen', 'yingyu']\n",
    "f = open('./file/user.csv', 'w', encoding='utf-8')\n",
    "f.write(','.join(header)+'\\n')\n",
    "f.close()"
   ]
  },
  {
   "cell_type": "code",
   "execution_count": 9,
   "metadata": {
    "ExecuteTime": {
     "end_time": "2024-06-30T02:48:50.858023Z",
     "start_time": "2024-06-30T02:48:50.833511Z"
    },
    "collapsed": false
   },
   "outputs": [
    {
     "name": "stdout",
     "output_type": "stream",
     "text": [
      "写入完毕!\n",
      "[['学号', '姓名', '性别', '年龄', '身高'], ['20240622', '张三', '男', '20', '180'], ['20240623', '李四', '女', '21', '170'], ['20240624', '王五', '男', '22', '175']]\n"
     ]
    }
   ],
   "source": [
    "# 将学籍数据 学号、姓名、性别、年龄、身高(cm)，两行数据\n",
    "# 写入file目录下名叫“20240622.csv”的文件中\n",
    "# 读取刚才的文件并打印结果字符串\n",
    "table = [\n",
    "    ['学号', '姓名', '性别', '年龄', '身高'],\n",
    "    ['20240622', '张三', '男', '20', '180'],\n",
    "    ['20240623', '李四', '女', '21', '170'],\n",
    "    ['20240624', '王五', '男', '22', '175']\n",
    "]\n",
    "\n",
    "f = open('./file/20240622.csv', 'w', encoding='utf-8')\n",
    "for row in table:\n",
    "    f.wri   te(','.join(row) + '\\n')\n",
    "f.close()\n",
    "\n",
    "print(\"写入完毕!\")\n",
    "\n",
    "outTable = []\n",
    "f = open('./file/20240622.csv', 'r', encoding='utf-8')\n",
    "for i in f:\n",
    "    outTable.append(i.strip(\"\\n\").split(','))\n",
    "f.close()\n",
    "print(outTable)\n",
    "\n",
    "\n",
    "# 0. 创建一个二维数据，成绩表\n",
    "table = [\n",
    "    ['姓名', '数学', '语文', '英语'],\n",
    "    ['张三', '80', '90', '70'],\n",
    "    ['李四', '85', '88', '89'],\n",
    "    ['王五', '75', '78', '79']\n",
    "]\n",
    "\n",
    "# 1. 将成绩表写入到file目录下名叫“成绩表.csv”的文件中\n",
    "\n",
    "# 2. 追加一组数据到成绩表中\n",
    "table1 = [\n",
    "    ['赵六', '85', '88', '89'],\n",
    "    ['钱七', '75', '78', '79']\n",
    "]\n",
    "\n",
    "# 3. 读取刚才的文件并打印二维结果\n",
    "outTable = []\n",
    "\n"
   ]
  },
  {
   "cell_type": "code",
   "execution_count": 40,
   "metadata": {
    "ExecuteTime": {
     "end_time": "2024-06-29T03:15:26.895552Z",
     "start_time": "2024-06-29T03:15:26.887082Z"
    },
    "collapsed": false
   },
   "outputs": [
    {
     "name": "stdout",
     "output_type": "stream",
     "text": [
      "['姓名', '数学', '语文', '英语']\n",
      "['张三', '80', '90', '70']\n"
     ]
    }
   ],
   "source": [
    "# readline() readlines()\n",
    "# write() writelines()\n",
    "table = [\n",
    "    '姓名@数学@语文@英语\\n',\n",
    "    '张三@80@90@70\\n',\n",
    "]\n",
    "\n"
   ]
  },
  {
   "cell_type": "code",
   "execution_count": 26,
   "metadata": {
    "ExecuteTime": {
     "end_time": "2024-06-30T02:56:59.053583Z",
     "start_time": "2024-06-30T02:56:59.034722Z"
    }
   },
   "outputs": [
    {
     "ename": "IndexError",
     "evalue": "list index out of range",
     "output_type": "error",
     "traceback": [
      "\u001B[0;31m---------------------------------------------------------------------------\u001B[0m",
      "\u001B[0;31mIndexError\u001B[0m                                Traceback (most recent call last)",
      "Cell \u001B[0;32mIn[26], line 6\u001B[0m\n\u001B[1;32m      4\u001B[0m rows \u001B[38;5;241m=\u001B[39m csv\u001B[38;5;241m.\u001B[39mreader(f)\n\u001B[1;32m      5\u001B[0m \u001B[38;5;28;01mfor\u001B[39;00m row \u001B[38;5;129;01min\u001B[39;00m \u001B[38;5;28mlist\u001B[39m(rows)[\u001B[38;5;241m1\u001B[39m:]:\n\u001B[0;32m----> 6\u001B[0m     \u001B[38;5;28mprint\u001B[39m(\u001B[43mrow\u001B[49m\u001B[43m[\u001B[49m\u001B[38;5;241;43m6\u001B[39;49m\u001B[43m]\u001B[49m)\n",
      "\u001B[0;31mIndexError\u001B[0m: list index out of range"
     ]
    }
   ],
   "source": [
    "import csv\n",
    "\n",
    "with open('./file/20240622.csv', 'r', encoding='utf-8') as f:\n",
    "    rows = csv.reader(f)\n",
    "    for row in list(rows)[1:]:\n",
    "        print(row[6])\n",
    "\n"
   ]
  },
  {
   "cell_type": "code",
   "execution_count": 4,
   "metadata": {},
   "outputs": [
    {
     "name": "stdout",
     "output_type": "stream",
     "text": [
      "True\n"
     ]
    }
   ],
   "source": [
    "def is_in_list(init_list, num):\n",
    "    if init_list[0] == num:\n",
    "        return True\n",
    "    else:\n",
    "        return False\n",
    "    \n",
    "def find_out(init_list, num):\n",
    "    n = len(init_list)\n",
    "    if n < 2:\n",
    "        return is_in_list(init_list, num)\n",
    "    left_list, right_list = init_list[:n//2], init_list[n//2:]\n",
    "    res = find_out(left_list, num) or find_out(right_list, num)\n",
    "    return res\n",
    "\n",
    "test_list = [18, 43, 21, 3, 28, 2, 46, 25, 32, 40, 14, 36]\n",
    "print(find_out(test_list, 2))"
   ]
  },
  {
   "cell_type": "code",
   "execution_count": 17,
   "metadata": {},
   "outputs": [
    {
     "name": "stdout",
     "output_type": "stream",
     "text": [
      "3 * 4 = 12\n"
     ]
    }
   ],
   "source": [
    "def cheng_fa(num1, num2, value):\n",
    "    if num1 == 0 or num2 == 0:\n",
    "        value += 0\n",
    "    else:\n",
    "        value += num1\n",
    "        num2 -= 1\n",
    "        value = cheng_fa(num1, num2, value)\n",
    "    return value\n",
    "\n",
    "num1 = 3\n",
    "num2 = 4\n",
    "value = 0\n",
    "value = cheng_fa(num1, num2, value)\n",
    "print(f\"{num1} * {num2} = {value}\")"
   ]
  },
  {
   "cell_type": "code",
   "execution_count": 21,
   "metadata": {},
   "outputs": [
    {
     "name": "stdout",
     "output_type": "stream",
     "text": [
      "A、B两点的曼哈顿相距位4000米\n",
      "预计路上骑行时间需要8.0分\n"
     ]
    }
   ],
   "source": [
    "def my_abs(n):\n",
    "    if n >= 0:\n",
    "        return n\n",
    "    else:\n",
    "        return -n\n",
    "    \n",
    "v = 30\n",
    "x1, x2 = -1000, 1000\n",
    "y1, y2 = 1000, -1000\n",
    "mht = my_abs(x1 - x2) + my_abs(y1 - y2)\n",
    "time_on_the_road = ((mht/1000) / v ) * 60\n",
    "print(f\"A、B两点的曼哈顿相距位{mht}米\")\n",
    "print(f\"预计路上骑行时间需要{time_on_the_road}分\")"
   ]
  },
  {
   "cell_type": "code",
   "execution_count": 23,
   "metadata": {},
   "outputs": [
    {
     "name": "stdout",
     "output_type": "stream",
     "text": [
      "81\n"
     ]
    }
   ],
   "source": [
    "def f(n):\n",
    "    if n <= 1:\n",
    "        return 1\n",
    "    else:\n",
    "        return f(n-1) * 3\n",
    "print(f(5))"
   ]
  },
  {
   "cell_type": "code",
   "execution_count": 8,
   "outputs": [
    {
     "name": "stdout",
     "output_type": "stream",
     "text": [
      "180\n",
      "170\n",
      "175\n"
     ]
    }
   ],
   "source": [
    "# CSV\n",
    "# dictReader()\n",
    "import csv\n",
    "with open('./file/20240622.csv', 'r', encoding='utf-8') as f:\n",
    "    reader = csv.DictReader(f)\n",
    "    for row in reader:\n",
    "        print(row['身高'])"
   ],
   "metadata": {
    "collapsed": false,
    "ExecuteTime": {
     "end_time": "2024-07-06T02:57:07.694173Z",
     "start_time": "2024-07-06T02:57:07.680847Z"
    }
   }
  },
  {
   "cell_type": "code",
   "execution_count": 9,
   "outputs": [
    {
     "name": "stdout",
     "output_type": "stream",
     "text": [
      "写入完成\n"
     ]
    }
   ],
   "source": [
    "import csv\n",
    "header = ['姓名', '数学', '语文', '英语']\n",
    "data = [\n",
    "    {'姓名': '张三', '数学': '80', '语文': '90', '英语': '70'},\n",
    "    {'姓名': '李四', '数学': '85', '语文': '88', '英语': '89'},\n",
    "    {'姓名': '王五', '数学': '75', '语文': '78', '英语': '79'}\n",
    "]\n",
    "with open('./file/20240706.csv', 'w', encoding='utf-8') as f:\n",
    "    writer = csv.DictWriter(f, fieldnames=header)\n",
    "    # 写入表头\n",
    "    writer.writeheader()\n",
    "    # 写入内容\n",
    "    for row in data:\n",
    "        writer.writerow(row)\n",
    "print('写入完成')"
   ],
   "metadata": {
    "collapsed": false,
    "ExecuteTime": {
     "end_time": "2024-07-06T03:09:41.572667Z",
     "start_time": "2024-07-06T03:09:41.562301Z"
    }
   }
  },
  {
   "cell_type": "code",
   "execution_count": 13,
   "outputs": [
    {
     "name": "stdout",
     "output_type": "stream",
     "text": [
      "写入完成\n"
     ]
    }
   ],
   "source": [
    "import csv\n",
    "import random\n",
    "import string\n",
    "header = ['编号', '姓名', '数学', '语文', '英语']\n",
    "# 1. 编写一个函数, 随机字串\n",
    "def getRandomName():\n",
    "    \"\"\"获取随机字串\"\"\"\n",
    "    return ''.join(random.sample(string.ascii_letters + string.digits, 8))\n",
    "\n",
    "# 2. 制作一个列表datas，包含50个元素，每个元素为字典，键是header中的元素\n",
    "# 例如: {'编号': '1', '姓名': '张三', '数学': '80', '语文': '90', '英语': '70'}\n",
    "datas = []\n",
    "for i in range(1, 51):\n",
    "    datas.append({\n",
    "        header[0]: str(i),\n",
    "        header[1]: getRandomName(),\n",
    "        header[2]: str(random.randint(60, 100)),\n",
    "        header[3]: str(random.randint(60, 100)),\n",
    "        header[4]: str(random.randint(60, 100))\n",
    "    })\n",
    "\n",
    "# 3. 将datas写入csv文件 ./file/20240707.csv\n",
    "with open('./file/20240707.csv', 'w', encoding='utf-8') as f:\n",
    "      writer = csv.DictWriter(f, fieldnames=header)\n",
    "      # 写入表头\n",
    "      writer.writeheader()\n",
    "      # 写入内容\n",
    "      writer.writerows(datas)\n",
    "print('写入完成')\n",
    "\n",
    "# 4. 将一行数据{'编号': 10, '姓名': '张三', '数学': 80, '语文': 90, '英语': 70} 插入csv文件 ./file/20240707.csv\n",
    "\n",
    "      \n"
   ],
   "metadata": {
    "collapsed": false,
    "ExecuteTime": {
     "end_time": "2024-07-13T02:28:08.853514Z",
     "start_time": "2024-07-13T02:28:08.848370Z"
    }
   }
  },
  {
   "cell_type": "code",
   "execution_count": 12,
   "outputs": [
    {
     "name": "stdout",
     "output_type": "stream",
     "text": [
      "70\n"
     ]
    }
   ],
   "source": [
    "def board(x, y):\n",
    "    while x>0 or y>0:\n",
    "        if x==1:\n",
    "            return 1\n",
    "        elif y==1:\n",
    "            return 1\n",
    "        else:\n",
    "            return board(x-1,y)+board(x,y-1)\n",
    "\n",
    "x=int(input(\"请输入行数：\"))\n",
    "y=int(input(\"请输入列数：\"))\n",
    "print(board(x,y))\n"
   ],
   "metadata": {
    "collapsed": false,
    "ExecuteTime": {
     "end_time": "2024-07-06T12:24:44.119871Z",
     "start_time": "2024-07-06T12:24:38.783399Z"
    }
   }
  },
  {
   "cell_type": "code",
   "execution_count": 15,
   "outputs": [
    {
     "name": "stdout",
     "output_type": "stream",
     "text": [
      "330\n"
     ]
    }
   ],
   "source": [
    "def board(x, y):\n",
    "    if x == 1 or y == 1:\n",
    "        return 1\n",
    "    else:\n",
    "        return board(x-1, y) + board(x, y-1)\n",
    "print(board(8, 5))"
   ],
   "metadata": {
    "collapsed": false,
    "ExecuteTime": {
     "end_time": "2024-07-07T00:48:05.217176Z",
     "start_time": "2024-07-07T00:48:05.208380Z"
    }
   }
  },
  {
   "cell_type": "code",
   "execution_count": 12,
   "outputs": [
    {
     "name": "stdout",
     "output_type": "stream",
     "text": [
      "完成\n"
     ]
    }
   ],
   "source": [
    "import csv\n",
    "header = ['编号', '姓名', '数学', '语文', '英语']\n",
    "datas = []\n",
    "with open('./file/20240707.csv', 'r', encoding='utf-8') as f:\n",
    "    datas = list(csv.DictReader(f))\n",
    "    # 4. 将一行数据{'编号': 10, '姓名': '张三', '数学': 80, '语文': 90, '英语': 70} 插入csv文件 \n",
    "    \n",
    "with open('./file/20240707.csv', 'w', encoding='utf-8') as f:    \n",
    "    # 5. 将datas写入csv文件 ./file/20240707.csv\n",
    "    datas.insert(9, {'编号': 10, '姓名': '张三', '数学': 80, '语文': 90, '英语': 70})\n",
    "    writer = csv.DictWriter(f, fieldnames=header)\n",
    "    for i in range(1, len(datas)):\n",
    "        row = datas[i]\n",
    "        row['编号'] = i\n",
    "        writer.writerow(row)\n",
    "        \n",
    "print('完成')"
   ],
   "metadata": {
    "collapsed": false,
    "ExecuteTime": {
     "end_time": "2024-07-13T02:27:21.723724Z",
     "start_time": "2024-07-13T02:27:21.714687Z"
    }
   }
  },
  {
   "cell_type": "code",
   "execution_count": 11,
   "outputs": [
    {
     "ename": "SyntaxError",
     "evalue": "'(' was never closed (537399494.py, line 4)",
     "output_type": "error",
     "traceback": [
      "\u001B[0;36m  Cell \u001B[0;32mIn[11], line 4\u001B[0;36m\u001B[0m\n\u001B[0;31m    a = input(\"请输入一个数：\"\u001B[0m\n\u001B[0m             ^\u001B[0m\n\u001B[0;31mSyntaxError\u001B[0m\u001B[0;31m:\u001B[0m '(' was never closed\n"
     ]
    }
   ],
   "source": [
    "try:\n",
    "    # lst = [1, 2, 3, 4, 5]\n",
    "    # print(lst[100])\n",
    "    a = input(\"请输入一个数：\")\n",
    "    print(a/1)\n",
    "except IndexError:\n",
    "    print('发生索引异常')\n",
    "except ZeroDivisionError:\n",
    "    print('除数不能为0')\n",
    "except TypeError:\n",
    "    print('类型错误')\n",
    "except:\n",
    "    print('发生其他异常')\n",
    "\n",
    "# SyntaxError 语法错误\n",
    "# IndexError 索引错误\n",
    "# ValueError 值错误\n",
    "# TypeError 类型错误\n",
    "# ZeroDivisionError 除数为零错误\n",
    "\n"
   ],
   "metadata": {
    "collapsed": false,
    "ExecuteTime": {
     "end_time": "2024-07-14T02:26:38.933687Z",
     "start_time": "2024-07-14T02:26:38.924725Z"
    }
   }
  },
  {
   "cell_type": "code",
   "execution_count": 9,
   "outputs": [
    {
     "ename": "SyntaxError",
     "evalue": "expected ':' (3435150272.py, line 2)",
     "output_type": "error",
     "traceback": [
      "\u001B[0;36m  Cell \u001B[0;32mIn[9], line 2\u001B[0;36m\u001B[0m\n\u001B[0;31m    for i in range(10)\u001B[0m\n\u001B[0m                      ^\u001B[0m\n\u001B[0;31mSyntaxError\u001B[0m\u001B[0;31m:\u001B[0m expected ':'\n"
     ]
    }
   ],
   "source": [
    "\n",
    "try:\n",
    "    for i in range(10)\n",
    "        pass\n",
    "except 1:\n",
    "    print('语法错误')\n",
    "        "
   ],
   "metadata": {
    "collapsed": false,
    "ExecuteTime": {
     "end_time": "2024-07-14T02:26:11.882573Z",
     "start_time": "2024-07-14T02:26:11.868778Z"
    }
   }
  },
  {
   "cell_type": "code",
   "execution_count": null,
   "outputs": [],
   "source": [
    "import csv\n",
    "with open('./file/xxx.csv', 'w', encoding=\"utf-8\", newline=\"\") as f:\n",
    "    writer = csv.writer(f)\n",
    "    writer.writerows()"
   ],
   "metadata": {
    "collapsed": false
   }
  },
  {
   "cell_type": "code",
   "execution_count": 4,
   "outputs": [
    {
     "name": "stdout",
     "output_type": "stream",
     "text": [
      "[{'姓名': 'name_1', '总分': 93, '数学': 62, '英语': 20, '语文': 11},\n",
      " {'姓名': 'name_2', '总分': 138, '数学': 40, '英语': 4, '语文': 94},\n",
      " {'姓名': 'name_3', '总分': 137, '数学': 51, '英语': 10, '语文': 76},\n",
      " {'姓名': 'name_4', '总分': 185, '数学': 47, '英语': 38, '语文': 100},\n",
      " {'姓名': 'name_5', '总分': 202, '数学': 70, '英语': 75, '语文': 57},\n",
      " {'姓名': 'name_6', '总分': 144, '数学': 25, '英语': 92, '语文': 27},\n",
      " {'姓名': 'name_7', '总分': 192, '数学': 65, '英语': 57, '语文': 70},\n",
      " {'姓名': 'name_8', '总分': 228, '数学': 75, '英语': 67, '语文': 86},\n",
      " {'姓名': 'name_9', '总分': 145, '数学': 63, '英语': 9, '语文': 73}]\n"
     ]
    }
   ],
   "source": [
    "import random\n",
    "from pprint import pprint\n",
    "\n",
    "\n",
    "# 创建数据\n",
    "'''\n",
    "dic = [\n",
    "    {'姓名': 'name_1', '数学': 80, '语文': 90, '英语': 70, '总分': 240},\n",
    "    {'姓名': 'name_3', '数学': 70, '语文': 80, '英语': 90, '总分': 240},\n",
    "    {'姓名': 'name_4', '数学': 90, '语文': 70, '英语': 80, '总分': 240},\n",
    "    ....\n",
    "]\n",
    "'''\n",
    "# 成绩变量\n",
    "score = []\n",
    "for i in range(1, 10):\n",
    "    # 用3个变量分别存放数学、语文、英语为随机数，根据前面的成绩计算出总分, 并添加到score中\n",
    "    math = random.randint(0, 100)\n",
    "    chinese = random.randint(0, 100)\n",
    "    english = random.randint(0, 100)\n",
    "    # 计算总分\n",
    "    total = math + chinese + english\n",
    "    # 添加到score中\n",
    "    score.append({'姓名': f'name_{i}', '数学': math, '语文': chinese, '英语': english, '总分': total})\n",
    "    \n",
    "pprint(score)\n",
    "    \n",
    "    \n",
    "# 排序总分高低\n",
    "# dic = [\n",
    "#     {'姓名': 'name_1', '数学': 80, '语文': 90, '英语': 70, '总分': 240, \"排名\": 1},\n",
    "#     {'姓名': 'name_3', '数学': 70, '语文': 80, '英语': 90, '总分': 240, \"排名\": 2},\n",
    "#     {'姓名': 'name_4', '数学': 90, '语文': 70, '英语': 80, '总分': 240, \"排名\": 3},\n",
    "# ]\n",
    "\n",
    "# 写入csv文件"
   ],
   "metadata": {
    "collapsed": false,
    "ExecuteTime": {
     "end_time": "2024-09-16T02:44:30.503563Z",
     "start_time": "2024-09-16T02:44:30.497137Z"
    }
   }
  },
  {
   "cell_type": "code",
   "execution_count": 5,
   "outputs": [
    {
     "name": "stdout",
     "output_type": "stream",
     "text": [
      "[{'姓名': 'name_1', '总分': 230, '数学': 82, '英语': 55, '语文': 93},\n",
      " {'姓名': 'name_2', '总分': 233, '数学': 83, '英语': 95, '语文': 55},\n",
      " {'姓名': 'name_3', '总分': 213, '数学': 68, '英语': 84, '语文': 61}]\n",
      "[{'姓名': 'name_2', '总分': 233, '排名': 1, '数学': 83, '英语': 95, '语文': 55},\n",
      " {'姓名': 'name_1', '总分': 230, '排名': 2, '数学': 82, '英语': 55, '语文': 93},\n",
      " {'姓名': 'name_3', '总分': 213, '排名': 3, '数学': 68, '英语': 84, '语文': 61}]\n"
     ]
    }
   ],
   "source": [
    "import csv\n",
    "from random import randrange\n",
    "from pprint import pprint\n",
    "# 创建列表\n",
    "dic = []\n",
    "d = {}\n",
    "# 创建数据\n",
    "for i in range(1, 4):\n",
    "    y = randrange(50, 100)\n",
    "    s = randrange(50, 100)\n",
    "    n = randrange(50, 100)\n",
    "    d = {\"姓名\": \"name_\" + str(i), \"语文\": y, \"数学\": s,\n",
    "         \"英语\": n, \"总分\": y + s + n}\n",
    "    dic.append(d)\n",
    "pprint(dic)\n",
    "for i in range(len(dic)):\n",
    "    k = i\n",
    "    for j in range(i, len(dic)):\n",
    "        if dic[k][\"总分\"] < dic[j][\"总分\"]:\n",
    "            k = j\n",
    "    if i != k:\n",
    "        dic[i], dic[k] = dic[k], dic[i]\n",
    "for x in range(len(dic)):\n",
    "    dic[x][\"排名\"] = x + 1\n",
    "pprint(dic)\n",
    "header = [\"排名\", \"姓名\", \"总分\", \"语文\", \"数学\", \"英语\"]\n",
    "with open(\"./file/20240916.csv\", \"w\", encoding=\"utf-8\") as f:\n",
    "    write = csv.DictWriter(f, fieldnames=header)\n",
    "    write.writeheader()\n",
    "    write.writerows(dic)"
   ],
   "metadata": {
    "collapsed": false,
    "ExecuteTime": {
     "end_time": "2024-09-16T03:24:32.495155Z",
     "start_time": "2024-09-16T03:24:32.483607Z"
    }
   }
  }
 ],
 "metadata": {
  "kernelspec": {
   "display_name": "python310",
   "language": "python",
   "name": "python3"
  },
  "language_info": {
   "codemirror_mode": {
    "name": "ipython",
    "version": 3
   },
   "file_extension": ".py",
   "mimetype": "text/x-python",
   "name": "python",
   "nbconvert_exporter": "python",
   "pygments_lexer": "ipython3",
   "version": "3.10.13"
  }
 },
 "nbformat": 4,
 "nbformat_minor": 2
}
