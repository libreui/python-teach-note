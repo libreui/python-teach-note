{
 "cells": [
  {
   "cell_type": "markdown",
   "metadata": {},
   "source": [
    "# 循环\n",
    "## 条件循环\n",
    "    - 满足一定条件时，反复执行一段代码\n",
    "    - while\n",
    "while 条件表达式:\n",
    "    循环体\n",
    "\n",
    "    - 条件表达式可以是变量，也可以是常量，也可以是表达式\n",
    "    - 条件表达式为真，则执行循环体，为假，则退出循环\n",
    "    - 循环体可以是一条或多条语句\n",
    "\n",
    "## 遍历循环"
   ]
  },
  {
   "cell_type": "code",
   "execution_count": null,
   "metadata": {},
   "outputs": [],
   "source": [
    "menu = ['红烧肉', '鱼香茄子', '冬瓜汤']\n",
    "order = []\n",
    "order = ['红烧肉-已完成']\n",
    "# 服务员询问3次, 如果客户点的菜在菜单中，我们加入到订单列表，如果不在告诉客户，“没有这道菜”\n",
    "# while\n",
    "\n",
    "\n"
   ]
  },
  {
   "cell_type": "code",
   "execution_count": null,
   "metadata": {},
   "outputs": [],
   "source": [
    "# 跳出循环\n",
    "a = 0\n",
    "while a < 10:\n",
    "    if a == 5:\n",
    "        break\n",
    "    print(a)\n",
    "    a += 1"
   ]
  },
  {
   "cell_type": "code",
   "execution_count": null,
   "metadata": {},
   "outputs": [],
   "source": [
    "while True:\n",
    "    message = input(\"如果输入q就退出循环：\")\n",
    "    if (message == 'q'):\n",
    "        break"
   ]
  },
  {
   "cell_type": "code",
   "execution_count": null,
   "metadata": {},
   "outputs": [],
   "source": [
    "# 猜数字\n",
    "username = \"ArithmeticError\"\n",
    "password = \"AssertionError\""
   ]
  },
  {
   "cell_type": "code",
   "execution_count": null,
   "metadata": {},
   "outputs": [],
   "source": [
    "'''\n",
    "编写一个猜数字的游戏，程序随机生成一个1到10之间的整数，\n",
    "用户需要不断猜测，直到猜中为止。每次猜测后，\n",
    "程序会给出“猜大了”、“猜小了”或“猜对了”的提示。\n",
    "'''\n",
    "import random\n",
    "\n",
    "n = random.randint(100)\n",
    "while True:\n",
    "    m = int(input(\"请输入一个整数：\"))\n",
    "\n",
    "    if m > n:\n",
    "        print('大了')\n",
    "    elif m < n:\n",
    "        print('小了')\n",
    "    else:\n",
    "        print('猜对了')\n",
    "        break"
   ]
  },
  {
   "cell_type": "code",
   "execution_count": null,
   "metadata": {},
   "outputs": [],
   "source": [
    "inStr = 'abcdefg'\n",
    "outStr = ''\n",
    "n = len(inStr) - 1\n",
    "while n > -1:\n",
    "    # print(inStr[n], end=\"\")\n",
    "    outStr += inStr[n]\n",
    "    n -= 1\n",
    "print(outStr)\n"
   ]
  },
  {
   "cell_type": "code",
   "execution_count": null,
   "metadata": {},
   "outputs": [],
   "source": [
    "\n",
    "str = \"aA0aA0aA0aA0aA0\"\n",
    "lenFlag = False\n",
    "bigFlag = False\n",
    "smallFlag = False\n",
    "# 判断是否长度>8\n",
    "if len(str) > 9:\n",
    "    lenFlag = True\n",
    "\n",
    "i = 0\n",
    "while i < len(str):\n",
    "    if 'A' < str[i] < 'Z':\n",
    "        bigFlag = True\n",
    "    i += 1\n",
    "\n",
    "\n",
    "    \n",
    "print(bigFlag)"
   ]
  },
  {
   "cell_type": "code",
   "execution_count": null,
   "metadata": {},
   "outputs": [],
   "source": [
    "# 及格率\n",
    "# 及格人数 / 总人数 * 100\n"
   ]
  },
  {
   "cell_type": "code",
   "execution_count": null,
   "metadata": {
    "ExecuteTime": {
     "end_time": "2023-09-24T02:22:48.524273Z",
     "start_time": "2023-09-24T02:22:38.627142Z"
    }
   },
   "outputs": [],
   "source": [
    "'''\n",
    "猜年龄游戏升级版 \n",
    "要求：\n",
    "  允许用户最多尝试3次\n",
    "  每尝试3次后，如果还没猜对，就问用户是否还想继续玩，如果回答Y或y, 就继续让其猜3次，\n",
    "  以此往复，如果回答N或n，就退出程序。如何猜对了，就直接退出。\n",
    "'''\n",
    "# 退出 break;\n",
    "# 继续 continue;\n",
    "\n",
    "import random\n",
    "\n",
    "i = 0  # 计次\n",
    "a = random.randint(1, 50)  # 随机数\n",
    "# continue 放弃当前循环，执行下一次循环\n",
    "while True:\n",
    "    # 计次并询问部分\n",
    "    if i > 2:\n",
    "        n = input('您是否想继续玩：')\n",
    "        if n == 'y' or n == 'Y':\n",
    "            i = 0\n",
    "        elif n == 'n' or n == 'N':\n",
    "            break\n",
    "        else:\n",
    "            continue\n",
    "\n",
    "    # 游戏部分\n",
    "    t = int(input('请猜猜小明的年龄：'))\n",
    "    if t > a:\n",
    "        print('猜大了！')\n",
    "    elif t < a:\n",
    "        print('猜小了!')\n",
    "    else:\n",
    "        print('猜对了！')\n",
    "\n",
    "    i += 1\n"
   ]
  },
  {
   "cell_type": "code",
   "execution_count": null,
   "metadata": {},
   "outputs": [],
   "source": [
    "'''\n",
    "*\n",
    "**\n",
    "***\n",
    "****\n",
    "*****\n",
    "\n",
    "*****\n",
    " ****\n",
    "  ***\n",
    "   **\n",
    "    *\n",
    "'''\n"
   ]
  },
  {
   "cell_type": "code",
   "execution_count": null,
   "metadata": {},
   "outputs": [],
   "source": [
    "isBig = False\n",
    "i = 0\n",
    "while isBig == False:\n",
    "    if i == 10:\n",
    "        isBig = True\n",
    "    print(f'-----{i}')\n",
    "    i += 1\n"
   ]
  }
 ],
 "metadata": {
  "kernelspec": {
   "display_name": "python310",
   "language": "python",
   "name": "python3"
  },
  "language_info": {
   "codemirror_mode": {
    "name": "ipython",
    "version": 3
   },
   "file_extension": ".py",
   "mimetype": "text/x-python",
   "name": "python",
   "nbconvert_exporter": "python",
   "pygments_lexer": "ipython3",
   "version": "3.10.9"
  },
  "orig_nbformat": 4
 },
 "nbformat": 4,
 "nbformat_minor": 2
}
