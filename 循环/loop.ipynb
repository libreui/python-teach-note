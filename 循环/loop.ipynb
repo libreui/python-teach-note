{
 "cells": [
  {
   "cell_type": "markdown",
   "metadata": {},
   "source": [
    "# 循环\n",
    "## 条件循环\n",
    "    - 满足一定条件时，反复执行一段代码\n",
    "    - while\n",
    "while 条件表达式:\n",
    "    循环体\n",
    "\n",
    "    - 条件表达式可以是变量，也可以是常量，也可以是表达式\n",
    "    - 条件表达式为真，则执行循环体，为假，则退出循环\n",
    "    - 循环体可以是一条或多条语句\n",
    "\n",
    "## 遍历循环"
   ]
  },
  {
   "cell_type": "code",
   "execution_count": 3,
   "metadata": {},
   "outputs": [
    {
     "name": "stdout",
     "output_type": "stream",
     "text": [
      "1\n",
      "2\n",
      "3\n",
      "4\n"
     ]
    }
   ],
   "source": [
    "\n"
   ]
  }
 ],
 "metadata": {
  "kernelspec": {
   "display_name": "python310",
   "language": "python",
   "name": "python3"
  },
  "language_info": {
   "codemirror_mode": {
    "name": "ipython",
    "version": 3
   },
   "file_extension": ".py",
   "mimetype": "text/x-python",
   "name": "python",
   "nbconvert_exporter": "python",
   "pygments_lexer": "ipython3",
   "version": "3.10.9"
  },
  "orig_nbformat": 4
 },
 "nbformat": 4,
 "nbformat_minor": 2
}
