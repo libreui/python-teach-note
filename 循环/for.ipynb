{
 "cells": [
  {
   "cell_type": "code",
   "execution_count": 34,
   "metadata": {},
   "outputs": [
    {
     "name": "stdout",
     "output_type": "stream",
     "text": [
      "0\n",
      "3\n",
      "6\n",
      "9\n"
     ]
    }
   ],
   "source": [
    "# for循环 遍历循环 str [] ()\n",
    "l = range(0, 10, 3)\n",
    "for i in l:\n",
    "    print(i)\n"
   ]
  },
  {
   "cell_type": "code",
   "execution_count": 15,
   "metadata": {},
   "outputs": [
    {
     "name": "stdout",
     "output_type": "stream",
     "text": [
      "a\n",
      "下一步\n"
     ]
    }
   ],
   "source": [
    "# 查找最大和最小值\n",
    "L = [2, 44, 0, 4, 6, 6, 89]\n",
    "\n",
    "# 生成 一个包含20个元素的列表，元素的值是随机1-100之间的随机数,并打印\n",
    "# 给定一个字符串 ”aaabbbcccdddaaa“\n",
    "#   1. 计算字母a出现的次数\n",
    "#   2. 计算每个字母出现的次数，字典形式打印 {'a': 1, 'b':1 .... '?':1}\n",
    "\n",
    "\n",
    "# 最最大值和最小值 while 关键：假设数列最后一个最大或最小 ,倒序遍历数列，找出最大或最小\n"
   ]
  }
 ],
 "metadata": {
  "kernelspec": {
   "display_name": "python310",
   "language": "python",
   "name": "python3"
  },
  "language_info": {
   "codemirror_mode": {
    "name": "ipython",
    "version": 3
   },
   "file_extension": ".py",
   "mimetype": "text/x-python",
   "name": "python",
   "nbconvert_exporter": "python",
   "pygments_lexer": "ipython3",
   "version": "3.10.9"
  }
 },
 "nbformat": 4,
 "nbformat_minor": 2
}
