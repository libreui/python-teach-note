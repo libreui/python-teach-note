{
 "cells": [
  {
   "cell_type": "code",
   "execution_count": 34,
   "metadata": {},
   "outputs": [
    {
     "name": "stdout",
     "output_type": "stream",
     "text": [
      "0\n",
      "3\n",
      "6\n",
      "9\n"
     ]
    }
   ],
   "source": [
    "# for循环 遍历循环 str [] ()\n",
    "l = range(0, 10, 3)\n",
    "for i in l:\n",
    "    print(i)\n"
   ]
  },
  {
   "cell_type": "code",
   "execution_count": 15,
   "metadata": {},
   "outputs": [
    {
     "name": "stdout",
     "output_type": "stream",
     "text": [
      "a\n",
      "下一步\n"
     ]
    }
   ],
   "source": [
    "# 查找最大和最小值\n",
    "L = [2, 44, 0, 4, 6, 6, 89]\n",
    "\n",
    "# 生成 一个包含20个元素的列表，元素的值是随机1-100之间的随机数,并打印\n",
    "# 给定一个字符串 ”aaabbbcccdddaaa“\n",
    "#   1. 计算字母a出现的次数\n",
    "#   2. 计算每个字母出现的次数，字典形式打印 {'a': 1, 'b':1 .... '?':1}\n",
    "\n",
    "\n",
    "# 最最大值和最小值 while 关键：假设数列最后一个最大或最小 ,倒序遍历数列，找出最大或最小\n",
    "\n",
    "# 输入任意字母与数字组合的字符串 例如：“abcd1234abcd”\n",
    "# 经过一段程序处理，剔除其中的数字，只保留字母，打印出结果字符串\n",
    "\n",
    "\n",
    "\n",
    "\"\"\"\n",
    "1.输入用户名和密码\n",
    "2.判断是否正确(name = 'root', passwd = 'westos')\n",
    "3.登录仅有3次机会，超过3次，报错\n",
    "4.每次输入密码错误后，显示“还有几次尝试机会”\n",
    "\"\"\"\n"
   ]
  },
  {
   "cell_type": "code",
   "execution_count": 5,
   "metadata": {},
   "outputs": [
    {
     "name": "stdout",
     "output_type": "stream",
     "text": [
      "['s', 'd', 's', 'd', 'f', 'd', 'f', 'd', 'f']\n",
      "sdsdfdfdf\n"
     ]
    }
   ],
   "source": [
    "string = input()\n",
    "outString = []\n",
    "for i in string:\n",
    "    if i not in \"0123456789\": \n",
    "        outString += i\n",
    "print(outString)\n",
    "print(\"\".join(outString))"
   ]
  },
  {
   "cell_type": "code",
   "execution_count": null,
   "metadata": {},
   "outputs": [],
   "source": [
    "\"\"\"\n",
    "12345\n",
    "12345\n",
    "1 2 3 4 5\n",
    "1 2 3 4 5\n",
    "1 2 3 4 5\n",
    "# 用两个for循环完成\n",
    "\"\"\"\n",
    "for"
   ]
  },
  {
   "cell_type": "code",
   "execution_count": 7,
   "metadata": {},
   "outputs": [
    {
     "name": "stdout",
     "output_type": "stream",
     "text": [
      "                  * \n",
      "                * * * \n",
      "              * * * * * \n",
      "            * * * * * * * \n",
      "          * * * * * * * * * \n",
      "        * * * * * * * * * * * \n",
      "      * * * * * * * * * * * * * \n",
      "    * * * * * * * * * * * * * * * \n",
      "  * * * * * * * * * * * * * * * * * \n",
      "* * * * * * * * * * * * * * * * * * * \n",
      "\n",
      "\n",
      "*\n",
      "*\n",
      "*\n",
      "**\n",
      "**\n",
      "**\n",
      "***\n",
      "***\n"
     ]
    }
   ],
   "source": [
    "height = 10\n",
    "for i in range(1, height + 1):\n",
    "    # 打印空格，使三角形右对齐\n",
    "    for j in range(height - i):\n",
    "        print(\" \", end=\" \")\n",
    "    \n",
    "    # 打印\"*\"，构建三角形\n",
    "    for k in range(2 * i - 1):\n",
    "        print(\"*\", end=\" \")\n",
    "    \n",
    "    print()  # 换行\n"
   ]
  },
  {
   "cell_type": "code",
   "execution_count": 10,
   "metadata": {},
   "outputs": [
    {
     "name": "stdout",
     "output_type": "stream",
     "text": [
      "1 3 5 7 9 "
     ]
    }
   ],
   "source": [
    "i = 1\n",
    "while i < 10:\n",
    "    print(i, end=\" \")\n",
    "    i += 2"
   ]
  },
  {
   "cell_type": "code",
   "execution_count": 24,
   "metadata": {},
   "outputs": [
    {
     "name": "stdout",
     "output_type": "stream",
     "text": [
      "*\n",
      "*\n",
      "**\n",
      "**\n",
      "**\n",
      "**\n",
      "***\n",
      "***\n",
      "***\n",
      "***\n"
     ]
    }
   ],
   "source": [
    "# while循环\n",
    "i = 1\n",
    "while i < height+1:\n",
    "    k = 1\n",
    "    while k < i+1:\n",
    "        print(f\"*\", end=\"\")\n",
    "        k = 2 * k + 1\n",
    "    i += 1\n",
    "    print()"
   ]
  },
  {
   "cell_type": "code",
   "execution_count": 8,
   "metadata": {},
   "outputs": [
    {
     "name": "stdout",
     "output_type": "stream",
     "text": [
      "* * * * * * * * * * \n",
      "*                 * \n",
      "*                 * \n",
      "*                 * \n",
      "* * * * * * * * * * \n"
     ]
    }
   ],
   "source": [
    "# 获取用户输入的宽度和高度\n",
    "width = 10\n",
    "height = 5\n",
    "\n",
    "# 使用嵌套的循环绘制矩形\n",
    "for i in range(height):\n",
    "    for j in range(width):\n",
    "        if i == 0 or i == height - 1 or j == 0 or j == width - 1:\n",
    "            # 在边界上绘制\"*\"字符\n",
    "            print(\"*\", end=\" \")\n",
    "        else:\n",
    "            # 在内部绘制空格\n",
    "            print(\" \", end=\" \")\n",
    "    print()  # 换行"
   ]
  },
  {
   "cell_type": "code",
   "execution_count": 4,
   "metadata": {},
   "outputs": [
    {
     "name": "stdout",
     "output_type": "stream",
     "text": [
      "1x1=1\t\n",
      "1x2=2\t2x2=4\t\n",
      "1x3=3\t2x3=6\t3x3=9\t\n",
      "1x4=4\t2x4=8\t3x4=12\t4x4=16\t\n",
      "1x5=5\t2x5=10\t3x5=15\t4x5=20\t5x5=25\t\n",
      "1x6=6\t2x6=12\t3x6=18\t4x6=24\t5x6=30\t6x6=36\t\n",
      "1x7=7\t2x7=14\t3x7=21\t4x7=28\t5x7=35\t6x7=42\t7x7=49\t\n",
      "1x8=8\t2x8=16\t3x8=24\t4x8=32\t5x8=40\t6x8=48\t7x8=56\t8x8=64\t\n",
      "1x9=9\t2x9=18\t3x9=27\t4x9=36\t5x9=45\t6x9=54\t7x9=63\t8x9=72\t9x9=81\t\n"
     ]
    }
   ],
   "source": [
    "for i in range(1, 10):\n",
    "    for j in range(1, i+1):\n",
    "        print(f\"{j}x{i}={i*j}\", end=\"\\t\")\n",
    "    print()\n"
   ]
  },
  {
   "cell_type": "markdown",
   "metadata": {},
   "source": [
    "##### 质数的定义\n",
    "- 除了1和它本身能整除的数字\n",
    "- 3 5 7 11\n",
    "- 这个数本身 从2除到这个数本身减一 没有整除"
   ]
  },
  {
   "cell_type": "code",
   "execution_count": 35,
   "metadata": {},
   "outputs": [
    {
     "name": "stdout",
     "output_type": "stream",
     "text": [
      "7是质数\n"
     ]
    }
   ],
   "source": [
    "# 给定一个数n, 求是否是质数\n",
    "# 输出结果\n",
    "# 例如\n",
    "# 输入：7\n",
    "# 输出：7是质数|7不是质数\n",
    "n = 7\n",
    "flag = False\n",
    "for i in range(2, n):\n",
    "    if n % i == 0:\n",
    "        flag = True\n",
    "        print(f\"{n}不是质数\")\n",
    "        break\n",
    "\n",
    "if not flag:\n",
    "    print(f\"{n}是质数\")\n",
    "\n",
    "\n",
    "# 找到100 以内的质数\n",
    "# 输入：100\n",
    "# 输出：[3, 5, 7, 11 ..... 97]"
   ]
  },
  {
   "cell_type": "code",
   "execution_count": 3,
   "metadata": {},
   "outputs": [
    {
     "name": "stdout",
     "output_type": "stream",
     "text": [
      "[153, 370, 371, 407]\n"
     ]
    }
   ],
   "source": [
    "# 水仙花数\n",
    "\"\"\"\n",
    "1. 三位数\n",
    "2. 没个位置上的数的立方和 = 这个输入本身\n",
    "3. 例如：153 = 1 + 125 + 27\n",
    "找出所有水仙花数 1**3 5**3 3**3\n",
    "\"\"\"\n",
    "a = list(range(100, 1000))\n",
    "b = []\n",
    "for i in a:\n",
    "    # 每一位的数字\n",
    "    x = (i % 10) ** 3\n",
    "    y = (i // 10 % 10) ** 3\n",
    "    z = (i // 100) ** 3\n",
    "    if x+y+z == i:\n",
    "        b.append(i)\n",
    "print(b)"
   ]
  },
  {
   "cell_type": "code",
   "execution_count": null,
   "metadata": {},
   "outputs": [],
   "source": [
    "\"\"\"\n",
    "分别输入两个数字\n",
    "找出两个数字之间的质数\n",
    "例如：\n",
    "输入：1\n",
    "输入：10\n",
    "输出 3 5 7 \n",
    "\"\"\""
   ]
  },
  {
   "cell_type": "code",
   "execution_count": 4,
   "metadata": {},
   "outputs": [
    {
     "name": "stdout",
     "output_type": "stream",
     "text": [
      "2 1\n"
     ]
    }
   ],
   "source": [
    "a = 1\n",
    "b = 2\n",
    "a, b = b, a\n",
    "print(a, b)"
   ]
  },
  {
   "cell_type": "code",
   "execution_count": 7,
   "metadata": {},
   "outputs": [
    {
     "name": "stdout",
     "output_type": "stream",
     "text": [
      "[101, 103, 107, 109, 113, 127, 131, 137, 139, 149, 151, 157, 163, 167, 173, 179, 181, 191, 193, 197, 199]\n"
     ]
    }
   ],
   "source": [
    "a = int(input())\n",
    "b = int(input())\n",
    "c = []\n",
    "if a > b:\n",
    "    a, b = b, a\n",
    "if a < 3:\n",
    "    a = 3\n",
    "for i in range(a, b+1):\n",
    "    flag = True\n",
    "    for j in range(2, i):\n",
    "        if i % j == 0:\n",
    "            flag = False\n",
    "    if flag:\n",
    "        c.append(i)\n",
    "print(c)"
   ]
  },
  {
   "cell_type": "code",
   "execution_count": 28,
   "metadata": {},
   "outputs": [
    {
     "name": "stdout",
     "output_type": "stream",
     "text": [
      "90\n",
      "90\n",
      "90\n",
      "小明\n",
      "小蓝\n",
      "小白\n",
      "小明 90\n",
      "小蓝 90\n",
      "小白 90\n"
     ]
    }
   ],
   "source": [
    "\n",
    "\"\"\"\n",
    "a = [\n",
    "    [2, 5, 6],\n",
    "    [1, 8, 3],\n",
    "    11,\n",
    "    'abc',\n",
    "    False,\n",
    "    (3, 5),\n",
    "    {55, 66}\n",
    "]\n",
    "\"\"\"\n",
    "\n",
    "a = {\n",
    "    '小明': 90,\n",
    "    '小蓝': 90,\n",
    "    '小白': 90,\n",
    "}\n",
    "\n",
    "for v in a.values():\n",
    "    print(v)\n",
    "\n",
    "for k in a.keys():\n",
    "    print(k)\n",
    "\n",
    "for k, v in a.items():\n",
    "    print(k, v)\n"
   ]
  },
  {
   "cell_type": "code",
   "execution_count": 8,
   "metadata": {},
   "outputs": [
    {
     "name": "stdout",
     "output_type": "stream",
     "text": [
      "小明的语文:85分,数学:92分,英语:78分\n",
      "小兰的语文:76分,数学:63分,英语:88分\n",
      "小红的语文:92分,数学:85分,英语:76分\n",
      "小白的语文:68分,数学:72分,英语:90分\n",
      "小军的语文:80分,数学:70分,英语:84分\n"
     ]
    }
   ],
   "source": [
    "student_scores = {  \n",
    "    '小明': {'语文': 85, '数学': 92, '英语': 78},  \n",
    "    '小兰': {'语文': 76, '数学': 63, '英语': 88},  \n",
    "    '小红': {'语文': 92, '数学': 85, '英语': 76},  \n",
    "    '小白': {'语文': 68, '数学': 72, '英语': 90},  \n",
    "    '小军': {'语文': 80, '数学': 70, '英语': 84},  \n",
    "}  \n",
    "\n",
    "\"\"\"\n",
    "打印每科分数最高的人：\n",
    "输出：{}最好成绩是{}:{}\n",
    "\n",
    "打印每个人的总成绩：\n",
    "输出：{}的总分是:{}\n",
    "\n",
    "打印总成绩第一名：\n",
    "输出：总成绩第一名是{}:{}\n",
    "\"\"\"\n",
    "# print()\n",
    "# 要求: 所有的值都用变量保存\n",
    "# 输出：{}的语文:{}分,数学:{}分,英语:{}分\n",
    "max_yuwen = 0\n",
    "max_yuwen_name = \"\"\n",
    "for k, v in student_scores.items():\n",
    "    yuwen = v['语文']\n",
    "\n",
    "print(f\"{max_yuwen_name}的语文成绩最高分数: {max_yuwen}分\")"
   ]
  },
  {
   "cell_type": "code",
   "execution_count": 22,
   "metadata": {},
   "outputs": [
    {
     "name": "stdout",
     "output_type": "stream",
     "text": [
      "成绩最高的是:小白、第三次考试、英语\n",
      "成绩最低的是:小兰、第一次考试、数学\n"
     ]
    }
   ],
   "source": [
    "student_scores_3d = {  \n",
    "    '小明': {  \n",
    "        '第一次考试': {'语文': 85, '数学': 92, '英语': 78},  \n",
    "        '第二次考试': {'语文': 87, '数学': 90, '英语': 82},  \n",
    "        '第三次考试': {'语文': 89, '数学': 93, '英语': 85},  \n",
    "    },  \n",
    "    '小兰': {  \n",
    "        '第一次考试': {'语文': 76, '数学': 63, '英语': 88},  \n",
    "        '第二次考试': {'语文': 79, '数学': 67, '英语': 85},  \n",
    "        '第三次考试': {'语文': 72, '数学': 70, '英语': 80},  \n",
    "    },  \n",
    "    '小红': {  \n",
    "        '第一次考试': {'语文': 92, '数学': 85, '英语': 76},  \n",
    "        '第二次考试': {'语文': 90, '数学': 82, '英语': 79},  \n",
    "        '第三次考试': {'语文': 93, '数学': 88, '英语': 84},  \n",
    "    },  \n",
    "    '小白': {  \n",
    "        '第一次考试': {'语文': 68, '数学': 72, '英语': 90},  \n",
    "        '第二次考试': {'语文': 71, '数学': 75, '英语': 92},  \n",
    "        '第三次考试': {'语文': 75, '数学': 80, '英语': 95},  \n",
    "    },  \n",
    "    '小军': {  \n",
    "        '第一次考试': {'语文': 80, '数学': 70, '英语': 84},  \n",
    "        '第二次考试': {'语文': 82, '数学': 73, '英语': 86},  \n",
    "        '第三次考试': {'语文': 84, '数学': 76, '英语': 89},  \n",
    "    },  \n",
    "}\n",
    "\n",
    "# 求每个学生每次考试的平均成绩。\n",
    "# 输出：{小军}的{第一次考试}平均成绩：{}分\n",
    "\n",
    "# 找出考试成绩最高和最低的学生及其对应的人，考试次数，科目\n",
    "# 输出：成绩最高的是:{人名}、{考试次数}、{科目}\n",
    "\n",
    "max_socre = 0\n",
    "max_student = ''\n",
    "max_index = \"\"\n",
    "max_clas = \"\"\n",
    "\n",
    "min_socre = 9999\n",
    "min_student = ''\n",
    "min_index = \"\"\n",
    "min_clas = \"\"\n",
    "\n",
    "# k:人名， v: 考试字典\n",
    "for k, v in student_scores_3d.items():\n",
    "    # k1: 考试次数名 v1: 每科成绩字典\n",
    "    for k1, v1 in v.items():\n",
    "        # k2: 科目 v2:成绩\n",
    "        for k2, v2 in v1.items():\n",
    "            if max_socre < v2:\n",
    "                max_socre = v2\n",
    "                max_student = k\n",
    "                max_index = k1\n",
    "                max_clas = k2\n",
    "            if min_socre > v2:\n",
    "                min_socre = v2\n",
    "                min_student = k\n",
    "                min_index = k1\n",
    "                min_clas = k2\n",
    "\n",
    "print(f\"成绩最高的是:{max_student}、{max_index}、{max_clas}\")\n",
    "print(f\"成绩最低的是:{min_student}、{min_index}、{min_clas}\")"
   ]
  },
  {
   "cell_type": "code",
   "execution_count": null,
   "metadata": {},
   "outputs": [],
   "source": [
    "1. 平均分计算：输入学生姓名和考试次数，返回该学生在所有科目上的平均分。\n",
    "\n",
    "示例：输入“小明”和“第一次考试”，返回 (85+92+78)/3 = 85。\n",
    "最高分与最低分：编写一个函数，输入学生的姓名，返回该学生在所有考试中，每一科的最高分和最低分。\n",
    "\n",
    "示例：输入“小红”，返回 {'语文': (92, 90), '数学': (88, 82), '英语': (84, 76)}。\n",
    "成绩进步：编写一个函数，输入学生的姓名和科目，返回该学生在连续两次考试中该科目的分数进步情况。\n",
    "\n",
    "示例：输入“小明”和“数学”，返回 93-92 = 1（表示第二次考试比第一次高了1分）。\n",
    "科目平均分排序：编写一个函数，输入学生的姓名，返回该学生所有科目的平均分排序（从高到低）。\n",
    "\n",
    "示例：输入“小兰”，返回 ['英语', '语文', '数学']（表示小兰的英语平均分最高，其次是语文，数学最低）。\n",
    "考试次数与总分：编写一个函数，输入学生的姓名和考试的次数，返回该学生在这次考试中所有科目的总分。\n",
    "\n",
    "示例：输入“小白”和“第三次考试”，返回 75+80+95 = 250。\n",
    "查找某一分数：编写一个函数，允许用户输入学生姓名、考试次数和科目，然后返回对应的分数。\n",
    "\n",
    "示例：输入“小军”、“第二次考试”和“英语”，返回86。\n",
    "多次考试平均分对比：编写一个函数，输入两个学生的姓名，返回他们在所有考试中各科目的平均分对比结果（可以显示哪个学生在哪些科目上表现更好）。\n",
    "\n",
    "示例：输入“小明”和“小红”，返回他们在各科上的平均分对比。"
   ]
  }
 ],
 "metadata": {
  "kernelspec": {
   "display_name": "python310",
   "language": "python",
   "name": "python3"
  },
  "language_info": {
   "codemirror_mode": {
    "name": "ipython",
    "version": 3
   },
   "file_extension": ".py",
   "mimetype": "text/x-python",
   "name": "python",
   "nbconvert_exporter": "python",
   "pygments_lexer": "ipython3",
   "version": "3.10.9"
  }
 },
 "nbformat": 4,
 "nbformat_minor": 2
}
