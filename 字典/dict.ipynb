{
 "cells": [
  {
   "attachments": {},
   "cell_type": "markdown",
   "metadata": {},
   "source": [
    "字典数据类型的基本样子"
   ]
  },
  {
   "cell_type": "code",
   "execution_count": 18,
   "metadata": {},
   "outputs": [
    {
     "name": "stdout",
     "output_type": "stream",
     "text": [
      "None\n"
     ]
    }
   ],
   "source": [
    "# 键: 值\n",
    "# key: value\n",
    "dict = {\n",
    "    '西瓜': 9.6,\n",
    "    '桃子': 2,\n",
    "    '苹果': 4,\n",
    "    '樱桃': 12\n",
    "}\n",
    "print(dict.get('猕猴桃'))\n",
    "\n"
   ]
  },
  {
   "cell_type": "code",
   "execution_count": 2,
   "metadata": {},
   "outputs": [
    {
     "name": "stdout",
     "output_type": "stream",
     "text": [
      "数学\n"
     ]
    }
   ],
   "source": [
    "# 字典键(不可变类型:字符串、数字、元组)\n",
    "# 字典值(任何类型)\n",
    "dict = {\n",
    "    '学科': ['语文', '数学', '英语'],\n",
    "    '人': ['黄', '黑', '白']\n",
    "}\n",
    "print(dict.get('学科')[1])\n",
    "\n",
    "\n"
   ]
  },
  {
   "cell_type": "code",
   "execution_count": null,
   "metadata": {},
   "outputs": [],
   "source": [
    "# 思考操作\n",
    "# 小明、小红、小强\n",
    "\n",
    "\n",
    "dict = {\n",
    "    '小明': {'语文': 59, '数学': 78, '英语': 20},\n",
    "    '小红': {'语文': 90, '数学': 95, '英语': 90},\n",
    "    '小强': {'语文': 94, '数学': 78, '英语': 88},\n",
    "}\n",
    "\n",
    "list = [\n",
    "    {'名字': '小明', '语文': 59, '数学': 78, '英语': 20},\n",
    "    {'名字': '小红', '语文': 59, '数学': 78, '英语': 20},\n",
    "    {'名字': '小强', '语文': 59, '数学': 78, '英语': 20},\n",
    "]"
   ]
  },
  {
   "cell_type": "code",
   "execution_count": 1,
   "metadata": {},
   "outputs": [
    {
     "name": "stdout",
     "output_type": "stream",
     "text": [
      "长白山\n"
     ]
    }
   ],
   "source": [
    "city = {\n",
    "    '城市名称': '延吉市',\n",
    "    '所属国家': '中国',\n",
    "    '所属省份': '吉林省',\n",
    "    '人口数量': 520000,\n",
    "    '面积': 2850,\n",
    "    '时区': 'Asia/Shanghai',\n",
    "    '坐标': {\n",
    "        '纬度': 42.891,\n",
    "        '经度': 129.508\n",
    "    },\n",
    "    '主要语言': '汉语',\n",
    "    '货币': '人民币 (CNY)',\n",
    "    '旅游景点': ['长白山', '雾凇岛', '延边大学'],\n",
    "    '著名美食': ['延边冷面', '麻辣火锅', '延边豆皮'],\n",
    "    '官方网站': 'http://www.yanji.gov.cn/'\n",
    "}\n",
    "# city['旅游景点'] = L\n",
    "changbaishan = city.get('旅游景点')[0]\n",
    "print(changbaishan)"
   ]
  },
  {
   "cell_type": "code",
   "execution_count": 5,
   "metadata": {},
   "outputs": [
    {
     "name": "stdout",
     "output_type": "stream",
     "text": [
      "{'苹果': 7.0, '香蕉': 2.0, '橙子': 4.0, '草莓': 8.5, '葡萄': 5.2}\n",
      "{'苹果': 7.0, '香蕉': 2.0, '橙子': 4.0, '草莓': 8.5, '葡萄': 5.2, '西瓜': 1.04}\n",
      "{'苹果': 7.0, '香蕉': 2.0, '橙子': 4.0, '草莓': 8.5, '葡萄': 5.2}\n",
      "True\n"
     ]
    }
   ],
   "source": [
    "fruit_prices = {\n",
    "    '苹果': 3.5,\n",
    "    '香蕉': 2.0,\n",
    "    '橙子': 4.0,\n",
    "    '草莓': 8.5,\n",
    "    '葡萄': 5.2\n",
    "}\n",
    "fruit_prices['苹果'] = 7.0\n",
    "print(fruit_prices)\n",
    "\n",
    "fruit_prices['西瓜'] = fruit_prices['葡萄'] / 5\n",
    "print(fruit_prices)\n",
    "\n",
    "del fruit_prices['西瓜']\n",
    "print(fruit_prices)\n",
    "\n",
    "print('苹果' in fruit_prices)"
   ]
  }
 ],
 "metadata": {
  "kernelspec": {
   "display_name": "python310",
   "language": "python",
   "name": "python3"
  },
  "language_info": {
   "codemirror_mode": {
    "name": "ipython",
    "version": 3
   },
   "file_extension": ".py",
   "mimetype": "text/x-python",
   "name": "python",
   "nbconvert_exporter": "python",
   "pygments_lexer": "ipython3",
   "version": "3.10.9"
  },
  "orig_nbformat": 4
 },
 "nbformat": 4,
 "nbformat_minor": 2
}
