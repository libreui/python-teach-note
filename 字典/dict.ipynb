{
 "cells": [
  {
   "attachments": {},
   "cell_type": "markdown",
   "metadata": {},
   "source": [
    "字典数据类型的基本样子"
   ]
  },
  {
   "cell_type": "code",
   "execution_count": 18,
   "metadata": {},
   "outputs": [
    {
     "name": "stdout",
     "output_type": "stream",
     "text": [
      "None\n"
     ]
    }
   ],
   "source": [
    "# 键: 值\n",
    "# key: value\n",
    "dict = {\n",
    "    '西瓜': 9.6,\n",
    "    '桃子': 2,\n",
    "    '苹果': 4,\n",
    "    '樱桃': 12\n",
    "}\n",
    "print(dict.get('猕猴桃'))\n",
    "\n"
   ]
  },
  {
   "cell_type": "code",
   "execution_count": 2,
   "metadata": {},
   "outputs": [
    {
     "name": "stdout",
     "output_type": "stream",
     "text": [
      "数学\n"
     ]
    }
   ],
   "source": [
    "# 字典键(不可变类型:字符串、数字、元组)\n",
    "# 字典值(任何类型)\n",
    "dict = {\n",
    "    '学科': ['语文', '数学', '英语'],\n",
    "    '人': ['黄', '黑', '白']\n",
    "}\n",
    "print(dict.get('学科')[1])\n",
    "\n",
    "\n"
   ]
  },
  {
   "cell_type": "code",
   "execution_count": null,
   "metadata": {},
   "outputs": [],
   "source": [
    "# 思考操作\n",
    "# 小明、小红、小强\n",
    "\n",
    "\n",
    "dict = {\n",
    "    '小明': {'语文': 59, '数学': 78, '英语': 20},\n",
    "    '小红': {'语文': 90, '数学': 95, '英语': 90},\n",
    "    '小强': {'语文': 94, '数学': 78, '英语': 88},\n",
    "}\n",
    "\n",
    "list = [\n",
    "    {'名字': '小明', '语文': 59, '数学': 78, '英语': 20},\n",
    "    {'名字': '小红', '语文': 59, '数学': 78, '英语': 20},\n",
    "    {'名字': '小强', '语文': 59, '数学': 78, '英语': 20},\n",
    "]"
   ]
  }
 ],
 "metadata": {
  "kernelspec": {
   "display_name": "python310",
   "language": "python",
   "name": "python3"
  },
  "language_info": {
   "codemirror_mode": {
    "name": "ipython",
    "version": 3
   },
   "file_extension": ".py",
   "mimetype": "text/x-python",
   "name": "python",
   "nbconvert_exporter": "python",
   "pygments_lexer": "ipython3",
   "version": "3.10.9"
  },
  "orig_nbformat": 4
 },
 "nbformat": 4,
 "nbformat_minor": 2
}
