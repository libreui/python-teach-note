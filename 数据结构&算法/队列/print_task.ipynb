{
 "cells": [
  {
   "cell_type": "code",
   "id": "initial_id",
   "metadata": {
    "collapsed": true,
    "ExecuteTime": {
     "end_time": "2025-09-08T02:47:57.914987Z",
     "start_time": "2025-09-08T02:47:57.909702Z"
    }
   },
   "source": [
    "from c_queue import Queue\n",
    "import random"
   ],
   "outputs": [],
   "execution_count": 4
  },
  {
   "metadata": {
    "ExecuteTime": {
     "end_time": "2025-09-08T02:47:18.487643Z",
     "start_time": "2025-09-08T02:47:18.481771Z"
    }
   },
   "cell_type": "code",
   "source": [
    "class Printer:\n",
    "    \"\"\"打印机\"\"\"\n",
    "    def __init__(self, ppm):\n",
    "        self.pagerate = ppm\n",
    "        self.current_task = None\n",
    "        self.time_remaining = 0\n",
    "\n",
    "    def tick(self):\n",
    "        \"\"\"模拟打印1页\"\"\"\n",
    "        if self.current_task is not None:\n",
    "            self.time_remaining -= 1\n",
    "            if self.time_remaining <=0:\n",
    "                self.current_task = None\n",
    "\n",
    "    def busy(self):\n",
    "        \"\"\"是否正在打印\"\"\"\n",
    "        if self.current_task is not None:\n",
    "            return True\n",
    "        else:\n",
    "            return False\n",
    "\n",
    "    def start_next(self, new_task):\n",
    "        \"\"\"开始下一个任务\"\"\"\n",
    "        self.current_task = new_task\n",
    "        self.time_remaining = new_task.get_pages() * 60 / self.pagerate\n"
   ],
   "id": "4e60886a0c2b519f",
   "outputs": [],
   "execution_count": 3
  },
  {
   "metadata": {
    "ExecuteTime": {
     "end_time": "2025-09-08T02:49:04.542518Z",
     "start_time": "2025-09-08T02:49:04.535801Z"
    }
   },
   "cell_type": "code",
   "source": [
    "class Task:\n",
    "    \"\"\"打印任务\"\"\"\n",
    "    def __init__(self, time):\n",
    "        self.timestamp = time\n",
    "        self.pages = random.randint(1, 21)\n",
    "\n",
    "    def get_timestamp(self):\n",
    "        \"\"\"获取任务创建时间\"\"\"\n",
    "        return self.timestamp\n",
    "\n",
    "    def get_pages(self):\n",
    "        \"\"\"获取任务页数\"\"\"\n",
    "        return self.pages\n",
    "\n",
    "    def wait_time(self, current_time):\n",
    "        \"\"\"获取任务等待时间\"\"\"\n",
    "        return current_time - self.timestamp\n"
   ],
   "id": "e3646ff361e6d7e4",
   "outputs": [],
   "execution_count": 5
  },
  {
   "metadata": {
    "ExecuteTime": {
     "end_time": "2025-09-08T02:56:39.802308Z",
     "start_time": "2025-09-08T02:56:39.789425Z"
    }
   },
   "cell_type": "code",
   "source": [
    "# 主程序\n",
    "def simulation(num_seconds, pages_per_minute):\n",
    "    \"\"\"模拟打印任务\"\"\"\n",
    "    lab_printer = Printer(pages_per_minute)\n",
    "    print_queue = Queue()\n",
    "    waiting_times = []\n",
    "\n",
    "    for current_second in range(num_seconds):\n",
    "        if new_print_task():\n",
    "            task = Task(current_second)\n",
    "            print_queue.enqueue(task)\n",
    "\n",
    "        if (not lab_printer.busy()) and (not print_queue.is_empty()):\n",
    "            next_task = print_queue.dequeue()\n",
    "            waiting_times.append(next_task.wait_time(current_second))\n",
    "            lab_printer.start_next(next_task)\n",
    "\n",
    "        lab_printer.tick()\n",
    "\n",
    "    average_wait = sum(waiting_times) / len(waiting_times)\n",
    "    print(\"Average Wait %6.2f secs %3d tasks remaining.\"%(average_wait,\n",
    "                                                          print_queue.size()))\n",
    "\n",
    "\n",
    "def new_print_task():\n",
    "    \"\"\"创建新打印任务\"\"\"\n",
    "    num = random.randint(1, 180)\n",
    "    if num == 180:\n",
    "        return True\n",
    "    else:\n",
    "        return False\n"
   ],
   "id": "819dd43412760f30",
   "outputs": [],
   "execution_count": 6
  },
  {
   "metadata": {
    "ExecuteTime": {
     "end_time": "2025-09-08T02:59:30.724473Z",
     "start_time": "2025-09-08T02:59:30.659193Z"
    }
   },
   "cell_type": "code",
   "source": [
    "for _ in range(10):\n",
    "    simulation(3600, 5)\n",
    "print('-----------------')\n",
    "for _ in range(10):\n",
    "    simulation(3600, 10)"
   ],
   "id": "cb5c8ea61fa0a2f0",
   "outputs": [
    {
     "name": "stdout",
     "output_type": "stream",
     "text": [
      "Average Wait  78.61 secs   0 tasks remaining.\n",
      "Average Wait 114.76 secs   1 tasks remaining.\n",
      "Average Wait 139.00 secs   2 tasks remaining.\n",
      "Average Wait  66.28 secs   0 tasks remaining.\n",
      "Average Wait  41.47 secs   0 tasks remaining.\n",
      "Average Wait  42.50 secs   1 tasks remaining.\n",
      "Average Wait  42.28 secs   0 tasks remaining.\n",
      "Average Wait  25.13 secs   1 tasks remaining.\n",
      "Average Wait 147.75 secs   0 tasks remaining.\n",
      "Average Wait 112.29 secs   5 tasks remaining.\n",
      "-----------------\n",
      "Average Wait  63.05 secs   0 tasks remaining.\n",
      "Average Wait  46.00 secs   1 tasks remaining.\n",
      "Average Wait   0.18 secs   0 tasks remaining.\n",
      "Average Wait  20.59 secs   0 tasks remaining.\n",
      "Average Wait  14.53 secs   0 tasks remaining.\n",
      "Average Wait  12.08 secs   0 tasks remaining.\n",
      "Average Wait  62.30 secs   0 tasks remaining.\n",
      "Average Wait  13.89 secs   0 tasks remaining.\n",
      "Average Wait  16.20 secs   0 tasks remaining.\n",
      "Average Wait  31.50 secs   0 tasks remaining.\n"
     ]
    }
   ],
   "execution_count": 10
  }
 ],
 "metadata": {
  "kernelspec": {
   "display_name": "Python 3",
   "language": "python",
   "name": "python3"
  },
  "language_info": {
   "codemirror_mode": {
    "name": "ipython",
    "version": 2
   },
   "file_extension": ".py",
   "mimetype": "text/x-python",
   "name": "python",
   "nbconvert_exporter": "python",
   "pygments_lexer": "ipython2",
   "version": "2.7.6"
  }
 },
 "nbformat": 4,
 "nbformat_minor": 5
}
