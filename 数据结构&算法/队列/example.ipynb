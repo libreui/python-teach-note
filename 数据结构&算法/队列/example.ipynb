{
 "cells": [
  {
   "cell_type": "code",
   "id": "initial_id",
   "metadata": {
    "collapsed": true,
    "ExecuteTime": {
     "end_time": "2025-09-08T02:30:38.774178Z",
     "start_time": "2025-09-08T02:30:38.766543Z"
    }
   },
   "source": "from c_queue import Queue",
   "outputs": [],
   "execution_count": 9
  },
  {
   "metadata": {
    "ExecuteTime": {
     "end_time": "2025-09-08T02:30:54.046900Z",
     "start_time": "2025-09-08T02:30:54.041120Z"
    }
   },
   "cell_type": "code",
   "source": [
    "def hot_potato(names, num):\n",
    "    sim_queue = Queue()\n",
    "    for name in names:\n",
    "        sim_queue.enqueue(name)\n",
    "\n",
    "    while sim_queue.size() > 1:\n",
    "        for _ in range(num):\n",
    "            sim_queue.enqueue(sim_queue.dequeue())\n",
    "        sim_queue.dequeue()\n",
    "    return sim_queue.dequeue()\n",
    "\n",
    "last_name = hot_potato(['Bill','David','Susan','Jane','Kent','Brad'], 7)\n",
    "print(last_name)"
   ],
   "id": "d885fa732c8f1f4a",
   "outputs": [
    {
     "name": "stdout",
     "output_type": "stream",
     "text": [
      "Susan\n"
     ]
    }
   ],
   "execution_count": 11
  }
 ],
 "metadata": {
  "kernelspec": {
   "display_name": "Python 3",
   "language": "python",
   "name": "python3"
  },
  "language_info": {
   "codemirror_mode": {
    "name": "ipython",
    "version": 2
   },
   "file_extension": ".py",
   "mimetype": "text/x-python",
   "name": "python",
   "nbconvert_exporter": "python",
   "pygments_lexer": "ipython2",
   "version": "2.7.6"
  }
 },
 "nbformat": 4,
 "nbformat_minor": 5
}
