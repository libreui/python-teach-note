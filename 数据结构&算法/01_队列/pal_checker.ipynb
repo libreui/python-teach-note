{
 "cells": [
  {
   "cell_type": "code",
   "id": "initial_id",
   "metadata": {
    "collapsed": true,
    "ExecuteTime": {
     "end_time": "2025-09-09T06:00:39.603532Z",
     "start_time": "2025-09-09T06:00:39.598276Z"
    }
   },
   "source": "from c_deque import Deque",
   "outputs": [],
   "execution_count": 1
  },
  {
   "metadata": {
    "ExecuteTime": {
     "end_time": "2025-09-09T06:04:10.962375Z",
     "start_time": "2025-09-09T06:04:10.952731Z"
    }
   },
   "cell_type": "code",
   "source": [
    "# 判断是否为回文字符串\n",
    "def pal_checker(a_string):\n",
    "    char_deque = Deque()\n",
    "\n",
    "    for char in a_string:\n",
    "        char_deque.add_rear(char)\n",
    "\n",
    "    still_equal = True\n",
    "\n",
    "    while char_deque.size() > 1 and still_equal:\n",
    "        first_char = char_deque.remove_front()\n",
    "        last_char = char_deque.remove_rear()\n",
    "\n",
    "        if first_char != last_char:\n",
    "            still_equal = False\n",
    "\n",
    "    return still_equal\n"
   ],
   "id": "c5d802e422308248",
   "outputs": [],
   "execution_count": 2
  },
  {
   "metadata": {
    "ExecuteTime": {
     "end_time": "2025-09-09T06:04:46.831945Z",
     "start_time": "2025-09-09T06:04:46.827359Z"
    }
   },
   "cell_type": "code",
   "source": [
    "print(pal_checker('dfdfdfdfffff'))\n",
    "print(pal_checker('abba'))"
   ],
   "id": "e183bb7fa30ae6b9",
   "outputs": [
    {
     "name": "stdout",
     "output_type": "stream",
     "text": [
      "False\n",
      "True\n"
     ]
    }
   ],
   "execution_count": 4
  }
 ],
 "metadata": {
  "kernelspec": {
   "display_name": "Python 3",
   "language": "python",
   "name": "python3"
  },
  "language_info": {
   "codemirror_mode": {
    "name": "ipython",
    "version": 2
   },
   "file_extension": ".py",
   "mimetype": "text/x-python",
   "name": "python",
   "nbconvert_exporter": "python",
   "pygments_lexer": "ipython2",
   "version": "2.7.6"
  }
 },
 "nbformat": 4,
 "nbformat_minor": 5
}
