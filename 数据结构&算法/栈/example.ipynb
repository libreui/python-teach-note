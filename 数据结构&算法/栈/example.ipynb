{
 "cells": [
  {
   "cell_type": "code",
   "execution_count": 4,
   "id": "initial_id",
   "metadata": {
    "collapsed": true,
    "ExecuteTime": {
     "end_time": "2025-08-31T03:38:53.278521Z",
     "start_time": "2025-08-31T03:38:53.270472Z"
    }
   },
   "outputs": [],
   "source": [
    "import string\n",
    "from stack import Stack"
   ]
  },
  {
   "cell_type": "code",
   "execution_count": 8,
   "outputs": [
    {
     "name": "stdout",
     "output_type": "stream",
     "text": [
      "A B C * +\n",
      "A B + C *\n",
      "A B + C D + *\n"
     ]
    }
   ],
   "source": [
    "# 中序表达式转后序表达式\n",
    "def infix_to_postfix(infixexpr):\n",
    "    prec = {'*': 3, '/': 3, '+': 2, '-': 2, '(': 1}\n",
    "    \n",
    "    op_stack = Stack()\n",
    "    post_fix_list = []\n",
    "    token_list = infixexpr.split()\n",
    "    \n",
    "    for token in token_list:\n",
    "        if token in string.ascii_uppercase:\n",
    "            post_fix_list.append(token)\n",
    "        elif token == \"(\":\n",
    "            op_stack.push(token)\n",
    "        elif token == \")\":\n",
    "            top_token = op_stack.pop()\n",
    "            while top_token != \"(\":\n",
    "                post_fix_list.append(top_token)\n",
    "                top_token = op_stack.pop()\n",
    "        else:\n",
    "            while not op_stack.is_empty() and \\\n",
    "                prec[op_stack.peek()] >= prec[token]:\n",
    "                post_fix_list.append(op_stack.pop())\n",
    "            op_stack.push(token)\n",
    "    \n",
    "    while not op_stack.is_empty():\n",
    "        post_fix_list.append(op_stack.pop())\n",
    "    \n",
    "    return ' '.join(post_fix_list)\n",
    "\n",
    "print(infix_to_postfix('A + B * C'))\n",
    "print(infix_to_postfix('( A + B ) * C'))\n",
    "print(infix_to_postfix(\"( A + B ) * ( C + D )\"))\n",
    "    "
   ],
   "metadata": {
    "collapsed": false,
    "ExecuteTime": {
     "end_time": "2025-08-31T03:40:44.770463Z",
     "start_time": "2025-08-31T03:40:44.753526Z"
    }
   },
   "id": "dbaab98b22a28d1b"
  }
 ],
 "metadata": {
  "kernelspec": {
   "display_name": "Python 3",
   "language": "python",
   "name": "python3"
  },
  "language_info": {
   "codemirror_mode": {
    "name": "ipython",
    "version": 2
   },
   "file_extension": ".py",
   "mimetype": "text/x-python",
   "name": "python",
   "nbconvert_exporter": "python",
   "pygments_lexer": "ipython2",
   "version": "2.7.6"
  }
 },
 "nbformat": 4,
 "nbformat_minor": 5
}
