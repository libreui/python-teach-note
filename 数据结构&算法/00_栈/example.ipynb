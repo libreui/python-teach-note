{
 "cells": [
  {
   "cell_type": "code",
   "id": "initial_id",
   "metadata": {
    "collapsed": true,
    "ExecuteTime": {
     "end_time": "2025-09-08T01:50:20.481641Z",
     "start_time": "2025-09-08T01:50:20.477922Z"
    }
   },
   "source": [
    "import string\n",
    "from stack import Stack"
   ],
   "outputs": [],
   "execution_count": 2
  },
  {
   "cell_type": "code",
   "source": [
    "# 中序表达式转后序表达式\n",
    "def infix_to_postfix(infixexpr):\n",
    "    prec = {\n",
    "        '*': 3,\n",
    "        '/': 3,\n",
    "        '+': 2,\n",
    "        '-': 2,\n",
    "        '(': 1\n",
    "    }\n",
    "    \n",
    "    op_stack = Stack()\n",
    "    post_fix_list = []\n",
    "    token_list = infixexpr.split()\n",
    "    \n",
    "    for token in token_list:\n",
    "        if token in string.ascii_uppercase:\n",
    "            post_fix_list.append(token)\n",
    "        elif token == \"(\":\n",
    "            op_stack.push(token)\n",
    "        elif token == \")\":\n",
    "            top_token = op_stack.pop()\n",
    "            while top_token != \"(\":\n",
    "                post_fix_list.append(top_token)\n",
    "                top_token = op_stack.pop()\n",
    "        else:\n",
    "            while not op_stack.is_empty() and \\\n",
    "                prec[op_stack.peek()] >= prec[token]:\n",
    "                post_fix_list.append(op_stack.pop())\n",
    "            op_stack.push(token)\n",
    "    \n",
    "    while not op_stack.is_empty():\n",
    "        post_fix_list.append(op_stack.pop())\n",
    "    \n",
    "    return ' '.join(post_fix_list)\n",
    "\n",
    "print(infix_to_postfix('A + B * C'))\n",
    "print(infix_to_postfix('( A + B ) * C'))\n",
    "print(infix_to_postfix(\"( A + B ) * ( C + D )\"))\n"
   ],
   "metadata": {
    "collapsed": false,
    "ExecuteTime": {
     "end_time": "2025-09-08T01:50:22.339295Z",
     "start_time": "2025-09-08T01:50:22.332894Z"
    }
   },
   "id": "dbaab98b22a28d1b",
   "outputs": [
    {
     "name": "stdout",
     "output_type": "stream",
     "text": [
      "A B C * +\n",
      "A B + C *\n",
      "A B + C D + *\n"
     ]
    }
   ],
   "execution_count": 3
  },
  {
   "metadata": {
    "ExecuteTime": {
     "end_time": "2025-09-08T02:05:23.400927Z",
     "start_time": "2025-09-08T02:05:23.392004Z"
    }
   },
   "cell_type": "code",
   "source": [
    "def post_fix_eval(post_fix_expr):\n",
    "    operand_stack = Stack()\n",
    "    token_list = post_fix_expr.split()\n",
    "    for token in token_list:\n",
    "        if token in \"1234567890\":\n",
    "            operand_stack.push(token)\n",
    "        else:\n",
    "            op2 = int(operand_stack.pop())\n",
    "            op1 = int(operand_stack.pop())\n",
    "            result = do_math(token, op1, op2)\n",
    "            operand_stack.push(result)\n",
    "    return operand_stack.pop()\n",
    "\n",
    "def do_math(op, op1, op2):\n",
    "    if op == \"+\":\n",
    "        return op1 + op2\n",
    "    elif op == \"-\":\n",
    "        return op1 - op2\n",
    "    elif op == \"*\":\n",
    "        return op1 * op2\n",
    "    elif op == \"/\":\n",
    "        return op1 / op2\n",
    "\n",
    "res = post_fix_eval('4 5 6 * +')\n",
    "res = post_fix_eval('7 8 + 3 2 + /')\n",
    "print(res)"
   ],
   "id": "832bc0d3eed515a4",
   "outputs": [
    {
     "name": "stdout",
     "output_type": "stream",
     "text": [
      "3.0\n"
     ]
    }
   ],
   "execution_count": 7
  }
 ],
 "metadata": {
  "kernelspec": {
   "display_name": "Python 3",
   "language": "python",
   "name": "python3"
  },
  "language_info": {
   "codemirror_mode": {
    "name": "ipython",
    "version": 2
   },
   "file_extension": ".py",
   "mimetype": "text/x-python",
   "name": "python",
   "nbconvert_exporter": "python",
   "pygments_lexer": "ipython2",
   "version": "2.7.6"
  }
 },
 "nbformat": 4,
 "nbformat_minor": 5
}
