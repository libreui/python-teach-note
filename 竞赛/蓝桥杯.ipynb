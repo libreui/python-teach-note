{
 "cells": [
  {
   "attachments": {},
   "cell_type": "markdown",
   "metadata": {},
   "source": [
    "#### 键盘输入正n，按要求把n输出到屏幕，格式要求求:宽度为 15个字符，数字右边对齐，不足部分用*填充。\n",
    "- 例如:键盘输入正整数n为1234，屏幕输中***********1234"
   ]
  },
  {
   "cell_type": "code",
   "execution_count": 5,
   "metadata": {},
   "outputs": [
    {
     "name": "stdout",
     "output_type": "stream",
     "text": [
      "***********1234\n",
      "黄噶        15元\n",
      "鸡蛋        80元\n",
      "某某某      100元\n"
     ]
    }
   ],
   "source": [
    "print(\"{:*>15}\".format(\"1234\"))\n",
    "print(\"{:<6}{:>7}\".format(\"黄噶\",\"15元\"))\n",
    "print(\"{:<6}{:>7}\".format(\"鸡蛋\",\"80元\"))\n",
    "print(\"{:<6}{:>7}\".format(\"某某某\",\"100元\"))"
   ]
  },
  {
   "attachments": {},
   "cell_type": "markdown",
   "metadata": {},
   "source": [
    "#### a和b是两个列表变量，列表 a 为[3,6,9] 已给定，键盘输入列表 b，计算a 中元素与b中对应元素乘积的累加和。\n",
    "- 例如:键盘输入列表 b 为[1,2,3],累加和为1*3+2*6+3*9=42，因此，屏幕输出计算结果为42"
   ]
  },
  {
   "cell_type": "code",
   "execution_count": 17,
   "metadata": {},
   "outputs": [
    {
     "name": "stdout",
     "output_type": "stream",
     "text": [
      "42\n"
     ]
    }
   ],
   "source": [
    "a = [3, 6, 9]\n",
    "b = [1, 2, 3]\n",
    "sum = 0\n",
    "while len(a) > 0:\n",
    "    sum += a.pop(0) * b.pop(0)\n",
    "print(sum)"
   ]
  },
  {
   "attachments": {},
   "cell_type": "markdown",
   "metadata": {},
   "source": [
    "a 和b是两个长度相同的列表变量，列表a为[3,6,9]已经给定，键盘输入列表b，计算a 中元素与b 中元素的和形成新的列表 c，在屏幕上输出。\n",
    "- 例如:键盘输入列表 b 为[1,2,3],屏幕输出计算结果为[4,8,12]"
   ]
  },
  {
   "cell_type": "code",
   "execution_count": 7,
   "metadata": {},
   "outputs": [
    {
     "name": "stdout",
     "output_type": "stream",
     "text": [
      "[4, 8, 12]\n"
     ]
    }
   ],
   "source": [
    "a = [3, 6, 9]\n",
    "b = input(\"请输入以逗号分割的数字：\")\n",
    "b = b.split(',')\n",
    "\n",
    "print([a[i]+int(b[i]) for i in range(len(a))])"
   ]
  },
  {
   "attachments": {},
   "cell_type": "markdown",
   "metadata": {},
   "source": [
    "获得用户输入的一个数字，其中数字字符 (0到9)用对应的中文字符“0一二三四五六七八九十”替换，输出替换后的结果。\n",
    "- 例如输入:1234\n",
    "- 输出:一二三四"
   ]
  },
  {
   "cell_type": "code",
   "execution_count": 5,
   "metadata": {},
   "outputs": [
    {
     "name": "stdout",
     "output_type": "stream",
     "text": [
      "零九八三\n"
     ]
    }
   ],
   "source": [
    "zh = ['零', '一', '二', '三', '四', '五', '六', '七', '八', '九']\n",
    "inStr = input(\"请输入五位以内的整数：\")\n",
    "outStr = \"\";\n",
    "for i in range(len(inStr)):\n",
    "    outStr += zh[int(inStr[i])]\n",
    "print(outStr)"
   ]
  },
  {
   "attachments": {},
   "cell_type": "markdown",
   "metadata": {},
   "source": [
    "获得用户输入的以号分隔的三个数字，记为 a、b、c，以a 为起始数值，b 为前后相邻数的比值，c 为数列长度，产生一个等比数列，将这个数列以逗号分隔的形式输出，最后一个元素输出后无逗号。\n",
    "- 入:1，3，5\n",
    "- 输出:1，3，9，27，81"
   ]
  },
  {
   "cell_type": "code",
   "execution_count": 9,
   "metadata": {},
   "outputs": [
    {
     "name": "stdout",
     "output_type": "stream",
     "text": [
      "1,2,4,8,16\n"
     ]
    }
   ],
   "source": [
    "# rolu = input(\"请输入逗号分割的3个数字\\n例如：1,3,5 :\")\n",
    "rolu = \"1,3,5\"\n",
    "# 切分字符串\n",
    "roluList = rolu.split(\",\")\n",
    "# 转换为整数列表\n",
    "roluInt = [int(x) for x in roluList]\n",
    "\n",
    "# 生成等比数列\n",
    "gStr = \"\";\n",
    "for i in range(roluInt[2]):\n",
    "    gStr += str(roluInt[1] ** i) + ','\n",
    "\n",
    "print(gStr[:-1])\n"
   ]
  },
  {
   "attachments": {},
   "cell_type": "markdown",
   "metadata": {},
   "source": [
    "从键盘输入4个数字，各数字采用空格分隔，对应变量 x0,y0,x1,y1.计算两点(x0,y0)和(x1,y1)之间的距离，屏幕输出这个距离，保留2位小数。\n",
    "例如:键盘输入:0 1 3 5\n",
    "- 屏幕输出：5.00\n",
    "\n",
    "- 公式：$\\sqrt[2]{(x1-x0)^2+(y1-y0)^2}$"
   ]
  },
  {
   "cell_type": "code",
   "execution_count": 2,
   "metadata": {},
   "outputs": [
    {
     "name": "stdout",
     "output_type": "stream",
     "text": [
      "2.83\n"
     ]
    }
   ],
   "source": [
    "inStr = input(\"请输入4个数：\")\n",
    "nums = [float(x) for x in inStr]\n",
    "x0 = nums[0]\n",
    "y0 = nums[1]\n",
    "x1 = nums[2]\n",
    "y1 = nums[3]\n",
    "AB = ((x1-x0)**2+(y1-y0)**2)**0.5\n",
    "print('%.2f' % AB)\n"
   ]
  },
  {
   "attachments": {},
   "cell_type": "markdown",
   "metadata": {},
   "source": [
    "请实现以下功能：某商店出售某品牌运动鞋，每双定价 `160`\n",
    "- `1双`不打折，\n",
    "- `2双`(含)到`4双` (含)打`9折`，\n",
    "- `5双`(含)到`9双`(含)打`8折`，\n",
    "- `10双`(含) 以上打 `7折`，\n",
    "\n",
    "键盘输入购买数量，屏幕输出价格总额(保留整数)。格式如下\n",
    "- 输入:1\n",
    "- 输出:总额为: `160`"
   ]
  },
  {
   "cell_type": "code",
   "execution_count": 4,
   "metadata": {},
   "outputs": [
    {
     "name": "stdout",
     "output_type": "stream",
     "text": [
      "1120.0\n"
     ]
    }
   ],
   "source": [
    "quantity = input(\"请输入购买数量(双)：\")\n",
    "quantity = int(quantity)\n",
    "price = 160\n",
    "total = quantity * price\n",
    "if quantity >= 2 and quantity <= 4:\n",
    "    total *= 0.9\n",
    "elif quantity >= 5 and quantity <= 9:\n",
    "    total *= 0.8\n",
    "elif quantity >= 10:\n",
    "    total *= 0.7\n",
    "\n",
    "print(total)"
   ]
  },
  {
   "attachments": {},
   "cell_type": "markdown",
   "metadata": {},
   "source": [
    "a 和b 是两个列表变量，列表 a 为`[3,6,9]`已给定，键盘输入列表 b，将 a 列表的三个元素依次插入到 b列表中对应的三个元素的后面，并显示输出在屏幕上。\n",
    "例如:\n",
    "- 键盘输入列表 b为`[1,2,3]`，因此,屏幕输出计算结果为`[1,3,2,6,3,9]`"
   ]
  },
  {
   "cell_type": "code",
   "execution_count": null,
   "metadata": {},
   "outputs": [],
   "source": [
    "a = [3, 6, 9]\n",
    "b = input(\"请输入以逗号分割的数字：\").split(\",\")\n",
    "b = [int(x) for x in b]\n",
    "c = [];\n",
    "for i in range(len(a)):\n",
    "    c.append(b[i])\n",
    "    c.append(a[i])\n",
    "    \n",
    "print(c)\n"
   ]
  },
  {
   "attachments": {},
   "cell_type": "markdown",
   "metadata": {},
   "source": [
    "程序接收用户输入的五个数，以逗号分隔。将这些数按照输入顺序输出，每个数占 `5个字符宽度`，`右对齐`，所有数字显示在同一行。\n",
    "例如:\n",
    "- 输入: 23,42,543,56,71\n",
    "- 输出:23   42   543  56   71"
   ]
  },
  {
   "cell_type": "code",
   "execution_count": 12,
   "metadata": {},
   "outputs": [
    {
     "name": "stdout",
     "output_type": "stream",
     "text": [
      "1    2    3    4    5    "
     ]
    }
   ],
   "source": [
    "inStr = input(\"输入以逗号分割的数字：\")\n",
    "inStr = inStr.split(\",\")\n",
    "for s in inStr:\n",
    "    print(\"{:<5}\".format(s), end=\"\")\n"
   ]
  },
  {
   "attachments": {},
   "cell_type": "markdown",
   "metadata": {},
   "source": [
    "社会平均工作时间是`每天8小时`。如果这位科学家的当下`成就值是 1`，假设每`工作1小时`成就值增加 `0.01%`，计算并输出两个结果:\n",
    "- 这位科学家 5年后的成就值。\n",
    "- 以及达到成就值 100所需要的年数。其中，成就值和年数都以整数表示，每年以365 天计算。\n",
    "\n",
    "输出示例:\n",
    "- 5年后的成就值是XXX\n",
    "- XX年后成就值是 100"
   ]
  },
  {
   "cell_type": "code",
   "execution_count": 2,
   "metadata": {},
   "outputs": [
    {
     "name": "stdout",
     "output_type": "stream",
     "text": [
      "5年后成就值：147\n",
      "3年后成就是是100\n"
     ]
    }
   ],
   "source": [
    "# 5年后成就值\n",
    "t = 365 * 5 * 8\n",
    "s = 1\n",
    "for i in range(t):\n",
    "    s += 0.01\n",
    "print(\"5年后成就值：%d\" % s)\n",
    "\n",
    "# 到达成就值100所用的时间（年）\n",
    "s = 1\n",
    "t = 0\n",
    "while s < 100:\n",
    "    s += 0.01\n",
    "    t += 1\n",
    "print(\"%d年后成就是是100\" % (t / 8 / 365))\n"
   ]
  },
  {
   "cell_type": "code",
   "execution_count": 6,
   "metadata": {},
   "outputs": [
    {
     "name": "stdout",
     "output_type": "stream",
     "text": [
      "48\n",
      "57\n",
      "97\n",
      "122\n",
      "65\n",
      "90\n"
     ]
    }
   ],
   "source": [
    "print(ord('0'))\n",
    "print(ord('9'))\n",
    "print(ord('a'))\n",
    "print(ord('z'))\n",
    "print(ord('A'))\n",
    "print(ord('Z'))"
   ]
  }
 ],
 "metadata": {
  "kernelspec": {
   "display_name": "Python 3",
   "language": "python",
   "name": "python3"
  },
  "language_info": {
   "codemirror_mode": {
    "name": "ipython",
    "version": 3
   },
   "file_extension": ".py",
   "mimetype": "text/x-python",
   "name": "python",
   "nbconvert_exporter": "python",
   "pygments_lexer": "ipython3",
   "version": "3.11.2"
  },
  "orig_nbformat": 4
 },
 "nbformat": 4,
 "nbformat_minor": 2
}
