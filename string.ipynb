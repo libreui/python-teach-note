{
 "cells": [
  {
   "cell_type": "code",
   "execution_count": null,
   "metadata": {},
   "outputs": [],
   "source": [
    "string = \"中国电子学会Python编程等级考试\"\n"
   ]
  },
  {
   "cell_type": "code",
   "execution_count": 51,
   "metadata": {},
   "outputs": [
    {
     "name": "stdout",
     "output_type": "stream",
     "text": [
      "The answer is 42\n"
     ]
    }
   ],
   "source": [
    "# 转义字符 \\\n",
    "# \\' \\\" \\b \\n \\t\n",
    "\n",
    "# 输出内容 \n",
    "# 格式化输出 %s %d %float\n",
    "# 我叫谷雨，今年40岁，体重80.2公斤\n",
    "\n",
    "'''\n",
    "订单：879798989\n",
    "----------------------\n",
    "商品        价格    分数\n",
    "小苏肉      8.00    x2\n",
    "锅包肉      30.00   x1\n",
    "----------------------\n",
    "合计：      000000\n",
    "'''\n",
    "\n",
    "'''\n",
    "使用 % 格式化输出，将整数 42 输出为字符串 \"The answer is 42.\"。\n",
    "\n",
    "使用 % 格式化输出，将浮点数 3.14159 输出为字符串 \"The value of pi is app 3.14.\"（保留两位小数）。\n",
    "\n",
    "使用 % 格式化输出，将字符串 \"John\" 和整数 25 输出为字符串 \"My name is John and I am 25 years old.\"。\n",
    "\n",
    "使用 % 格式化输出，将一个包含三个整数 (10, 20, 30) 的元组输出为字符串 \"The numbers are: 10, 20, 30.\"。\n",
    "\n",
    "使用 % 格式化输出，将一个包含四个浮点数 (1.23, 4.567, 8.9, 0.12) 的列表输出为字符串 \"The numbers are: 1.23, 4.57, 8.90, 0.12.\"（每个数字保留两位小数）。\n",
    "'''\n",
    "\n",
    "\n"
   ]
  },
  {
   "cell_type": "code",
   "execution_count": 109,
   "metadata": {},
   "outputs": [
    {
     "name": "stdout",
     "output_type": "stream",
     "text": [
      "整数:BB       **\n"
     ]
    }
   ],
   "source": [
    "# import math\n",
    "# print(\"圆周率: %.2f\" % 9763.141)\n",
    "%.(小数位数)f\n",
    "%(长度)d # 不足长度补位，默认是空格， 可以，向左补位'0'\n",
    "%(长度)s # 不足长度补位，默认是空格\n",
    "print(\"整数:%-9s**\" % 'BB')\n"
   ]
  }
 ],
 "metadata": {
  "kernelspec": {
   "display_name": "python310",
   "language": "python",
   "name": "python3"
  },
  "language_info": {
   "codemirror_mode": {
    "name": "ipython",
    "version": 3
   },
   "file_extension": ".py",
   "mimetype": "text/x-python",
   "name": "python",
   "nbconvert_exporter": "python",
   "pygments_lexer": "ipython3",
   "version": "3.10.9"
  },
  "orig_nbformat": 4
 },
 "nbformat": 4,
 "nbformat_minor": 2
}
