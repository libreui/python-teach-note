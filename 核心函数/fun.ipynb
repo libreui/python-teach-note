{
 "cells": [
  {
   "cell_type": "code",
   "execution_count": 24,
   "metadata": {},
   "outputs": [
    {
     "name": "stdout",
     "output_type": "stream",
     "text": [
      "8\n",
      "<class 'int'> <class 'int'>\n",
      "3\n",
      "14.1\n"
     ]
    }
   ],
   "source": [
    "n = pow(2, 3) # x的y次方\n",
    "print(n)\n",
    "\n",
    "n = round(3.1415)\n",
    "m = round(3.1415)\n",
    "print(type(m), type(n))\n",
    "\n",
    "n = int(3.1415)\n",
    "print(n)\n",
    "\n",
    "a = [1, 3, 5]\n",
    "b = (1, 3, 5)\n",
    "c = {1, 3, 5}\n",
    "n = sum(c, 5.1)\n",
    "print(n)\n",
    "\n",
    "\n"
   ]
  },
  {
   "cell_type": "code",
   "execution_count": 34,
   "metadata": {},
   "outputs": [
    {
     "name": "stdout",
     "output_type": "stream",
     "text": [
      "0 星期一\n",
      "1 星期二\n",
      "2 星期三\n",
      "3 星期四\n",
      "4 星期五\n",
      "5 星期六\n",
      "6 星期日\n"
     ]
    }
   ],
   "source": [
    "# enumerate\n",
    "a = ['星期一', '星期二', '星期三', '星期四', '星期五', '星期六', '星期日']\n",
    "\n",
    "m = enumerate(a)\n",
    "for k, v in m:\n",
    "    print(k, v)"
   ]
  },
  {
   "cell_type": "code",
   "execution_count": 7,
   "metadata": {},
   "outputs": [
    {
     "name": "stdout",
     "output_type": "stream",
     "text": [
      "False\n"
     ]
    }
   ],
   "source": [
    "# 序列 列表，元组，集合\n",
    "a = [1, 2, '']\n",
    "print(all(a))"
   ]
  },
  {
   "cell_type": "code",
   "execution_count": 12,
   "metadata": {},
   "outputs": [
    {
     "name": "stdout",
     "output_type": "stream",
     "text": [
      "[-9, -7, -5]\n"
     ]
    }
   ],
   "source": [
    "def add(n):\n",
    "    return n - 10\n",
    "b = map(add, [1, 3, 5])\n",
    "print(list(b))"
   ]
  },
  {
   "cell_type": "code",
   "execution_count": 18,
   "metadata": {},
   "outputs": [
    {
     "name": "stdout",
     "output_type": "stream",
     "text": [
      "<class 'list'> <class 'list_iterator'>\n",
      "a\n",
      "b\n",
      "c\n"
     ]
    }
   ],
   "source": [
    "a = ['a', 'b', 'c']\n",
    "b = iter(a)\n",
    "print(type(a) , type(b))\n",
    "while True:\n",
    "    try:\n",
    "        print(next(b))\n",
    "    except:\n",
    "        break"
   ]
  },
  {
   "cell_type": "code",
   "execution_count": 19,
   "metadata": {},
   "outputs": [
    {
     "name": "stdout",
     "output_type": "stream",
     "text": [
      "[5, 3, 2]\n"
     ]
    }
   ],
   "source": [
    "a = [ 3, 5, 2]\n",
    "print(sorted(a, reverse=True))"
   ]
  },
  {
   "cell_type": "code",
   "execution_count": 37,
   "metadata": {},
   "outputs": [
    {
     "data": {
      "text/plain": [
       "'[1, 2]'"
      ]
     },
     "execution_count": 37,
     "metadata": {},
     "output_type": "execute_result"
    }
   ],
   "source": [
    "\n",
    "ascii([1, 2])"
   ]
  },
  {
   "cell_type": "code",
   "execution_count": 45,
   "metadata": {},
   "outputs": [
    {
     "name": "stdout",
     "output_type": "stream",
     "text": [
      "{'__module__': '__main__', 'add': <function A.add at 0x7f79c23b4a60>, '__dict__': <attribute '__dict__' of 'A' objects>, '__weakref__': <attribute '__weakref__' of 'A' objects>, '__doc__': None}\n"
     ]
    }
   ],
   "source": [
    "class A:\n",
    "    def add(_self_, a, b):\n",
    "        print(a+b)\n",
    "print(vars(A))"
   ]
  },
  {
   "cell_type": "code",
   "execution_count": null,
   "metadata": {},
   "outputs": [],
   "source": []
  }
 ],
 "metadata": {
  "kernelspec": {
   "display_name": "python310",
   "language": "python",
   "name": "python3"
  },
  "language_info": {
   "codemirror_mode": {
    "name": "ipython",
    "version": 3
   },
   "file_extension": ".py",
   "mimetype": "text/x-python",
   "name": "python",
   "nbconvert_exporter": "python",
   "pygments_lexer": "ipython3",
   "version": "3.10.9"
  }
 },
 "nbformat": 4,
 "nbformat_minor": 2
}
