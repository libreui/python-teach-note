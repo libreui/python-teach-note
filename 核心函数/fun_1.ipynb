{
 "cells": [
  {
   "cell_type": "code",
   "execution_count": null,
   "id": "initial_id",
   "metadata": {
    "collapsed": true
   },
   "outputs": [],
   "source": [
    "#abs()函数\n",
    "# 创建10个 -10到10之间的随机数， 打印出每个数和他的绝对值\n",
    "import random\n",
    "for i in range(10):\n",
    "    num = random.randint(-10,10)\n",
    "    print(num,abs(num))\n",
    "    "
   ]
  },
  {
   "cell_type": "code",
   "execution_count": 36,
   "outputs": [
    {
     "name": "stdout",
     "output_type": "stream",
     "text": [
      "0.5609406583382451 0.561\n"
     ]
    }
   ],
   "source": [
    "# round()函数, 四舍五入\n",
    "# 创建10个随机小数点后位的小数， 打印出每个数和他的四舍五入值\n"
   ],
   "metadata": {
    "collapsed": false,
    "ExecuteTime": {
     "end_time": "2024-10-07T02:51:05.328455Z",
     "start_time": "2024-10-07T02:51:05.311457Z"
    }
   },
   "id": "39ce7e709652a156"
  },
  {
   "cell_type": "code",
   "execution_count": 38,
   "outputs": [
    {
     "name": "stdout",
     "output_type": "stream",
     "text": [
      "(0, 3)\n"
     ]
    }
   ],
   "source": [
    "# divmod()->tuple函数， 返回两个数的商和余数\n",
    "# 创建10组100以内数的除法，得出商和余数\n",
    "# 打印格式: a ÷ b = 商...余数 \n",
    "# 10 ÷ 3 = 3...1"
   ],
   "metadata": {
    "collapsed": false,
    "ExecuteTime": {
     "end_time": "2024-10-07T03:00:29.447437Z",
     "start_time": "2024-10-07T03:00:29.424549Z"
    }
   },
   "id": "69db1e61c3144887"
  },
  {
   "cell_type": "code",
   "execution_count": 40,
   "outputs": [
    {
     "name": "stdout",
     "output_type": "stream",
     "text": [
      "8\n",
      "1\n"
     ]
    }
   ],
   "source": [
    "# pow 幂运算函数\n",
    "# 计算2的3次方\n",
    "n = pow(2, 3)\n",
    "print(n)\n",
    "n = pow(5, 3, 4)\n",
    "print(n)"
   ],
   "metadata": {
    "collapsed": false,
    "ExecuteTime": {
     "end_time": "2024-10-13T02:51:48.271771Z",
     "start_time": "2024-10-13T02:51:48.257157Z"
    }
   },
   "id": "5baa92897ed4342d"
  },
  {
   "cell_type": "code",
   "execution_count": 49,
   "outputs": [
    {
     "name": "stdout",
     "output_type": "stream",
     "text": [
      "False\n",
      "True\n",
      "False\n",
      "True\n",
      "False\n"
     ]
    }
   ],
   "source": [
    "# bool()函数, 将其他数据类型转换为布尔值 True or False\n",
    "print(bool(0))\n",
    "print(bool(1))\n",
    "print(bool(\"\"))\n",
    "print(bool(\"a\"))\n"
   ],
   "metadata": {
    "collapsed": false,
    "ExecuteTime": {
     "end_time": "2024-10-13T03:00:30.595624Z",
     "start_time": "2024-10-13T03:00:30.587032Z"
    }
   },
   "id": "6f43887e7788bd11"
  },
  {
   "cell_type": "code",
   "execution_count": 54,
   "outputs": [
    {
     "name": "stdout",
     "output_type": "stream",
     "text": [
      "65\n",
      "A\n"
     ]
    }
   ],
   "source": [
    "# ord() 函数， 将字符转换为对应的ASCII码\n",
    "# chr() 函数， 将ASCII码转换为对应的字符\n",
    "print(ord('A'))\n",
    "print(chr(65))\n"
   ],
   "metadata": {
    "collapsed": false,
    "ExecuteTime": {
     "end_time": "2024-10-13T03:15:35.371051Z",
     "start_time": "2024-10-13T03:15:35.356530Z"
    }
   },
   "id": "e533f44c9e65d6ab"
  },
  {
   "cell_type": "code",
   "execution_count": 65,
   "outputs": [
    {
     "name": "stdout",
     "output_type": "stream",
     "text": [
      "('h', 'e', 'l', 'l', 'o')\n",
      "(1, 2, 3, 4, 5)\n",
      "('a', 'b')\n",
      "(1, 2, 3, 4, 5)\n"
     ]
    },
    {
     "ename": "ValueError",
     "evalue": "not enough values to unpack (expected 2, got 1)",
     "output_type": "error",
     "traceback": [
      "\u001B[0;31m---------------------------------------------------------------------------\u001B[0m",
      "\u001B[0;31mValueError\u001B[0m                                Traceback (most recent call last)",
      "Cell \u001B[0;32mIn[65], line 6\u001B[0m\n\u001B[1;32m      4\u001B[0m \u001B[38;5;28mprint\u001B[39m(\u001B[38;5;28mtuple\u001B[39m({\u001B[38;5;124m'\u001B[39m\u001B[38;5;124ma\u001B[39m\u001B[38;5;124m'\u001B[39m: \u001B[38;5;124m'\u001B[39m\u001B[38;5;124mA\u001B[39m\u001B[38;5;124m'\u001B[39m, \u001B[38;5;124m'\u001B[39m\u001B[38;5;124mb\u001B[39m\u001B[38;5;124m'\u001B[39m: \u001B[38;5;124m'\u001B[39m\u001B[38;5;124mB\u001B[39m\u001B[38;5;124m'\u001B[39m}))\n\u001B[1;32m      5\u001B[0m \u001B[38;5;28mprint\u001B[39m(\u001B[38;5;28mtuple\u001B[39m({\u001B[38;5;241m1\u001B[39m,\u001B[38;5;241m2\u001B[39m,\u001B[38;5;241m3\u001B[39m,\u001B[38;5;241m4\u001B[39m,\u001B[38;5;241m5\u001B[39m}))\n\u001B[0;32m----> 6\u001B[0m \u001B[38;5;28;01mfor\u001B[39;00m i, j \u001B[38;5;129;01min\u001B[39;00m {\u001B[38;5;124m'\u001B[39m\u001B[38;5;124ma\u001B[39m\u001B[38;5;124m'\u001B[39m: \u001B[38;5;124m'\u001B[39m\u001B[38;5;124mA\u001B[39m\u001B[38;5;124m'\u001B[39m, \u001B[38;5;124m'\u001B[39m\u001B[38;5;124mb\u001B[39m\u001B[38;5;124m'\u001B[39m: \u001B[38;5;124m'\u001B[39m\u001B[38;5;124mB\u001B[39m\u001B[38;5;124m'\u001B[39m}:\n\u001B[1;32m      7\u001B[0m     \u001B[38;5;28mprint\u001B[39m(i, j)\n",
      "\u001B[0;31mValueError\u001B[0m: not enough values to unpack (expected 2, got 1)"
     ]
    }
   ],
   "source": [
    "# tuple() 函数， 将其他数据类型转换为元组\n",
    "print(tuple('hello'))\n",
    "print(tuple([1,2,3,4,5]))\n",
    "print(tuple({'a': 'A', 'b': 'B'}))\n",
    "print(tuple({1,2,3,4,5}))\n",
    "# for i, j in {'a': 'A', 'b': 'B'}:\n",
    "#     print(i, j)"
   ],
   "metadata": {
    "collapsed": false,
    "ExecuteTime": {
     "end_time": "2024-10-13T03:27:58.493389Z",
     "start_time": "2024-10-13T03:27:58.480999Z"
    }
   },
   "id": "9b4179624aa3629b"
  },
  {
   "cell_type": "code",
   "execution_count": 73,
   "outputs": [
    {
     "name": "stdout",
     "output_type": "stream",
     "text": [
      "['h', 'e', 'l', 'l', 'o']\n",
      "[1, 2, 3, 4, 5]\n",
      "['a', 'b']\n",
      "dict_values(['A', 'B'])\n"
     ]
    }
   ],
   "source": [
    "# list() 函数， 将其他数据类型转换为列表\n",
    "print(list('hello'))\n",
    "print(list((1,2,3,4,5)))\n",
    "print(list({'a': 'A', 'b': 'B'}))\n",
    "print({'a': 'A', 'b': 'B'}.values())"
   ],
   "metadata": {
    "collapsed": false,
    "ExecuteTime": {
     "end_time": "2024-10-13T03:36:20.671190Z",
     "start_time": "2024-10-13T03:36:20.660158Z"
    }
   },
   "id": "6c6409b06d76dda8"
  },
  {
   "cell_type": "code",
   "execution_count": 82,
   "outputs": [
    {
     "name": "stdout",
     "output_type": "stream",
     "text": [
      "{'a': 'A', 'b': 'B'}\n"
     ]
    }
   ],
   "source": [
    "# dict() 函数， 将其他数据类型转换为字典\n"
   ],
   "metadata": {
    "collapsed": false,
    "ExecuteTime": {
     "end_time": "2024-10-13T03:40:09.796729Z",
     "start_time": "2024-10-13T03:40:09.783071Z"
    }
   },
   "id": "d8e7f8b106585d33"
  },
  {
   "cell_type": "code",
   "execution_count": 15,
   "outputs": [
    {
     "name": "stdout",
     "output_type": "stream",
     "text": [
      "{'b', 'd', 'a', 'e', 'c', 'f'}\n"
     ]
    }
   ],
   "source": [
    "# set() 函数， 将其他数据类型转换为集合\n",
    "s1 = set('abcd')\n",
    "s2 = set('abef')\n",
    "# -差集，&交集，|并集，^对称差集\n",
    "print(s1 | s2)\n"
   ],
   "metadata": {
    "collapsed": false,
    "ExecuteTime": {
     "end_time": "2024-10-19T02:42:58.762227Z",
     "start_time": "2024-10-19T02:42:58.747782Z"
    }
   },
   "id": "746ca7434468c633"
  },
  {
   "cell_type": "code",
   "execution_count": 21,
   "outputs": [
    {
     "name": "stdout",
     "output_type": "stream",
     "text": [
      "100 apple\n",
      "101 banana\n",
      "102 orange\n"
     ]
    }
   ],
   "source": [
    "# enumerate() 函数， 将可迭代对象组合为一个索引序列，同时列出数据和数据下标\n",
    "lst = ['apple', 'banana', 'orange']\n",
    "for index, item in enumerate(lst, 100):\n",
    "    print(index, item)"
   ],
   "metadata": {
    "collapsed": false,
    "ExecuteTime": {
     "end_time": "2024-10-19T02:52:44.989155Z",
     "start_time": "2024-10-19T02:52:44.975736Z"
    }
   },
   "id": "bf60bad1696d5433"
  },
  {
   "cell_type": "code",
   "execution_count": 32,
   "outputs": [
    {
     "name": "stdout",
     "output_type": "stream",
     "text": [
      "True\n"
     ]
    }
   ],
   "source": [
    "# object() 函数， 返回一个空对象\n",
    "# range() 函数， 返回一个可迭代对象， 生成一个整数序列"
   ],
   "metadata": {
    "collapsed": false,
    "ExecuteTime": {
     "end_time": "2024-10-19T03:06:46.443357Z",
     "start_time": "2024-10-19T03:06:46.431220Z"
    }
   },
   "id": "c4b3a3c4b09c497c"
  },
  {
   "cell_type": "code",
   "execution_count": 63,
   "outputs": [
    {
     "name": "stdout",
     "output_type": "stream",
     "text": [
      "1\n",
      "2\n",
      "False\n"
     ]
    }
   ],
   "source": [
    "# 序列操作函数\n",
    "# all() 函数， 判断可迭代对象中的所有元素是否都为True\n",
    "# any() 函数， 用来判断可迭代对象中至少有一个是True\n",
    "# filter() 函数， 过滤可迭代对象中的元素\n",
    "# map() 函数， 对可迭代对象中的每个元素进行操作\n",
    "# next() 函数， 返回可迭代对象中的下一个元素\n",
    "\n",
    "lst = 1, 2\n",
    "obj = iter(lst) \n",
    "while True:\n",
    "    n = next(obj, False)\n",
    "    if not n:\n",
    "        break\n",
    "    print(n)\n",
    "print(next(obj, False))\n",
    "\n",
    "\n",
    "\n"
   ],
   "metadata": {
    "collapsed": false,
    "ExecuteTime": {
     "end_time": "2024-10-20T03:17:06.177224Z",
     "start_time": "2024-10-20T03:17:06.167053Z"
    }
   },
   "id": "d56669724d167dfd"
  },
  {
   "cell_type": "code",
   "execution_count": 35,
   "outputs": [
    {
     "name": "stdout",
     "output_type": "stream",
     "text": [
      "{'name': 'Tom', 'age': 18}\n"
     ]
    }
   ],
   "source": [
    "# 对象操作函数\n",
    "# help() 函数， 查看函数的帮助文档\n",
    "# dir() 函数， 查看对象的所有属性和方法\n",
    "# vars() 函数， 返回对象的属性和值\n",
    "\n",
    "# type() 函数， 查看对象的类型\n",
    "# ascii() 函数， 将对象转换为ASCII码字符串\n",
    "\n",
    "\n",
    "# 创建一个csv文件，用今天的日期作为名字 \"./data/2023-03-01.csv\" ，把list对象的属性和方法存入，并且带有编号：\n",
    "# 1. __xxx___\n",
    "# 2. __ddd__\n",
    "# 3. xxx\n"
   ],
   "metadata": {
    "collapsed": false,
    "ExecuteTime": {
     "end_time": "2024-10-26T02:44:27.580661Z",
     "start_time": "2024-10-26T02:44:27.573891Z"
    }
   },
   "id": "712429f42250f374"
  },
  {
   "cell_type": "code",
   "execution_count": 37,
   "outputs": [
    {
     "name": "stdout",
     "output_type": "stream",
     "text": [
      "{'u', 'o', 'n', 'r', 'b'}\n",
      "eglo\n"
     ]
    }
   ],
   "source": [
    "# runoob , google\n",
    "# x y\n",
    "x = set('runoob')\n",
    "y = set('google')\n",
    "print(x)\n",
    "print(''.join(y))\n",
    "\n",
    "lst = [2, 5, 1, 3, 4]"
   ],
   "metadata": {
    "collapsed": false,
    "ExecuteTime": {
     "end_time": "2024-10-27T02:45:01.732295Z",
     "start_time": "2024-10-27T02:45:01.719978Z"
    }
   },
   "id": "d86ce66acdba77a8"
  }
 ],
 "metadata": {
  "kernelspec": {
   "display_name": "Python 3",
   "language": "python",
   "name": "python3"
  },
  "language_info": {
   "codemirror_mode": {
    "name": "ipython",
    "version": 2
   },
   "file_extension": ".py",
   "mimetype": "text/x-python",
   "name": "python",
   "nbconvert_exporter": "python",
   "pygments_lexer": "ipython2",
   "version": "2.7.6"
  }
 },
 "nbformat": 4,
 "nbformat_minor": 5
}
