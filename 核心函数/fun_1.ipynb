{
 "cells": [
  {
   "cell_type": "code",
   "execution_count": null,
   "id": "initial_id",
   "metadata": {
    "collapsed": true
   },
   "outputs": [],
   "source": [
    "#abs()函数\n",
    "# 创建10个 -10到10之间的随机数， 打印出每个数和他的绝对值\n",
    "import random\n",
    "for i in range(10):\n",
    "    num = random.randint(-10,10)\n",
    "    print(num,abs(num))\n",
    "    "
   ]
  },
  {
   "cell_type": "code",
   "execution_count": 36,
   "outputs": [
    {
     "name": "stdout",
     "output_type": "stream",
     "text": [
      "0.5609406583382451 0.561\n"
     ]
    }
   ],
   "source": [
    "# round()函数, 四舍五入\n",
    "# 创建10个随机小数点后位的小数， 打印出每个数和他的四舍五入值\n"
   ],
   "metadata": {
    "collapsed": false,
    "ExecuteTime": {
     "end_time": "2024-10-07T02:51:05.328455Z",
     "start_time": "2024-10-07T02:51:05.311457Z"
    }
   },
   "id": "39ce7e709652a156"
  },
  {
   "cell_type": "code",
   "execution_count": 38,
   "outputs": [
    {
     "name": "stdout",
     "output_type": "stream",
     "text": [
      "(0, 3)\n"
     ]
    }
   ],
   "source": [
    "# divmod()->tuple函数， 返回两个数的商和余数\n",
    "# 创建10组100以内数的除法，得出商和余数\n",
    "# 打印格式: a ÷ b = 商...余数 \n",
    "# 10 ÷ 3 = 3...1"
   ],
   "metadata": {
    "collapsed": false,
    "ExecuteTime": {
     "end_time": "2024-10-07T03:00:29.447437Z",
     "start_time": "2024-10-07T03:00:29.424549Z"
    }
   },
   "id": "69db1e61c3144887"
  },
  {
   "cell_type": "code",
   "execution_count": 40,
   "outputs": [
    {
     "name": "stdout",
     "output_type": "stream",
     "text": [
      "8\n",
      "1\n"
     ]
    }
   ],
   "source": [
    "# pow 幂运算函数\n",
    "# 计算2的3次方\n",
    "n = pow(2, 3)\n",
    "print(n)\n",
    "n = pow(5, 3, 4)\n",
    "print(n)"
   ],
   "metadata": {
    "collapsed": false,
    "ExecuteTime": {
     "end_time": "2024-10-13T02:51:48.271771Z",
     "start_time": "2024-10-13T02:51:48.257157Z"
    }
   },
   "id": "5baa92897ed4342d"
  },
  {
   "cell_type": "code",
   "execution_count": 49,
   "outputs": [
    {
     "name": "stdout",
     "output_type": "stream",
     "text": [
      "False\n",
      "True\n",
      "False\n",
      "True\n",
      "False\n"
     ]
    }
   ],
   "source": [
    "# bool()函数, 将其他数据类型转换为布尔值 True or False\n",
    "print(bool(0))\n",
    "print(bool(1))\n",
    "print(bool(\"\"))\n",
    "print(bool(\"a\"))\n"
   ],
   "metadata": {
    "collapsed": false,
    "ExecuteTime": {
     "end_time": "2024-10-13T03:00:30.595624Z",
     "start_time": "2024-10-13T03:00:30.587032Z"
    }
   },
   "id": "6f43887e7788bd11"
  },
  {
   "cell_type": "code",
   "execution_count": 54,
   "outputs": [
    {
     "name": "stdout",
     "output_type": "stream",
     "text": [
      "65\n",
      "A\n"
     ]
    }
   ],
   "source": [
    "# ord() 函数， 将字符转换为对应的ASCII码\n",
    "# chr() 函数， 将ASCII码转换为对应的字符\n",
    "print(ord('A'))\n",
    "print(chr(65))\n"
   ],
   "metadata": {
    "collapsed": false,
    "ExecuteTime": {
     "end_time": "2024-10-13T03:15:35.371051Z",
     "start_time": "2024-10-13T03:15:35.356530Z"
    }
   },
   "id": "e533f44c9e65d6ab"
  },
  {
   "cell_type": "code",
   "execution_count": 65,
   "outputs": [
    {
     "name": "stdout",
     "output_type": "stream",
     "text": [
      "('h', 'e', 'l', 'l', 'o')\n",
      "(1, 2, 3, 4, 5)\n",
      "('a', 'b')\n",
      "(1, 2, 3, 4, 5)\n"
     ]
    },
    {
     "ename": "ValueError",
     "evalue": "not enough values to unpack (expected 2, got 1)",
     "output_type": "error",
     "traceback": [
      "\u001B[0;31m---------------------------------------------------------------------------\u001B[0m",
      "\u001B[0;31mValueError\u001B[0m                                Traceback (most recent call last)",
      "Cell \u001B[0;32mIn[65], line 6\u001B[0m\n\u001B[1;32m      4\u001B[0m \u001B[38;5;28mprint\u001B[39m(\u001B[38;5;28mtuple\u001B[39m({\u001B[38;5;124m'\u001B[39m\u001B[38;5;124ma\u001B[39m\u001B[38;5;124m'\u001B[39m: \u001B[38;5;124m'\u001B[39m\u001B[38;5;124mA\u001B[39m\u001B[38;5;124m'\u001B[39m, \u001B[38;5;124m'\u001B[39m\u001B[38;5;124mb\u001B[39m\u001B[38;5;124m'\u001B[39m: \u001B[38;5;124m'\u001B[39m\u001B[38;5;124mB\u001B[39m\u001B[38;5;124m'\u001B[39m}))\n\u001B[1;32m      5\u001B[0m \u001B[38;5;28mprint\u001B[39m(\u001B[38;5;28mtuple\u001B[39m({\u001B[38;5;241m1\u001B[39m,\u001B[38;5;241m2\u001B[39m,\u001B[38;5;241m3\u001B[39m,\u001B[38;5;241m4\u001B[39m,\u001B[38;5;241m5\u001B[39m}))\n\u001B[0;32m----> 6\u001B[0m \u001B[38;5;28;01mfor\u001B[39;00m i, j \u001B[38;5;129;01min\u001B[39;00m {\u001B[38;5;124m'\u001B[39m\u001B[38;5;124ma\u001B[39m\u001B[38;5;124m'\u001B[39m: \u001B[38;5;124m'\u001B[39m\u001B[38;5;124mA\u001B[39m\u001B[38;5;124m'\u001B[39m, \u001B[38;5;124m'\u001B[39m\u001B[38;5;124mb\u001B[39m\u001B[38;5;124m'\u001B[39m: \u001B[38;5;124m'\u001B[39m\u001B[38;5;124mB\u001B[39m\u001B[38;5;124m'\u001B[39m}:\n\u001B[1;32m      7\u001B[0m     \u001B[38;5;28mprint\u001B[39m(i, j)\n",
      "\u001B[0;31mValueError\u001B[0m: not enough values to unpack (expected 2, got 1)"
     ]
    }
   ],
   "source": [
    "# tuple() 函数， 将其他数据类型转换为元组\n",
    "print(tuple('hello'))\n",
    "print(tuple([1,2,3,4,5]))\n",
    "print(tuple({'a': 'A', 'b': 'B'}))\n",
    "print(tuple({1,2,3,4,5}))\n",
    "# for i, j in {'a': 'A', 'b': 'B'}:\n",
    "#     print(i, j)"
   ],
   "metadata": {
    "collapsed": false,
    "ExecuteTime": {
     "end_time": "2024-10-13T03:27:58.493389Z",
     "start_time": "2024-10-13T03:27:58.480999Z"
    }
   },
   "id": "9b4179624aa3629b"
  },
  {
   "cell_type": "code",
   "execution_count": 73,
   "outputs": [
    {
     "name": "stdout",
     "output_type": "stream",
     "text": [
      "['h', 'e', 'l', 'l', 'o']\n",
      "[1, 2, 3, 4, 5]\n",
      "['a', 'b']\n",
      "dict_values(['A', 'B'])\n"
     ]
    }
   ],
   "source": [
    "# list() 函数， 将其他数据类型转换为列表\n",
    "print(list('hello'))\n",
    "print(list((1,2,3,4,5)))\n",
    "print(list({'a': 'A', 'b': 'B'}))\n",
    "print({'a': 'A', 'b': 'B'}.values())"
   ],
   "metadata": {
    "collapsed": false,
    "ExecuteTime": {
     "end_time": "2024-10-13T03:36:20.671190Z",
     "start_time": "2024-10-13T03:36:20.660158Z"
    }
   },
   "id": "6c6409b06d76dda8"
  },
  {
   "cell_type": "code",
   "execution_count": 82,
   "outputs": [
    {
     "name": "stdout",
     "output_type": "stream",
     "text": [
      "{'a': 'A', 'b': 'B'}\n"
     ]
    }
   ],
   "source": [
    "# dict() 函数， 将其他数据类型转换为字典\n"
   ],
   "metadata": {
    "collapsed": false,
    "ExecuteTime": {
     "end_time": "2024-10-13T03:40:09.796729Z",
     "start_time": "2024-10-13T03:40:09.783071Z"
    }
   },
   "id": "d8e7f8b106585d33"
  }
 ],
 "metadata": {
  "kernelspec": {
   "display_name": "Python 3",
   "language": "python",
   "name": "python3"
  },
  "language_info": {
   "codemirror_mode": {
    "name": "ipython",
    "version": 2
   },
   "file_extension": ".py",
   "mimetype": "text/x-python",
   "name": "python",
   "nbconvert_exporter": "python",
   "pygments_lexer": "ipython2",
   "version": "2.7.6"
  }
 },
 "nbformat": 4,
 "nbformat_minor": 5
}
