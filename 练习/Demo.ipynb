{
 "cells": [
  {
   "cell_type": "code",
   "execution_count": null,
   "outputs": [],
   "source": [
    "import numpy as np\n",
    "import matplotlib.pyplot as plt\n",
    "from PIL import Image\n",
    "\n",
    "\n",
    "def rotate_image(img):\n",
    "    \"\"\"\n",
    "    图像增强， 增加随机旋转角度\n",
    "    :param img:\n",
    "    \"\"\"\n",
    "    angle = np.random.randint(-14, 15)\n",
    "    newImg = img.rotate(angle)\n",
    "    return newImg\n",
    "\n",
    "\n",
    "img = Image.open(\"/Users/libre1/Downloads/img01.jpeg\")\n",
    "img1 = rotate_image(img)\n",
    "plt.imshow(img1)\n",
    "plt.show()\n"
   ],
   "metadata": {
    "collapsed": false
   }
  },
  {
   "cell_type": "code",
   "execution_count": null,
   "metadata": {},
   "outputs": [],
   "source": [
    "import random\n",
    "random.seed(1)\n",
    "print(random.choice(\"abcdefghijk\"))\n",
    "\n"
   ]
  },
  {
   "cell_type": "code",
   "execution_count": null,
   "metadata": {},
   "outputs": [],
   "source": [
    "'''\n",
    "Author: Libre Gu \n",
    "Date: 2023-02-21 10:56:00\n",
    "LastEditors: Libre Gu \n",
    "LastEditTime: 2023-04-25 17:31:25\n",
    "FilePath: /PythonJupyter/Demo.ipynb\n",
    "Description: \n",
    "Copyright (c) 2023 by Libre, All Rights Reserved. \n",
    "'''\n",
    "import random\n",
    "\n",
    "words = [\"apple\", \"banana\", \"orange\", \"watermelon\", \"pineapple\"]\n",
    "\n",
    "while True:\n",
    "    word = random.choice(words)\n",
    "    jumbled_word = \"\".join(random.sample(word, len(word)))\n",
    "    print(\"请猜这个单词：\", jumbled_word)\n",
    "    guess = input(\"你的答案是：\")\n",
    "    if guess == word:\n",
    "        print(\"恭喜你，猜对了！\")\n",
    "    else:\n",
    "        print(\"很遗憾，猜错了！\")\n",
    "    play_again = input(\"是否继续游戏？（输入Y或y继续，其他字符退出）：\")\n",
    "    if play_again.lower() != \"y\":\n",
    "        break\n",
    "\n",
    "\n"
   ]
  },
  {
   "cell_type": "code",
   "execution_count": null,
   "metadata": {},
   "outputs": [],
   "source": [
    "import random\n",
    "dict = {\n",
    "    \"数学\":  random.randint(1, 100),\n",
    "    \"英语\": random.randint(1, 100),\n",
    "    \"语文\": random.randint(1, 100),\n",
    "}\n",
    "print(dict)\n",
    "max_point = 0\n",
    "max_point_name = '';\n",
    "for key, value in dict.items():\n",
    "    if value > max_point:\n",
    "        max_point = value\n",
    "        max_point_name = key\n",
    "print(max_point_name, \"的点数是\", max_point)"
   ]
  },
  {
   "cell_type": "code",
   "execution_count": null,
   "metadata": {},
   "outputs": [],
   "source": [
    "'''\n",
    "Author: Libre Gu \n",
    "Date: 2023-02-21 10:56:00\n",
    "LastEditors: Libre Gu \n",
    "LastEditTime: 2023-04-25 17:30:05\n",
    "FilePath: /PythonJupyter/Demo.ipynb\n",
    "Description: \n",
    "Copyright (c) 2023 by Libre, All Rights Reserved. \n",
    "'''\n",
    "d = {1:'a'}\n",
    "print(d.get(2))"
   ]
  },
  {
   "cell_type": "code",
   "execution_count": null,
   "metadata": {},
   "outputs": [],
   "source": [
    "'''\n",
    "Author: Libre Gu \n",
    "Date: 2023-02-21 10:56:00\n",
    "LastEditors: Libre Gu \n",
    "LastEditTime: 2023-04-29 08:17:46\n",
    "FilePath: /PythonJupyter/Demo.ipynb\n",
    "Description: \n",
    "Copyright (c) 2023 by Libre, All Rights Reserved. \n",
    "'''\n",
    "score = [98, 99, 93, 92, 87, 95]\n",
    "# index(obj, start, end)\n",
    "m\n",
    "i = score.index(98)\n",
    "print(i)"
   ]
  },
  {
   "cell_type": "code",
   "execution_count": null,
   "metadata": {},
   "outputs": [],
   "source": [
    "# 输入开始和结束整数，查找之间的质数,打印：*是质数\n",
    "m = 10\n",
    "n = 2\n",
    "if (n < m):\n",
    "    z = m\n",
    "    m = n\n",
    "    n = z\n",
    "print(m,n)\n",
    "for i in range(m, n+1):\n",
    "    t = True\n",
    "    for j in range(2, i):\n",
    "        if i % j == 0:\n",
    "            t = False\n",
    "            break\n",
    "    if t == True:\n",
    "        print(i, \"是质数\")"
   ]
  },
  {
   "cell_type": "code",
   "execution_count": null,
   "metadata": {},
   "outputs": [],
   "source": [
    "'''随机重复值数字列表，去重后排序操作'''\n",
    "import random\n",
    "\n",
    "maxn = 10\n",
    "a = []\n",
    "for i in range(maxn):\n",
    "    a.append(random.randrange(1, 7))\n",
    "print(\"原始数据：\")\n",
    "print(a)\n",
    "\n",
    "# 去除重复的项目\n",
    "key, n = 0, maxn\n",
    "while key < n:\n",
    "    i = n - 1\n",
    "    while a[i] != a[key]:\n",
    "        i -= 1\n",
    "    if i == key:\n",
    "        key += 1\n",
    "    else:\n",
    "        a.remove(a[i])\n",
    "        n -= 1\n",
    "\n",
    "# 排序算法\n",
    "for i in range(n):\n",
    "    for j in range(len(a)-i-1):\n",
    "        if a[j] > a[j+1]:\n",
    "            a[j], a[j+1] = a[j+1], a[j]\n",
    "print(\"去重后排序数据：\")\n",
    "print(a)\n",
    "print(\"共删除数据：\", maxn - n, \"个\")\n",
    "    \n"
   ]
  },
  {
   "cell_type": "code",
   "execution_count": null,
   "metadata": {},
   "outputs": [],
   "source": [
    "'''\n",
    "Author: Libre Gu \n",
    "Date: 2023-02-21 10:56:00\n",
    "LastEditors: Libre Gu \n",
    "LastEditTime: 2023-05-20 08:01:42\n",
    "FilePath: /PythonJupyter/Demo.ipynb\n",
    "Description: \n",
    "Copyright (c) 2023 by Libre, All Rights Reserved. \n",
    "'''\n",
    "string = \"05/21/2021\"   # 原始数据\n",
    "split_char = \"/\"        # 分隔符\n",
    "tmp = \"\"                # 临时拆分出的字符串\n",
    "out_list = []           # 分割后数据的列表\n",
    "\n",
    "# 遍历每一个字符\n",
    "for s in string:\n",
    "    # 如果当前字符不是分隔符，把字符串累加起来\n",
    "    if s != split_char:\n",
    "        tmp += s\n",
    "    else: # 如果当前字符是分隔符，把之前累加起来的字符串添加到列表中\n",
    "        out_list.append(tmp)\n",
    "        #清空临时字符串变量，以便下次循环时候继续累加\n",
    "        tmp = \"\"\n",
    "# 把最后面没有处理的字符串添加进列表\n",
    "if tmp != \"\":\n",
    "    out_list.append(tmp)\n",
    "print(out_list)\n"
   ]
  },
  {
   "cell_type": "code",
   "execution_count": null,
   "metadata": {},
   "outputs": [],
   "source": [
    "# 闰年 366 2月\n",
    "# 当前月之前有多少天 + 当前日\n",
    "y,m,d = 2000,12,31\n",
    "after_day_num = (0, 31, 59, 90, 120, 151, 181, 212, 243, 273, 304, 334)\n",
    "\n",
    "\n",
    "\n",
    "\n",
    "\n",
    "\n",
    "\n",
    "\n",
    "\n",
    "\n",
    "\n",
    "\n",
    "\n",
    "\n",
    "\n",
    "currently_day = after_day_num[m-1] + d;\n",
    "runnian = False\n",
    "if (y%400==0) or (y%4==0) and (y%100!=0):\n",
    "    runnian = True\n",
    "\n",
    "if runnian == True and m > 2:\n",
    "    currently_day += 1\n",
    "\n",
    "print(currently_day)\n"
   ]
  },
  {
   "cell_type": "code",
   "execution_count": null,
   "metadata": {},
   "outputs": [],
   "source": [
    "d = {'a':1}\n",
    "d1 = {'a':3}\n",
    "print(1 in d)"
   ]
  },
  {
   "cell_type": "code",
   "execution_count": null,
   "metadata": {},
   "outputs": [],
   "source": [
    "\n",
    "\n",
    "a = { \n",
    "    'R':'A',\n",
    "    'Y':'B',\n",
    "    'G':'C'\n",
    "    }\n",
    "c = {'A':0,'B':0,'C':0}\n",
    "while 1:\n",
    "    e = 0\n",
    "    for k,v in c.items():\n",
    "        e += v\n",
    "    b = input('输入样例%s：' % (e))\n",
    "    if b == 'end':\n",
    "        break\n",
    "    if b not in a:\n",
    "        print('输入错误')\n",
    "        continue\n",
    "    else:\n",
    "        print('请到%s区检测' % (a[b]))\n",
    "    \n",
    "    c[a[b]] += 1\n",
    "\n",
    "print('检测结束，共检测%s人' % (e))\n",
    "names =  {'A':'红码','B':'黄码','C':'绿码'}\n",
    "for k,v in c.items():\n",
    "    print('%s%s人' % (names[k],v))\n",
    "\n",
    "\n",
    "\n"
   ]
  },
  {
   "cell_type": "code",
   "execution_count": null,
   "metadata": {},
   "outputs": [],
   "source": [
    "# 1乘以()等于(), 2乘以()等于()\n",
    "import math\n",
    "math.pi\n",
    "# 圆周率：(保留小数点3位)\n",
    "# 我     你(右边补位)\n",
    "# 他     我(左边补位)\n",
    "\n",
    "list = [\n",
    "    ['huanggua', 1, 1.877],\n",
    "    ['xihongshi', 2, 10.877],\n",
    "    ['xiangjiao', 30, 799.877],\n",
    "]\n",
    "'''\n",
    "物品          数量           价格\n",
    "---------------------------------\n",
    "黄瓜          x1           1.00\n",
    "西红柿        x2          10.00\n",
    "香蕉          x30        799.00\n",
    "---------------------------------\n",
    "合计                    9999.00\n",
    "'''\n",
    "print(\"%-10s %-5s %10s\" % (\"item\", \"count\", \"price\"))\n",
    "print(\"------------------------------------\")\n",
    "print(\"%-10s %-5s %10.2f\" % (list[0][0], list[0][1], list[0][2]))\n",
    "print(\"%-10s %-5s %10.2f\" % (list[1][0], list[1][1], list[1][2]))\n",
    "print(\"%-10s %-5s %10.2f\" % (list[2][0], list[2][1], list[2][2]))\n",
    "print(\"------------------------------------\")\n",
    "print(\"total%22.2f\" % (sum([list[0][2], list[1][2], list[2][2]])))\n",
    "\n",
    "\n",
    "# -*- coding: UTF-8 -*-\n",
    "    "
   ]
  },
  {
   "cell_type": "code",
   "execution_count": null,
   "metadata": {},
   "outputs": [],
   "source": [
    "'''\n",
    "Author: Libre Gu \n",
    "Date: 2023-02-21 10:56:00\n",
    "LastEditors: Libre Gu \n",
    "LastEditTime: 2023-06-10 10:19:45\n",
    "FilePath: /PythonJupyter/Demo.ipynb\n",
    "Description: \n",
    "'''\n",
    "# %格式化\n",
    "\n",
    "print(\"%d * %d = %d\" % (1, 1, 1))\n",
    "\n",
    "# format 格式化输出\n",
    "print(\"I am {0}, age {1}\".format('Libre', 40))\n",
    "print(\"{0} * {0} = {0}\".format(1))\n",
    "\n",
    "# 用变量名对应值替换\n",
    "print(\"我得名字叫{name}, 年龄{age}, 性别{sex}, 他也叫{name}\".format(age=40,name='Libre', sex='男'))\n",
    "\n",
    "\n",
    "print(\"{}, {}, {}\".format(1, 1, 1))\n",
    "\n",
    "# 补位\n",
    "print(\"%10s\" % ('A'))\n",
    "print(\"{:<10}B\".format('A'))"
   ]
  },
  {
   "cell_type": "code",
   "execution_count": null,
   "metadata": {},
   "outputs": [],
   "source": [
    "dict = {'a': 'A','b': 'B'}\n",
    "for k,v in dict.items():\n",
    "    print(k, v)"
   ]
  },
  {
   "cell_type": "code",
   "execution_count": null,
   "metadata": {},
   "outputs": [],
   "source": [
    "# T = \"2023/03/01 10:09:12\"\n",
    "L = [2023, 3, 23, 10, 9, 1] # 必须用到join()\n"
   ]
  },
  {
   "cell_type": "code",
   "execution_count": null,
   "metadata": {},
   "outputs": [],
   "source": [
    "import random\n",
    "print(random.randint(1, 100))"
   ]
  },
  {
   "cell_type": "code",
   "execution_count": null,
   "metadata": {},
   "outputs": [],
   "source": [
    "dt = {'a': 'A','b': 'B'}\n",
    "for k,v in dt.items():\n",
    "    print(i)"
   ]
  },
  {
   "cell_type": "code",
   "execution_count": null,
   "metadata": {},
   "outputs": [],
   "source": [
    "w = \"中国梦2022\"\n",
    "for x in w:\n",
    "    if x == '0' or x == '2': \n",
    "        continue\n",
    "    else:\n",
    "        w.replace( x , '@')\n",
    "\n",
    "print (w)"
   ]
  },
  {
   "cell_type": "code",
   "execution_count": null,
   "metadata": {},
   "outputs": [],
   "source": [
    "n = 0\n",
    "while n < 3:\n",
    "    l = eval(input('请输入逗号分割的长宽高：'))\n",
    "    sum = sum(l)\n",
    "    if 60 <= sum <=203:\n",
    "        print('允许')\n",
    "    else:\n",
    "        print('不允许')"
   ]
  },
  {
   "cell_type": "code",
   "execution_count": null,
   "metadata": {},
   "outputs": [],
   "source": [
    "s = \"ArithmeticError。但是大发发？所发生的舒服舒服！啥发生。\"\n",
    "o = ['。', '？', '！']\n",
    "count = 0\n",
    "for i in s:\n",
    "    if i in o:\n",
    "        count += 1\n",
    "print(count)"
   ]
  },
  {
   "cell_type": "code",
   "execution_count": null,
   "metadata": {},
   "outputs": [],
   "source": [
    "print(\"{}, {}\".format(1, 2))"
   ]
  },
  {
   "cell_type": "code",
   "execution_count": null,
   "metadata": {},
   "outputs": [],
   "source": [
    "inStr = \"abcdefg\"\n",
    "outStr = []\n",
    "n = len(inStr)\n",
    "while n >= 0:\n",
    "    n -= 1\n",
    "    outStr.append(inStr[n])\n",
    "print(outStr)"
   ]
  },
  {
   "cell_type": "code",
   "execution_count": null,
   "metadata": {},
   "outputs": [],
   "source": [
    "# 冒泡排序\n",
    "import numpy as np\n",
    "L = np.random.randint(1, 100, 10)\n",
    "\n",
    "for i in range(len(L)):\n",
    "    for j in range(len(L) - i - 1):\n",
    "        if L[j] > L[j+1]:\n",
    "            L[j],L[j+1] = L[j+1],L[j]\n",
    "print(L)"
   ]
  },
  {
   "cell_type": "code",
   "execution_count": null,
   "metadata": {},
   "outputs": [],
   "source": [
    "# 选择排序\n",
    "import numpy as np\n",
    "L = np.random.randint(0, 100, 10)\n",
    "for i in range(len(L)):\n",
    "    k = i\n",
    "    for j in range(i+1, len(L)):\n",
    "        if L[k] > L[j]:\n",
    "            k = j\n",
    "        if k != i:\n",
    "            L[k], L[i] = L[i], L[k]\n",
    "print(L)\n"
   ]
  },
  {
   "cell_type": "code",
   "execution_count": null,
   "metadata": {},
   "outputs": [],
   "source": [
    "tp = (25,)\n",
    "print(type(tp))"
   ]
  },
  {
   "cell_type": "code",
   "execution_count": null,
   "metadata": {},
   "outputs": [],
   "source": [
    "import random\n",
    "\n",
    "while True:\n",
    "    user_choice = input(\"选择石头（s）、剪刀（j）或布（b），或输入 'q' 退出游戏: \").lower()\n",
    "\n",
    "    if user_choice == 'q':\n",
    "        print(\"游戏结束。\")\n",
    "        break\n",
    "\n",
    "    computer_choice = random.choice(['s', 'j', 'b'])\n",
    "    print(f\"计算机选择了 {computer_choice}.\")\n",
    "\n",
    "    if user_choice == computer_choice:\n",
    "        print(\"平局！\")\n",
    "    elif user_choice + computer_choice in ['sj', 'jb', 'bs']:\n",
    "        print(\"你赢了！\")\n",
    "    else:\n",
    "        print(\"计算机赢了。\")\n"
   ]
  },
  {
   "cell_type": "code",
   "execution_count": null,
   "metadata": {},
   "outputs": [],
   "source": [
    "weight = 0\n",
    "name = ''\n",
    "for i in range(3):\n",
    "    n = input('your name:')\n",
    "    w = int(input('your weight:'))\n",
    "    if w > weight:\n",
    "        weight = w\n",
    "        name = n\n",
    "print(\"max weight:{}, name:{}\".format(weight, name))"
   ]
  },
  {
   "cell_type": "code",
   "execution_count": null,
   "metadata": {},
   "outputs": [],
   "source": [
    "s = \"A pessimist is one who makes difficulties of his opportunities and an optimist\"\n",
    "# 统计字母’t‘出现的次数\n",
    "count = 0\n",
    "i =0\n",
    "while i < len(s):\n",
    "    if s[i] == 't':\n",
    "        count += 1\n",
    "    i += 1\n",
    "print(count)\n"
   ]
  },
  {
   "cell_type": "code",
   "execution_count": null,
   "metadata": {},
   "outputs": [],
   "source": [
    "num = 112277663354332\n",
    "# 统计’2‘出现的次数\n",
    "\n",
    "# 允许用户输入3个人的体重(可以一次输入或者单个输入), 打印出体重最大的那个值”最大体重：xx“"
   ]
  },
  {
   "cell_type": "code",
   "execution_count": null,
   "metadata": {},
   "outputs": [],
   "source": [
    "import random\n",
    "print(chr(65))\n",
    "print(ord('A'))\n",
    "print(random.randint(1, 100))"
   ]
  },
  {
   "cell_type": "code",
   "execution_count": null,
   "metadata": {},
   "outputs": [],
   "source": [
    "import random\n",
    "# 创建一个列表A，包含50个1~100以内的随机数\n",
    "# 将列表中A中的数字分别放入 偶数列表B， 奇数列表C 两个列表中\n",
    "# 分配完成的同时，A列表应该是空的，不能使用clear()函数来清空A列表"
   ]
  },
  {
   "cell_type": "code",
   "execution_count": null,
   "metadata": {},
   "outputs": [],
   "source": [
    "i = 13 * 33\n",
    "print(i)\n",
    "for n in range(10000):\n",
    "    m = i * n\n",
    "    print(m)\n",
    "    if len(str(m)) == 6:\n",
    "         print(m)"
   ]
  },
  {
   "cell_type": "code",
   "execution_count": null,
   "metadata": {},
   "outputs": [],
   "source": [
    "n = 10\n",
    "# 2n\n",
    "# 2n - 1\n",
    "for i in range(n+1):\n",
    "    for _ in range(n-i):\n",
    "        print(\" \", end=\" \")\n",
    "    for j in range(2*i - 1):\n",
    "        print(\"*\", end=\" \")\n",
    "    print()\n",
    "\n"
   ]
  },
  {
   "cell_type": "code",
   "execution_count": null,
   "metadata": {},
   "outputs": [],
   "source": [
    "sku = [3, '(bbb', \"'ddd\"],\n",
    "sku = [str(item).replace(\"(\",\"\") for item in sku]\n",
    "print(sku)\n",
    "sku = [str(item).replace(\"'\",\"\") for item in sku]\n",
    "print(sku)\n"
   ]
  },
  {
   "cell_type": "code",
   "execution_count": null,
   "metadata": {},
   "outputs": [],
   "source": [
    "a = [0, 2, 4, 5, 6, 9, 88]\n",
    "n = len(a)\n",
    "key = 6\n",
    "b = -1\n",
    "i, j = 0, n-1\n",
    "while i < j:\n",
    "    m = (i + j) // 2\n",
    "    if key == a[m]:\n",
    "        b = m\n",
    "        break\n",
    "    elif key > a[m]:\n",
    "        i = m\n",
    "    else:\n",
    "        j = m - 1\n",
    "print(b)"
   ]
  },
  {
   "cell_type": "code",
   "execution_count": null,
   "metadata": {},
   "outputs": [],
   "source": [
    "a = [1, 2, 4, 6, 7, 8]\n",
    "b = [1, 2, 5, 7, 9, 10]\n",
    "c = []\n",
    "i, j=0,0\n",
    "while i < len(a) and j < len(b):\n",
    "    if a[i] <= b[j]:\n",
    "        c.append(a[i])\n",
    "        i += 1\n",
    "    else:\n",
    "        c.append(b[j])\n",
    "        j += 1\n",
    "if i > j:\n",
    "    c += b[j:]\n",
    "else:\n",
    "    c += a[i:]\n",
    "print(f\"i={i}, j={j}\")\n",
    "print(c)"
   ]
  },
  {
   "cell_type": "code",
   "execution_count": null,
   "metadata": {},
   "outputs": [],
   "source": [
    "for a in range(10):\n",
    "    for b in range(10):\n",
    "        for c in range(10):\n",
    "            for d in range(10):\n",
    "                if (a*1000 + b*100 + c*10 + d + 80000) + (a*10000 + b*1000 + c*100 + d*10 + 6) == 121410:\n",
    "                    print(a, b, c, d)"
   ]
  },
  {
   "cell_type": "code",
   "execution_count": null,
   "metadata": {},
   "outputs": [],
   "source": [
    "student_scores_3d = {  \n",
    "    '小明': {  \n",
    "        '第一次考试': {'语文': 85, '数学': 92, '英语': 78},  \n",
    "        '第二次考试': {'语文': 87, '数学': 90, '英语': 82},  \n",
    "        '第三次考试': {'语文': 89, '数学': 93, '英语': 85},  \n",
    "    },  \n",
    "    '小兰': {  \n",
    "        '第一次考试': {'语文': 76, '数学': 63, '英语': 88},  \n",
    "        '第二次考试': {'语文': 79, '数学': 67, '英语': 85},  \n",
    "        '第三次考试': {'语文': 72, '数学': 70, '英语': 80},  \n",
    "    },  \n",
    "    '小红': {  \n",
    "        '第一次考试': {'语文': 92, '数学': 85, '英语': 76},  \n",
    "        '第二次考试': {'语文': 90, '数学': 82, '英语': 79},  \n",
    "        '第三次考试': {'语文': 93, '数学': 88, '英语': 84},  \n",
    "    },  \n",
    "    '小白': {  \n",
    "        '第一次考试': {'语文': 68, '数学': 72, '英语': 90},  \n",
    "        '第二次考试': {'语文': 71, '数学': 75, '英语': 92},  \n",
    "        '第三次考试': {'语文': 75, '数学': 80, '英语': 95},  \n",
    "    },  \n",
    "    '小军': {  \n",
    "        '第一次考试': {'语文': 80, '数学': 70, '英语': 84},  \n",
    "        '第二次考试': {'语文': 82, '数学': 73, '英语': 86},  \n",
    "        '第三次考试': {'语文': 84, '数学': 76, '英语': 89},  \n",
    "    },  \n",
    "}\n",
    "\n",
    "name = '小明'\n",
    "kemu = '数学'\n",
    "data = student_scores_3d[name]\n",
    "i = 0\n",
    "lis = []\n",
    "for k, v in data.items():\n",
    "    lis.append(v[kemu])\n",
    "    print(i, lis[i], lis[i-1], lis[i] - lis[i-1])\n",
    "    i += 1"
   ]
  },
  {
   "cell_type": "code",
   "execution_count": null,
   "metadata": {},
   "outputs": [],
   "source": [
    "nums = [0, 20, 0, 4, 31]\n",
    "initLen = len(nums)\n",
    "i, j = 0, 0\n",
    "while i < initLen:\n",
    "    if nums[i] != 0:\n",
    "        nums[j], nums[i] = nums[i], nums[j]\n",
    "        j += 1 \n",
    "    i += 1\n",
    "print(nums)\n",
    "# nums[j:] = (len(nums)-j)*[0]\n",
    "# print(nums)"
   ]
  },
  {
   "cell_type": "code",
   "execution_count": null,
   "metadata": {},
   "outputs": [],
   "source": [
    "n = 11\n",
    "num = []\n",
    "for i in range(n):\n",
    "    num.append(i+1)\n",
    "i, k, m = 0, 0, 0\n",
    "while m < n-1:\n",
    "    if num[i] != 0: k+=1 # 记录索引\n",
    "    if k == 3:\n",
    "        num[i] = 0\n",
    "        k = 0\n",
    "        m += 1\n",
    "    i += 1\n",
    "    if i == n : i = 0 # 一圈游戏结束，再开始\n",
    "\n",
    "i = 0\n",
    "while num[i]==0: \n",
    "    i+=1\n",
    "print(num[i])"
   ]
  },
  {
   "cell_type": "code",
   "execution_count": null,
   "metadata": {},
   "outputs": [],
   "source": [
    "a = [1, 2, 3]\n",
    "print([x**2 for x in a])\n",
    "print(tuple(map(lambda x:x**2, a)))\n",
    "\n",
    "a = ['x', 'y', 'z', 'a']\n",
    "b = [1, 2, 3]\n",
    "print(list(filter(lambda x:x>1, b)))\n"
   ]
  },
  {
   "cell_type": "code",
   "execution_count": null,
   "metadata": {},
   "outputs": [],
   "source": [
    "lis = [33, 9, 2, 44, 10]\n",
    "for i in range(len(lis)-1):\n",
    "    for j in range(i, len(lis)):\n",
    "        if lis[i] > lis[j]:\n",
    "            lis[i], lis[j] = lis[j], lis[i]\n",
    "n = 6\n",
    "lis.append(n)\n",
    "for i in range(len(lis)-1):\n",
    "    if lis[i] > n:\n",
    "        for j in range(i, len(lis)):\n",
    "            lis[j], lis[-1] = lis[-1], lis[j]\n",
    "        break\n",
    "print(lis)"
   ]
  },
  {
   "cell_type": "code",
   "execution_count": null,
   "metadata": {},
   "outputs": [],
   "source": [
    "# 给顶一个数字：[2, 6, 9, 11, 33, 44]，确认它是不是质数\n",
    "# 输出： {}是质数，{}不是质数  \n",
    "a = [2, 6, 9, 11, 33, 44]\n",
    "for n in a:\n",
    "    flag = True\n",
    "    for i in range(2, n):\n",
    "        if n % i == 0:\n",
    "            flag = False\n",
    "            break\n",
    "    if flag:\n",
    "        print(f\"{n}是质数\")"
   ]
  },
  {
   "cell_type": "code",
   "execution_count": null,
   "metadata": {},
   "outputs": [],
   "source": [
    "a=['is','happy','is','your','are','first','first','is','are','your']\n",
    "n = len(a)-1\n",
    "for i in range(0, n):\n",
    "    for j in range(i+1, n+1):\n",
    "        if a[i] > a[j]:\n",
    "            a[j],a[i] = a[i], a[j]\n",
    "\n",
    "key = a[0]\n",
    "i = 1\n",
    "ans = 1\n",
    "while i <= n:\n",
    "    if key == a[i]:\n",
    "        ans += 1\n",
    "        i += 1\n",
    "    else:\n",
    "        print(a[i-1]+\":\"+str(ans))\n",
    "        key = a[i]\n",
    "        ans = 1\n",
    "        i += 1\n",
    "print(a[i-1]+\":\"+str(ans))\n"
   ]
  },
  {
   "cell_type": "code",
   "execution_count": null,
   "metadata": {
    "ExecuteTime": {
     "end_time": "2024-03-23T02:47:11.709487Z",
     "start_time": "2024-03-23T02:47:11.673831Z"
    }
   },
   "outputs": [],
   "source": [
    "print(list(x))"
   ]
  },
  {
   "cell_type": "code",
   "execution_count": null,
   "metadata": {},
   "outputs": [],
   "source": [
    "def fun(n, k):\n",
    "    L = list(range(1, n+1))\n",
    "    if n == 1:\n",
    "        return\n",
    "    else:\n",
    "        x = 0\n",
    "        for i in range(n - 1):\n",
    "            x = (x + k) % len(L) - 1\n",
    "            print(\"出局的人是：\", L[x])\n",
    "            del L[x]\n",
    "            if x < 0:\n",
    "                x = 0\n",
    "        print(\"最后胜利者是：\", L[0])\n",
    "\n",
    "fun(10, 4)"
   ]
  },
  {
   "cell_type": "code",
   "execution_count": null,
   "metadata": {},
   "outputs": [],
   "source": [
    "def fun(n):\n",
    "    print('%d='%n, end='')\n",
    "    for i in range(2, n):\n",
    "        while n != i:\n",
    "            if n > i and n % i == 0:\n",
    "                print(i, end='*')\n",
    "                n = n / i\n",
    "            else:\n",
    "                break\n",
    "        else:\n",
    "            print(i, end='')\n",
    "            break\n",
    "fun(105)\n",
    "print()\n",
    "fun(60)"
   ]
  },
  {
   "cell_type": "code",
   "execution_count": null,
   "metadata": {},
   "outputs": [],
   "source": [
    "def domain2(a, b):\n",
    "    a = a + b\n",
    "    return a\n",
    "a = 2\n",
    "print(domain2(2, a))"
   ]
  },
  {
   "cell_type": "code",
   "execution_count": null,
   "metadata": {},
   "outputs": [],
   "source": [
    "i = \"99\"\n",
    "n = len(i)\n",
    "if n % 2 != 0:\n",
    "    for j in range(int((n+1)/2)):\n",
    "        if i[j] == i[n-1-j]:\n",
    "            if n == 2*j + 1:\n",
    "                print(f\"{i}是回文\")\n",
    "        else:\n",
    "            print(f\"{i}不是回文\")\n",
    "            break\n",
    "else:\n",
    "    for j in range(int(n/2)):\n",
    "        if i[j] == i[n-1-j]:\n",
    "            if n == 2 * (j+1):\n",
    "                print(f\"{i}是回文\")\n",
    "        else:\n",
    "            print(f\"{i}不是回文\")\n",
    "            break"
   ]
  },
  {
   "cell_type": "code",
   "execution_count": null,
   "metadata": {},
   "outputs": [],
   "source": [
    "def gcd(x, y):\n",
    "    if x == 0:\n",
    "        return y\n",
    "    else:\n",
    "        return gcd(y % x, x)\n",
    "\n",
    "sums = gcd(6, 9)\n",
    "print(sums)"
   ]
  },
  {
   "cell_type": "code",
   "execution_count": null,
   "metadata": {},
   "outputs": [],
   "source": [
    "def search(lft, rgt, key):\n",
    "    if lft > rgt:\n",
    "        return -1\n",
    "    mid = (lft + rgt) // 2\n",
    "    if cj[mid] == key:\n",
    "        return mid\n",
    "    elif cj[mid] < key:\n",
    "        lft = mid + 1\n",
    "    else:\n",
    "        rgt = mid - 1\n",
    "    return search(lft, rgt, key)\n",
    "import random\n",
    "cj = [random.randint(1, 100) for i in range(50)]\n",
    "cj.sort()\n",
    "key = random.choice(cj)\n",
    "pos = search(0, 49, key)\n",
    "print(pos)"
   ]
  },
  {
   "cell_type": "code",
   "execution_count": null,
   "metadata": {},
   "outputs": [],
   "source": [
    "def findprime(m):\n",
    "    for i in range(2, m):\n",
    "        if m % i == 0:\n",
    "            return False\n",
    "    else:\n",
    "        return True\n",
    "n = 5\n",
    "if findprime(n):\n",
    "    print(f\"{n}是质数\")\n",
    "else:\n",
    "    print(f\"{n}不是质数\")"
   ]
  },
  {
   "cell_type": "code",
   "execution_count": null,
   "metadata": {},
   "outputs": [],
   "source": [
    "def b(s, v):\n",
    "    top = 0\n",
    "    last = len(s)\n",
    "    while top < last:\n",
    "        mid = (top + last) // 2\n",
    "        if v == s[mid]:\n",
    "            return mid\n",
    "        elif v > s[mid]:\n",
    "            top = mid + 1\n",
    "        else:\n",
    "            last = mid - 1\n",
    "    return None\n",
    "\n",
    "s = [1, 2, 3, 4, 5, 6, 7, 8, 9, 10]\n",
    "v = 6\n",
    "pos = b(s, v)\n",
    "print(pos)"
   ]
  },
  {
   "cell_type": "code",
   "execution_count": null,
   "metadata": {},
   "outputs": [],
   "source": [
    "def f(n):\n",
    "    while True:\n",
    "        if n % 5 == 2:\n",
    "            break\n",
    "        n += 9\n",
    "\n",
    "    while True:\n",
    "        if n % 4 == 1:\n",
    "            break\n",
    "        n += 45\n",
    "    print(n)\n",
    "\n",
    "f(16)\n",
    "\n",
    "def find_rabbits_2():\n",
    "    # 先找出满足除以 9 余 7 的最小数\n",
    "    num = 7\n",
    "    while True:\n",
    "        if num % 5 == 2 and num % 4 == 1:\n",
    "            return num\n",
    "        num += 9\n",
    "\n",
    "print(find_rabbits_2())"
   ]
  },
  {
   "cell_type": "code",
   "execution_count": null,
   "metadata": {},
   "outputs": [],
   "source": [
    "def f(a,b,c):\n",
    "    print(a+b,b,c-a) \n",
    "f(8,b=2,c=6)"
   ]
  },
  {
   "cell_type": "code",
   "execution_count": null,
   "metadata": {},
   "outputs": [],
   "source": [
    "import math\n",
    "primeList = []\n",
    "def getPrime(n):\n",
    "    \"\"\"获取素数集合\"\"\"\n",
    "    for x in range(2, n+1):\n",
    "        x_sqrt = int(math.sqrt(x)) + 1\n",
    "        for prime in primeList:\n",
    "            if prime > x_sqrt:\n",
    "                primeList.append(x)\n",
    "                break\n",
    "            if x % prime == 0:\n",
    "                break\n",
    "        else:\n",
    "            primeList.append(x)\n",
    "\n",
    "getPrime(9)\n",
    "print(primeList)\n",
    "            \n"
   ]
  },
  {
   "cell_type": "code",
   "execution_count": null,
   "metadata": {},
   "outputs": [],
   "source": [
    "def getHomeWork(hw, n):\n",
    "    \"\"\"获取作业\"\"\"\n",
    "    if n == len(hw) - 1:\n",
    "        return hw[len(hw) - 1]\n",
    "    return getHomeWork(hw, n+1) + hw[n]\n",
    "homew = ['作业1', '作业2', '作业3', '作业4', '作业5', '作业6', '作业7']\n",
    "zuoye = getHomeWork(homew, 0)\n",
    "print(zuoye)"
   ]
  },
  {
   "cell_type": "code",
   "execution_count": null,
   "metadata": {},
   "outputs": [],
   "source": [
    "COUNT = 0\n",
    "def perm(n, begin, end):\n",
    "    global COUNT\n",
    "    if begin >= end:\n",
    "        print(n)\n",
    "        COUNT += 1\n",
    "    else:\n",
    "        i = begin\n",
    "        for num in range(begin, end+1):\n",
    "            n[num], n[i] = n[i], n[num]\n",
    "            perm(n, begin+1, end)\n",
    "            n[num], n[i] = n[i], n[num]\n",
    "arr = [1, 2, 3]\n",
    "perm(arr, 0, 2)"
   ]
  },
  {
   "cell_type": "code",
   "execution_count": null,
   "metadata": {},
   "outputs": [],
   "source": [
    "def yang(n):\n",
    "    if n == 0:\n",
    "        return [1]\n",
    "    else:\n",
    "        a = [([0]+yang(n-1))[i]+(yang(n-1)+[0])[i] for i in range(n+1)]\n",
    "        print(a)\n",
    "        return a\n",
    "print(yang(4))"
   ]
  },
  {
   "cell_type": "code",
   "execution_count": 8,
   "metadata": {},
   "outputs": [
    {
     "name": "stdout",
     "output_type": "stream",
     "text": [
      "9.69\n"
     ]
    }
   ],
   "source": [
    "def getScore(fs):\n",
    "    maxfs = 0\n",
    "    minfx = 999999\n",
    "    n = len(fs)\n",
    "    for f in fs:\n",
    "        if f > maxfs:\n",
    "            maxfs = f\n",
    "        elif f < minfx:\n",
    "            minfx = f\n",
    "    yxf = sum(fs) - maxfs - minfx\n",
    "    avgfs = yxf / (n-2)\n",
    "    return \"%.2f\" % avgfs\n",
    "\n",
    "fs = [9.56, 9.68, 9.78, 9.81, 9.21, 9.75]\n",
    "defen = getScore(fs)\n",
    "print(defen)"
   ]
  },
  {
   "cell_type": "markdown",
   "metadata": {},
   "source": [
    "### 计算是否素数"
   ]
  },
  {
   "cell_type": "code",
   "execution_count": 9,
   "metadata": {},
   "outputs": [
    {
     "name": "stdout",
     "output_type": "stream",
     "text": [
      "7是质数\n"
     ]
    }
   ],
   "source": [
    "def prime(n):\n",
    "    if n < 2:\n",
    "        return False\n",
    "    else:\n",
    "        for i in range(2, int(n**0.5)+1):\n",
    "            if n % i == 0:\n",
    "                return False\n",
    "    return True\n",
    "n = 7\n",
    "if prime(n):\n",
    "    print(f\"{n}是质数\")\n",
    "else:\n",
    "    print(f\"{n}不是质数\")"
   ]
  },
  {
   "cell_type": "markdown",
   "metadata": {},
   "source": [
    "### 计算n(n<=10)，包含奇数个5的个数"
   ]
  },
  {
   "cell_type": "code",
   "execution_count": 11,
   "metadata": {},
   "outputs": [
    {
     "name": "stdout",
     "output_type": "stream",
     "text": [
      "10000\n"
     ]
    }
   ],
   "source": [
    "c = [[0 for i in range(2)] for i in range(11)]\n",
    "c[1][0] = 9\n",
    "c[1][1] = 1\n",
    "k = 9\n",
    "n = 5\n",
    "for i in range(2, n+1):\n",
    "    if i == n:\n",
    "        k = 1\n",
    "print(c[n][1])"
   ]
  }
 ],
 "metadata": {
  "kernelspec": {
   "display_name": "venv",
   "language": "python",
   "name": "python3"
  },
  "language_info": {
   "codemirror_mode": {
    "name": "ipython",
    "version": 3
   },
   "file_extension": ".py",
   "mimetype": "text/x-python",
   "name": "python",
   "nbconvert_exporter": "python",
   "pygments_lexer": "ipython3",
   "version": "3.10.13"
  },
  "orig_nbformat": 4
 },
 "nbformat": 4,
 "nbformat_minor": 2
}
