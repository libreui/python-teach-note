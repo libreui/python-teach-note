{
 "cells": [
  {
   "cell_type": "markdown",
   "metadata": {},
   "source": [
    "n个灯排成一排，开始时都是关着的。现进行如下操作: \n",
    "- 所有电灯的按钮按动一次;\n",
    "- 所有编号为2的倍数的电 灯按钮按动一次;\n",
    "- 所有编号为3的倍数的电灯的按钮按动一次; \n",
    "- ...... 所有编号为n-1的倍数的电灯的按钮按动 一次;\n",
    "- 所有编号为n的倍数的电灯的按钮按动一次。 \n",
    "- 最后请统计有多少只电灯是亮的。\n",
    "\n",
    "编写程序实现上述功 能，或补全代码。"
   ]
  },
  {
   "cell_type": "code",
   "execution_count": 8,
   "metadata": {},
   "outputs": [
    {
     "name": "stdout",
     "output_type": "stream",
     "text": [
      "[-1, 1, 1, 1, 1, 1, 1, 1, 1, 1, 1, 1, 1, 1, 1, 1]\n",
      "15\n"
     ]
    }
   ],
   "source": [
    "n = 15\n",
    "a = []\n",
    "for i in range(n+1):\n",
    "    a.append(-1)\n",
    "    \n",
    "for i in range(1, n+1):\n",
    "    for j in range(1, n+1):\n",
    "        if a[j] % i == 0:\n",
    "            a[j] = a[j] * -1\n",
    "s = 0\n",
    "for i in range(n+1):\n",
    "    if a[i] == 1:\n",
    "        s += 1\n",
    "print(a)\n",
    "print(s)"
   ]
  },
  {
   "cell_type": "markdown",
   "metadata": {},
   "source": [
    "##### 查找“支撑数”。在已知一组整数中，有这样一种数非常怪，它们不在第一个，也不在最后一个，而且刚好都比 左边和右边相邻的数大，你能找到它们吗? 输入一个数组，输出每个支撑数的数值以及它们在数组中位置编 号。\n",
    "输入:\n",
    "```1 3 2 4 1 5 3 9 7 10 8 23 85 43 ```\n",
    "\n",
    "输出:\n",
    "```\n",
    "3 2 \n",
    "4 4\n",
    "```"
   ]
  },
  {
   "cell_type": "code",
   "execution_count": 17,
   "metadata": {},
   "outputs": [
    {
     "name": "stdout",
     "output_type": "stream",
     "text": [
      "3 2\n",
      "4 4\n",
      "5 6\n",
      "9 8\n",
      "10 10\n",
      "85 13\n"
     ]
    }
   ],
   "source": [
    "x = \"1 3 2 4 1 5 3 9 7 10 8 23 85 43\".split(' ')\n",
    "a = []\n",
    "for i in range(0, len(x)):\n",
    "    a.append(int(x[i]))\n",
    "b = []\n",
    "c = []\n",
    "n = 0\n",
    "for i in range(1, len(a)):\n",
    "    if a[i] > a[i-1] and a[i] > a[i+1]:\n",
    "        b.append(a[i])\n",
    "        c.append(i+1)\n",
    "\n",
    "for i in range(len(b)):\n",
    "    print(b[i], c[i])\n",
    "\n"
   ]
  },
  {
   "cell_type": "markdown",
   "metadata": {},
   "source": [
    "##### 下面程序，按字典序列统计出单词的个数，执行结果如下: \n",
    "```\n",
    "are:2\n",
    "first:2\n",
    "happy:1\n",
    "is:3\n",
    "your:2\n",
    "```"
   ]
  },
  {
   "cell_type": "code",
   "execution_count": 18,
   "metadata": {},
   "outputs": [
    {
     "name": "stdout",
     "output_type": "stream",
     "text": [
      "are:2\n",
      "first:2\n",
      "happy:1\n",
      "is:3\n",
      "your:2\n"
     ]
    }
   ],
   "source": [
    "a=['is','happy','is','your','are','first','first','is','are','your']\n",
    "n = len(a) - 1\n",
    "for i in range(n):\n",
    "    for j in range(i+1, n+1):\n",
    "        if a[i] > a[j]:\n",
    "            a[i], a[j] = a[j], a[i]\n",
    "key = a[0]\n",
    "i = 1\n",
    "ans = 1\n",
    "while i <= n:\n",
    "    if key == a[i]:\n",
    "        ans += 1\n",
    "        i += 1\n",
    "    else:\n",
    "        print(a[i-1]+\":\"+str(ans))\n",
    "        key = a[i]\n",
    "        ans = 1\n",
    "        i += 1\n",
    "print(a[i-1]+\":\"+str(ans))\n"
   ]
  },
  {
   "cell_type": "markdown",
   "metadata": {},
   "source": [
    "输入一个正数，以下代码编程求出它的平方根。"
   ]
  },
  {
   "cell_type": "code",
   "execution_count": 45,
   "metadata": {},
   "outputs": [
    {
     "name": "stdout",
     "output_type": "stream",
     "text": [
      "所求数的平方根为：s_root = 0.00\n"
     ]
    }
   ],
   "source": [
    "in_var = 0\n",
    "if in_var < 0:\n",
    "    x = -in_var\n",
    "else:\n",
    "    x = in_var\n",
    "\n",
    "low = 0.0\n",
    "high = x\n",
    "s_root = (low + high) / 2\n",
    "\n",
    "if x > 0 and x < 1:\n",
    "    high = 1.0\n",
    "    low = 0\n",
    "    s_root = (low + high) / 2\n",
    "if x >= 0:\n",
    "    while abs(s_root ** 2 - x) > 0.0001:\n",
    "        if x > 1.0:\n",
    "            if s_root ** 2 < x:\n",
    "                low = s_root\n",
    "            else:\n",
    "                high = s_root\n",
    "            s_root = (low + high) / 2\n",
    "        if x == 1.0 or x == 0.0:\n",
    "            s_root = x\n",
    "        else:\n",
    "            if s_root ** 2 < x:\n",
    "                low = s_root\n",
    "            else:\n",
    "                high = s_root\n",
    "        s_root = (low + high) / 2\n",
    "        \n",
    "print(\"所求数的平方根为：s_root = %.2f\" % (s_root))\n"
   ]
  },
  {
   "cell_type": "markdown",
   "metadata": {},
   "source": [
    "##### 新学期到了，学校接收了一批捐赠的图书，小明编写了一个简单的程序用来管理图书，并支持借阅功能。为了 提高查找图书的效率，小明使用了二分查找法来设计图书借阅功能。"
   ]
  },
  {
   "cell_type": "code",
   "execution_count": 22,
   "metadata": {},
   "outputs": [
    {
     "name": "stdout",
     "output_type": "stream",
     "text": [
      "{1: ['红楼梦', 5], 2: ['西游记', 10], 3: ['水浒传', 5], 4: ['三国演义', 10]}\n",
      "[1, 2, 3, 4]\n",
      "2 2 1 4\n",
      "1 1 1 1\n",
      "经过2轮二分查找，完成图书的搜索。\n"
     ]
    }
   ],
   "source": [
    "library = dict() # 用字典生成一个图书管理数据结构\n",
    "# 书籍入库\n",
    "nums = len(library) # 先计算图书标号总数\n",
    "library[nums+1] = ['红楼梦', 5]\n",
    "library[nums+2] = ['西游记', 10]\n",
    "library[nums+3] = ['水浒传', 5]\n",
    "library[nums+4] = ['三国演义', 10]\n",
    "print(library)\n",
    "\n",
    "blist = list(library.keys())\n",
    "print(blist)\n",
    "\n",
    "# 按书名借阅\n",
    "# bookname = input('请输入借阅图书名称：')\n",
    "bookname = \"三国演\"\n",
    "\n",
    "min_v = blist[0]\n",
    "max_v = blist[-1]\n",
    "turns = 0\n",
    "\n",
    "while min_v <= max_v:\n",
    "    turns += 1\n",
    "    cur = (min_v + max_v) // 2\n",
    "    print(blist[cur-1] , cur, min_v, max_v)\n",
    "    if library[cur][0] == bookname:\n",
    "        if library[cur][1] > 1:\n",
    "            library[cur][1] -= 1\n",
    "            print(\"《%s》借阅成功！\" % bookname)\n",
    "        else:\n",
    "            print(\"抱歉，您选择的书籍已被借阅完！\")\n",
    "        break\n",
    "    elif blist[cur-1] > cur:\n",
    "        min_v = cur+1\n",
    "    else:\n",
    "        max_v = cur-1\n",
    "print(\"经过%d轮二分查找，完成图书的搜索。\" % turns)\n"
   ]
  },
  {
   "cell_type": "code",
   "execution_count": 1,
   "metadata": {},
   "outputs": [
    {
     "name": "stdout",
     "output_type": "stream",
     "text": [
      "{1: ['红楼梦', 5], 2: ['西游记', 10], 3: ['水浒传', 5], 4: ['三国演义', 10]}\n",
      "[1, 2, 3, 4]\n",
      "1 1 0 3\n",
      "4 0 0 0\n",
      "《三国演义》借阅成功！\n",
      "经过2 轮二分查找，完成图书的搜索。\n"
     ]
    }
   ],
   "source": [
    "library = dict()  # 用字典生成一个图书管理数据结构\n",
    "\n",
    "# 书籍入库\n",
    "nums = len(library) \n",
    "library[nums+1] = ['红楼梦', 5]\n",
    "library[nums+2] = ['西游记', 10]\n",
    "library[nums+3] = ['水浒传', 5]\n",
    "library[nums+4] = ['三国演义', 10]\n",
    "\n",
    "print(library)\n",
    "\n",
    "blist = list(library.keys())\n",
    "print(blist)\n",
    "\n",
    "# 按书名借阅\n",
    "# bookname = input('请输入借阅图书名称：')\n",
    "bookname = \"三国演义\"\n",
    "min_v = 0\n",
    "max_v = len(blist) - 1\n",
    "turns = 0\n",
    "\n",
    "while min_v <= max_v:\n",
    "    turns += 1\n",
    "    cur = (min_v + max_v) // 2\n",
    "    print(blist[cur-1], cur, min_v, max_v)\n",
    "    if library[blist[cur-1]][0] == bookname:\n",
    "        if library[blist[cur-1]][1] > 0:\n",
    "            library[blist[cur-1]][1] -= 1\n",
    "            print(\"《%s》借阅成功！\" % bookname)\n",
    "            break\n",
    "        else:\n",
    "            print(\"抱歉，该书仅有 1 本，无法借阅。\")\n",
    "    elif library[blist[cur-1]][0] > bookname:\n",
    "        max_v = cur - 1\n",
    "    else:\n",
    "        min_v = cur + 1\n",
    "print(\"经过%d 轮二分查找，完成图书的搜索。\" % turns)"
   ]
  },
  {
   "cell_type": "markdown",
   "metadata": {},
   "source": [
    "##### 若要生成一个由若干小写字母组成的互不重复的随机数组，已知小写字母的ASCII码值为97~122整数范围，并 将其进行从小到大输出"
   ]
  },
  {
   "cell_type": "code",
   "execution_count": 7,
   "metadata": {},
   "outputs": [
    {
     "name": "stdout",
     "output_type": "stream",
     "text": [
      "['e', 'u', 'h', 'g', 'w', 'l', 'n', 'v']\n",
      "['e', 'g', 'h', 'l', 'n', 'u', 'v', 'w']\n"
     ]
    }
   ],
   "source": [
    "import random\n",
    "n = 8\n",
    "a = []\n",
    "for i in range(n):\n",
    "    x = random.randint(97, 122)\n",
    "    while chr(x) in a:\n",
    "        x = random.randint(97, 122)\n",
    "    a.append(chr(x))\n",
    "print(a)\n",
    "\n",
    "# 核心是一个选择排序\n",
    "for i in range(n-1):\n",
    "    k = i\n",
    "    for j in range(i, n):\n",
    "        if a[k] > a[j]:\n",
    "            k = j\n",
    "    if i != k:\n",
    "        a[i], a[k] = a[k], a[i]\n",
    "print(a)"
   ]
  },
  {
   "cell_type": "markdown",
   "metadata": {},
   "source": [
    "##### 某班“天天向上”小组共有6个同学，姓名和身高数据分别存放在列表a中，编写程序实现小组同学按身高从高到 低输出名单"
   ]
  },
  {
   "cell_type": "code",
   "execution_count": 14,
   "metadata": {},
   "outputs": [
    {
     "name": "stdout",
     "output_type": "stream",
     "text": [
      "小组名单是：\n",
      "周立新\n",
      "鲁正\n",
      "王倩倩\n",
      "杨颖颖\n",
      "吴乐天\n",
      "李洪全\n"
     ]
    }
   ],
   "source": [
    "a=[[\"李洪全\",135],[\"王倩倩\",154],[\"吴乐天\",148],[\"周立新\",165],[\"鲁正\",158],[\"杨颖颖\",150]]\n",
    "for i in range(1, len(a)):\n",
    "    for j in range(0, len(a)-i):\n",
    "        if a[j][1] < a[j+1][1]:\n",
    "            a[j], a[j+1] = a[j+1], a[j]\n",
    "print(\"小组名单是：\")\n",
    "for i in range(len(a)):\n",
    "    print(a[i][0])"
   ]
  },
  {
   "cell_type": "markdown",
   "metadata": {},
   "source": [
    "#### 下面代码，在字典a中查找身高为137的人，请将代码中缺失部分补充完整。\n",
    "- a = {'小赵':136,'小钱':141,'小孙':146,'小李':138,'小周':142,'小吴':134,'小郑':137,'小王':143}"
   ]
  },
  {
   "cell_type": "code",
   "execution_count": 15,
   "metadata": {},
   "outputs": [
    {
     "name": "stdout",
     "output_type": "stream",
     "text": [
      "找到身高为137的人是： 小郑\n"
     ]
    }
   ],
   "source": [
    "a = {'小赵':136,'小钱':141,'小孙':146,'小李':138,'小周':142,'小吴':134,'小郑':137,'小王':143}\n",
    "keys = a.keys()\n",
    "b = 0\n",
    "for key in keys:\n",
    "    value = a[key]\n",
    "    if value == 137:\n",
    "        print(\"找到身高为137的人是：\", key)\n",
    "        b = b+1\n",
    "        break\n",
    "if b == 0:\n",
    "    print(\"本次查找，未找到有身高为137的同学。\")"
   ]
  },
  {
   "cell_type": "markdown",
   "metadata": {},
   "source": [
    "##### 工厂有一台检测设备用于检测器件，各个器件在不完全相同时刻送达，且检测时长各有不同。现在要按器件的 送达时间(若送达时间相同则按检测时长)进行排序后再送检，送达时间和检测时间都是按升序排序。已知各 个器件原始信息存在列表qj中:qj=[[2,1],[1,3],[0,2],[4,3],[12,4],[10,1],[4,1]],其中器件信息[2,1]表示器件送达时间 是2，检测时长是1，其他器件信息类推。现在编写Python程序对各个器件进行排序，并重新输出。排序后的器 件列表如下，请你在划线处完善程序:\n",
    "输出：\n",
    "- [[0, 2], [1, 3], [2, 1], [4, 1], [4, 3], [10, 1], [12, 4]]"
   ]
  },
  {
   "cell_type": "code",
   "execution_count": 16,
   "metadata": {},
   "outputs": [
    {
     "name": "stdout",
     "output_type": "stream",
     "text": [
      "[[0, 2], [1, 3], [2, 1], [4, 1], [4, 3], [10, 1], [12, 4]]\n"
     ]
    }
   ],
   "source": [
    "qj = [[2,1],[1,3],[0,2],[4,3],[12,4],[10,1],[4,1]]\n",
    "for i in range(len(qj) - 1):\n",
    "    for j in range(0, len(qj)-i-1):\n",
    "        if qj[j][0] > qj[j+1][0] or (qj[j][0] == qj[j+1][0] and qj[j][1] > qj[j+1][1]):\n",
    "            qj[j], qj[j+1] = qj[j+1], qj[j]\n",
    "print(qj)"
   ]
  },
  {
   "cell_type": "markdown",
   "metadata": {},
   "source": [
    "##### 计算N以内数字中含有1的数量"
   ]
  },
  {
   "cell_type": "code",
   "execution_count": null,
   "metadata": {},
   "outputs": [],
   "source": [
    "n = 100\n",
    "i = 1\n",
    "count = 0\n",
    "while i <= n:\n",
    "    x = i\n",
    "    while x > 0:\n",
    "        if x % 10 == 1:\n",
    "            count += 1\n",
    "        x //= 10\n",
    "    i += 1\n",
    "print(count)"
   ]
  }
 ],
 "metadata": {
  "kernelspec": {
   "display_name": "python310",
   "language": "python",
   "name": "python3"
  },
  "language_info": {
   "codemirror_mode": {
    "name": "ipython",
    "version": 3
   },
   "file_extension": ".py",
   "mimetype": "text/x-python",
   "name": "python",
   "nbconvert_exporter": "python",
   "pygments_lexer": "ipython3",
   "version": "3.10.9"
  }
 },
 "nbformat": 4,
 "nbformat_minor": 2
}
