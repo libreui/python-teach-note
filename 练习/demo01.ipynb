{
 "cells": [
  {
   "cell_type": "code",
   "execution_count": 20,
   "metadata": {},
   "outputs": [
    {
     "name": "stdout",
     "output_type": "stream",
     "text": [
      "[]\n",
      "{25: 3, 43: 1}\n"
     ]
    }
   ],
   "source": [
    "import random\n",
    "lst = [25, 25, 43, 27, 20, 32, 25, 43, 1, 25]\n",
    "d = {}\n",
    "# 从头取出每一个元素，直到列表为空\n",
    "while lst:\n",
    "    x = lst.pop(0)\n",
    "    for i in lst:\n",
    "        # 如果和取出元素相等,表示重复\n",
    "        if x == i:\n",
    "            if d.get(x):\n",
    "                d[x] += 1\n",
    "            else:\n",
    "                d[x] = 1\n",
    "            # 不相等则删除\n",
    "            lst.remove(i)\n",
    "print(lst)\n",
    "print(d)\n",
    "\n",
    "# 生成一个1-100的随机数"
   ]
  }
 ],
 "metadata": {
  "kernelspec": {
   "display_name": "venv",
   "language": "python",
   "name": "python3"
  },
  "language_info": {
   "codemirror_mode": {
    "name": "ipython",
    "version": 3
   },
   "file_extension": ".py",
   "mimetype": "text/x-python",
   "name": "python",
   "nbconvert_exporter": "python",
   "pygments_lexer": "ipython3",
   "version": "3.10.13"
  }
 },
 "nbformat": 4,
 "nbformat_minor": 2
}
