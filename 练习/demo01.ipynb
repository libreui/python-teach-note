{
 "cells": [
  {
   "cell_type": "code",
   "execution_count": null,
   "metadata": {},
   "outputs": [],
   "source": [
    "import random\n",
    "lst = [25, 25, 43, 27, 20, 32, 25, 43, 1, 25]\n",
    "d = {}\n",
    "# 从头取出每一个元素，直到列表为空\n",
    "while lst:\n",
    "    x = lst.pop(0)\n",
    "    for i in lst:\n",
    "        # 如果和取出元素相等,表示重复\n",
    "        if x == i:\n",
    "            if d.get(x):\n",
    "                d[x] += 1\n",
    "            else:\n",
    "                d[x] = 1\n",
    "            # 不相等则删除\n",
    "            lst.remove(i)\n",
    "print(lst)\n",
    "print(d)\n",
    "\n",
    "# 生成一个1-100的随机数"
   ]
  },
  {
   "cell_type": "code",
   "execution_count": null,
   "outputs": [],
   "source": [
    "# 十进制转二进制、八进制、十六进制\n",
    "123\n",
    "276\n",
    "89\n",
    "\n",
    "#二进制转十进制、十六进制\n",
    "1001001\n",
    "110010\n",
    "111000\n",
    "\n",
    "#十六进制转十进制、二进制\n",
    "FC\n",
    "FF\n",
    "AB"
   ],
   "metadata": {
    "collapsed": false
   }
  },
  {
   "cell_type": "code",
   "execution_count": null,
   "outputs": [],
   "source": [
    "for a in range(1, 10): # 1-9\n",
    "    for b in range(0, 10):\n",
    "        for c in range(0, 10):\n",
    "            for d in range(0, 10):\n",
    "                if int(\"8%d%d%d%d\" % (a, b, c, d)) + int(f\"{a}{b}{c}{d}6\") == 121410:\n",
    "                    print(a, b, c, d)"
   ],
   "metadata": {
    "collapsed": false
   }
  },
  {
   "cell_type": "code",
   "execution_count": 7,
   "outputs": [
    {
     "name": "stdout",
     "output_type": "stream",
     "text": [
      "97\n"
     ]
    }
   ],
   "source": [
    "n = 16\n",
    "while True:\n",
    "    if n % 9 == 7 and n % 5 == 2 and n % 4 == 1:\n",
    "        print(n)\n",
    "        break\n",
    "    n += 1\n"
   ],
   "metadata": {
    "collapsed": false,
    "ExecuteTime": {
     "end_time": "2025-08-04T09:35:09.532323Z",
     "start_time": "2025-08-04T09:35:09.520141Z"
    }
   }
  },
  {
   "cell_type": "code",
   "execution_count": null,
   "outputs": [],
   "source": [
    "# abcd\n",
    "# a+b+c+d = 1296\n",
    "\n",
    "# a + 2 = b - 2 = c * 2 = d // 2\n",
    "for i in range(1296):\n",
    "    a = i"
   ],
   "metadata": {
    "collapsed": false
   }
  }
 ],
 "metadata": {
  "kernelspec": {
   "display_name": "venv",
   "language": "python",
   "name": "python3"
  },
  "language_info": {
   "codemirror_mode": {
    "name": "ipython",
    "version": 3
   },
   "file_extension": ".py",
   "mimetype": "text/x-python",
   "name": "python",
   "nbconvert_exporter": "python",
   "pygments_lexer": "ipython3",
   "version": "3.10.13"
  }
 },
 "nbformat": 4,
 "nbformat_minor": 2
}
