{
 "cells": [
  {
   "cell_type": "code",
   "execution_count": null,
   "metadata": {
    "collapsed": false
   },
   "outputs": [],
   "source": [
    "import numpy as np\n",
    "import matplotlib.pyplot as plt\n",
    "from PIL import Image\n",
    "\n",
    "\n",
    "def rotate_image(img):\n",
    "    \"\"\"\n",
    "    图像增强， 增加随机旋转角度\n",
    "    :param img:\n",
    "    \"\"\"\n",
    "    angle = np.random.randint(-14, 15)\n",
    "    newImg = img.rotate(angle)\n",
    "    return newImg\n",
    "\n",
    "\n",
    "img = Image.open(\"/Users/libre1/Downloads/img01.jpeg\")\n",
    "img1 = rotate_image(img)\n",
    "plt.imshow(img1)\n",
    "plt.show()\n"
   ]
  },
  {
   "cell_type": "code",
   "execution_count": null,
   "metadata": {},
   "outputs": [],
   "source": [
    "'''\n",
    "Author: Libre Gu \n",
    "Date: 2023-02-21 10:56:00\n",
    "LastEditors: Libre Gu \n",
    "LastEditTime: 2023-04-25 17:31:25\n",
    "FilePath: /PythonJupyter/Demo.ipynb\n",
    "Description: \n",
    "Copyright (c) 2023 by Libre, All Rights Reserved. \n",
    "'''\n",
    "import random\n",
    "\n",
    "words = [\"apple\", \"banana\", \"orange\", \"watermelon\", \"pineapple\"]\n",
    "\n",
    "while True:\n",
    "    word = random.choice(words)\n",
    "    jumbled_word = \"\".join(random.sample(word, len(word)))\n",
    "    print(\"请猜这个单词：\", jumbled_word)\n",
    "    guess = input(\"你的答案是：\")\n",
    "    if guess == word:\n",
    "        print(\"恭喜你，猜对了！\")\n",
    "    else:\n",
    "        print(\"很遗憾，猜错了！\")\n",
    "    play_again = input(\"是否继续游戏？（输入Y或y继续，其他字符退出）：\")\n",
    "    if play_again.lower() != \"y\":\n",
    "        break\n",
    "\n",
    "\n"
   ]
  },
  {
   "cell_type": "code",
   "execution_count": null,
   "metadata": {},
   "outputs": [],
   "source": [
    "import random\n",
    "dict = {\n",
    "    \"数学\":  random.randint(1, 100),\n",
    "    \"英语\": random.randint(1, 100),\n",
    "    \"语文\": random.randint(1, 100),\n",
    "}\n",
    "print(dict)\n",
    "max_point = 0\n",
    "max_point_name = '';\n",
    "for key, value in dict.items():\n",
    "    if value > max_point:\n",
    "        max_point = value\n",
    "        max_point_name = key\n",
    "print(max_point_name, \"的点数是\", max_point)"
   ]
  },
  {
   "cell_type": "code",
   "execution_count": null,
   "metadata": {},
   "outputs": [],
   "source": [
    "'''\n",
    "Author: Libre Gu \n",
    "Date: 2023-02-21 10:56:00\n",
    "LastEditors: Libre Gu \n",
    "LastEditTime: 2023-04-25 17:30:05\n",
    "FilePath: /PythonJupyter/Demo.ipynb\n",
    "Description: \n",
    "Copyright (c) 2023 by Libre, All Rights Reserved. \n",
    "'''\n",
    "d = {1:'a'}\n",
    "print(d.get(2))"
   ]
  },
  {
   "cell_type": "code",
   "execution_count": null,
   "metadata": {},
   "outputs": [],
   "source": [
    "'''\n",
    "Author: Libre Gu \n",
    "Date: 2023-02-21 10:56:00\n",
    "LastEditors: Libre Gu \n",
    "LastEditTime: 2023-04-29 08:17:46\n",
    "FilePath: /PythonJupyter/Demo.ipynb\n",
    "Description: \n",
    "Copyright (c) 2023 by Libre, All Rights Reserved. \n",
    "'''\n",
    "score = [98, 99, 93, 92, 87, 95]\n",
    "# index(obj, start, end)\n",
    "m\n",
    "i = score.index(98)\n",
    "print(i)"
   ]
  },
  {
   "cell_type": "code",
   "execution_count": null,
   "metadata": {},
   "outputs": [],
   "source": [
    "# 输入开始和结束整数，查找之间的质数,打印：*是质数\n",
    "m = 10\n",
    "n = 2\n",
    "if (n < m):\n",
    "    z = m\n",
    "    m = n\n",
    "    n = z\n",
    "print(m,n)\n",
    "for i in range(m, n+1):\n",
    "    t = True\n",
    "    for j in range(2, i):\n",
    "        if i % j == 0:\n",
    "            t = False\n",
    "            break\n",
    "    if t == True:\n",
    "        print(i, \"是质数\")"
   ]
  },
  {
   "cell_type": "code",
   "execution_count": null,
   "metadata": {},
   "outputs": [],
   "source": [
    "'''随机重复值数字列表，去重后排序操作'''\n",
    "import random\n",
    "\n",
    "maxn = 10\n",
    "a = []\n",
    "for i in range(maxn):\n",
    "    a.append(random.randrange(1, 7))\n",
    "print(\"原始数据：\")\n",
    "print(a)\n",
    "\n",
    "# 去除重复的项目\n",
    "key, n = 0, maxn\n",
    "while key < n:\n",
    "    i = n - 1\n",
    "    while a[i] != a[key]:\n",
    "        i -= 1\n",
    "    if i == key:\n",
    "        key += 1\n",
    "    else:\n",
    "        a.remove(a[i])\n",
    "        n -= 1\n",
    "\n",
    "# 排序算法\n",
    "for i in range(n):\n",
    "    for j in range(len(a)-i-1):\n",
    "        if a[j] > a[j+1]:\n",
    "            a[j], a[j+1] = a[j+1], a[j]\n",
    "print(\"去重后排序数据：\")\n",
    "print(a)\n",
    "print(\"共删除数据：\", maxn - n, \"个\")\n",
    "    \n"
   ]
  },
  {
   "cell_type": "code",
   "execution_count": null,
   "metadata": {},
   "outputs": [],
   "source": [
    "'''\n",
    "Author: Libre Gu \n",
    "Date: 2023-02-21 10:56:00\n",
    "LastEditors: Libre Gu \n",
    "LastEditTime: 2023-05-20 08:01:42\n",
    "FilePath: /PythonJupyter/Demo.ipynb\n",
    "Description: \n",
    "Copyright (c) 2023 by Libre, All Rights Reserved. \n",
    "'''\n",
    "string = \"05/21/2021\"   # 原始数据\n",
    "split_char = \"/\"        # 分隔符\n",
    "tmp = \"\"                # 临时拆分出的字符串\n",
    "out_list = []           # 分割后数据的列表\n",
    "\n",
    "# 遍历每一个字符\n",
    "for s in string:\n",
    "    # 如果当前字符不是分隔符，把字符串累加起来\n",
    "    if s != split_char:\n",
    "        tmp += s\n",
    "    else: # 如果当前字符是分隔符，把之前累加起来的字符串添加到列表中\n",
    "        out_list.append(tmp)\n",
    "        #清空临时字符串变量，以便下次循环时候继续累加\n",
    "        tmp = \"\"\n",
    "# 把最后面没有处理的字符串添加进列表\n",
    "if tmp != \"\":\n",
    "    out_list.append(tmp)\n",
    "print(out_list)\n"
   ]
  },
  {
   "cell_type": "code",
   "execution_count": null,
   "metadata": {},
   "outputs": [],
   "source": [
    "# 闰年 366 2月\n",
    "# 当前月之前有多少天 + 当前日\n",
    "y,m,d = 2000,12,31\n",
    "after_day_num = (0, 31, 59, 90, 120, 151, 181, 212, 243, 273, 304, 334)\n",
    "\n",
    "\n",
    "\n",
    "\n",
    "\n",
    "\n",
    "\n",
    "\n",
    "\n",
    "\n",
    "\n",
    "\n",
    "\n",
    "\n",
    "\n",
    "currently_day = after_day_num[m-1] + d;\n",
    "runnian = False\n",
    "if (y%400==0) or (y%4==0) and (y%100!=0):\n",
    "    runnian = True\n",
    "\n",
    "if runnian == True and m > 2:\n",
    "    currently_day += 1\n",
    "\n",
    "print(currently_day)\n"
   ]
  },
  {
   "cell_type": "code",
   "execution_count": null,
   "metadata": {},
   "outputs": [],
   "source": [
    "d = {'a':1}\n",
    "d1 = {'a':3}\n",
    "print(1 in d)"
   ]
  },
  {
   "cell_type": "code",
   "execution_count": null,
   "metadata": {},
   "outputs": [],
   "source": [
    "\n",
    "\n",
    "a = { \n",
    "    'R':'A',\n",
    "    'Y':'B',\n",
    "    'G':'C'\n",
    "    }\n",
    "c = {'A':0,'B':0,'C':0}\n",
    "while 1:\n",
    "    e = 0\n",
    "    for k,v in c.items():\n",
    "        e += v\n",
    "    b = input('输入样例%s：' % (e))\n",
    "    if b == 'end':\n",
    "        break\n",
    "    if b not in a:\n",
    "        print('输入错误')\n",
    "        continue\n",
    "    else:\n",
    "        print('请到%s区检测' % (a[b]))\n",
    "    \n",
    "    c[a[b]] += 1\n",
    "\n",
    "print('检测结束，共检测%s人' % (e))\n",
    "names =  {'A':'红码','B':'黄码','C':'绿码'}\n",
    "for k,v in c.items():\n",
    "    print('%s%s人' % (names[k],v))\n",
    "\n",
    "\n",
    "\n"
   ]
  },
  {
   "cell_type": "code",
   "execution_count": null,
   "metadata": {},
   "outputs": [],
   "source": [
    "# 1乘以()等于(), 2乘以()等于()\n",
    "import math\n",
    "math.pi\n",
    "# 圆周率：(保留小数点3位)\n",
    "# 我     你(右边补位)\n",
    "# 他     我(左边补位)\n",
    "\n",
    "list = [\n",
    "    ['huanggua', 1, 1.877],\n",
    "    ['xihongshi', 2, 10.877],\n",
    "    ['xiangjiao', 30, 799.877],\n",
    "]\n",
    "'''\n",
    "物品          数量           价格\n",
    "---------------------------------\n",
    "黄瓜          x1           1.00\n",
    "西红柿        x2          10.00\n",
    "香蕉          x30        799.00\n",
    "---------------------------------\n",
    "合计                    9999.00\n",
    "'''\n",
    "print(\"%-10s %-5s %10s\" % (\"item\", \"count\", \"price\"))\n",
    "print(\"------------------------------------\")\n",
    "print(\"%-10s %-5s %10.2f\" % (list[0][0], list[0][1], list[0][2]))\n",
    "print(\"%-10s %-5s %10.2f\" % (list[1][0], list[1][1], list[1][2]))\n",
    "print(\"%-10s %-5s %10.2f\" % (list[2][0], list[2][1], list[2][2]))\n",
    "print(\"------------------------------------\")\n",
    "print(\"total%22.2f\" % (sum([list[0][2], list[1][2], list[2][2]])))\n",
    "\n",
    "\n",
    "# -*- coding: UTF-8 -*-\n",
    "    "
   ]
  },
  {
   "cell_type": "code",
   "execution_count": null,
   "metadata": {},
   "outputs": [],
   "source": [
    "'''\n",
    "Author: Libre Gu \n",
    "Date: 2023-02-21 10:56:00\n",
    "LastEditors: Libre Gu \n",
    "LastEditTime: 2023-06-10 10:19:45\n",
    "FilePath: /PythonJupyter/Demo.ipynb\n",
    "Description: \n",
    "'''\n",
    "# %格式化\n",
    "\n",
    "print(\"%d * %d = %d\" % (1, 1, 1))\n",
    "\n",
    "# format 格式化输出\n",
    "print(\"I am {0}, age {1}\".format('Libre', 40))\n",
    "print(\"{0} * {0} = {0}\".format(1))\n",
    "\n",
    "# 用变量名对应值替换\n",
    "print(\"我得名字叫{name}, 年龄{age}, 性别{sex}, 他也叫{name}\".format(age=40,name='Libre', sex='男'))\n",
    "\n",
    "\n",
    "print(\"{}, {}, {}\".format(1, 1, 1))\n",
    "\n",
    "# 补位\n",
    "print(\"%10s\" % ('A'))\n",
    "print(\"{:<10}B\".format('A'))"
   ]
  },
  {
   "cell_type": "code",
   "execution_count": null,
   "metadata": {},
   "outputs": [],
   "source": [
    "dict = {'a': 'A','b': 'B'}\n",
    "for k,v in dict.items():\n",
    "    print(k, v)"
   ]
  },
  {
   "cell_type": "code",
   "execution_count": null,
   "metadata": {},
   "outputs": [],
   "source": [
    "# T = \"2023/03/01 10:09:12\"\n",
    "L = [2023, 3, 23, 10, 9, 1] # 必须用到join()\n"
   ]
  },
  {
   "cell_type": "code",
   "execution_count": null,
   "metadata": {},
   "outputs": [],
   "source": [
    "import random\n",
    "print(random.randint(1, 100))"
   ]
  },
  {
   "cell_type": "code",
   "execution_count": null,
   "metadata": {},
   "outputs": [],
   "source": [
    "dt = {'a': 'A','b': 'B'}\n",
    "for k,v in dt.items():\n",
    "    print(i)"
   ]
  },
  {
   "cell_type": "code",
   "execution_count": null,
   "metadata": {},
   "outputs": [],
   "source": [
    "w = \"中国梦2022\"\n",
    "for x in w:\n",
    "    if x == '0' or x == '2': \n",
    "        continue\n",
    "    else:\n",
    "        w.replace( x , '@')\n",
    "\n",
    "print (w)"
   ]
  },
  {
   "cell_type": "code",
   "execution_count": null,
   "metadata": {},
   "outputs": [],
   "source": [
    "n = 0\n",
    "while n < 3:\n",
    "    l = eval(input('请输入逗号分割的长宽高：'))\n",
    "    sum = sum(l)\n",
    "    if 60 <= sum <=203:\n",
    "        print('允许')\n",
    "    else:\n",
    "        print('不允许')"
   ]
  },
  {
   "cell_type": "code",
   "execution_count": null,
   "metadata": {},
   "outputs": [],
   "source": [
    "s = \"ArithmeticError。但是大发发？所发生的舒服舒服！啥发生。\"\n",
    "o = ['。', '？', '！']\n",
    "count = 0\n",
    "for i in s:\n",
    "    if i in o:\n",
    "        count += 1\n",
    "print(count)"
   ]
  },
  {
   "cell_type": "code",
   "execution_count": null,
   "metadata": {},
   "outputs": [],
   "source": [
    "print(\"{}, {}\".format(1, 2))"
   ]
  },
  {
   "cell_type": "code",
   "execution_count": null,
   "metadata": {},
   "outputs": [],
   "source": [
    "inStr = \"abcdefg\"\n",
    "outStr = []\n",
    "n = len(inStr)\n",
    "while n >= 0:\n",
    "    n -= 1\n",
    "    outStr.append(inStr[n])\n",
    "print(outStr)"
   ]
  },
  {
   "cell_type": "code",
   "execution_count": null,
   "metadata": {},
   "outputs": [],
   "source": [
    "# 冒泡排序\n",
    "import numpy as np\n",
    "L = np.random.randint(1, 100, 10)\n",
    "\n",
    "for i in range(len(L)):\n",
    "    for j in range(len(L) - i - 1):\n",
    "        if L[j] > L[j+1]:\n",
    "            L[j],L[j+1] = L[j+1],L[j]\n",
    "print(L)"
   ]
  },
  {
   "cell_type": "code",
   "execution_count": null,
   "metadata": {},
   "outputs": [],
   "source": [
    "# 选择排序\n",
    "import numpy as np\n",
    "L = np.random.randint(0, 100, 10)\n",
    "for i in range(len(L)):\n",
    "    k = i\n",
    "    for j in range(i+1, len(L)):\n",
    "        if L[k] > L[j]:\n",
    "            k = j\n",
    "        if k != i:\n",
    "            L[k], L[i] = L[i], L[k]\n",
    "print(L)\n"
   ]
  },
  {
   "cell_type": "code",
   "execution_count": null,
   "metadata": {},
   "outputs": [],
   "source": [
    "tp = (25,)\n",
    "print(type(tp))"
   ]
  },
  {
   "cell_type": "code",
   "execution_count": null,
   "metadata": {},
   "outputs": [],
   "source": [
    "import random\n",
    "\n",
    "while True:\n",
    "    user_choice = input(\"选择石头（s）、剪刀（j）或布（b），或输入 'q' 退出游戏: \").lower()\n",
    "\n",
    "    if user_choice == 'q':\n",
    "        print(\"游戏结束。\")\n",
    "        break\n",
    "\n",
    "    computer_choice = random.choice(['s', 'j', 'b'])\n",
    "    print(f\"计算机选择了 {computer_choice}.\")\n",
    "\n",
    "    if user_choice == computer_choice:\n",
    "        print(\"平局！\")\n",
    "    elif user_choice + computer_choice in ['sj', 'jb', 'bs']:\n",
    "        print(\"你赢了！\")\n",
    "    else:\n",
    "        print(\"计算机赢了。\")\n"
   ]
  },
  {
   "cell_type": "code",
   "execution_count": null,
   "metadata": {},
   "outputs": [],
   "source": [
    "weight = 0\n",
    "name = ''\n",
    "for i in range(3):\n",
    "    n = input('your name:')\n",
    "    w = int(input('your weight:'))\n",
    "    if w > weight:\n",
    "        weight = w\n",
    "        name = n\n",
    "print(\"max weight:{}, name:{}\".format(weight, name))"
   ]
  },
  {
   "cell_type": "code",
   "execution_count": null,
   "metadata": {},
   "outputs": [],
   "source": [
    "s = \"A pessimist is one who makes difficulties of his opportunities and an optimist\"\n",
    "# 统计字母’t‘出现的次数\n",
    "count = 0\n",
    "i =0\n",
    "while i < len(s):\n",
    "    if s[i] == 't':\n",
    "        count += 1\n",
    "    i += 1\n",
    "print(count)\n"
   ]
  },
  {
   "cell_type": "code",
   "execution_count": null,
   "metadata": {},
   "outputs": [],
   "source": [
    "num = 112277663354332\n",
    "# 统计’2‘出现的次数\n",
    "\n",
    "# 允许用户输入3个人的体重(可以一次输入或者单个输入), 打印出体重最大的那个值”最大体重：xx“"
   ]
  },
  {
   "cell_type": "code",
   "execution_count": null,
   "metadata": {},
   "outputs": [],
   "source": [
    "import random\n",
    "print(chr(65))\n",
    "print(ord('A'))\n",
    "print(random.randint(1, 100))"
   ]
  },
  {
   "cell_type": "code",
   "execution_count": null,
   "metadata": {},
   "outputs": [],
   "source": [
    "import random\n",
    "# 创建一个列表A，包含50个1~100以内的随机数\n",
    "# 将列表中A中的数字分别放入 偶数列表B， 奇数列表C 两个列表中\n",
    "# 分配完成的同时，A列表应该是空的，不能使用clear()函数来清空A列表"
   ]
  },
  {
   "cell_type": "code",
   "execution_count": null,
   "metadata": {},
   "outputs": [],
   "source": [
    "i = 13 * 33\n",
    "print(i)\n",
    "for n in range(10000):\n",
    "    m = i * n\n",
    "    print(m)\n",
    "    if len(str(m)) == 6:\n",
    "         print(m)"
   ]
  },
  {
   "cell_type": "code",
   "execution_count": null,
   "metadata": {},
   "outputs": [],
   "source": [
    "n = 10\n",
    "# 2n\n",
    "# 2n - 1\n",
    "for i in range(n+1):\n",
    "    for _ in range(n-i):\n",
    "        print(\" \", end=\" \")\n",
    "    for j in range(2*i - 1):\n",
    "        print(\"*\", end=\" \")\n",
    "    print()\n",
    "\n"
   ]
  },
  {
   "cell_type": "code",
   "execution_count": null,
   "metadata": {},
   "outputs": [],
   "source": [
    "sku = [3, '(bbb', \"'ddd\"],\n",
    "sku = [str(item).replace(\"(\",\"\") for item in sku]\n",
    "print(sku)\n",
    "sku = [str(item).replace(\"'\",\"\") for item in sku]\n",
    "print(sku)\n"
   ]
  },
  {
   "cell_type": "code",
   "execution_count": null,
   "metadata": {},
   "outputs": [],
   "source": [
    "a = [0, 2, 4, 5, 6, 9, 88]\n",
    "n = len(a)\n",
    "key = 6\n",
    "b = -1\n",
    "i, j = 0, n-1\n",
    "while i < j:\n",
    "    m = (i + j) // 2\n",
    "    if key == a[m]:\n",
    "        b = m\n",
    "        break\n",
    "    elif key > a[m]:\n",
    "        i = m\n",
    "    else:\n",
    "        j = m - 1\n",
    "print(b)"
   ]
  },
  {
   "cell_type": "code",
   "execution_count": null,
   "metadata": {},
   "outputs": [],
   "source": [
    "a = [1, 2, 4, 6, 7, 8]\n",
    "b = [1, 2, 5, 7, 9, 10]\n",
    "c = []\n",
    "i, j=0,0\n",
    "while i < len(a) and j < len(b):\n",
    "    if a[i] <= b[j]:\n",
    "        c.append(a[i])\n",
    "        i += 1\n",
    "    else:\n",
    "        c.append(b[j])\n",
    "        j += 1\n",
    "if i > j:\n",
    "    c += b[j:]\n",
    "else:\n",
    "    c += a[i:]\n",
    "print(f\"i={i}, j={j}\")\n",
    "print(c)"
   ]
  },
  {
   "cell_type": "code",
   "execution_count": null,
   "metadata": {},
   "outputs": [],
   "source": [
    "for a in range(10):\n",
    "    for b in range(10):\n",
    "        for c in range(10):\n",
    "            for d in range(10):\n",
    "                if (a*1000 + b*100 + c*10 + d + 80000) + (a*10000 + b*1000 + c*100 + d*10 + 6) == 121410:\n",
    "                    print(a, b, c, d)"
   ]
  },
  {
   "cell_type": "code",
   "execution_count": null,
   "metadata": {},
   "outputs": [],
   "source": [
    "student_scores_3d = {  \n",
    "    '小明': {  \n",
    "        '第一次考试': {'语文': 85, '数学': 92, '英语': 78},  \n",
    "        '第二次考试': {'语文': 87, '数学': 90, '英语': 82},  \n",
    "        '第三次考试': {'语文': 89, '数学': 93, '英语': 85},  \n",
    "    },  \n",
    "    '小兰': {  \n",
    "        '第一次考试': {'语文': 76, '数学': 63, '英语': 88},  \n",
    "        '第二次考试': {'语文': 79, '数学': 67, '英语': 85},  \n",
    "        '第三次考试': {'语文': 72, '数学': 70, '英语': 80},  \n",
    "    },  \n",
    "    '小红': {  \n",
    "        '第一次考试': {'语文': 92, '数学': 85, '英语': 76},  \n",
    "        '第二次考试': {'语文': 90, '数学': 82, '英语': 79},  \n",
    "        '第三次考试': {'语文': 93, '数学': 88, '英语': 84},  \n",
    "    },  \n",
    "    '小白': {  \n",
    "        '第一次考试': {'语文': 68, '数学': 72, '英语': 90},  \n",
    "        '第二次考试': {'语文': 71, '数学': 75, '英语': 92},  \n",
    "        '第三次考试': {'语文': 75, '数学': 80, '英语': 95},  \n",
    "    },  \n",
    "    '小军': {  \n",
    "        '第一次考试': {'语文': 80, '数学': 70, '英语': 84},  \n",
    "        '第二次考试': {'语文': 82, '数学': 73, '英语': 86},  \n",
    "        '第三次考试': {'语文': 84, '数学': 76, '英语': 89},  \n",
    "    },  \n",
    "}\n",
    "\n",
    "name = '小明'\n",
    "kemu = '数学'\n",
    "data = student_scores_3d[name]\n",
    "i = 0\n",
    "lis = []\n",
    "for k, v in data.items():\n",
    "    lis.append(v[kemu])\n",
    "    print(i, lis[i], lis[i-1], lis[i] - lis[i-1])\n",
    "    i += 1"
   ]
  },
  {
   "cell_type": "code",
   "execution_count": null,
   "metadata": {},
   "outputs": [],
   "source": [
    "nums = [0, 20, 0, 4, 31]\n",
    "initLen = len(nums)\n",
    "i, j = 0, 0\n",
    "while i < initLen:\n",
    "    if nums[i] != 0:\n",
    "        nums[j], nums[i] = nums[i], nums[j]\n",
    "        j += 1 \n",
    "    i += 1\n",
    "print(nums)\n",
    "# nums[j:] = (len(nums)-j)*[0]\n",
    "# print(nums)"
   ]
  },
  {
   "cell_type": "code",
   "execution_count": null,
   "metadata": {},
   "outputs": [],
   "source": [
    "n = 11\n",
    "num = []\n",
    "for i in range(n):\n",
    "    num.append(i+1)\n",
    "i, k, m = 0, 0, 0\n",
    "while m < n-1:\n",
    "    if num[i] != 0: k+=1 # 记录索引\n",
    "    if k == 3:\n",
    "        num[i] = 0\n",
    "        k = 0\n",
    "        m += 1\n",
    "    i += 1\n",
    "    if i == n : i = 0 # 一圈游戏结束，再开始\n",
    "\n",
    "i = 0\n",
    "while num[i]==0: \n",
    "    i+=1\n",
    "print(num[i])"
   ]
  },
  {
   "cell_type": "code",
   "execution_count": null,
   "metadata": {},
   "outputs": [],
   "source": [
    "a = [1, 2, 3]\n",
    "print([x**2 for x in a])\n",
    "print(tuple(map(lambda x:x**2, a)))\n",
    "\n",
    "a = ['x', 'y', 'z', 'a']\n",
    "b = [1, 2, 3]\n",
    "print(list(filter(lambda x:x>1, b)))\n"
   ]
  },
  {
   "cell_type": "code",
   "execution_count": null,
   "metadata": {},
   "outputs": [],
   "source": [
    "lis = [33, 9, 2, 44, 10]\n",
    "for i in range(len(lis)-1):\n",
    "    for j in range(i, len(lis)):\n",
    "        if lis[i] > lis[j]:\n",
    "            lis[i], lis[j] = lis[j], lis[i]\n",
    "n = 6\n",
    "lis.append(n)\n",
    "for i in range(len(lis)-1):\n",
    "    if lis[i] > n:\n",
    "        for j in range(i, len(lis)):\n",
    "            lis[j], lis[-1] = lis[-1], lis[j]\n",
    "        break\n",
    "print(lis)"
   ]
  },
  {
   "cell_type": "code",
   "execution_count": null,
   "metadata": {},
   "outputs": [],
   "source": [
    "# 给顶一个数字：[2, 6, 9, 11, 33, 44]，确认它是不是质数\n",
    "# 输出： {}是质数，{}不是质数  \n",
    "a = [2, 6, 9, 11, 33, 44]\n",
    "for n in a:\n",
    "    flag = True\n",
    "    for i in range(2, n):\n",
    "        if n % i == 0:\n",
    "            flag = False\n",
    "            break\n",
    "    if flag:\n",
    "        print(f\"{n}是质数\")"
   ]
  },
  {
   "cell_type": "code",
   "execution_count": null,
   "metadata": {},
   "outputs": [],
   "source": [
    "a=['is','happy','is','your','are','first','first','is','are','your']\n",
    "n = len(a)-1\n",
    "for i in range(0, n):\n",
    "    for j in range(i+1, n+1):\n",
    "        if a[i] > a[j]:\n",
    "            a[j],a[i] = a[i], a[j]\n",
    "\n",
    "key = a[0]\n",
    "i = 1\n",
    "ans = 1\n",
    "while i <= n:\n",
    "    if key == a[i]:\n",
    "        ans += 1\n",
    "        i += 1\n",
    "    else:\n",
    "        print(a[i-1]+\":\"+str(ans))\n",
    "        key = a[i]\n",
    "        ans = 1\n",
    "        i += 1\n",
    "print(a[i-1]+\":\"+str(ans))\n"
   ]
  },
  {
   "cell_type": "code",
   "execution_count": null,
   "metadata": {
    "ExecuteTime": {
     "end_time": "2024-03-23T02:47:11.709487Z",
     "start_time": "2024-03-23T02:47:11.673831Z"
    }
   },
   "outputs": [],
   "source": [
    "print(list(x))"
   ]
  },
  {
   "cell_type": "code",
   "execution_count": null,
   "metadata": {},
   "outputs": [],
   "source": [
    "def fun(n, k):\n",
    "    L = list(range(1, n+1))\n",
    "    if n == 1:\n",
    "        return\n",
    "    else:\n",
    "        x = 0\n",
    "        for i in range(n - 1):\n",
    "            x = (x + k) % len(L) - 1\n",
    "            print(\"出局的人是：\", L[x])\n",
    "            del L[x]\n",
    "            if x < 0:\n",
    "                x = 0\n",
    "        print(\"最后胜利者是：\", L[0])\n",
    "\n",
    "fun(10, 4)"
   ]
  },
  {
   "cell_type": "code",
   "execution_count": null,
   "metadata": {},
   "outputs": [],
   "source": [
    "def fun(n):\n",
    "    print('%d='%n, end='')\n",
    "    for i in range(2, n):\n",
    "        while n != i:\n",
    "            if n > i and n % i == 0:\n",
    "                print(i, end='*')\n",
    "                n = n / i\n",
    "            else:\n",
    "                break\n",
    "        else:\n",
    "            print(i, end='')\n",
    "            break\n",
    "fun(105)\n",
    "print()\n",
    "fun(60)"
   ]
  },
  {
   "cell_type": "code",
   "execution_count": null,
   "metadata": {},
   "outputs": [],
   "source": [
    "def domain2(a, b):\n",
    "    a = a + b\n",
    "    return a\n",
    "a = 2\n",
    "print(domain2(2, a))"
   ]
  },
  {
   "cell_type": "code",
   "execution_count": null,
   "metadata": {},
   "outputs": [],
   "source": [
    "i = \"99\"\n",
    "n = len(i)\n",
    "if n % 2 != 0:\n",
    "    for j in range(int((n+1)/2)):\n",
    "        if i[j] == i[n-1-j]:\n",
    "            if n == 2*j + 1:\n",
    "                print(f\"{i}是回文\")\n",
    "        else:\n",
    "            print(f\"{i}不是回文\")\n",
    "            break\n",
    "else:\n",
    "    for j in range(int(n/2)):\n",
    "        if i[j] == i[n-1-j]:\n",
    "            if n == 2 * (j+1):\n",
    "                print(f\"{i}是回文\")\n",
    "        else:\n",
    "            print(f\"{i}不是回文\")\n",
    "            break"
   ]
  },
  {
   "cell_type": "code",
   "execution_count": null,
   "metadata": {},
   "outputs": [],
   "source": [
    "def gcd(x, y):\n",
    "    if x == 0:\n",
    "        return y\n",
    "    else:\n",
    "        return gcd(y % x, x)\n",
    "\n",
    "sums = gcd(6, 9)\n",
    "print(sums)"
   ]
  },
  {
   "cell_type": "code",
   "execution_count": null,
   "metadata": {},
   "outputs": [],
   "source": [
    "def search(lft, rgt, key):\n",
    "    if lft > rgt:\n",
    "        return -1\n",
    "    mid = (lft + rgt) // 2\n",
    "    if cj[mid] == key:\n",
    "        return mid\n",
    "    elif cj[mid] < key:\n",
    "        lft = mid + 1\n",
    "    else:\n",
    "        rgt = mid - 1\n",
    "    return search(lft, rgt, key)\n",
    "import random\n",
    "cj = [random.randint(1, 100) for i in range(50)]\n",
    "cj.sort()\n",
    "key = random.choice(cj)\n",
    "pos = search(0, 49, key)\n",
    "print(pos)"
   ]
  },
  {
   "cell_type": "code",
   "execution_count": null,
   "metadata": {},
   "outputs": [],
   "source": [
    "def findprime(m):\n",
    "    for i in range(2, m):\n",
    "        if m % i == 0:\n",
    "            return False\n",
    "    else:\n",
    "        return True\n",
    "n = 5\n",
    "if findprime(n):\n",
    "    print(f\"{n}是质数\")\n",
    "else:\n",
    "    print(f\"{n}不是质数\")"
   ]
  },
  {
   "cell_type": "code",
   "execution_count": null,
   "metadata": {},
   "outputs": [],
   "source": [
    "def b(s, v):\n",
    "    top = 0\n",
    "    last = len(s)\n",
    "    while top < last:\n",
    "        mid = (top + last) // 2\n",
    "        if v == s[mid]:\n",
    "            return mid\n",
    "        elif v > s[mid]:\n",
    "            top = mid + 1\n",
    "        else:\n",
    "            last = mid - 1\n",
    "    return None\n",
    "\n",
    "s = [1, 2, 3, 4, 5, 6, 7, 8, 9, 10]\n",
    "v = 6\n",
    "pos = b(s, v)\n",
    "print(pos)"
   ]
  },
  {
   "cell_type": "code",
   "execution_count": null,
   "metadata": {},
   "outputs": [],
   "source": [
    "def f(n):\n",
    "    while True:\n",
    "        if n % 5 == 2:\n",
    "            break\n",
    "        n += 9\n",
    "\n",
    "    while True:\n",
    "        if n % 4 == 1:\n",
    "            break\n",
    "        n += 45\n",
    "    print(n)\n",
    "\n",
    "f(16)\n",
    "\n",
    "def find_rabbits_2():\n",
    "    # 先找出满足除以 9 余 7 的最小数\n",
    "    num = 7\n",
    "    while True:\n",
    "        if num % 5 == 2 and num % 4 == 1:\n",
    "            return num\n",
    "        num += 9\n",
    "\n",
    "print(find_rabbits_2())"
   ]
  },
  {
   "cell_type": "code",
   "execution_count": null,
   "metadata": {},
   "outputs": [],
   "source": [
    "def f(a,b,c):\n",
    "    print(a+b,b,c-a) \n",
    "f(8,b=2,c=6)"
   ]
  },
  {
   "cell_type": "code",
   "execution_count": null,
   "metadata": {},
   "outputs": [],
   "source": [
    "import math\n",
    "primeList = []\n",
    "def getPrime(n):\n",
    "    \"\"\"获取素数集合\"\"\"\n",
    "    for x in range(2, n+1):\n",
    "        x_sqrt = int(math.sqrt(x)) + 1\n",
    "        for prime in primeList:\n",
    "            if prime > x_sqrt:\n",
    "                primeList.append(x)\n",
    "                break\n",
    "            if x % prime == 0:\n",
    "                break\n",
    "        else:\n",
    "            primeList.append(x)\n",
    "\n",
    "getPrime(9)\n",
    "print(primeList)\n",
    "            \n"
   ]
  },
  {
   "cell_type": "code",
   "execution_count": null,
   "metadata": {},
   "outputs": [],
   "source": [
    "def getHomeWork(hw, n):\n",
    "    \"\"\"获取作业\"\"\"\n",
    "    if n == len(hw) - 1:\n",
    "        return hw[len(hw) - 1]\n",
    "    return getHomeWork(hw, n+1) + hw[n]\n",
    "homew = ['作业1', '作业2', '作业3', '作业4', '作业5', '作业6', '作业7']\n",
    "zuoye = getHomeWork(homew, 0)\n",
    "print(zuoye)"
   ]
  },
  {
   "cell_type": "code",
   "execution_count": null,
   "metadata": {},
   "outputs": [],
   "source": [
    "COUNT = 0\n",
    "def perm(n, begin, end):\n",
    "    global COUNT\n",
    "    if begin >= end:\n",
    "        print(n)\n",
    "        COUNT += 1\n",
    "    else:\n",
    "        i = begin\n",
    "        for num in range(begin, end+1):\n",
    "            n[num], n[i] = n[i], n[num]\n",
    "            perm(n, begin+1, end)\n",
    "            n[num], n[i] = n[i], n[num]\n",
    "arr = [1, 2, 3]\n",
    "perm(arr, 0, 2)"
   ]
  },
  {
   "cell_type": "code",
   "execution_count": null,
   "metadata": {},
   "outputs": [],
   "source": [
    "def yang(n):\n",
    "    if n == 0:\n",
    "        return [1]\n",
    "    else:\n",
    "        a = [([0]+yang(n-1))[i]+(yang(n-1)+[0])[i] for i in range(n+1)]\n",
    "        print(a)\n",
    "        return a\n",
    "print(yang(4))"
   ]
  },
  {
   "cell_type": "markdown",
   "metadata": {},
   "source": [
    "### 评委打分"
   ]
  },
  {
   "cell_type": "code",
   "execution_count": null,
   "metadata": {},
   "outputs": [],
   "source": [
    "def getScore(fs):\n",
    "    maxfs = 0\n",
    "    minfx = 999999\n",
    "    n = len(fs)\n",
    "    for f in fs:\n",
    "        if f > maxfs:\n",
    "            maxfs = f\n",
    "        elif f < minfx:\n",
    "            minfx = f\n",
    "    yxf = sum(fs) - maxfs - minfx\n",
    "    avgfs = yxf / (n-2)\n",
    "    return \"%.2f\" % avgfs\n",
    "\n",
    "fs = [9.56, 9.68, 9.78, 9.81, 9.21, 9.75]\n",
    "defen = getScore(fs)\n",
    "print(defen)"
   ]
  },
  {
   "cell_type": "markdown",
   "metadata": {},
   "source": [
    "### 计算是否素数"
   ]
  },
  {
   "cell_type": "code",
   "execution_count": null,
   "metadata": {},
   "outputs": [],
   "source": [
    "def prime(n):\n",
    "    if n < 2:\n",
    "        return False\n",
    "    else:\n",
    "        for i in range(2, int(n**0.5)+1):\n",
    "            if n % i == 0:\n",
    "                return False\n",
    "    return True\n",
    "n = 7\n",
    "if prime(n):\n",
    "    print(f\"{n}是质数\")\n",
    "else:\n",
    "    print(f\"{n}不是质数\")"
   ]
  },
  {
   "cell_type": "markdown",
   "metadata": {},
   "source": [
    "### 计算n(n<=10)，包含奇数个5的个数"
   ]
  },
  {
   "cell_type": "code",
   "execution_count": null,
   "metadata": {},
   "outputs": [],
   "source": [
    "c = [[0 for i in range(2)] for i in range(11)]\n",
    "c[1][0] = 0\n",
    "c[1][1] = 1\n",
    "k = 9\n",
    "n = 5\n",
    "for i in range(2, n+1):\n",
    "    if i == n:\n",
    "        k = k - 1\n",
    "    c[i][1] = c[i-1][1] + k * c[i-1][0]\n",
    "    c[i][0] = k * c[i-1][1] + c[i-1][0]\n",
    "print(c[n][1])"
   ]
  },
  {
   "cell_type": "code",
   "execution_count": null,
   "metadata": {},
   "outputs": [],
   "source": [
    "c = [[0 for i in range(2)] for i in range(11)] #存放奇数个5和偶数个5的二维列 \n",
    "c[1][0] = 9 #一位数中包含偶数个5的个数\n",
    "c[1][1] = 1 #一位数中包含奇数个5的个数\n",
    "k=9\n",
    "n=5\n",
    "for i in range(2,n+1):\n",
    "    if i == n: \n",
    "        k=k-1\n",
    "    c[i][0] = c[i-1][1] + k * c[i-1][0]\n",
    "    c[i][1] = k*c[i-1][1] + c[i-1][0]\n",
    "for x in c:\n",
    "    print(x)"
   ]
  },
  {
   "cell_type": "markdown",
   "metadata": {},
   "source": [
    "### 2022-3月，将大写字母逐个按其ACII值转换为7位二进制"
   ]
  },
  {
   "cell_type": "code",
   "execution_count": 2,
   "metadata": {},
   "outputs": [
    {
     "name": "stdout",
     "output_type": "stream",
     "text": [
      "01000011\n",
      "01001001\n",
      "01000101\n",
      "密文是： 434945\n"
     ]
    }
   ],
   "source": [
    "def xtob(n):\n",
    "    if n <= 1:\n",
    "        return str(n)\n",
    "    return xtob(n//2) + str(n % 2)\n",
    "\n",
    "mingwen = \"CIE\"\n",
    "\n",
    "he = \"0123456789ABCDEF\"\n",
    "rst = ''\n",
    "for c in mingwen:\n",
    "    s = \"0\" + xtob(ord(c))\n",
    "    i = 0\n",
    "    data = 0\n",
    "    while i < 8:\n",
    "        data = data * 2 + int(s[i])\n",
    "        if (i+1) % 4 == 0:\n",
    "            rst = rst + he[data]\n",
    "            data = 0\n",
    "        i += 1\n",
    "print(\"密文是：\", rst)"
   ]
  },
  {
   "cell_type": "markdown",
   "metadata": {},
   "source": [
    "### 2022-3月，辗转相除法求最大公约数"
   ]
  },
  {
   "cell_type": "code",
   "execution_count": null,
   "metadata": {},
   "outputs": [],
   "source": [
    "def gcd(a, b):\n",
    "    m = a % b\n",
    "    if m == 0:\n",
    "        return b\n",
    "    else:\n",
    "        a = b\n",
    "        b = m\n",
    "    return gcd(a, b)\n",
    "\n",
    "    "
   ]
  },
  {
   "cell_type": "markdown",
   "metadata": {},
   "source": [
    "### 2022-3月，下面的程序运用分治算法寻找列表中的最大值。请将空格补全代码。"
   ]
  },
  {
   "cell_type": "code",
   "execution_count": null,
   "metadata": {},
   "outputs": [],
   "source": [
    "# 子问题规模小于或等于2时\n",
    "def zui_da_zhi(a_list):\n",
    "    if len(a_list) == 2:\n",
    "        if a_list[0] > a_list[1]:\n",
    "            most = a_list[0]\n",
    "        else:\n",
    "            most = a_list[1]\n",
    "    else:\n",
    "        most = a_list[0]\n",
    "    return most\n",
    "\n",
    "\n",
    "# 分治算法\n",
    "def fen_zhi(init_list):\n",
    "    n = len(init_list)\n",
    "    if n <= 2: # 若问题规模小于或等于2，解决\n",
    "        return zui_da_zhi(init_list)\n",
    "    # 分解（子问题规模为n/2）\n",
    "    left_list, right_list = init_list[:n//2], init_list[n//2:]\n",
    "    # 递归，分治\n",
    "    left_max, right_max = fen_zhi(left_list), fen_zhi(right_list)\n",
    "    # 合并\n",
    "    return zui_da_zhi([left_max, right_max])\n",
    "\n",
    "\n",
    "# 测试数据\n",
    "test_data = [12, 25, 4, 47, 69, 4, 6, 37, 89, 21]\n",
    "print('最大值为：', fen_zhi(test_data))"
   ]
  },
  {
   "cell_type": "markdown",
   "metadata": {},
   "source": [
    "### 2022-9月，哥德巴赫猜想验证"
   ]
  },
  {
   "cell_type": "code",
   "execution_count": 4,
   "metadata": {},
   "outputs": [
    {
     "name": "stdout",
     "output_type": "stream",
     "text": [
      "6 = 3 + 3\n"
     ]
    }
   ],
   "source": [
    "def prime(x):\n",
    "    for i in range(2, x):\n",
    "        if x % i == 0:\n",
    "            return False\n",
    "    return True\n",
    "\n",
    "x = 6\n",
    "for k in range(2, x//2+1):\n",
    "    if prime(k) and prime(x-k):\n",
    "        print(f\"{x} = {k} + {x-k}\")\n",
    "        break"
   ]
  },
  {
   "cell_type": "markdown",
   "metadata": {},
   "source": [
    "### 2022-9月，判断回文数"
   ]
  },
  {
   "cell_type": "code",
   "execution_count": 8,
   "metadata": {},
   "outputs": [
    {
     "name": "stdout",
     "output_type": "stream",
     "text": [
      "203032不是回文数\n"
     ]
    }
   ],
   "source": [
    "def ispel(s):\n",
    "    num = len(str(s))\n",
    "    if num == 0:\n",
    "        return False\n",
    "    if num == 1:\n",
    "        return True\n",
    "    if num == 2:\n",
    "        return s[0] == s[1]\n",
    "    else:\n",
    "        return s[0] == s[num-1] and ispel(s[1:num-1])\n",
    "st = \"203032\"\n",
    "if ispel(st):\n",
    "    print(f\"{st}是回文数\")\n",
    "else:\n",
    "    print(f\"{st}不是回文数\")\n"
   ]
  },
  {
   "cell_type": "markdown",
   "metadata": {},
   "source": [
    "### 2022-9月，青蛙趴楼方法"
   ]
  },
  {
   "cell_type": "code",
   "execution_count": 10,
   "metadata": {},
   "outputs": [
    {
     "name": "stdout",
     "output_type": "stream",
     "text": [
      "3级楼梯共有3种爬法。\n"
     ]
    }
   ],
   "source": [
    "def Climb(n):\n",
    "    if n == 1:\n",
    "        return 1\n",
    "    elif n == 2:\n",
    "        return 2\n",
    "    else:\n",
    "        return Climb(n-1) + Climb(n-2)\n",
    "n = 3\n",
    "if n > 0:\n",
    "    print(\"%d级楼梯共有%d种爬法。\" % (n, Climb(n)))"
   ]
  },
  {
   "cell_type": "markdown",
   "metadata": {},
   "source": [
    "### 2022-12月 一组数，按从小到大的顺序排列,快速排序"
   ]
  },
  {
   "cell_type": "code",
   "execution_count": 12,
   "metadata": {},
   "outputs": [
    {
     "name": "stdout",
     "output_type": "stream",
     "text": [
      "排序的结果是:1 2 3 4 5 6 7 8 9 "
     ]
    }
   ],
   "source": [
    "def QuickSort(left, right):\n",
    "    if left >= right:\n",
    "        return\n",
    "    mid = Numbers[(left+right) // 2]\n",
    "    i = left\n",
    "    j = right\n",
    "    while i < j:\n",
    "        while Numbers[i] < mid: i += 1\n",
    "        while Numbers[j] > mid: j -= 1\n",
    "        if i <= j:\n",
    "            Numbers[i], Numbers[j] = Numbers[j], Numbers[i]\n",
    "        \n",
    "        QuickSort(left, j - 1)\n",
    "        QuickSort(i + 1, right)\n",
    "\n",
    "Numbers = [4, 6, 2, 9, 7, 1, 3, 8, 5]\n",
    "QuickSort(0, len(Numbers)-1)\n",
    "print('排序的结果是:', end=\"\")\n",
    "for i in Numbers:\n",
    "    print(i, end=\" \")"
   ]
  },
  {
   "cell_type": "markdown",
   "metadata": {},
   "source": [
    "### 2022-12月 鸡兔同笼"
   ]
  },
  {
   "cell_type": "code",
   "execution_count": 3,
   "metadata": {},
   "outputs": [
    {
     "name": "stdout",
     "output_type": "stream",
     "text": [
      "鸡有23只，兔有12只\n"
     ]
    }
   ],
   "source": [
    "def ji_tu(head, leg):\n",
    "    j = 0\n",
    "    t = 0\n",
    "    while j < head:\n",
    "        j += 1\n",
    "        t = head - j\n",
    "        if leg == (2 * j + 4 * t):\n",
    "            print(\"鸡有%d只，兔有%d只\" % (j, t))\n",
    "    return (j, t)\n",
    "\n",
    "try:\n",
    "    sum_head = 35\n",
    "    sum_leg = 94\n",
    "    if sum_head <= 0 or sum_leg <= 0 or sum_head > sum_leg:\n",
    "        print(\"输入鸡和兔子的总头数或总脚数错误，请重新输入！\")\n",
    "    else: ji_tu(sum_head, sum_leg)\n",
    "except: \n",
    "    print(\"能不能正常输入数据\")"
   ]
  },
  {
   "cell_type": "markdown",
   "metadata": {},
   "source": [
    "### 2022-12月 有两个人玩数字游戏"
   ]
  },
  {
   "cell_type": "code",
   "execution_count": 7,
   "metadata": {},
   "outputs": [
    {
     "name": "stdout",
     "output_type": "stream",
     "text": [
      "6765\n"
     ]
    }
   ],
   "source": [
    "def guo_cheng(n):\n",
    "    if n == 1 or n == 2:\n",
    "        return 1\n",
    "    return guo_cheng(n-1) + guo_cheng(n-2)\n",
    "print(guo_cheng(20))"
   ]
  },
  {
   "cell_type": "markdown",
   "metadata": {},
   "source": [
    "### 2023-3月 密码换位"
   ]
  },
  {
   "cell_type": "code",
   "execution_count": 15,
   "metadata": {},
   "outputs": [
    {
     "name": "stdout",
     "output_type": "stream",
     "text": [
      "dcbahgfezyxw\n"
     ]
    }
   ],
   "source": [
    "def jiami(yw, key):\n",
    "    result = ''\n",
    "    for i in range(0, len(yw), len(key)):\n",
    "        s1 = yw[i:i+len(key)]\n",
    "        for j in range(len(key)):\n",
    "            result += s1[int(key[j])-1]\n",
    "    return result\n",
    "yw = \"abcdefghwxyz\"\n",
    "key = \"4321\"\n",
    "mw = jiami(yw, key)\n",
    "print(mw)"
   ]
  },
  {
   "cell_type": "markdown",
   "metadata": {},
   "source": [
    "### 2023-3月 长方形的纸张"
   ]
  },
  {
   "cell_type": "code",
   "execution_count": 22,
   "metadata": {},
   "outputs": [
    {
     "name": "stdout",
     "output_type": "stream",
     "text": [
      "有4中裁法\n",
      "裁得的正方形面积最大的边长是8cm, 可以裁6块\n"
     ]
    }
   ],
   "source": [
    "def tj(a, b):\n",
    "    c = 0\n",
    "    minn = a\n",
    "    if a > b:\n",
    "        minn = b\n",
    "    for i in range(1, minn+1):\n",
    "        if a % i == 0 and b % i == 0:\n",
    "            c += 1\n",
    "    return c\n",
    "\n",
    "def gcd(a, b):\n",
    "    if b == 0:\n",
    "        return a\n",
    "    return gcd(b, a % b)\n",
    "\n",
    "chang = 24\n",
    "kuan = 16\n",
    "bianchang = gcd(chang, kuan)\n",
    "total = chang * kuan // bianchang ** 2\n",
    "num = tj(chang, kuan) \n",
    "print(f\"有{num}中裁法\")\n",
    "print(f\"裁得的正方形面积最大的边长是{bianchang}cm, 可以裁{total}块\")\n"
   ]
  },
  {
   "cell_type": "markdown",
   "metadata": {},
   "source": [
    "### 2023-3月 商超会员制"
   ]
  },
  {
   "cell_type": "code",
   "execution_count": 32,
   "metadata": {},
   "outputs": [
    {
     "name": "stdout",
     "output_type": "stream",
     "text": [
      "张飞 先生/女士您的积分是： 12345\n"
     ]
    }
   ],
   "source": [
    "def bubble_sort(d):\n",
    "    for i in range(len(d)-2):\n",
    "        for j in range(len(d)-1, 0, -1):\n",
    "            if d[i][0] > d[j][0]:\n",
    "                d[i], d[j] = d[j], d[i]\n",
    "\n",
    "def bin_search(d, key):\n",
    "    i,j = 0, len(d)-1\n",
    "    while i <= j:\n",
    "        m = (i+j) // 2\n",
    "        if key == d[m][0]:\n",
    "            return m\n",
    "        elif key > d[m][0]:\n",
    "            i = m + 1\n",
    "        else:\n",
    "            j = m - 1\n",
    "    return -1\n",
    "data = [\n",
    "    [8011, '张飞', 12345],\n",
    "    [8012, '李强', 34512],\n",
    "    [8013, '李好', 45321]\n",
    "]\n",
    "bubble_sort(data)\n",
    "key = 8011\n",
    "m = bin_search(data, key)\n",
    "if m != -1:\n",
    "    print(data[m][1], '先生/女士您的积分是：', data[m][2])\n",
    "else:\n",
    "    print('没有找到该会员')"
   ]
  },
  {
   "cell_type": "markdown",
   "metadata": {},
   "source": [
    "### 2023-5月 已知某c的第n项计算步骤如下\n",
    "- c1 = 1 (n=1)\n",
    "- cn = (6n-1) / (8n+3) * (cn-1) (n>1)"
   ]
  },
  {
   "cell_type": "code",
   "execution_count": 1,
   "metadata": {},
   "outputs": [
    {
     "name": "stdout",
     "output_type": "stream",
     "text": [
      "c4 = 0.23954330270119745\n"
     ]
    }
   ],
   "source": [
    "def fc(n):\n",
    "    if n == 1:\n",
    "        return 1\n",
    "    else:\n",
    "        a = 6 * n -1\n",
    "        b = 8 * n + 3\n",
    "        return a / b * fc(n-1)\n",
    "\n",
    "m = 4\n",
    "if not isinstance(m, int):\n",
    "    print(\"输入的不是整数\")\n",
    "else:\n",
    "    print(f\"c{m} = {fc(m)}\")"
   ]
  },
  {
   "cell_type": "markdown",
   "metadata": {},
   "source": [
    "### 2023-5月 递归99乘法表"
   ]
  },
  {
   "cell_type": "code",
   "execution_count": 13,
   "metadata": {},
   "outputs": [
    {
     "name": "stdout",
     "output_type": "stream",
     "text": [
      "1 * 1 = 1\n",
      "1 * 2 = 2 2 * 2 = 4 \n",
      "1 * 3 = 3 2 * 3 = 6 3 * 3 = 9 \n",
      "1 * 4 = 4 2 * 4 = 8 3 * 4 = 12 4 * 4 = 16 \n",
      "1 * 5 = 5 2 * 5 = 10 3 * 5 = 15 4 * 5 = 20 5 * 5 = 25 \n",
      "1 * 6 = 6 2 * 6 = 12 3 * 6 = 18 4 * 6 = 24 5 * 6 = 30 6 * 6 = 36 \n",
      "1 * 7 = 7 2 * 7 = 14 3 * 7 = 21 4 * 7 = 28 5 * 7 = 35 6 * 7 = 42 7 * 7 = 49 \n",
      "1 * 8 = 8 2 * 8 = 16 3 * 8 = 24 4 * 8 = 32 5 * 8 = 40 6 * 8 = 48 7 * 8 = 56 8 * 8 = 64 \n",
      "1 * 9 = 9 2 * 9 = 18 3 * 9 = 27 4 * 9 = 36 5 * 9 = 45 6 * 9 = 54 7 * 9 = 63 8 * 9 = 72 9 * 9 = 81 \n"
     ]
    }
   ],
   "source": [
    "def get_result(num):\n",
    "    if num == 1:\n",
    "        print(\"1 * 1 = 1\")\n",
    "    else:\n",
    "        get_result(num-1)\n",
    "    \n",
    "        for i in range(1, num+1):\n",
    "            print(\"%d * %d = %d\" % (i, num, num * i), end=' ')\n",
    "        print()\n",
    "\n",
    "get_result(9)\n"
   ]
  },
  {
   "cell_type": "markdown",
   "metadata": {},
   "source": [
    "### 2023-5月 蜗牛在井底"
   ]
  },
  {
   "cell_type": "code",
   "execution_count": 17,
   "metadata": {},
   "outputs": [
    {
     "name": "stdout",
     "output_type": "stream",
     "text": [
      "第9天, 蜗牛距离井口5米\n",
      "第10天, 蜗牛爬到井口\n"
     ]
    }
   ],
   "source": [
    "n, a, b = \"50 7 2\".split(\" \")\n",
    "n, a, b = int(n), int(a), int(b)\n",
    "pos = 0\n",
    "i = 0\n",
    "while pos+a < n:\n",
    "    pos += a-b\n",
    "    i += 1\n",
    "\n",
    "print(\"第%d天, 蜗牛距离井口%d米\" % (i, n-pos))\n",
    "print(\"第%d天, 蜗牛爬到井口\" % (i+1)) "
   ]
  },
  {
   "cell_type": "markdown",
   "metadata": {},
   "source": [
    "### 2024-9月 查找并替换字符串"
   ]
  },
  {
   "cell_type": "code",
   "execution_count": 1,
   "metadata": {},
   "outputs": [
    {
     "name": "stdout",
     "output_type": "stream",
     "text": [
      "abxybc\n"
     ]
    }
   ],
   "source": [
    "s = \"abcabc\"\n",
    "key = \"ca\"\n",
    "new = \"xy\"\n",
    "def findstr(key, s, begin):\n",
    "    for i in range(begin, len(s) - len(key) + 1):\n",
    "        if s[i:i+len(key)] == key:\n",
    "            return i\n",
    "    return -1\n",
    "\n",
    "def replace(key, new, s):\n",
    "    begin = 0\n",
    "    while begin < len(s):\n",
    "        pos = findstr(key, s, begin)\n",
    "        if pos == -1:\n",
    "            break\n",
    "        else:\n",
    "            s = s[:pos] + new + s[pos+len(key):len(s)]\n",
    "            begin = pos + len(key)\n",
    "    return s\n",
    "\n",
    "rst = replace(key, new, s)\n",
    "print(rst)\n"
   ]
  },
  {
   "cell_type": "markdown",
   "metadata": {},
   "source": [
    "### 2024-9月 n个数据，找到最小值"
   ]
  },
  {
   "cell_type": "code",
   "execution_count": 2,
   "metadata": {},
   "outputs": [
    {
     "name": "stdout",
     "output_type": "stream",
     "text": [
      "2\n"
     ]
    }
   ],
   "source": [
    "def get_min(number):\n",
    "    if len(number) == 1:\n",
    "        return number[0]\n",
    "    else:\n",
    "        if number[0] < number[1]:\n",
    "            return number[0]\n",
    "        else:\n",
    "            return number[1]\n",
    "        \n",
    "def solve(number):\n",
    "    n = len(number)\n",
    "    if n <= 2:\n",
    "        return get_min(number)\n",
    "    else:\n",
    "        left_list, right_list = number[0:n//2], number[n//2:n]\n",
    "        left_min, right_min = solve(left_list), solve(right_list)\n",
    "        return get_min([left_min, right_min])\n",
    "    \n",
    "test_list = [5, 11, 3, 2, 7, 9]\n",
    "print(solve(test_list))"
   ]
  },
  {
   "cell_type": "markdown",
   "metadata": {},
   "source": [
    "### 2024-9月 机器人服务中心"
   ]
  },
  {
   "cell_type": "code",
   "execution_count": 4,
   "metadata": {},
   "outputs": [
    {
     "name": "stdout",
     "output_type": "stream",
     "text": [
      "机器人服务中心的坐标为： 42 5\n",
      "机器人服务中心到各机器人的距离之和为： 468\n"
     ]
    }
   ],
   "source": [
    "import random\n",
    "n = 10\n",
    "hx = []\n",
    "hy = []\n",
    "for i in range(n):\n",
    "    # x, y = map(int, input('请输入xy坐标：').split())\n",
    "    x,y = random.randint(-50, 50), random.randint(-50, 50)\n",
    "    hx.append(x)\n",
    "    hy.append(y)\n",
    "hx = sorted(hx)\n",
    "hy = sorted(hy)\n",
    "\n",
    "if n % 2 == 0:\n",
    "    sn = int(n/2)\n",
    "    x0 = int(hx[sn] + hx[sn-1]/2)\n",
    "    y0 = int(hy[sn] + hy[sn-1]/2)\n",
    "else:\n",
    "    sn = int((n-1)/2)\n",
    "    x0 = int(hx[sn])\n",
    "    y0 = int(hy[sn])\n",
    "\n",
    "sumx = 0\n",
    "sumy = 0\n",
    "for j in hx:\n",
    "    dx = abs(x0-j)\n",
    "    sumx += dx\n",
    "for k in hy:\n",
    "    dy = abs(y0-k)\n",
    "    sumy += dy\n",
    "\n",
    "print(\"机器人服务中心的坐标为：\", x0, y0)\n",
    "print(\"机器人服务中心到各机器人的距离之和为：\", sumx+sumy)\n",
    "\n"
   ]
  },
  {
   "cell_type": "markdown",
   "metadata": {},
   "source": [
    "### 2024-12月 任意自然数，如果奇数*3+1，偶数/2，直到1为止"
   ]
  },
  {
   "cell_type": "code",
   "execution_count": 5,
   "metadata": {},
   "outputs": [
    {
     "name": "stdout",
     "output_type": "stream",
     "text": [
      "6\n",
      "[5.0, 16.0, 8.0, 4.0, 2.0, 1.0]\n"
     ]
    }
   ],
   "source": [
    "step = 0\n",
    "midlist = []\n",
    "def subwork(n):\n",
    "    global step\n",
    "    if n == 1:\n",
    "        return step\n",
    "    elif n % 2 == 0:\n",
    "        n = n / 2\n",
    "        midlist.append(n)\n",
    "        step += 1\n",
    "        subwork(n)\n",
    "        return step\n",
    "    else:\n",
    "        n = n * 3 + 1\n",
    "        midlist.append(n)\n",
    "        step += 1\n",
    "        subwork(n)\n",
    "        return step\n",
    "\n",
    "n = 10\n",
    "print(subwork(n))\n",
    "print(midlist)"
   ]
  }
 ],
 "metadata": {
  "kernelspec": {
   "display_name": "venv",
   "language": "python",
   "name": "python3"
  },
  "language_info": {
   "codemirror_mode": {
    "name": "ipython",
    "version": 3
   },
   "file_extension": ".py",
   "mimetype": "text/x-python",
   "name": "python",
   "nbconvert_exporter": "python",
   "pygments_lexer": "ipython3",
   "version": "3.10.13"
  },
  "orig_nbformat": 4
 },
 "nbformat": 4,
 "nbformat_minor": 2
}
