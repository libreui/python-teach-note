{
 "cells": [
  {
   "cell_type": "code",
   "execution_count": 26,
   "metadata": {},
   "outputs": [
    {
     "name": "stdout",
     "output_type": "stream",
     "text": [
      "['0', '1', '2', '3', '4', '5', '6', '7', '8', '9', 'A', 'B', 'C', 'D', 'E', 'F']\n",
      "FF\n"
     ]
    }
   ],
   "source": [
    "a = {\n",
    "    0: '0',\n",
    "    1: '1',\n",
    "    2: '2',\n",
    "    3: '3',\n",
    "    4: '4',\n",
    "    5: '5',\n",
    "    6: '6',\n",
    "    7: '7',\n",
    "    8: '8',\n",
    "    9: '9',\n",
    "    10: 'A',\n",
    "    11: 'B',\n",
    "    12: 'C',\n",
    "    13: 'D',\n",
    "    14: 'E',\n",
    "    15: 'F'\n",
    "}\n",
    "# a转成list\n",
    "a = list(a.values())\n",
    "print(a)\n",
    "n = 255\n",
    "s = \"\"\n",
    "while n > 0:\n",
    "    r = n % 16\n",
    "    s = a[r] + s\n",
    "    n //= 16\n",
    "\n",
    "print(s)"
   ]
  },
  {
   "cell_type": "code",
   "execution_count": 11,
   "outputs": [
    {
     "name": "stdout",
     "output_type": "stream",
     "text": [
      "0x3\n"
     ]
    }
   ],
   "source": [
    "# 进制 10进制 二进制  八进制 十六进制 \n",
    "# 128, 255 ,157\n",
    "# 0001011\n",
    "# 0011000\n",
    "\n",
    "# (0b 2) (0o 8)  (0x 16)\n",
    "# 55 00110111 67 0x37\n",
    "# 0001 0010  12\n",
    "# 0xA9 转成 10进制 169\n",
    "# 编写一个程序 来将一个十进制的数字转换为二进制\n",
    "# 128\n"
   ],
   "metadata": {
    "collapsed": false,
    "ExecuteTime": {
     "end_time": "2025-07-11T07:10:47.343722Z",
     "start_time": "2025-07-11T07:10:47.331546Z"
    }
   }
  },
  {
   "cell_type": "code",
   "execution_count": 23,
   "outputs": [
    {
     "name": "stdout",
     "output_type": "stream",
     "text": [
      "1110\n"
     ]
    }
   ],
   "source": [
    "n = 14\n",
    "s = \"\"\n",
    "while n != 1:\n",
    "    x = str(n % 2)\n",
    "    s = x + s\n",
    "    n //= 2 \n",
    "s = str(n) + s\n",
    "print(s)"
   ],
   "metadata": {
    "collapsed": false,
    "ExecuteTime": {
     "end_time": "2025-07-11T07:35:11.552289Z",
     "start_time": "2025-07-11T07:35:11.540366Z"
    }
   }
  },
  {
   "cell_type": "code",
   "execution_count": 26,
   "outputs": [
    {
     "name": "stdout",
     "output_type": "stream",
     "text": [
      "1110\n"
     ]
    }
   ],
   "source": [
    "n = 14\n",
    "s = \"\"\n",
    "while n != 1:\n",
    "    x = str(n % 2)\n",
    "    s += x\n",
    "    n //= 2 \n",
    "s += str(n)\n",
    "print(s[::-1])"
   ],
   "metadata": {
    "collapsed": false,
    "ExecuteTime": {
     "end_time": "2025-07-11T07:37:18.089861Z",
     "start_time": "2025-07-11T07:37:18.078126Z"
    }
   }
  }
 ],
 "metadata": {
  "kernelspec": {
   "display_name": "python310",
   "language": "python",
   "name": "python3"
  },
  "language_info": {
   "codemirror_mode": {
    "name": "ipython",
    "version": 3
   },
   "file_extension": ".py",
   "mimetype": "text/x-python",
   "name": "python",
   "nbconvert_exporter": "python",
   "pygments_lexer": "ipython3",
   "version": "3.10.9"
  }
 },
 "nbformat": 4,
 "nbformat_minor": 2
}
