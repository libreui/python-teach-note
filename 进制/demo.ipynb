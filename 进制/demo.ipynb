{
 "cells": [
  {
   "cell_type": "code",
   "execution_count": 8,
   "metadata": {},
   "outputs": [
    {
     "name": "stdout",
     "output_type": "stream",
     "text": [
      "212\n"
     ]
    }
   ],
   "source": [
    "n = [2, 4, 8, 16, 32, 64, 128, 256, 512, 1024, 2048]\n",
    "\n",
    "n = 323\n",
    "\n",
    "'''\n",
    "87, 96, 128, 148, 231, 255\n",
    "bin()\n",
    "'''"
   ]
  },
  {
   "cell_type": "code",
   "execution_count": 7,
   "metadata": {},
   "outputs": [
    {
     "name": "stdout",
     "output_type": "stream",
     "text": [
      "10001111\n",
      "128\n"
     ]
    }
   ],
   "source": [
    "# 十进制转二进制\n",
    "n = 143\n",
    "s = ''\n",
    "while n > 1:\n",
    "    x = n % 2\n",
    "    s = str(x) + s\n",
    "    n = n // 2\n",
    "\n",
    "s = str(n) + s\n",
    "print(s)\n",
    "print(2**7)\n"
   ]
  },
  {
   "cell_type": "code",
   "execution_count": 1,
   "metadata": {},
   "outputs": [
    {
     "name": "stdout",
     "output_type": "stream",
     "text": [
      "155\n",
      "255\n",
      "206\n",
      "0b1111000\n",
      "0b10010101\n",
      "0b11111111\n"
     ]
    }
   ],
   "source": [
    "\"\"\"\n",
    "- 10011011\n",
    "- 11111111\n",
    "- 11001110\n",
    "- 120\n",
    "- 149\n",
    "- 255\n",
    "\"\"\"\n",
    "print(int('10011011', 2))\n",
    "print(int('11111111', 2))\n",
    "print(int('11001110', 2))\n",
    "print(bin(120))\n",
    "print(bin(149))\n",
    "print(bin(255))\n"
   ]
  },
  {
   "cell_type": "code",
   "execution_count": 7,
   "metadata": {},
   "outputs": [
    {
     "name": "stdout",
     "output_type": "stream",
     "text": [
      "217\n"
     ]
    }
   ],
   "source": [
    "n = 143\n",
    "lst = \"\"\n",
    "while n > 8:\n",
    "    a = n % 8\n",
    "    lst = str(a) + lst\n",
    "    n = n // 8\n",
    "print( str(n) + lst)"
   ]
  },
  {
   "cell_type": "code",
   "execution_count": 28,
   "metadata": {},
   "outputs": [
    {
     "name": "stdout",
     "output_type": "stream",
     "text": [
      "42170\n",
      "42170\n"
     ]
    }
   ],
   "source": [
    "n = \"1010010010111010\"\n",
    "i = len(n) - 1\n",
    "s = 0\n",
    "while i >= 0:\n",
    "    s += int(n[len(n)-1-i]) * (2**i)\n",
    "    i -= 1\n",
    "print(s)\n",
    "print(int(n, 2))\n",
    "     "
   ]
  }
 ],
 "metadata": {
  "kernelspec": {
   "display_name": "python310",
   "language": "python",
   "name": "python3"
  },
  "language_info": {
   "codemirror_mode": {
    "name": "ipython",
    "version": 3
   },
   "file_extension": ".py",
   "mimetype": "text/x-python",
   "name": "python",
   "nbconvert_exporter": "python",
   "pygments_lexer": "ipython3",
   "version": "3.10.9"
  }
 },
 "nbformat": 4,
 "nbformat_minor": 2
}
