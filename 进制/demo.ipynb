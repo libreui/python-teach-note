{
 "cells": [
  {
   "cell_type": "code",
   "execution_count": 8,
   "metadata": {},
   "outputs": [
    {
     "name": "stdout",
     "output_type": "stream",
     "text": [
      "212\n"
     ]
    }
   ],
   "source": [
    "n = [2, 4, 8, 16, 32, 64, 128, 256, 512, 1024, 2048]\n",
    "\n",
    "n = 323\n",
    "\n",
    "'''\n",
    "87, 96, 128, 148, 231, 255\n",
    "bin()\n",
    "\n",
    ", jjjjj\n",
    "'''"
   ]
  },
  {
   "cell_type": "code",
   "execution_count": 7,
   "metadata": {},
   "outputs": [
    {
     "name": "stdout",
     "output_type": "stream",
     "text": [
      "10001111\n",
      "128\n"
     ]
    }
   ],
   "source": [
    "# 十进制转二进制\n",
    "n = 143\n",
    "s = ''\n",
    "while n > 1:\n",
    "    x = n % 2\n",
    "    s = str(x) + s\n",
    "    n = n // 2\n",
    "\n",
    "s = str(n) + s\n",
    "print(s)\n",
    "print(2**7)\n"
   ]
  }
 ],
 "metadata": {
  "kernelspec": {
   "display_name": "python310",
   "language": "python",
   "name": "python3"
  },
  "language_info": {
   "codemirror_mode": {
    "name": "ipython",
    "version": 3
   },
   "file_extension": ".py",
   "mimetype": "text/x-python",
   "name": "python",
   "nbconvert_exporter": "python",
   "pygments_lexer": "ipython3",
   "version": "3.10.9"
  }
 },
 "nbformat": 4,
 "nbformat_minor": 2
}
