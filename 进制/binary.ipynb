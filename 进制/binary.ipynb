{
 "cells": [
  {
   "cell_type": "code",
   "execution_count": 5,
   "metadata": {},
   "outputs": [
    {
     "name": "stdout",
     "output_type": "stream",
     "text": [
      "0b1000\n",
      "8\n",
      "0b11100101\n",
      "[6, 5, 3]\n"
     ]
    }
   ],
   "source": [
    "# 十进制转二进制\n",
    "n = bin(8)\n",
    "print(n)\n",
    "\n",
    "n = int(\"1000\", 2)\n",
    "print(n)\n",
    "\n",
    "print(bin(0xe5))\n",
    "\n",
    "l = [3,5,6]\n",
    "l.reverse()\n",
    "print(l)"
   ]
  }
 ],
 "metadata": {
  "kernelspec": {
   "display_name": "python310",
   "language": "python",
   "name": "python3"
  },
  "language_info": {
   "codemirror_mode": {
    "name": "ipython",
    "version": 3
   },
   "file_extension": ".py",
   "mimetype": "text/x-python",
   "name": "python",
   "nbconvert_exporter": "python",
   "pygments_lexer": "ipython3",
   "version": "3.10.9"
  },
  "orig_nbformat": 4
 },
 "nbformat": 4,
 "nbformat_minor": 2
}
