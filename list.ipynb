{
 "cells": [
  {
   "attachments": {},
   "cell_type": "markdown",
   "metadata": {},
   "source": [
    "### 创建列表"
   ]
  },
  {
   "cell_type": "code",
   "execution_count": null,
   "metadata": {},
   "outputs": [],
   "source": [
    "num = [1, 2, 3, 4, 5]\n",
    "print(num)\n",
    "char = ['A', 'B', 'C', 'D', 'E']\n",
    "print(char)\n",
    "lst = ['A', '1', 1, \"B\", 2, 'C', 3, True, False]\n",
    "print(lst)"
   ]
  },
  {
   "attachments": {},
   "cell_type": "markdown",
   "metadata": {},
   "source": [
    "### 创建列表练习\n",
    "- 0~9的数字列表\n",
    "- 10(包括)以内偶数列表\n",
    "- 用拼音的元音组成列表\n",
    "- 用我们现在的学科名字组成列表\n",
    "- 你知道的城市名字(3个)组成列表 \n",
    "- 用list创建列表\n",
    "  - \"我是最棒的孩子\"\n",
    "  - \"我最喜欢Python\"\n",
    "  - 元组(1, 2, 3, 4, 5)"
   ]
  },
  {
   "cell_type": "code",
   "execution_count": null,
   "metadata": {},
   "outputs": [],
   "source": [
    "s = \"Python\"\n",
    "t = (1, 3, 3)\n",
    "lst = []]\n",
    "print(lst)"
   ]
  },
  {
   "cell_type": "code",
   "execution_count": null,
   "metadata": {},
   "outputs": [],
   "source": [
    "char = ['A', 'B', 'C', 'D', 'E']\n",
    "print(char[0])\n",
    "print(char[2])\n",
    "print(char[-3])"
   ]
  },
  {
   "cell_type": "code",
   "execution_count": 8,
   "metadata": {},
   "outputs": [
    {
     "name": "stdout",
     "output_type": "stream",
     "text": [
      "['a', 'b', 'c', 'd', 'e', 'f', 'g', 'h']\n"
     ]
    }
   ],
   "source": [
    "t = ['a','b', 'c', 'd', 'e', 'f', 'g','h']\n",
    "t1 = t[0:3:1]\n",
    "t2 = t[0:3]\n",
    "t3 = t[:6]\n",
    "t4 = t[4:]\n",
    "t5 = t[:]\n",
    "print(t5)"
   ]
  },
  {
   "cell_type": "code",
   "execution_count": 18,
   "metadata": {},
   "outputs": [
    {
     "name": "stdout",
     "output_type": "stream",
     "text": [
      "['a', 'd']\n"
     ]
    }
   ],
   "source": [
    "lst = ['a','b', 'c', 'd', 'e', 'f', 'g','h']\n",
    "lst_1 = lst[0:3:1]\n",
    "print(lst_1)"
   ]
  },
  {
   "cell_type": "code",
   "execution_count": 12,
   "metadata": {},
   "outputs": [
    {
     "name": "stdout",
     "output_type": "stream",
     "text": [
      "我\n"
     ]
    }
   ],
   "source": [
    "'''\n",
    "Author: Libre Gu \n",
    "Date: 2023-03-19 10:06:16\n",
    "LastEditors: Libre Gu \n",
    "LastEditTime: 2023-04-09 10:02:05\n",
    "FilePath: /PythonJupyter/list.ipynb\n",
    "Description: \n",
    "Copyright (c) 2023 by Libre, All Rights Reserved. \n",
    "'''\n",
    "\n",
    "lst = ['a','b', 'c', 'd', 'e', 'f', 'g','h']\n",
    "lst_1 = [1, 2, ['a', 'b', ['e', 'c', 'd']], 4, 5]\n",
    "lst = [2, 3, 4, 6, 22, 5, 556]\n",
    "lst = ['a','b', 'c', 'd', '我']\n",
    "\n",
    "print()"
   ]
  },
  {
   "cell_type": "code",
   "execution_count": 16,
   "metadata": {},
   "outputs": [
    {
     "ename": "TypeError",
     "evalue": "unsupported operand type(s) for +: 'int' and 'str'",
     "output_type": "error",
     "traceback": [
      "\u001b[0;31m---------------------------------------------------------------------------\u001b[0m",
      "\u001b[0;31mTypeError\u001b[0m                                 Traceback (most recent call last)",
      "Cell \u001b[0;32mIn[16], line 3\u001b[0m\n\u001b[1;32m      1\u001b[0m nums \u001b[39m=\u001b[39m [\u001b[39m1\u001b[39m, \u001b[39m2\u001b[39m, \u001b[39m3\u001b[39m, \u001b[39m4\u001b[39m, \u001b[39m5\u001b[39m, \u001b[39m6\u001b[39m, \u001b[39m7\u001b[39m, \u001b[39m8\u001b[39m, \u001b[39m9\u001b[39m, \u001b[39m10\u001b[39m]\n\u001b[1;32m      2\u001b[0m nums \u001b[39m=\u001b[39m \u001b[39m\"\u001b[39m\u001b[39m123456789\u001b[39m\u001b[39m\"\u001b[39m\n\u001b[0;32m----> 3\u001b[0m \u001b[39mprint\u001b[39m(\u001b[39msum\u001b[39;49m(nums))\n\u001b[1;32m      4\u001b[0m \u001b[39mprint\u001b[39m(\u001b[39mmin\u001b[39m(nums))\n\u001b[1;32m      5\u001b[0m \u001b[39mprint\u001b[39m(\u001b[39mmax\u001b[39m(nums))\n",
      "\u001b[0;31mTypeError\u001b[0m: unsupported operand type(s) for +: 'int' and 'str'"
     ]
    }
   ],
   "source": [
    "nums = [1, 2, 3, 4, 5, 6, 7, 8, 9, 10]\n",
    "print(sum(nums))\n",
    "print(min(nums))\n",
    "print(max(nums))"
   ]
  },
  {
   "cell_type": "code",
   "execution_count": 30,
   "metadata": {},
   "outputs": [
    {
     "name": "stdout",
     "output_type": "stream",
     "text": [
      "(1, 2, 3, 1, 2, 3)\n"
     ]
    }
   ],
   "source": [
    "T1 = (1, 2, 3)\n",
    "T2 = T1 * 2\n",
    "print(T２)"
   ]
  },
  {
   "cell_type": "code",
   "execution_count": 15,
   "metadata": {},
   "outputs": [
    {
     "ename": "NameError",
     "evalue": "name 'L1' is not defined",
     "output_type": "error",
     "traceback": [
      "\u001b[0;31m---------------------------------------------------------------------------\u001b[0m",
      "\u001b[0;31mNameError\u001b[0m                                 Traceback (most recent call last)",
      "Cell \u001b[0;32mIn[15], line 18\u001b[0m\n\u001b[1;32m     16\u001b[0m L1\u001b[39m.\u001b[39mclear()\n\u001b[1;32m     17\u001b[0m \u001b[39mdel\u001b[39;00m L1\n\u001b[0;32m---> 18\u001b[0m \u001b[39mprint\u001b[39m(L1)\n",
      "\u001b[0;31mNameError\u001b[0m: name 'L1' is not defined"
     ]
    }
   ],
   "source": [
    "'''\n",
    "Author: Libre Gu \n",
    "Date: 2023-03-19 10:06:16\n",
    "LastEditors: Libre Gu \n",
    "LastEditTime: 2023-04-15 08:42:06\n",
    "FilePath: /PythonJupyter/list.ipynb\n",
    "Description: \n",
    "Copyright (c) 2023 by Libre, All Rights Reserved. \n",
    "'''\n",
    "# 列表的专用操作\n",
    "# 更新列表\n",
    "L1 = ['a', 'b', 'a', 'd', 'e', 'f', 'g', 'h']\n",
    "# pop()\n",
    "# remove()\n",
    "# clear()\n",
    "L1.clear()\n",
    "print(L1)\n",
    "\n",
    "\n",
    "\n"
   ]
  },
  {
   "cell_type": "code",
   "execution_count": 34,
   "metadata": {},
   "outputs": [
    {
     "name": "stdout",
     "output_type": "stream",
     "text": [
      "0x1e\n"
     ]
    }
   ],
   "source": [
    "t = []\n",
    "l = ['1', '2']\n",
    "s = \"a1b23c\"\n",
    "for i in s:\n",
    "    # if isNum(i) == True:\n",
    "    # if i.isdigit() == True:\n",
    "    if i not in l:\n",
    "        t.append(i)\n",
    "print(t)\n"
   ]
  },
  {
   "cell_type": "code",
   "execution_count": 3,
   "metadata": {},
   "outputs": [
    {
     "name": "stdout",
     "output_type": "stream",
     "text": [
      "[4, 5, 17, 55, 98]\n",
      "[98, 55, 17, 5, 4]\n",
      "['a', 'b', 'c', 'd', 'e', 'f', 'g', 'h', 'i']\n"
     ]
    }
   ],
   "source": [
    "# 列表的排序sort(reverse=False) \n",
    "L = [55, 98, 17, 4, 5]\n",
    "L.sort()\n",
    "print(L)\n",
    "L.sort(reverse=True)\n",
    "print(L)"
   ]
  },
  {
   "cell_type": "code",
   "execution_count": 5,
   "metadata": {},
   "outputs": [
    {
     "name": "stdout",
     "output_type": "stream",
     "text": [
      "[55, 98, 17, 4, 5]\n",
      "[4, 5, 17, 55, 98]\n",
      "[98, 55, 17, 5, 4]\n"
     ]
    }
   ],
   "source": [
    "# 列表的排序sorted()\n",
    "L = [55, 98, 17, 4, 5]\n",
    "L2 = sorted(L)\n",
    "L3 = sorted(L, reverse=True)\n",
    "print(L)\n",
    "print(L2)\n",
    "print(L3)"
   ]
  },
  {
   "cell_type": "code",
   "execution_count": 4,
   "metadata": {},
   "outputs": [
    {
     "name": "stdout",
     "output_type": "stream",
     "text": [
      "5\n"
     ]
    }
   ],
   "source": [
    "a = 3,5,6\n",
    "print(a[1])"
   ]
  }
 ],
 "metadata": {
  "kernelspec": {
   "display_name": "Python 3",
   "language": "python",
   "name": "python3"
  },
  "language_info": {
   "codemirror_mode": {
    "name": "ipython",
    "version": 3
   },
   "file_extension": ".py",
   "mimetype": "text/x-python",
   "name": "python",
   "nbconvert_exporter": "python",
   "pygments_lexer": "ipython3",
   "version": "3.10.9"
  },
  "orig_nbformat": 4
 },
 "nbformat": 4,
 "nbformat_minor": 2
}
