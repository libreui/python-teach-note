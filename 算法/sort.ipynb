{
 "cells": [
  {
   "cell_type": "code",
   "execution_count": null,
   "metadata": {},
   "outputs": [],
   "source": [
    "# 冒泡排序\n",
    "import numpy as np\n",
    "list = np.random.randint(100, size=10)\n",
    "for i in range(0, len(list)):\n",
    "    for j in range(0, len(list)-i-1):\n",
    "        if (list[j] > list[j+1]):\n",
    "            list[j], list[j+1] = list[j+1], list[j]\n",
    "print(list)"
   ]
  },
  {
   "cell_type": "code",
   "execution_count": null,
   "metadata": {},
   "outputs": [],
   "source": [
    "# 选择排序\n",
    "import numpy as np\n",
    "list = np.random.randint(100, size=10)\n",
    "n = len(list)\n",
    "for i in range(n):\n",
    "    k = i\n",
    "    for j in range(i+1, n):\n",
    "        if list[k] > list[j]:\n",
    "            k = j\n",
    "    if k != i:\n",
    "        list[i], list[k] = list[k], list[i]\n",
    "print(list)"
   ]
  }
 ],
 "metadata": {
  "kernelspec": {
   "display_name": "python310",
   "language": "python",
   "name": "python3"
  },
  "language_info": {
   "codemirror_mode": {
    "name": "ipython",
    "version": 3
   },
   "file_extension": ".py",
   "mimetype": "text/x-python",
   "name": "python",
   "nbconvert_exporter": "python",
   "pygments_lexer": "ipython3",
   "version": "3.10.9"
  },
  "orig_nbformat": 4
 },
 "nbformat": 4,
 "nbformat_minor": 2
}
