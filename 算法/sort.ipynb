{
 "cells": [
  {
   "cell_type": "code",
   "execution_count": null,
   "metadata": {},
   "outputs": [],
   "source": [
    "# 冒泡排序\n",
    "import numpy as np\n",
    "nums = np.random.randint(100, size=10)\n",
    "for i in range(0, len(nums)):\n",
    "    for j in range(0, len(nums)-i-1):\n",
    "        if nums[j] > nums[j + 1]:\n",
    "            nums[j], nums[j+1] = nums[j+1], nums[j]\n",
    "print(nums)\n",
    "\n",
    "# 简化版\n",
    "a = [3 ,1 , 5, 2]\n",
    "for i in range(len(a)):\n",
    "    for j in range(i, len(a)):\n",
    "        if a[i] > a[j]:\n",
    "            a[i], a[j] = a[j], a[i]\n",
    "print(a)"
   ]
  },
  {
   "cell_type": "code",
   "execution_count": null,
   "metadata": {},
   "outputs": [],
   "source": [
    "# 选择排序\n",
    "import numpy as np\n",
    "nums = np.random.randint(100, size=10)\n",
    "n = len(nums)\n",
    "for i in range(n):\n",
    "    k = i\n",
    "    for j in range(i+1, n):\n",
    "        if nums[k] > nums[j]:\n",
    "            k = j\n",
    "    if k != i:\n",
    "        nums[i], nums[k] = nums[k], nums[i]\n",
    "print(nums)"
   ]
  },
  {
   "cell_type": "code",
   "metadata": {
    "collapsed": false,
    "ExecuteTime": {
     "end_time": "2025-09-19T05:11:08.452813Z",
     "start_time": "2025-09-19T05:11:08.446926Z"
    }
   },
   "source": [
    "# 插入排序\n",
    "# import numpy as np\n",
    "# nums = np.random.randint(100, size=10)\n",
    "nums = [5, 9, 4, 3, 7, 6, 1, 2, 8]\n",
    "print(nums)\n",
    "count = len(nums)\n",
    "for i in range(1, count):\n",
    "    key = nums[i] # 取出一个数\n",
    "    j = i - 1 # 指针指向前一个数\n",
    "    while j >= 0 and nums[j] > key: # 如果前一个数比当前的取出的数大，指针继续向后移动\n",
    "        nums[j+1] = nums[j]\n",
    "        j -= 1\n",
    "    nums[j+1] = key\n",
    "print(nums)"
   ],
   "outputs": [
    {
     "name": "stdout",
     "output_type": "stream",
     "text": [
      "[5, 9, 4, 3, 7, 6, 1, 2, 8]\n",
      "[1, 2, 3, 4, 5, 6, 7, 8, 9]\n"
     ]
    }
   ],
   "execution_count": 3
  },
  {
   "cell_type": "code",
   "execution_count": 6,
   "outputs": [
    {
     "name": "stdout",
     "output_type": "stream",
     "text": [
      "[4, 3, 8, 7, 1, 6, 2, 9, 5]\n"
     ]
    }
   ],
   "source": [
    "# 猴子排序\n",
    "import random\n",
    "nums = [5, 9, 4, 3, 7, 6, 1, 2, 8]\n",
    "a = sorted(nums)\n",
    "lst = []\n",
    "while nums:\n",
    "    k = random.choice(nums)\n",
    "    lst.append(k)\n",
    "    nums.remove(k)\n",
    "print(lst)"
   ],
   "metadata": {
    "collapsed": false,
    "ExecuteTime": {
     "end_time": "2025-09-06T09:09:03.132090Z",
     "start_time": "2025-09-06T09:09:03.123569Z"
    }
   }
  },
  {
   "cell_type": "code",
   "execution_count": null,
   "outputs": [],
   "source": [
    "# 快速排序，同向指针法\n",
    "def quick_sort(a, p, r):\n",
    "    if p < r:\n",
    "        q = partion(a, p, r) # 分开列表， 并返回基准位置\n",
    "        quick_sort(a, p, q) # 小边排序\n",
    "        quick_sort(a, q+1, r) # 大边排序\n",
    "\n",
    "\n",
    "def partion(a, p, r):\n",
    "    i = p - 1 # 设置起始位置\n",
    "    for j in range(p, r):\n",
    "        if a[j] <= a[r]: # 找到一个比基准数小的\n",
    "            i += 1 # 前进一步\n",
    "            a[i], a[j] = a[j], a[i] # 交换当前位置与找到的小数\n",
    "    a[i+1], a[r] = a[r], a[i+1] # 把基准数交换到当前位置\n",
    "    return i\n",
    "\n",
    "\n",
    "list1 = [5, 3, 7, 6, 4, 1, 0, 2, 9, 10, 8]\n",
    "quick_sort(list1, 0, len(list1)-1)\n",
    "print(list1)"
   ],
   "metadata": {
    "collapsed": false
   }
  },
  {
   "cell_type": "code",
   "execution_count": 48,
   "outputs": [
    {
     "name": "stdout",
     "output_type": "stream",
     "text": [
      "[10, 9, 8, 7, 6, 5, 4, 3, 2, 1, 0]\n"
     ]
    }
   ],
   "source": [
    "# 快速排序，对向指针法（相同数字有Bug）\n",
    "def quick_sort(lst, l, r):\n",
    "    if l < r:\n",
    "        q = partion(lst, l, r)\n",
    "        quick_sort(lst, l, q)\n",
    "        quick_sort(lst, q+1, r)\n",
    "\n",
    "def partion(a, left, right):\n",
    "    r = a[left]\n",
    "    i, j = left, right\n",
    "    \n",
    "    while i < j:\n",
    "        while a[j] > r:\n",
    "            j -= 1\n",
    "        a[i], a[j] = a[j], a[i]\n",
    "        while a[i] < r:\n",
    "            i += 1\n",
    "        a[i], a[j] = a[j], a[i]\n",
    "    return i\n",
    "\n",
    "list1 = [5, 3, 7, 6, 4, 1, 0, 2, 9, 10, 8]\n",
    "quick_sort(list1, 0, len(list1)-1)\n",
    "print(list1)\n",
    "\n"
   ],
   "metadata": {
    "collapsed": false,
    "ExecuteTime": {
     "end_time": "2025-08-13T05:02:59.943169Z",
     "start_time": "2025-08-13T05:02:59.915824Z"
    }
   }
  },
  {
   "cell_type": "code",
   "execution_count": 45,
   "outputs": [
    {
     "name": "stdout",
     "output_type": "stream",
     "text": [
      "[0, 1, 2, 3, 4, 5, 6, 7, 8, 9, 10]\n"
     ]
    }
   ],
   "source": [
    "# 快速排序，分区法\n",
    "def quick_sort(arr):\n",
    "    if len(arr) <= 1:\n",
    "        return arr\n",
    "    min_, p, max_ = partion(arr)\n",
    "    # 合并结果\n",
    "    return quick_sort(min_) + [p] + quick_sort(max_)\n",
    " \n",
    "def partion(arr):\n",
    "    pivot = arr[0]\n",
    "    min_ = [x for x in arr[1:] if x < pivot]\n",
    "    max_ = [x for x in arr[1:] if x >= pivot]\n",
    "    return min_,pivot,max_\n",
    "    \n",
    "list1 = [5, 3, 7, 6, 4, 1, 0, 2, 9, 10, 8]\n",
    "print(quick_sort(list1))"
   ],
   "metadata": {
    "collapsed": false,
    "ExecuteTime": {
     "end_time": "2025-08-11T05:43:15.502096Z",
     "start_time": "2025-08-11T05:43:15.485042Z"
    }
   }
  },
  {
   "cell_type": "code",
   "execution_count": null,
   "outputs": [],
   "source": [
    "# 多维数据的快速排序处理\n",
    "# [5, 3, 7, 6, 4, 1, 0, 2, 9, 10, 8]\n",
    "alist = [('张三', 5), ('李四', 3), ('王五', 7), \n",
    "         ('赵六', 6), ('周七', 4), ('吴八', 1),\n",
    "         ('郑九', 0), ('孙十', 2), ('钱二', 9),\n",
    "         ('刘大', 10), ('满桌', 8)]\n",
    "\n",
    "blist = [('张三', 5), ('李四', 3), ('王五', 7), \n",
    "         ('赵六', 6), 4, ('吴八', 1),\n",
    "         ('郑九', 0), ('孙十', 2), ('钱二', 9),\n",
    "         ('刘大', 10), 8]\n",
    "\n",
    "# 快速排序，同向指针法\n",
    "def quick_sort(a, p, r):\n",
    "    if p < r:\n",
    "        q = partion(a, p, r) # 分开列表， 并返回基准位置\n",
    "        quick_sort(a, p, q) # 小边排序\n",
    "        quick_sort(a, q+1, r) # 大边排序\n",
    "\n",
    "\n",
    "def partion(a, p, r):\n",
    "    i = p - 1 # 设置起始位置\n",
    "    for j in range(p, r):\n",
    "        if a[j] <= a[r]: # 找到一个比基准数小的\n",
    "            i += 1 # 前进一步\n",
    "            a[i], a[j] = a[j], a[i] # 交换当前位置与找到的小数\n",
    "    a[i+1], a[r] = a[r], a[i+1] # 把基准数交换到当前位置\n",
    "    return i\n",
    "\n"
   ],
   "metadata": {
    "collapsed": false
   }
  },
  {
   "cell_type": "markdown",
   "source": [],
   "metadata": {
    "collapsed": false
   }
  }
 ],
 "metadata": {
  "kernelspec": {
   "display_name": "python310",
   "language": "python",
   "name": "python3"
  },
  "language_info": {
   "codemirror_mode": {
    "name": "ipython",
    "version": 3
   },
   "file_extension": ".py",
   "mimetype": "text/x-python",
   "name": "python",
   "nbconvert_exporter": "python",
   "pygments_lexer": "ipython3",
   "version": "3.10.9"
  },
  "orig_nbformat": 4
 },
 "nbformat": 4,
 "nbformat_minor": 2
}
