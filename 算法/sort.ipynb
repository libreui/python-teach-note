{
 "cells": [
  {
   "cell_type": "code",
   "execution_count": 116,
   "metadata": {
    "ExecuteTime": {
     "end_time": "2023-10-26T09:52:24.700650Z",
     "start_time": "2023-10-26T09:52:24.692187Z"
    }
   },
   "outputs": [
    {
     "name": "stdout",
     "output_type": "stream",
     "text": [
      "[33 39 51 64 65 72 76 91 96 99]\n"
     ]
    }
   ],
   "source": [
    "# 冒泡排序\n",
    "import numpy as np\n",
    "nums = np.random.randint(100, size=10)\n",
    "for i in range(0, len(nums)):\n",
    "    for j in range(0, len(nums)-i-1):\n",
    "        if nums[j] > nums[j + 1]:\n",
    "            nums[j], nums[j+1] = nums[j+1], nums[j]\n",
    "print(nums)\n",
    "\n",
    "# 简化版\n",
    "a = [3 ,1 , 5, 2]\n",
    "for i in range(len(a)):\n",
    "    for j in range(i, len(a)):\n",
    "        if a[i] > a[j]:\n",
    "            a[i], a[j] = a[j], a[i]\n",
    "print(a)"
   ]
  },
  {
   "cell_type": "code",
   "execution_count": 126,
   "metadata": {
    "ExecuteTime": {
     "end_time": "2023-10-26T09:52:51.680140Z",
     "start_time": "2023-10-26T09:52:51.671860Z"
    }
   },
   "outputs": [
    {
     "name": "stdout",
     "output_type": "stream",
     "text": [
      "[14 15 18 39 54 66 71 77 79 91]\n"
     ]
    }
   ],
   "source": [
    "# 选择排序\n",
    "import numpy as np\n",
    "nums = np.random.randint(100, size=10)\n",
    "n = len(nums)\n",
    "for i in range(n):\n",
    "    k = i\n",
    "    for j in range(i+1, n):\n",
    "        if nums[k] > nums[j]:\n",
    "            k = j\n",
    "    if k != i:\n",
    "        nums[i], nums[k] = nums[k], nums[i]\n",
    "print(nums)"
   ]
  },
  {
   "cell_type": "code",
   "execution_count": 15,
   "metadata": {
    "ExecuteTime": {
     "end_time": "2023-10-26T09:51:01.571235Z",
     "start_time": "2023-10-26T09:51:01.563895Z"
    },
    "collapsed": false
   },
   "outputs": [
    {
     "name": "stdout",
     "output_type": "stream",
     "text": [
      "[22 60 89 57 38 49 76 42  5 39]\n",
      "[ 5 22 38 39 42 49 57 60 76 89]\n"
     ]
    }
   ],
   "source": [
    "# 插入排序\n",
    "import numpy as np\n",
    "nums = np.random.randint(100, size=10)\n",
    "print(nums)\n",
    "count = len(nums)\n",
    "for i in range(1, count):\n",
    "    key = nums[i] # 取出一个数\n",
    "    j = i - 1 # 指针指向前一个数\n",
    "    while j >= 0 and nums[j] > key: # 如果前一个数比当前的取出的数大，指针继续向后移动\n",
    "        nums[j+1] = nums[j]\n",
    "        j -= 1\n",
    "    nums[j+1] = key\n",
    "print(nums)"
   ]
  },
  {
   "cell_type": "code",
   "execution_count": 1,
   "metadata": {},
   "outputs": [
    {
     "name": "stdout",
     "output_type": "stream",
     "text": [
      "[1, 2, 3, 5]\n"
     ]
    }
   ],
   "source": [
    "a = [3 ,1 , 5, 2]\n",
    "for i in range(len(a)):\n",
    "    for j in range(i, len(a)):\n",
    "        if a[i] > a[j]:\n",
    "            a[i], a[j] = a[j], a[i]\n",
    "print(a)"
   ]
  }
 ],
 "metadata": {
  "kernelspec": {
   "display_name": "python310",
   "language": "python",
   "name": "python3"
  },
  "language_info": {
   "codemirror_mode": {
    "name": "ipython",
    "version": 3
   },
   "file_extension": ".py",
   "mimetype": "text/x-python",
   "name": "python",
   "nbconvert_exporter": "python",
   "pygments_lexer": "ipython3",
   "version": "3.10.9"
  },
  "orig_nbformat": 4
 },
 "nbformat": 4,
 "nbformat_minor": 2
}
