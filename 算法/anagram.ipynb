{
 "cells": [
  {
   "cell_type": "code",
   "execution_count": 8,
   "id": "initial_id",
   "metadata": {
    "collapsed": true,
    "ExecuteTime": {
     "end_time": "2025-08-28T05:47:31.668196Z",
     "start_time": "2025-08-28T05:47:31.655841Z"
    }
   },
   "outputs": [
    {
     "name": "stdout",
     "output_type": "stream",
     "text": [
      " 0.0000088\n",
      "573147844013817084101\n"
     ]
    }
   ],
   "source": [
    "def foo(n):\n",
    "    if n == 1:\n",
    "        return 1\n",
    "    if n == 2:\n",
    "        return 1\n",
    "    return foo(n-1) + foo(n-2)\n",
    "\n",
    "# O(1) \n",
    "# T(n) = n(n(n+n))) n&k\n",
    "import time\n",
    "def f(n):\n",
    "    start = time.time()\n",
    "    a = 1\n",
    "    b = 1\n",
    "    for _ in range(2, n+1):\n",
    "        c = a + b\n",
    "        a = b\n",
    "        b = c\n",
    "    end = time.time()\n",
    "\n",
    "    print(\"%10.7f\" % (end - start))\n",
    "    return c\n",
    "\n",
    "print(f(100))"
   ]
  }
 ],
 "metadata": {
  "kernelspec": {
   "display_name": "Python 3",
   "language": "python",
   "name": "python3"
  },
  "language_info": {
   "codemirror_mode": {
    "name": "ipython",
    "version": 2
   },
   "file_extension": ".py",
   "mimetype": "text/x-python",
   "name": "python",
   "nbconvert_exporter": "python",
   "pygments_lexer": "ipython2",
   "version": "2.7.6"
  }
 },
 "nbformat": 4,
 "nbformat_minor": 5
}
