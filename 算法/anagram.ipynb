{
 "cells": [
  {
   "cell_type": "code",
   "id": "initial_id",
   "metadata": {
    "collapsed": true,
    "ExecuteTime": {
     "end_time": "2025-09-20T01:12:09.379578Z",
     "start_time": "2025-09-20T01:12:09.372761Z"
    }
   },
   "source": [
    "# O(n)\n",
    "def is_anagram(s1:str, s2:str) -> bool:\n",
    "    char_dict = {}\n",
    "\n",
    "    for char in s1:\n",
    "        char_dict[char] = char_dict.get(char, 0) + 1\n",
    "\n",
    "    for char in s2:\n",
    "        if char not in char_dict or char_dict[char] == 0:\n",
    "            return False\n",
    "        char_dict[char] = char_dict.get(char, 0) - 1\n",
    "\n",
    "    for char in char_dict:\n",
    "        if char_dict[char] >= 0:\n",
    "            return False\n",
    "    return  True\n",
    "\n",
    "a = is_anagram('banana', 'nanab')\n",
    "print(a)"
   ],
   "outputs": [
    {
     "name": "stdout",
     "output_type": "stream",
     "text": [
      "False\n"
     ]
    }
   ],
   "execution_count": 21
  },
  {
   "metadata": {},
   "cell_type": "code",
   "outputs": [],
   "execution_count": null,
   "source": [
    "def is_anagram(s1:str, s2:str) -> bool:\n",
    "    char_list = [0] * 26\n",
    "    for char in s1:\n",
    "        char_list[ord(char) - ord('a')] += 1\n",
    "\n",
    "    for char in s2:\n",
    "        char_list[ord(char) - ord('a')] -= 1\n",
    "\n",
    "    if sum(char_list) != 0:\n",
    "        return False\n",
    "    return True"
   ],
   "id": "af5d5407718e9f36"
  }
 ],
 "metadata": {
  "kernelspec": {
   "display_name": "Python 3",
   "language": "python",
   "name": "python3"
  },
  "language_info": {
   "codemirror_mode": {
    "name": "ipython",
    "version": 2
   },
   "file_extension": ".py",
   "mimetype": "text/x-python",
   "name": "python",
   "nbconvert_exporter": "python",
   "pygments_lexer": "ipython2",
   "version": "2.7.6"
  }
 },
 "nbformat": 4,
 "nbformat_minor": 5
}
