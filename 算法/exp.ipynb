{
 "cells": [
  {
   "cell_type": "code",
   "execution_count": 1,
   "id": "initial_id",
   "metadata": {
    "collapsed": true,
    "ExecuteTime": {
     "end_time": "2025-08-01T09:12:41.458196Z",
     "start_time": "2025-08-01T09:12:41.452120Z"
    }
   },
   "outputs": [
    {
     "name": "stdout",
     "output_type": "stream",
     "text": [
      "圆的面积是：314.1592653589793\n"
     ]
    }
   ],
   "source": [
    "# 解析算法\n",
    "# 计算圆的面积\n",
    "import math\n",
    "r = 10\n",
    "S = math.pi * r ** 2\n",
    "print(f\"圆的面积是：{S}\")"
   ]
  },
  {
   "cell_type": "code",
   "execution_count": 2,
   "outputs": [
    {
     "name": "stdout",
     "output_type": "stream",
     "text": [
      "5050\n"
     ]
    }
   ],
   "source": [
    "# 1 + 100和 \n",
    "# 枚举算法\n",
    "s = 0\n",
    "for i in range(1, 101):\n",
    "    s += i\n",
    "    \n",
    "print(s)\n"
   ],
   "metadata": {
    "collapsed": false,
    "ExecuteTime": {
     "end_time": "2025-08-01T09:18:02.687184Z",
     "start_time": "2025-08-01T09:18:02.675355Z"
    }
   },
   "id": "749ce4c9b1b685cc"
  }
 ],
 "metadata": {
  "kernelspec": {
   "display_name": "Python 3",
   "language": "python",
   "name": "python3"
  },
  "language_info": {
   "codemirror_mode": {
    "name": "ipython",
    "version": 2
   },
   "file_extension": ".py",
   "mimetype": "text/x-python",
   "name": "python",
   "nbconvert_exporter": "python",
   "pygments_lexer": "ipython2",
   "version": "2.7.6"
  }
 },
 "nbformat": 4,
 "nbformat_minor": 5
}
