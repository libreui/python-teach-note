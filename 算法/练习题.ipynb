{
 "cells": [
  {
   "cell_type": "markdown",
   "source": [
    "\n",
    "在一列表中产生n(n>=10)个10以内的数据，删除其重复数据并按照升序排序输出，同时\n",
    "输出删除数据的个数\n",
    "例如输入：n=10\n",
    "随机产生 a=[1,2,3,7,4,7,3,8,5,7]\n",
    "输出 a=[1,2,3,4,5,7,8]\n",
    "输出 共删除数据为3个\n"
   ],
   "metadata": {
    "collapsed": false
   },
   "id": "6bd8bd454a79c476"
  },
  {
   "cell_type": "code",
   "execution_count": null,
   "outputs": [],
   "source": [
    "import random\n",
    "maxn = int(input(\"请输入要产生的数据个数：\"))\n",
    "a = []\n",
    "for i in range(maxn):\n",
    "    a.append(random.randint(1, 10))\n",
    "print(\"原始数据：\")\n",
    "print(a)\n",
    "key, n = 0, maxn\n",
    "while key < n:\n",
    "    i = n-1\n",
    "    while a[i] != a[key]:\n",
    "        i = i - 1\n",
    "    if i == key:\n",
    "        key = key + 1\n",
    "    else:\n",
    "        a.remove(a[i])\n",
    "        n = n - 1\n",
    "for i in range(n):\n",
    "    for j in range(n-1-i):\n",
    "        if a[j] > a[j+1]:\n",
    "            a[j], a[j+1] = a[j+1], a[j]\n",
    "print(\"去重后的排序数据：\")\n",
    "print(a)\n",
    "print(\"共删除数据\", key, \"个\")"
   ],
   "metadata": {
    "collapsed": false
   },
   "id": "85a2ea080bbc58c2"
  },
  {
   "cell_type": "markdown",
   "source": [
    "### 员工薪资排序\n",
    "某公司有 100 名员工的薪资数据（包含姓名和月薪），请实现一个程序，使用冒泡排序按照薪资从低到高对员工信息进行排序。要求排序过程中如果遇到薪资相同的情况，则按姓名的拼音首字母顺序排列。\n",
    "\n",
    "\n",
    "### 电商订单金额筛选与排序\n",
    "电商平台需要对一天内的 500 条订单按金额从高到低排序，使用选择排序实现。排序完成后，筛选出金额大于 1000 元的订单，并统计这些订单的总金额。\n",
    "\n",
    "\n",
    "### 图书管理系统的 ISBN 插入排序\n",
    "图书馆新进一批图书（约 200 本），每本图书包含 ISBN 号（字符串类型）和书名。请使用插入排序，按照 ISBN 号的数字部分（忽略前缀字母）从小到大的顺序，将新图书插入到已排序的图书列表中，并保持列表始终有序。\n",
    "\n",
    "\n",
    "### 学生成绩综合排序\n",
    "某班级 30 名学生的期末成绩包含语文、数学、英语三科分数。请先用冒泡排序按数学成绩降序排列，若数学成绩相同则按语文成绩降序，仍相同则按英语成绩降序。再用选择排序对同一批数据按总分（三科相加）升序排列，比较两种排序结果的差异。\n",
    "\n",
    "\n",
    "#### 物流包裹重量排序\n",
    "物流公司有一批包裹（约 150 个），每个包裹记录了重量（单位：kg，可能包含小数）和目的地。请使用插入排序按重量从轻到重排序，排序过程中每插入一个新包裹，都要输出当前已排序的前 10 个最轻包裹的信息。"
   ],
   "metadata": {
    "collapsed": false
   },
   "id": "f6f193213f873d78"
  },
  {
   "cell_type": "code",
   "execution_count": null,
   "outputs": [],
   "source": [],
   "metadata": {
    "collapsed": false
   },
   "id": "510ed8eb81989786"
  }
 ],
 "metadata": {
  "kernelspec": {
   "display_name": "Python 3",
   "language": "python",
   "name": "python3"
  },
  "language_info": {
   "codemirror_mode": {
    "name": "ipython",
    "version": 2
   },
   "file_extension": ".py",
   "mimetype": "text/x-python",
   "name": "python",
   "nbconvert_exporter": "python",
   "pygments_lexer": "ipython2",
   "version": "2.7.6"
  }
 },
 "nbformat": 4,
 "nbformat_minor": 5
}
