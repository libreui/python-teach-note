{
 "cells": [
  {
   "cell_type": "code",
   "execution_count": 7,
   "metadata": {},
   "outputs": [
    {
     "name": "stdout",
     "output_type": "stream",
     "text": [
      "[1, 2, 3, 4, 5, 6, 7, 8, 9] 36\n"
     ]
    }
   ],
   "source": [
    "# 冒泡排序\n",
    "a = [5, 9, 4, 3, 7, 6, 1, 2, 8]\n",
    "n = 0\n",
    "for i in range(0, len(a)):\n",
    "    for j in range(0, len(a)-i-1):\n",
    "        if a[j+1] < a[j]:\n",
    "            a[j], a[j+1] = a[j+1], a[j]\n",
    "print(a, n)"
   ]
  },
  {
   "cell_type": "code",
   "execution_count": 10,
   "metadata": {},
   "outputs": [
    {
     "name": "stdout",
     "output_type": "stream",
     "text": [
      "[1, 2, 3, 4, 5, 6, 7, 8, 9]\n"
     ]
    }
   ],
   "source": [
    "# 选择排序\n",
    "a = [5, 9, 4, 3, 7, 6, 1, 2, 8]\n",
    "6, 9\n",
    "for i in range(0, len(a)-1):\n",
    "    k = i\n",
    "    for j in range(i, len(a)):\n",
    "        if a[k] > a[j]:\n",
    "            k = j\n",
    "    if k != i:\n",
    "        a[i], a[k] = a[k], a[i]\n",
    "print(a)"
   ]
  },
  {
   "cell_type": "code",
   "execution_count": 4,
   "metadata": {},
   "outputs": [
    {
     "name": "stdout",
     "output_type": "stream",
     "text": [
      "3\n"
     ]
    }
   ],
   "source": [
    "# 插入排序\n",
    "a = [5, 9, 4, 3, 7, 6, 1, 2, 8]\n",
    "count = 0\n",
    "for i in range(1, 1001):\n",
    "    child = []\n",
    "    for j in range(1, i):\n",
    "        if i % j == 0:\n",
    "            child.append(j)\n",
    "    if sum(child) == i:\n",
    "        count += 1\n",
    "print(count)"
   ]
  },
  {
   "cell_type": "code",
   "execution_count": 10,
   "metadata": {},
   "outputs": [
    {
     "name": "stdout",
     "output_type": "stream",
     "text": [
      "[855855, 858000]\n"
     ]
    }
   ],
   "source": [
    "print([i for i in range(850000, 860000) if (i % 13 == 0) and (i % 33 == 0) and (i % 10 == (i // 10 % 10))])"
   ]
  },
  {
   "cell_type": "markdown",
   "metadata": {},
   "source": [
    "### 解析算法"
   ]
  },
  {
   "cell_type": "markdown",
   "metadata": {},
   "source": [
    "### 冒泡排序"
   ]
  },
  {
   "cell_type": "code",
   "execution_count": 3,
   "metadata": {},
   "outputs": [
    {
     "name": "stdout",
     "output_type": "stream",
     "text": [
      "[8, 7, 5, 4, 3]\n"
     ]
    }
   ],
   "source": [
    "lst = [5, 8, 4, 3, 7]\n",
    "for i in range(0, len(lst)-1):\n",
    "    for j in range(0, len(lst)-1-i):\n",
    "        if lst[j+1] > lst[j]:\n",
    "            lst[j], lst[j+1] = lst[j+1], lst[j]\n",
    "print(lst)"
   ]
  },
  {
   "cell_type": "code",
   "execution_count": 72,
   "metadata": {},
   "outputs": [
    {
     "name": "stdout",
     "output_type": "stream",
     "text": [
      "[6, 11, 5, 8, 9, 20, 13, 1, 9, 20, 14, 2, 5, 2, 9, 1, 6, 7, 2, 8]\n"
     ]
    }
   ],
   "source": [
    "import random\n",
    "maxn = 20\n",
    "a = []\n",
    "for i in range(0, maxn):\n",
    "    a.append(random.randint(0, maxn))\n",
    "print(a)\n",
    "# 查找重复的元素 \n",
    "# {5: 2, 8: 1}\n"
   ]
  },
  {
   "cell_type": "code",
   "execution_count": null,
   "metadata": {},
   "outputs": [],
   "source": [
    "# lst = [5, 8, 4, 3, 7]\n",
    "# 从小到大，按元组第一个数字排序；如果相同，按第二个数字倒序\n",
    "lst = [(5, 1), (8, 2), (4, 3), (5, 4), (3, 5), (7, 6), (7, 9)]\n",
    "\n"
   ]
  }
 ],
 "metadata": {
  "kernelspec": {
   "display_name": "python310",
   "language": "python",
   "name": "python3"
  },
  "language_info": {
   "codemirror_mode": {
    "name": "ipython",
    "version": 3
   },
   "file_extension": ".py",
   "mimetype": "text/x-python",
   "name": "python",
   "nbconvert_exporter": "python",
   "pygments_lexer": "ipython3",
   "version": "3.10.13"
  }
 },
 "nbformat": 4,
 "nbformat_minor": 2
}
