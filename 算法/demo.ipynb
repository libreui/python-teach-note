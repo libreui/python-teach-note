{
 "cells": [
  {
   "cell_type": "code",
   "execution_count": 7,
   "metadata": {},
   "outputs": [
    {
     "name": "stdout",
     "output_type": "stream",
     "text": [
      "[1, 2, 3, 4, 5, 6, 7, 8, 9] 36\n"
     ]
    }
   ],
   "source": [
    "# 冒泡排序\n",
    "a = [5, 9, 4, 3, 7, 6, 1, 2, 8]\n",
    "n = 0\n",
    "for i in range(0, len(a)):\n",
    "    for j in range(0, len(a)-i-1):\n",
    "        if a[j+1] < a[j]:\n",
    "            a[j], a[j+1] = a[j+1], a[j]\n",
    "print(a, n)"
   ]
  },
  {
   "cell_type": "code",
   "execution_count": 10,
   "metadata": {},
   "outputs": [
    {
     "name": "stdout",
     "output_type": "stream",
     "text": [
      "[1, 2, 3, 4, 5, 6, 7, 8, 9]\n"
     ]
    }
   ],
   "source": [
    "# 选择排序\n",
    "a = [5, 9, 4, 3, 7, 6, 1, 2, 8]\n",
    "6, 9\n",
    "for i in range(0, len(a)-1):\n",
    "    k = i\n",
    "    for j in range(i, len(a)):\n",
    "        if a[k] > a[j]:\n",
    "            k = j\n",
    "    if k != i:\n",
    "        a[i], a[k] = a[k], a[i]\n",
    "print(a)"
   ]
  },
  {
   "cell_type": "code",
   "execution_count": null,
   "metadata": {},
   "outputs": [],
   "source": [
    "# 插入排序\n",
    "a = [5, 9, 4, 3, 7, 6, 1, 2, 8]"
   ]
  }
 ],
 "metadata": {
  "kernelspec": {
   "display_name": "python310",
   "language": "python",
   "name": "python3"
  },
  "language_info": {
   "codemirror_mode": {
    "name": "ipython",
    "version": 3
   },
   "file_extension": ".py",
   "mimetype": "text/x-python",
   "name": "python",
   "nbconvert_exporter": "python",
   "pygments_lexer": "ipython3",
   "version": "3.10.9"
  }
 },
 "nbformat": 4,
 "nbformat_minor": 2
}
