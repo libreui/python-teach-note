{
 "cells": [
  {
   "cell_type": "code",
   "execution_count": 7,
   "metadata": {},
   "outputs": [
    {
     "name": "stdout",
     "output_type": "stream",
     "text": [
      "[1, 2, 3, 4, 5, 6, 7, 8, 9] 36\n"
     ]
    }
   ],
   "source": [
    "# 冒泡排序\n",
    "a = [5, 9, 4, 3, 7, 6, 1, 2, 8]\n",
    "n = 0\n",
    "for i in range(0, len(a)):\n",
    "    for j in range(0, len(a)-i-1):\n",
    "        if a[j+1] < a[j]:\n",
    "            a[j], a[j+1] = a[j+1], a[j]\n",
    "print(a, n)"
   ]
  },
  {
   "cell_type": "code",
   "execution_count": 10,
   "metadata": {},
   "outputs": [
    {
     "name": "stdout",
     "output_type": "stream",
     "text": [
      "[1, 2, 3, 4, 5, 6, 7, 8, 9]\n"
     ]
    }
   ],
   "source": [
    "# 选择排序\n",
    "a = [5, 9, 4, 3, 7, 6, 1, 2, 8]\n",
    "6, 9\n",
    "for i in range(0, len(a)-1):\n",
    "    k = i\n",
    "    for j in range(i, len(a)):\n",
    "        if a[k] > a[j]:\n",
    "            k = j\n",
    "    if k != i:\n",
    "        a[i], a[k] = a[k], a[i]\n",
    "print(a)"
   ]
  },
  {
   "cell_type": "code",
   "execution_count": 4,
   "metadata": {},
   "outputs": [
    {
     "name": "stdout",
     "output_type": "stream",
     "text": [
      "3\n"
     ]
    }
   ],
   "source": [
    "# 插入排序\n",
    "a = [5, 9, 4, 3, 7, 6, 1, 2, 8]\n",
    "count = 0\n",
    "for i in range(1, 1001):\n",
    "    child = []\n",
    "    for j in range(1, i):\n",
    "        if i % j == 0:\n",
    "            child.append(j)\n",
    "    if sum(child) == i:\n",
    "        count += 1\n",
    "print(count)"
   ]
  },
  {
   "cell_type": "code",
   "execution_count": 10,
   "metadata": {},
   "outputs": [
    {
     "name": "stdout",
     "output_type": "stream",
     "text": [
      "[855855, 858000]\n"
     ]
    }
   ],
   "source": [
    "print([i for i in range(850000, 860000) if (i % 13 == 0) and (i % 33 == 0) and (i % 10 == (i // 10 % 10))])"
   ]
  },
  {
   "cell_type": "markdown",
   "metadata": {},
   "source": [
    "### 解析算法"
   ]
  },
  {
   "cell_type": "markdown",
   "metadata": {},
   "source": [
    "### 冒泡排序"
   ]
  },
  {
   "cell_type": "code",
   "execution_count": 3,
   "metadata": {},
   "outputs": [
    {
     "name": "stdout",
     "output_type": "stream",
     "text": [
      "[8, 7, 5, 4, 3]\n"
     ]
    }
   ],
   "source": [
    "lst = [5, 8, 4, 3, 7]\n",
    "for i in range(0, len(lst)-1):\n",
    "    for j in range(0, len(lst)-1-i):\n",
    "        if lst[j+1] > lst[j]:\n",
    "            lst[j], lst[j+1] = lst[j+1], lst[j]\n",
    "print(lst)"
   ]
  },
  {
   "cell_type": "code",
   "execution_count": 72,
   "metadata": {},
   "outputs": [
    {
     "name": "stdout",
     "output_type": "stream",
     "text": [
      "[6, 11, 5, 8, 9, 20, 13, 1, 9, 20, 14, 2, 5, 2, 9, 1, 6, 7, 2, 8]\n"
     ]
    }
   ],
   "source": [
    "import random\n",
    "maxn = 20\n",
    "a = []\n",
    "for i in range(0, maxn):\n",
    "    a.append(random.randint(0, maxn))\n",
    "print(a)\n",
    "# 查找重复的元素 \n",
    "# {5: 2, 8: 1}\n"
   ]
  },
  {
   "cell_type": "code",
   "execution_count": null,
   "metadata": {},
   "outputs": [],
   "source": [
    "# lst = [5, 8, 4, 3, 7]\n",
    "# 从小到大，按元组第一个数字排序；如果相同，按第二个数字倒序\n",
    "lst = [(5, 1), (8, 2), (4, 3), (5, 4), (3, 5), (7, 6), (7, 9)]\n",
    "\n"
   ]
  },
  {
   "cell_type": "code",
   "execution_count": 3,
   "outputs": [
    {
     "name": "stdout",
     "output_type": "stream",
     "text": [
      "[1, 1, 2, 3, 4, 5]\n"
     ]
    }
   ],
   "source": [
    "lst = [4, 1, 3, 1, 5, 2]\n",
    "for i in range(len(lst)):\n",
    "    k = i\n",
    "    for j in range(i+1, len(lst)):\n",
    "        if lst[k] > lst[j]:\n",
    "            k = j\n",
    "    if k != i:\n",
    "        lst[i], lst[k] = lst[k], lst[i]\n",
    "print(lst)\n",
    "        "
   ],
   "metadata": {
    "collapsed": false,
    "ExecuteTime": {
     "end_time": "2024-08-31T02:32:08.099390Z",
     "start_time": "2024-08-31T02:32:08.090204Z"
    }
   }
  },
  {
   "cell_type": "code",
   "execution_count": 6,
   "outputs": [
    {
     "name": "stdout",
     "output_type": "stream",
     "text": [
      "[1, 1, 2, 3, 4, 5]\n"
     ]
    }
   ],
   "source": [
    "lst = [4, 1, 3, 1, 5, 2]\n",
    "n = len(lst)\n",
    "for i in range(n):\n",
    "    for j in range(n-1-i):\n",
    "        if lst[j] > lst[j+1]:\n",
    "            lst[j], lst[j+1] = lst[j+1], lst[j]\n",
    "print(lst)\n",
    "            "
   ],
   "metadata": {
    "collapsed": false,
    "ExecuteTime": {
     "end_time": "2024-08-31T02:46:42.333440Z",
     "start_time": "2024-08-31T02:46:42.322265Z"
    }
   }
  },
  {
   "cell_type": "code",
   "execution_count": 7,
   "outputs": [
    {
     "name": "stdout",
     "output_type": "stream",
     "text": [
      "[(3, 5), (5, 4), (4, 3), (5, 1), (7, 9), (7, 6), (8, 2)]\n"
     ]
    }
   ],
   "source": [
    "# 使用选择排序，从小到大，按元组第一个数字排序；如果相同，按第二个数字倒序\n",
    "lst = [(5, 1), (8, 2), (4, 3), (5, 4), (3, 5), (7, 6), (7, 9)]\n",
    "for i in range(len(lst)-1):\n",
    "    k = i\n",
    "    for j in range(i+1, len(lst)):\n",
    "        if lst[k][0] > lst[j][0]:\n",
    "            k = j\n",
    "        elif lst[k][0] == lst[j][0] and lst[k][1] < lst[j][1]:\n",
    "            k = j\n",
    "        if k != i:\n",
    "            lst[i], lst[k] = lst[k], lst[i]\n",
    "print(lst)mm"
   ],
   "metadata": {
    "collapsed": false,
    "ExecuteTime": {
     "end_time": "2024-08-31T02:54:10.850834Z",
     "start_time": "2024-08-31T02:54:10.842327Z"
    }
   }
  },
  {
   "cell_type": "code",
   "execution_count": 11,
   "outputs": [
    {
     "name": "stdout",
     "output_type": "stream",
     "text": [
      "[2, 3, 5, 5, 8]\n"
     ]
    }
   ],
   "source": [
    "lst = [5, 3, 5, 2, 8]\n",
    "n = len(lst)\n",
    "for i in range(1, n):\n",
    "    key = lst[i]\n",
    "    j = i - 1 \n",
    "    while j >= 0 and key < lst[j]:\n",
    "        lst[j+1] = lst[j]\n",
    "        j -= 1\n",
    "        lst[j+1] = key\n",
    "print(lst)\n",
    "        "
   ],
   "metadata": {
    "collapsed": false,
    "ExecuteTime": {
     "end_time": "2024-09-01T02:26:40.369219Z",
     "start_time": "2024-09-01T02:26:40.360084Z"
    }
   }
  },
  {
   "cell_type": "code",
   "execution_count": 35,
   "outputs": [
    {
     "name": "stdout",
     "output_type": "stream",
     "text": [
      "45\n",
      "45的位置是：2\n"
     ]
    }
   ],
   "source": [
    "import random\n",
    "lst = [32, 12, 45, 67, 89, 23, 45, 12, 34, 56] # 随机数1-100\n",
    "key = random.choice(lst) # 将要查找的内容\n",
    "print(key)\n",
    "b = -1 # 默认位置\n",
    "n = len(lst) # 列表的长度\n",
    "for i in range(n):\n",
    "    if lst[i] == key:\n",
    "        b = i\n",
    "        break\n",
    "if b != -1:\n",
    "    print(f\"{key}的位置是：{b}\")\n",
    "else:\n",
    "    print(f\"{key}不在列表中\")"
   ],
   "metadata": {
    "collapsed": false,
    "ExecuteTime": {
     "end_time": "2024-09-21T03:10:04.911103Z",
     "start_time": "2024-09-21T03:10:04.900132Z"
    }
   }
  },
  {
   "cell_type": "markdown",
   "source": [
    "# 定义一个列表，里面存放元组，里面有姓名和总成绩 10个\n",
    "lst = [\n",
    "    (\"张三\", 90),\n",
    "    (\"李四\", 80),\n",
    "    (\"王五\", 70),\n",
    "    (\"赵六\", 60),\n",
    "    (\"钱七\", 50),\n",
    "    (\"孙八\", 40),\n",
    "    (\"周九\", 30),\n",
    "    (\"吴十\", 20), \n",
    "]\n"
   ],
   "metadata": {
    "collapsed": false
   }
  },
  {
   "cell_type": "code",
   "execution_count": 43,
   "outputs": [
    {
     "name": "stdout",
     "output_type": "stream",
     "text": [
      "[3, 8, 12, 13, 24, 27, 54, 59, 68, 87]\n",
      "要查找的数是：187\n",
      "187不在列表中\n"
     ]
    }
   ],
   "source": [
    "import random\n",
    "lst = [random.randint(1, 100) for _ in range(10)]\n",
    "# D_05_排序\n",
    "for i in range(len(lst)-1):\n",
    "    for j in range(len(lst)-1-i):\n",
    "        if lst[j] > lst[j+1]:\n",
    "            lst[j], lst[j+1] = lst[j+1], lst[j]\n",
    "            \n",
    "print(lst)\n",
    "            \n",
    "# 二分查找\n",
    "key = random.choice(lst)\n",
    "print(f\"要查找的数是：{key}\")\n",
    "b = -1\n",
    "left, right = 0, len(lst)-1\n",
    "while left <= right:\n",
    "    m = (left + right) // 2\n",
    "    if key == lst[m]:\n",
    "        b = m\n",
    "        break\n",
    "    elif key < lst[m]:\n",
    "        right = m - 1\n",
    "    else:\n",
    "        left = m + 1\n",
    "        \n",
    "if b == -1:\n",
    "    print(f\"{key}不在列表中\")\n",
    "else:\n",
    "    print(f\"{key}的位置是：{b}\")"
   ],
   "metadata": {
    "collapsed": false,
    "ExecuteTime": {
     "end_time": "2024-09-22T02:59:55.788599Z",
     "start_time": "2024-09-22T02:59:55.765219Z"
    }
   }
  },
  {
   "cell_type": "code",
   "execution_count": 1,
   "outputs": [
    {
     "name": "stdout",
     "output_type": "stream",
     "text": [
      "5050\n"
     ]
    }
   ],
   "source": [
    "def foo(n):\n",
    "    s = 0\n",
    "    for i in range(1, n+1):\n",
    "        s += i\n",
    "    return s\n",
    "print(foo(100))\n",
    "\n",
    "def foo1(n):\n",
    "    fred = 0\n",
    "    for bill in range(1, n + 1):\n",
    "        barney = bill\n",
    "        fred = fred + barney\n",
    "    return fred\n",
    "\n",
    "def foo2(n):\n",
    "    return (n*(n+1))/2\n",
    "\"\"\"\n",
    "O[1, logn, n, nlogn, n^2, n^3, 2^n]\n",
    "\n",
    "T(n) = 1 + n = O(n)\n",
    "T(n) = 1 + 2n\n",
    "T(n) = 1 = O(1)\n",
    "10^n = 100\n",
    "\"\"\""
   ],
   "metadata": {
    "collapsed": false,
    "ExecuteTime": {
     "end_time": "2025-08-27T05:05:52.843618Z",
     "start_time": "2025-08-27T05:05:52.782962Z"
    }
   }
  },
  {
   "cell_type": "code",
   "execution_count": 16,
   "outputs": [
    {
     "name": "stdout",
     "output_type": "stream",
     "text": [
      "[37, 27, 6, 31, 20, 43, 12, 45, 7, 50, 3, 36, 13, 15, 38, 24, 42, 11, 39, 45, 23, 7, 13, 10, 1, 15, 30, 37, 40, 37, 44, 15, 19, 26, 18, 13, 8, 14, 24, 27, 28, 7, 8, 19, 37, 39, 10, 4, 42, 6, 16, 43, 44, 46, 46, 47, 48, 49, 53, 54, 55, 56, 58, 59, 59, 60, 61, 61, 62, 62, 63, 63, 66, 66, 68, 68, 68, 69, 70, 71, 73, 73, 73, 78, 79, 82, 83, 85, 87, 89, 91, 91, 91, 93, 94, 94, 94, 95, 97, 98, 100]\n"
     ]
    }
   ],
   "source": [
    "import random\n",
    "n = 100\n",
    "a = [random.randint(1, n) for _ in range(n+1)]\n",
    "for i in range(len(a)): \n",
    "        for j in range(i, len(a)-1-i):\n",
    "            if a[j] > a[j+1]:\n",
    "                a[j], a[j+1] = a[j+1], a[j]\n",
    "print(a)\n",
    "# 1-99\n",
    "# 2-98\n",
    "# 3-97\n",
    "# \n",
    "# 100 - 0\n",
    "# O(nlogn) O(n^2)"
   ],
   "metadata": {
    "collapsed": false,
    "ExecuteTime": {
     "end_time": "2025-08-27T05:59:05.031231Z",
     "start_time": "2025-08-27T05:59:05.013734Z"
    }
   }
  }
 ],
 "metadata": {
  "kernelspec": {
   "display_name": "python310",
   "language": "python",
   "name": "python3"
  },
  "language_info": {
   "codemirror_mode": {
    "name": "ipython",
    "version": 3
   },
   "file_extension": ".py",
   "mimetype": "text/x-python",
   "name": "python",
   "nbconvert_exporter": "python",
   "pygments_lexer": "ipython3",
   "version": "3.10.13"
  }
 },
 "nbformat": 4,
 "nbformat_minor": 2
}
