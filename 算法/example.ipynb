{
 "cells": [
  {
   "cell_type": "code",
   "execution_count": 14,
   "metadata": {},
   "outputs": [
    {
     "name": "stdout",
     "output_type": "stream",
     "text": [
      "855855\n",
      "858000\n"
     ]
    }
   ],
   "source": [
    "# 密码6位，前两位85开头\n",
    "# 最后两位数字相同\n",
    "# 能被 13 和 33 整除\n",
    "\n",
    "# 850000 - 999999\n",
    "for n in range(10000):\n",
    "    i = 850000 + n\n",
    "    if i % 13 == 0 and i % 33 == 0:\n",
    "        a = i % 10\n",
    "        b = i // 10 % 10\n",
    "        if a == b:\n",
    "            print(i)\n"
   ]
  },
  {
   "cell_type": "code",
   "execution_count": 5,
   "metadata": {},
   "outputs": [
    {
     "name": "stdout",
     "output_type": "stream",
     "text": [
      "True\n"
     ]
    }
   ],
   "source": [
    "# %10\n",
    "# //10%10\n",
    "# //100%10\n",
    "# //1000%10\n"
   ]
  },
  {
   "cell_type": "code",
   "execution_count": 15,
   "metadata": {},
   "outputs": [
    {
     "name": "stdout",
     "output_type": "stream",
     "text": [
      "97\n"
     ]
    }
   ],
   "source": [
    "\"\"\"\n",
    "一盒乒乓球，\n",
    "9个9个的数，最后剩下7个\n",
    "5个5个的数，剩下2个\n",
    "4个4个的数，剩下1个\n",
    "问：这盒乒乓球至少多少个\n",
    "\"\"\"\n",
    "n = 16\n",
    "while True:\n",
    "    if n % 9 == 7 and n % 5== 2 and n % 4 == 1:\n",
    "        break\n",
    "    n += 1\n",
    "print(n)\n"
   ]
  },
  {
   "cell_type": "code",
   "execution_count": 18,
   "metadata": {},
   "outputs": [
    {
     "name": "stdout",
     "output_type": "stream",
     "text": [
      "153\n",
      "370\n",
      "371\n",
      "407\n"
     ]
    }
   ],
   "source": [
    "\"\"\"\n",
    "寻找100 - 999 之间的水仙花数\n",
    "各位置数字的立方和 等于 该数字本身\n",
    "例如 153 = 1^3 + 5^3 + 3^3\n",
    "\"\"\"\n",
    "for i in range(100, 1000):\n",
    "    a = i % 10\n",
    "    b = i // 10 % 10\n",
    "    c = i // 100\n",
    "    if a**3 + b**3 + c**3 == i:\n",
    "        print(i)"
   ]
  },
  {
   "cell_type": "code",
   "execution_count": 22,
   "metadata": {},
   "outputs": [
    {
     "name": "stdout",
     "output_type": "stream",
     "text": [
      "286 290 144 576\n",
      "1296\n",
      "288 288 288 288.0\n"
     ]
    }
   ],
   "source": [
    "\"\"\"\n",
    "把 1296 拆分成 a、b、c、d 四个正整数\n",
    "如果 a 加上 2， b 减去 2，c 乘以 2，d 除 2， 则4个结果相等\n",
    "编写程序求出这个数\n",
    "\"\"\"\n",
    "\n",
    "for a in range(1, 1296):\n",
    "    b = a + 4\n",
    "    for c in range(1, 1296 - a - b):\n",
    "        d = c * 4\n",
    "        if (b-2 == c*2) and (a+b+c+d == 1296):\n",
    "            print(a,b,c,d)\n",
    "\n",
    "print(286 + 290 + 144 + 576)\n",
    "print(286 + 2, 290 - 2, 2* 144, 576/2)"
   ]
  }
 ],
 "metadata": {
  "kernelspec": {
   "display_name": "python310",
   "language": "python",
   "name": "python3"
  },
  "language_info": {
   "codemirror_mode": {
    "name": "ipython",
    "version": 3
   },
   "file_extension": ".py",
   "mimetype": "text/x-python",
   "name": "python",
   "nbconvert_exporter": "python",
   "pygments_lexer": "ipython3",
   "version": "3.10.9"
  }
 },
 "nbformat": 4,
 "nbformat_minor": 2
}
