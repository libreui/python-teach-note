{
 "cells": [
  {
   "cell_type": "code",
   "execution_count": 17,
   "id": "initial_id",
   "metadata": {
    "collapsed": true,
    "ExecuteTime": {
     "end_time": "2025-08-13T05:50:28.651856Z",
     "start_time": "2025-08-13T05:50:28.642189Z"
    }
   },
   "outputs": [
    {
     "data": {
      "text/plain": "7"
     },
     "execution_count": 17,
     "metadata": {},
     "output_type": "execute_result"
    }
   ],
   "source": [
    "def partion(arr):\n",
    "    if len(arr) <= 2:\n",
    "        return max(arr)\n",
    "    m = len(arr) // 2\n",
    "    left, right = arr[:m], arr[m:]\n",
    "    left_max, right_max = partion(left), partion(right)\n",
    "    return max(left_max, right_max)\n",
    "    \n",
    "a = [5, 3, 7, 6, 4, 1]\n",
    "partion(a)"
   ]
  },
  {
   "cell_type": "code",
   "execution_count": 13,
   "outputs": [
    {
     "name": "stdout",
     "output_type": "stream",
     "text": [
      "[5, 6]\n"
     ]
    }
   ],
   "source": [],
   "metadata": {
    "collapsed": false,
    "ExecuteTime": {
     "end_time": "2025-08-13T05:47:45.458259Z",
     "start_time": "2025-08-13T05:47:45.446682Z"
    }
   },
   "id": "9403a0dde12e5c18"
  }
 ],
 "metadata": {
  "kernelspec": {
   "display_name": "Python 3",
   "language": "python",
   "name": "python3"
  },
  "language_info": {
   "codemirror_mode": {
    "name": "ipython",
    "version": 2
   },
   "file_extension": ".py",
   "mimetype": "text/x-python",
   "name": "python",
   "nbconvert_exporter": "python",
   "pygments_lexer": "ipython2",
   "version": "2.7.6"
  }
 },
 "nbformat": 4,
 "nbformat_minor": 5
}
