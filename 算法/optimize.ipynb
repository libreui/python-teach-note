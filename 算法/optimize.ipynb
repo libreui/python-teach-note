{
 "cells": [
  {
   "cell_type": "code",
   "execution_count": 14,
   "id": "initial_id",
   "metadata": {
    "collapsed": true,
    "ExecuteTime": {
     "end_time": "2025-08-25T05:59:56.012803Z",
     "start_time": "2025-08-25T05:59:55.989190Z"
    }
   },
   "outputs": [
    {
     "name": "stdout",
     "output_type": "stream",
     "text": [
      "和: 5000050000 执行时间： 0.0000021 秒\n",
      "和: 5000050000 执行时间： 0.0000029 秒\n",
      "和: 5000050000 执行时间： 0.0000000 秒\n",
      "和: 5000050000 执行时间： 0.0000012 秒\n",
      "和: 5000050000 执行时间： 0.0000012 秒\n",
      "和: 50000005000000 执行时间： 0.0000012 秒\n",
      "和: 50000005000000 执行时间： 0.0000010 秒\n",
      "和: 50000005000000 执行时间： 0.0000000 秒\n",
      "和: 50000005000000 执行时间： 0.0000012 秒\n",
      "和: 50000005000000 执行时间： 0.0000000 秒\n"
     ]
    }
   ],
   "source": [
    "import time\n",
    "def sumOfN3(n):\n",
    "    return (n*(n+1))/2\n",
    "def sumOfN(n):\n",
    "    start = time.time()\n",
    "    theSum = sumOfN3(n)\n",
    "    end = time.time()\n",
    "    return theSum, end - start\n",
    "for i in range(5):\n",
    "    print(\"和: %d 执行时间：%10.7f 秒\" % sumOfN(100_000))\n",
    "    \n",
    "for i in range(5):\n",
    "    print(\"和: %d 执行时间：%10.7f 秒\" % sumOfN(10_000_000))\n",
    "    \n",
    "# 执行时间的表示方式 时间复杂度\n",
    "# O(N)"
   ]
  }
 ],
 "metadata": {
  "kernelspec": {
   "display_name": "Python 3",
   "language": "python",
   "name": "python3"
  },
  "language_info": {
   "codemirror_mode": {
    "name": "ipython",
    "version": 2
   },
   "file_extension": ".py",
   "mimetype": "text/x-python",
   "name": "python",
   "nbconvert_exporter": "python",
   "pygments_lexer": "ipython2",
   "version": "2.7.6"
  }
 },
 "nbformat": 4,
 "nbformat_minor": 5
}
