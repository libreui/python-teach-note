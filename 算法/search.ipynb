{
 "cells": [
  {
   "cell_type": "code",
   "execution_count": 1,
   "metadata": {
    "ExecuteTime": {
     "end_time": "2023-11-01T11:28:49.743163Z",
     "start_time": "2023-11-01T11:28:49.725620Z"
    }
   },
   "outputs": [
    {
     "name": "stdout",
     "output_type": "stream",
     "text": [
      "[4, 13, 29, 42, 51, 52, 67, 80, 89, 99]\n",
      "13\n",
      "1\n"
     ]
    }
   ],
   "source": [
    "# 顺序查找\n",
    "import numpy as np\n",
    "import random\n",
    "lst = list(np.random.randint(1,100, 10))\n",
    "lst.sort()\n",
    "print(lst)\n",
    "# 随机取一个\n",
    "key = random.choice(lst)\n",
    "print(key)\n",
    "b = -1\n",
    "m = len(lst)\n",
    "for i in range(0, m):\n",
    "    if key == lst[i]:\n",
    "        b = i\n",
    "        break\n",
    "print(b)\n",
    "\n"
   ]
  },
  {
   "cell_type": "code",
   "execution_count": 5,
   "metadata": {
    "ExecuteTime": {
     "end_time": "2023-11-01T11:28:34.293155Z",
     "start_time": "2023-11-01T11:28:34.261206Z"
    },
    "collapsed": false
   },
   "outputs": [
    {
     "name": "stdout",
     "output_type": "stream",
     "text": [
      "列表: [3, 4, 10, 15, 19, 21, 43, 44, 47, 49, 64, 64, 69, 72, 74, 76, 82, 95, 95, 96]\n",
      "KEY：44 索引位置：7\n"
     ]
    }
   ],
   "source": [
    "# 二分查找\n",
    "import numpy as np\n",
    "import random\n",
    "# lst = list(np.random.randint(1, 100, 20))\n",
    "lst = [5, 9, 4, 3, 7, 6, 1, 2, 8]\n",
    "lst.sort()\n",
    "key = random.choice(lst)\n",
    "b = -1 # 目标元素索引\n",
    "i, j = 0, len(lst)-1 # 队列的头和尾下标\n",
    "while i <= j:\n",
    "    m = (i + j) // 2\n",
    "    if key == lst[m]:\n",
    "        b = m\n",
    "        break\n",
    "    elif key > lst[m]:\n",
    "        i = m + 1\n",
    "    else:\n",
    "        j = m - 1\n",
    "print(f\"列表: {lst}\")\n",
    "print(f\"KEY：{key} 索引位置：{b}\")\n",
    "        "
   ]
  },
  {
   "cell_type": "code",
   "execution_count": 71,
   "metadata": {
    "ExecuteTime": {
     "end_time": "2023-11-01T11:29:27.964562Z",
     "start_time": "2023-11-01T11:29:27.953526Z"
    },
    "collapsed": false
   },
   "outputs": [
    {
     "name": "stdout",
     "output_type": "stream",
     "text": [
      "[26, 37, 39, 43, 65, 70, 70, 81, 82, 94]\n",
      "[8, 22, 29, 33, 37, 40, 53, 57, 72, 85]\n",
      "[8, 22, 26, 29, 33, 37, 37, 39, 40, 43, 53, 57, 65, 70, 70, 72, 81, 82, 85, 94]\n"
     ]
    }
   ],
   "source": [
    "# 合并两个有序列表\n",
    "import numpy as np\n",
    "lstA = list(np.random.randint(1, 100, 10))\n",
    "lstB = list(np.random.randint(1, 100, 10))\n",
    "lstA.sort();lstB.sort()\n",
    "lstC = []\n",
    "i = j = 0\n",
    "while len(lstA) >=i+1 and len(lstB) >= j+1:\n",
    "    if lstA[i] <= lstB[j]:\n",
    "        lstC.append(lstA[i])\n",
    "        i += 1\n",
    "    else:\n",
    "        lstC.append(lstB[j])\n",
    "        j += 1\n",
    "if len(lstA) > i:\n",
    "    lstC += lstA[i:]\n",
    "if len(lstB) > j:\n",
    "    lstC += lstB[j:]\n",
    "print(lstA)\n",
    "print(lstB)\n",
    "print(lstC)\n"
   ]
  },
  {
   "cell_type": "code",
   "execution_count": 31,
   "outputs": [
    {
     "name": "stdout",
     "output_type": "stream",
     "text": [
      "[1, 2, 3, 4, 5, 6, 7, 8, 9]\n",
      "2\n"
     ]
    }
   ],
   "source": [
    "# 二分查找的递归算法\n",
    "l = [5, 9, 4, 3, 7, 6, 1, 2, 8]\n",
    "l.sort()\n",
    "print(l)\n",
    "def half_search(arr, elm):\n",
    "\n",
    "    mm = len(arr) // 2\n",
    "    if arr[mm] == elm:\n",
    "        return mm\n",
    "    elif arr[mm] > elm:\n",
    "        return half_search(arr[:mm], elm)\n",
    "    else:\n",
    "        return half_search(arr[mm+1:], elm)\n",
    "        \n",
    "print(half_search(l, 8))"
   ],
   "metadata": {
    "collapsed": false,
    "ExecuteTime": {
     "end_time": "2025-07-28T05:36:45.356593Z",
     "start_time": "2025-07-28T05:36:45.343816Z"
    }
   }
  },
  {
   "cell_type": "code",
   "execution_count": 34,
   "outputs": [
    {
     "name": "stdout",
     "output_type": "stream",
     "text": [
      "-1\n"
     ]
    }
   ],
   "source": [
    "l = [5, 9, 4, 3, 7, 6, 1, 2, 8]\n",
    "l.sort()\n",
    "def half_search(arr, left, right, elm):\n",
    "    if left == right:\n",
    "        return -1\n",
    "    m = (left + right) // 2\n",
    "    if arr[m] == elm:\n",
    "        return m\n",
    "    elif arr[m] > elm:\n",
    "        right = m - 1\n",
    "    else:\n",
    "        left = m + 1\n",
    "    return half_search(arr, left, right, elm)\n",
    "\n",
    "print(half_search(l, 0, len(l), 11))"
   ],
   "metadata": {
    "collapsed": false,
    "ExecuteTime": {
     "end_time": "2025-07-28T05:47:27.179015Z",
     "start_time": "2025-07-28T05:47:27.170561Z"
    }
   }
  }
 ],
 "metadata": {
  "kernelspec": {
   "display_name": "python310",
   "language": "python",
   "name": "python3"
  },
  "language_info": {
   "codemirror_mode": {
    "name": "ipython",
    "version": 3
   },
   "file_extension": ".py",
   "mimetype": "text/x-python",
   "name": "python",
   "nbconvert_exporter": "python",
   "pygments_lexer": "ipython3",
   "version": "3.10.9"
  }
 },
 "nbformat": 4,
 "nbformat_minor": 2
}
