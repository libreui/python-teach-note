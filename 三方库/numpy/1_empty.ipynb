{
 "cells": [
  {
   "cell_type": "code",
   "execution_count": 1,
   "id": "initial_id",
   "metadata": {
    "collapsed": true,
    "ExecuteTime": {
     "end_time": "2025-08-12T01:33:46.400127Z",
     "start_time": "2025-08-12T01:33:46.304190Z"
    }
   },
   "outputs": [],
   "source": [
    "import numpy as np"
   ]
  },
  {
   "cell_type": "code",
   "execution_count": 33,
   "outputs": [
    {
     "name": "stdout",
     "output_type": "stream",
     "text": [
      "[[4149262842402738779 4153766442030109281 4144759242775368305]\n",
      " [4153766442030109280 4158790770364394495 4151345757230397662]\n",
      " [4144759242775368297 4151345757230397654 4147923825727815228]]\n"
     ]
    }
   ],
   "source": [
    "x = np.empty([3,3], dtype=int)\n",
    "print(x)"
   ],
   "metadata": {
    "collapsed": false,
    "ExecuteTime": {
     "end_time": "2025-08-12T01:41:29.950621Z",
     "start_time": "2025-08-12T01:41:29.942294Z"
    }
   },
   "id": "b26c9b20db48266e"
  },
  {
   "cell_type": "code",
   "execution_count": 28,
   "outputs": [
    {
     "name": "stdout",
     "output_type": "stream",
     "text": [
      "[[0 0]\n",
      " [0 0]]\n"
     ]
    }
   ],
   "source": [
    "x = np.zeros([2, 2], dtype=int)\n",
    "print(x)"
   ],
   "metadata": {
    "collapsed": false,
    "ExecuteTime": {
     "end_time": "2025-08-12T01:39:13.091553Z",
     "start_time": "2025-08-12T01:39:13.084349Z"
    }
   },
   "id": "8fbf356a6b745e0a"
  },
  {
   "cell_type": "code",
   "execution_count": 35,
   "outputs": [
    {
     "name": "stdout",
     "output_type": "stream",
     "text": [
      "[1 1]\n"
     ]
    }
   ],
   "source": [
    "x = np.ones([2], dtype=int)\n",
    "print(x)"
   ],
   "metadata": {
    "collapsed": false,
    "ExecuteTime": {
     "end_time": "2025-08-12T01:43:02.528376Z",
     "start_time": "2025-08-12T01:43:02.517985Z"
    }
   },
   "id": "87d7490a8900a284"
  },
  {
   "cell_type": "code",
   "execution_count": 42,
   "outputs": [
    {
     "name": "stdout",
     "output_type": "stream",
     "text": [
      "[[2 3]\n",
      " [4 5]\n",
      " [6 7]]\n",
      "[[0. 0. 0.]\n",
      " [0. 0. 0.]\n",
      " [0. 0. 0.]]\n"
     ]
    }
   ],
   "source": [
    "a = np.array([[2, 3], [4, 5], [6, 7]])\n",
    "print(a)\n",
    "b = np.zeros_like(a, dtype=float, order='C', shape=[3, 3])\n",
    "print(b)"
   ],
   "metadata": {
    "collapsed": false,
    "ExecuteTime": {
     "end_time": "2025-08-12T01:49:02.497725Z",
     "start_time": "2025-08-12T01:49:02.488598Z"
    }
   },
   "id": "566281fa76a9ee51"
  }
 ],
 "metadata": {
  "kernelspec": {
   "display_name": "Python 3",
   "language": "python",
   "name": "python3"
  },
  "language_info": {
   "codemirror_mode": {
    "name": "ipython",
    "version": 2
   },
   "file_extension": ".py",
   "mimetype": "text/x-python",
   "name": "python",
   "nbconvert_exporter": "python",
   "pygments_lexer": "ipython2",
   "version": "2.7.6"
  }
 },
 "nbformat": 4,
 "nbformat_minor": 5
}
