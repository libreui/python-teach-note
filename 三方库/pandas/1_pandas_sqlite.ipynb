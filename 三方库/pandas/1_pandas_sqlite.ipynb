{
 "cells": [
  {
   "cell_type": "code",
   "execution_count": 7,
   "id": "initial_id",
   "metadata": {
    "collapsed": true,
    "ExecuteTime": {
     "end_time": "2025-08-23T03:24:11.737990Z",
     "start_time": "2025-08-23T03:24:11.729935Z"
    }
   },
   "outputs": [],
   "source": [
    "import pandas as pd\n",
    "import sqlite3\n",
    "from sqlalchemy import create_engine\n",
    "\n",
    "db_file = \"../db/beijing_tianqi.db\""
   ]
  },
  {
   "cell_type": "code",
   "execution_count": 12,
   "outputs": [],
   "source": [
    "conn = sqlite3.connect(db_file)"
   ],
   "metadata": {
    "collapsed": false,
    "ExecuteTime": {
     "end_time": "2025-08-23T03:27:31.412925Z",
     "start_time": "2025-08-23T03:27:31.405064Z"
    }
   },
   "id": "6a1be7174a5f8052"
  },
  {
   "cell_type": "code",
   "execution_count": 18,
   "outputs": [
    {
     "name": "stdout",
     "output_type": "stream",
     "text": [
      "删除完毕\n"
     ]
    }
   ],
   "source": [
    "# 删除数据表 beijing_tq\n",
    "conn.execute('DROP TABLE IF EXISTS \"beijing_tq\"')\n",
    "conn.commit()\n",
    "print('删除完毕')"
   ],
   "metadata": {
    "collapsed": false,
    "ExecuteTime": {
     "end_time": "2025-08-23T03:29:25.462771Z",
     "start_time": "2025-08-23T03:29:25.449894Z"
    }
   },
   "id": "8f36e586b33c4e48"
  },
  {
   "cell_type": "code",
   "execution_count": 10,
   "outputs": [
    {
     "name": "stdout",
     "output_type": "stream",
     "text": [
      "创建完成\n"
     ]
    }
   ],
   "source": [
    "# 创建数据库\n",
    "# date,weatherDay,weatherNight,minTemp,maxTemp,windDay,windNight\n",
    "\n",
    "sql = \"\"\"\n",
    "CREATE TABLE IF NOT EXISTS 'beijing_tq'(\n",
    "    'data' TEXT,\n",
    "    'weatherDay' TEXT,\n",
    "    'weatherNight' TEXT,\n",
    "    'minTemp' INTEGER,\n",
    "    'maxTemp' INTEGER,\n",
    "    'windDay' TEXT,\n",
    "    'windNight' TEXT\n",
    ")\n",
    "\"\"\"\n",
    "conn.execute(sql)\n",
    "conn.commit()\n",
    "print('创建完成')"
   ],
   "metadata": {
    "collapsed": false,
    "ExecuteTime": {
     "end_time": "2025-08-23T03:24:42.329559Z",
     "start_time": "2025-08-23T03:24:42.291290Z"
    }
   },
   "id": "f76cc147eccc91ac"
  },
  {
   "cell_type": "code",
   "execution_count": 17,
   "outputs": [
    {
     "name": "stdout",
     "output_type": "stream",
     "text": [
      "导入完成\n"
     ]
    }
   ],
   "source": [
    "# 导入CSV\n",
    "engin = create_engine('sqlite:///' + db_file)\n",
    "df = pd.read_csv('../db/beijing_tianqi.csv')\n",
    "df.to_sql('beijing_tq', engin)\n",
    "print('导入完成')"
   ],
   "metadata": {
    "collapsed": false,
    "ExecuteTime": {
     "end_time": "2025-08-23T03:29:00.708441Z",
     "start_time": "2025-08-23T03:29:00.631615Z"
    }
   },
   "id": "5b0d383d95ef146e"
  }
 ],
 "metadata": {
  "kernelspec": {
   "display_name": "Python 3",
   "language": "python",
   "name": "python3"
  },
  "language_info": {
   "codemirror_mode": {
    "name": "ipython",
    "version": 2
   },
   "file_extension": ".py",
   "mimetype": "text/x-python",
   "name": "python",
   "nbconvert_exporter": "python",
   "pygments_lexer": "ipython2",
   "version": "2.7.6"
  }
 },
 "nbformat": 4,
 "nbformat_minor": 5
}
