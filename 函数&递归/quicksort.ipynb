{
 "cells": [
  {
   "cell_type": "code",
   "execution_count": null,
   "metadata": {},
   "outputs": [],
   "source": [
    "# 快速排序 代码一\n",
    "def quick_sort(list, p, r):\n",
    "    if p < r:\n",
    "        q = partition(list, p, r)\n",
    "        quick_sort(list, p, q)\n",
    "        quick_sort(list, q+1, r)\n",
    "\n",
    "def partition(list, p, r):\n",
    "    i = p - 1\n",
    "    for j in range(p, r):\n",
    "        if list[j] <= list[r]:\n",
    "            i += 1\n",
    "            list[i], list[j] = list[j], list[i]\n",
    "            print(list)\n",
    "    list[i+1], list[r] = list[r], list[i+1]\n",
    "    return i\n",
    "\n",
    "list1 = [5, 3, 7, 6, 4, 1, 0, 2, 9, 10, 8]\n",
    "quick_sort(list1, 0, len(list1)-1) \n",
    "print(list1)"
   ]
  },
  {
   "cell_type": "code",
   "execution_count": 10,
   "metadata": {},
   "outputs": [
    {
     "name": "stdout",
     "output_type": "stream",
     "text": [
      "[0, 1, 2, 3, 4, 5, 6, 7, 8, 9, 10]\n"
     ]
    }
   ],
   "source": [
    "# 快速排序 代码二\n",
    "def partition(nums=list):\n",
    "    pivot = nums[0]\n",
    "    lo = [x for x in nums[1:] if x <= pivot]\n",
    "    hi = [x for x in nums[1:] if x > pivot]\n",
    "    return lo, pivot, hi\n",
    "\n",
    "def quick_sort(nums):\n",
    "    if len(nums) <= 1:\n",
    "        return nums\n",
    "    else:\n",
    "        lo, pivot, hi = partition(nums)\n",
    "        return quick_sort(lo) + [pivot] + quick_sort(hi)\n",
    "\n",
    "nums = [5, 3, 7, 6, 4, 1, 0, 2, 9, 10, 8]\n",
    "print(quick_sort(nums))\n",
    "\n"
   ]
  },
  {
   "cell_type": "code",
   "execution_count": 9,
   "metadata": {},
   "outputs": [
    {
     "name": "stdout",
     "output_type": "stream",
     "text": [
      "[0, 1, 2, 3, 4, 5, 6, 7, 8, 9, 10]\n"
     ]
    }
   ],
   "source": [
    "# 快速排序 代码三\n",
    "def quick_sort(arr, left, right):\n",
    "    if left >= right:\n",
    "        return arr\n",
    "    \n",
    "    key = arr[left]\n",
    "    low = left\n",
    "    high = right\n",
    "\n",
    "    while left < right:\n",
    "        while left < right and arr[right] >= key:\n",
    "            right -= 1\n",
    "        arr[left] = arr[right]\n",
    "\n",
    "        while left < right and arr[left] <= key:\n",
    "            left += 1\n",
    "        arr[right] = arr[left]\n",
    "\n",
    "    arr[left] = key\n",
    "\n",
    "    quick_sort(arr, low, left - 1)\n",
    "    quick_sort(arr, left + 1, high)\n",
    "    return arr\n",
    "\n",
    "arr = [5, 3, 7, 6, 4, 1, 0, 2, 9, 10, 8]\n",
    "print(quick_sort(arr, 0, len(arr) - 1))"
   ]
  }
 ],
 "metadata": {
  "kernelspec": {
   "display_name": "python310",
   "language": "python",
   "name": "python3"
  },
  "language_info": {
   "codemirror_mode": {
    "name": "ipython",
    "version": 3
   },
   "file_extension": ".py",
   "mimetype": "text/x-python",
   "name": "python",
   "nbconvert_exporter": "python",
   "pygments_lexer": "ipython3",
   "version": "3.10.9"
  }
 },
 "nbformat": 4,
 "nbformat_minor": 2
}
