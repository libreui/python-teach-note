{
 "cells": [
  {
   "cell_type": "markdown",
   "metadata": {},
   "source": [
    "递归题目\n",
    "- 给定一个非负整数 num，反复将各个位上的数字相加，直到结果为一位数。返回这个结果。\n",
    "- 出售金鱼问题\n",
    "    - 第一次卖出全部金鱼的一半加二分之一条金鱼；\n",
    "    - 第二次卖出乘余金鱼的三分之一加三分之一条金鱼；\n",
    "    - 第三次卖出剩余金鱼的四分之一加四分之一条金鱼；\n",
    "    - 第四次卖出剩余金鱼的五分之一加五分之一条金鱼；\n",
    "    - 现在还剩下11条金鱼。问这鱼缸里原有多少条金鱼？\n",
    "- 公交车问题\n",
    "  - 某路公共汽车，总共有八站，\n",
    "  - 从一号站发轩时车上已有n位乘客，\n",
    "  - 到了第二站先下一半乘客，再上来了六位乘客；\n",
    "  - 到了第三站也先下一半乘客，再上来了五位乘客，\n",
    "  - 以后每到一站都先下车上已有的一半乘客，再上来了乘客比前一站少一个……，\n",
    "  - 到了终点站车上还有乘客六人，问发车时车上的乘客有多少？\n",
    "- 猴子吃桃问题\n",
    "  - 有一群猴子摘来了一批桃子\n",
    "  - 猴王规定每天只准吃一半加一只（即第二天吃剩下的一半加一只，以此类推\n",
    "  - 第九天正好吃完，问猴子们摘来了多少桃子？\n",
    "  - ![打印结果](https://img-blog.csdnimg.cn/dd035b8d527c449ca0ad637f8805b4b3.png?x-oss-process=image/watermark,type_d3F5LXplbmhlaQ,shadow_50,text_Q1NETiBAV19jaHVhbnFp,size_10,color_FFFFFF,t_70,g_se,x_16)\n",
    "- 小华读书\n",
    "  - 小华读书。\n",
    "  - 第一天读了全书的一半加二页，\n",
    "  - 第二天读了剩下的一半加二页，\n",
    "  - 以后天天如此……，\n",
    "  - 第六天读完了最后的三页，\n",
    "  - 问全书有多少页？\n",
    "  - ![打印结果](https://img-blog.csdnimg.cn/dd035b8d527c449ca0ad637f8805b4b3.png?x-oss-process=image/watermark,type_d3F5LXplbmhlaQ,shadow_50,text_Q1NETiBAV19jaHVhbnFp,size_10,color_FFFFFF,t_70,g_se,x_16)\n",
    "- 传染病问题\n",
    "  - 某种传染病第一天只有一个患者，\n",
    "  - 前5天为潜伏期，不发作也不会传染人，\n",
    "  - 第6天开始发作，从发作到治愈需要5天时间，\n",
    "  - 期间每天传染3个人，求第N天共有多少患者。\n",
    "  - 问题分析\n",
    "    - `患者数=潜伏期人数+发作期人数`\n",
    "- 佩尔数列\n",
    "  - 佩尔数列是一个整数数列。它的第一项为0，第二项为1，第3项是第2项的2倍再加上第1项，第4项是第3项的2倍再加上第2项，……。最初几个佩尔数是：0,1,2,5,12,29,70,169,408,985,2378……。\n",
    "请编写程序从键盘输入整数n，求出佩尔数列第n项。\n",
    "- 年龄问题\n",
    "  - 有5个人坐在一起。问第五个人多少岁？他说比第4个人大2岁。问第4个人岁数，他说比第3个人大2岁。问第三个人，又说比第2人大两岁。问第2个人，说比第一个人大两岁。最后问第一个人，他说是10岁。请问第五个人多大？ \n"
   ]
  },
  {
   "cell_type": "code",
   "execution_count": null,
   "metadata": {},
   "outputs": [],
   "source": [
    "def addDigits(num: int) -> int:\n",
    "    while num >= 10:\n",
    "        sum = 0\n",
    "        while num:\n",
    "            sum += num % 10\n",
    "            num //= 10\n",
    "        num = sum\n",
    "    return num\n",
    "\n",
    "def f(num):\n",
    "    if num < 10:\n",
    "        return num\n",
    "    else:\n",
    "        sum = 0\n",
    "        while num >= 10:\n",
    "            sum += num % 10\n",
    "            num //= 10\n",
    "        return f(sum + num)\n",
    "\n",
    "def sum_digits(num):\n",
    "    if num < 10:\n",
    "        return num\n",
    "    else:\n",
    "        return sum_digits(sum([int(digit) for digit in str(num)]))\n",
    "print(sum_digits(38))\n"
   ]
  },
  {
   "cell_type": "code",
   "execution_count": null,
   "metadata": {},
   "outputs": [],
   "source": [
    "s = 0\n",
    "\n",
    "def foo(n):\n",
    "    global s\n",
    "    if n <= 100:\n",
    "        s += n\n",
    "        foo(n+1)\n",
    "\n",
    "print(foo(100))"
   ]
  },
  {
   "cell_type": "code",
   "execution_count": null,
   "metadata": {},
   "outputs": [],
   "source": [
    "ans = 2\n",
    "def fu(a, b, x=1):\n",
    "    \n",
    "    if b == 1:\n",
    "        return 2\n",
    "    global ans\n",
    "    ans += fu(a-x, b-1, x)\n",
    "    return ans\n",
    "\n",
    "print(fu(5, 4, 3))"
   ]
  },
  {
   "cell_type": "code",
   "execution_count": null,
   "metadata": {},
   "outputs": [],
   "source": [
    "def f(s):\n",
    "    if s == '':\n",
    "        return s\n",
    "    else:\n",
    "        return f(s[1:]) + s[0]\n",
    "    \n",
    "print(f('hello'))"
   ]
  }
 ],
 "metadata": {
  "kernelspec": {
   "display_name": "python310",
   "language": "python",
   "name": "python3"
  },
  "language_info": {
   "codemirror_mode": {
    "name": "ipython",
    "version": 3
   },
   "file_extension": ".py",
   "mimetype": "text/x-python",
   "name": "python",
   "nbconvert_exporter": "python",
   "pygments_lexer": "ipython3",
   "version": "3.10.9"
  }
 },
 "nbformat": 4,
 "nbformat_minor": 2
}
