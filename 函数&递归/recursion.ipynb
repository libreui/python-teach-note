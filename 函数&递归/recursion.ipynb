{
 "cells": [
  {
   "cell_type": "code",
   "execution_count": 23,
   "metadata": {},
   "outputs": [
    {
     "name": "stdout",
     "output_type": "stream",
     "text": [
      "5050\n"
     ]
    }
   ],
   "source": [
    "s = 0\n",
    "\n",
    "def foo(n):\n",
    "    global s\n",
    "    if n <= 100:\n",
    "        s += n\n",
    "        foo(n+1)\n",
    "\n",
    "print(foo(100))"
   ]
  },
  {
   "cell_type": "code",
   "execution_count": 24,
   "metadata": {},
   "outputs": [
    {
     "name": "stdout",
     "output_type": "stream",
     "text": [
      "8\n"
     ]
    }
   ],
   "source": [
    "ans = 2\n",
    "def fu(a, b, x=1):\n",
    "    \n",
    "    if b == 1:\n",
    "        return 2\n",
    "    global ans\n",
    "    ans += fu(a-x, b-1, x)\n",
    "    return ans\n",
    "\n",
    "print(fu(5, 4, 3))"
   ]
  },
  {
   "cell_type": "code",
   "execution_count": 36,
   "metadata": {},
   "outputs": [
    {
     "name": "stdout",
     "output_type": "stream",
     "text": [
      "olleh\n"
     ]
    }
   ],
   "source": [
    "def f(s):\n",
    "    if s == '':\n",
    "        return s\n",
    "    else:\n",
    "        return f(s[1:]) + s[0]\n",
    "    \n",
    "print(f('hello'))"
   ]
  }
 ],
 "metadata": {
  "kernelspec": {
   "display_name": "python310",
   "language": "python",
   "name": "python3"
  },
  "language_info": {
   "codemirror_mode": {
    "name": "ipython",
    "version": 3
   },
   "file_extension": ".py",
   "mimetype": "text/x-python",
   "name": "python",
   "nbconvert_exporter": "python",
   "pygments_lexer": "ipython3",
   "version": "3.10.9"
  }
 },
 "nbformat": 4,
 "nbformat_minor": 2
}
