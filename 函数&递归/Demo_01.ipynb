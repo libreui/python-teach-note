{
 "cells": [
  {
   "cell_type": "code",
   "id": "initial_id",
   "metadata": {
    "collapsed": true,
    "ExecuteTime": {
     "end_time": "2025-04-26T02:23:59.233681Z",
     "start_time": "2025-04-26T02:23:59.229808Z"
    }
   },
   "source": [
    "# nonlocal\n",
    "\n",
    "def fn():\n",
    "\tcount = 1\n",
    "\tdef fn1():\n",
    "\t\tnonlocal count\n",
    "\t\tprint(count)\n",
    "\t\tcount += 2\n",
    "\treturn fn1\n",
    "\n",
    "a = fn()\n",
    "a()\n",
    "a()\n",
    "a()"
   ],
   "outputs": [
    {
     "name": "stdout",
     "output_type": "stream",
     "text": [
      "1\n",
      "1\n",
      "1\n"
     ]
    }
   ],
   "execution_count": 40
  },
  {
   "metadata": {
    "ExecuteTime": {
     "end_time": "2025-04-26T02:32:26.578172Z",
     "start_time": "2025-04-26T02:32:26.574006Z"
    }
   },
   "cell_type": "code",
   "source": [
    "def fn(x, y):\n",
    "\treturn x + y\n"
   ],
   "id": "430af63bb5b79368",
   "outputs": [
    {
     "ename": "IndentationError",
     "evalue": "expected an indented block after function definition on line 1 (3346484791.py, line 2)",
     "output_type": "error",
     "traceback": [
      "  \u001B[36mCell\u001B[39m\u001B[36m \u001B[39m\u001B[32mIn[43]\u001B[39m\u001B[32m, line 2\u001B[39m\n\u001B[31m    \u001B[39m\u001B[31mt = 1\u001B[39m\n    ^\n\u001B[31mIndentationError\u001B[39m\u001B[31m:\u001B[39m expected an indented block after function definition on line 1\n"
     ]
    }
   ],
   "execution_count": 43
  },
  {
   "metadata": {
    "ExecuteTime": {
     "end_time": "2025-05-04T02:45:33.617370Z",
     "start_time": "2025-05-04T02:45:33.613952Z"
    }
   },
   "cell_type": "code",
   "source": [
    "def postage(w: int, f: str) -> int:\n",
    "\t# 邮费\n",
    "\tif f == 'y':\n",
    "\t\tcount = 13\n",
    "\telse:\n",
    "\t\tcount = 8\n",
    "\t\t\n",
    "\tif w > 1000:\n",
    "\t\tcount += ((w-1000) // 500) * 4\n",
    "\t\tif w % 500 > 0:\n",
    "\t\t\tcount += 4\n",
    "\t\n",
    "\treturn count\n",
    "\n",
    "print(postage(1200, 'y'))\n",
    "\t\t\n"
   ],
   "id": "6e4459668ff7e02a",
   "outputs": [
    {
     "name": "stdout",
     "output_type": "stream",
     "text": [
      "17\n"
     ]
    }
   ],
   "execution_count": 4
  },
  {
   "metadata": {
    "ExecuteTime": {
     "end_time": "2025-05-05T02:01:45.692550Z",
     "start_time": "2025-05-05T02:01:45.687755Z"
    }
   },
   "cell_type": "code",
   "source": [
    "def calculate_change(amount):\n",
    "    \"\"\"\n",
    "    计算找零钱的各种面额纸币数量\n",
    "    \n",
    "    参数:\n",
    "        amount (int): 需要找零的金额（单位：元）\n",
    "        \n",
    "    返回:\n",
    "        dict: 包含各面额纸币数量的字典\n",
    "    \"\"\"\n",
    "    denominations = [100, 50, 20, 10, 5, 1]  # 纸币面额\n",
    "    change = {}  # 存储找零结果\n",
    "    \n",
    "    for denom in denominations:\n",
    "        if amount >= denom:\n",
    "            count = amount // denom  # 计算当前面额纸币的数量\n",
    "            change[denom] = count\n",
    "            amount -= count * denom  # 减去已找零的金额\n",
    "            \n",
    "        # 当金额为0时提前结束循环\n",
    "        if amount == 0:\n",
    "            break\n",
    "    \n",
    "    # 确保所有面额都出现在结果中（即使数量为0）\n",
    "    # for denom in [100, 50, 20, 10, 5, 1]:\n",
    "    #     if denom not in change:\n",
    "    #         change[denom] = 0\n",
    "    \n",
    "    return change\n",
    "\n",
    "\n",
    "# 测试示例\n",
    "print(calculate_change(287))  # 输出: {100: 2, 50: 1, 20: 1, 10: 1, 5: 1, 1: 2}\n",
    "print(calculate_change(73))   # 输出: {50: 1, 20: 1, 1: 3, 100: 0, 10: 0, 5: 0}\n",
    "print(calculate_change(0))    # 输出: {100: 0, 50: 0, 20: 0, 10: 0, 5: 0, 1: 0}"
   ],
   "id": "bc7ba23ed9bdf817",
   "outputs": [
    {
     "name": "stdout",
     "output_type": "stream",
     "text": [
      "{100: 2, 50: 1, 20: 1, 10: 1, 5: 1, 1: 2}\n",
      "{50: 1, 20: 1, 1: 3}\n",
      "{}\n"
     ]
    }
   ],
   "execution_count": 3
  }
 ],
 "metadata": {
  "kernelspec": {
   "display_name": "Python 3",
   "language": "python",
   "name": "python3"
  },
  "language_info": {
   "codemirror_mode": {
    "name": "ipython",
    "version": 2
   },
   "file_extension": ".py",
   "mimetype": "text/x-python",
   "name": "python",
   "nbconvert_exporter": "python",
   "pygments_lexer": "ipython2",
   "version": "2.7.6"
  }
 },
 "nbformat": 4,
 "nbformat_minor": 5
}
