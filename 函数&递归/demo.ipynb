{
 "cells": [
  {
   "cell_type": "code",
   "execution_count": 6,
   "metadata": {},
   "outputs": [
    {
     "name": "stdout",
     "output_type": "stream",
     "text": [
      "[0, 1, 2, 3, 4, 5, 6, 7, 8, 9, 10]\n"
     ]
    }
   ],
   "source": [
    "def quick_sort(arr, left, right):\n",
    "    if left < right:\n",
    "        p = partition(arr, left, right)\n",
    "        quick_sort(arr, left, p)\n",
    "        quick_sort(arr, p+1, right)\n",
    "    \n",
    "    \n",
    "\n",
    "def partition(arr, left, right):\n",
    "    i = left - 1\n",
    "    for j in range(left, right):\n",
    "        if arr[j] <= arr[right]:\n",
    "            i += 1\n",
    "            arr[i], arr[j] = arr[j], arr[i]\n",
    "    arr[i+1], arr[right] = arr[right], arr[i+1]\n",
    "    return i\n",
    "    \n",
    "lst = [5, 3, 7, 6, 4, 1, 0, 2, 9, 10, 8]\n",
    "quick_sort(lst, 0, len(lst)-1)\n",
    "print(lst)"
   ]
  },
  {
   "cell_type": "code",
   "execution_count": 11,
   "metadata": {},
   "outputs": [
    {
     "name": "stdout",
     "output_type": "stream",
     "text": [
      "[0, 1, 2, 3, 4, 5, 6, 7, 8, 9, 10]\n"
     ]
    }
   ],
   "source": [
    "def partition(arr):\n",
    "    povit = arr[0]\n",
    "    low = [x for x in arr[1:] if x <= povit]\n",
    "    high = [x for x in arr[1:] if x > povit]\n",
    "    return low, povit, high\n",
    "\n",
    "def quick_sort(arr):\n",
    "    if len(arr) <= 1:\n",
    "        return arr\n",
    "    else:\n",
    "        low, povit, high = partition(arr)\n",
    "        return quick_sort(low) + [povit] + quick_sort(high)\n",
    "\n",
    "lst = [5, 3, 7, 6, 4, 1, 0, 2, 9, 10, 8]\n",
    "print(quick_sort(lst))\n"
   ]
  },
  {
   "cell_type": "code",
   "execution_count": 15,
   "metadata": {},
   "outputs": [
    {
     "name": "stdout",
     "output_type": "stream",
     "text": [
      "[0, 1, 2, 3, 4, 5, 6, 7, 8, 9, 10]\n"
     ]
    }
   ],
   "source": [
    "def quick_sort(arr, left, right):\n",
    "    if left >= right:\n",
    "        return arr\n",
    "    \n",
    "    povit = arr[left]\n",
    "    low = left\n",
    "    high = right\n",
    "\n",
    "    while left < right:\n",
    "        while left < right and arr[right] >= povit:\n",
    "            right -= 1\n",
    "        arr[left] = arr[right]\n",
    "        while left < right and arr[left] <= povit:\n",
    "            left += 1\n",
    "        arr[right] = arr[left]\n",
    "\n",
    "    arr[left] = povit\n",
    "\n",
    "    quick_sort(arr, low, left-1)\n",
    "    quick_sort(arr, left+1, high)\n",
    "\n",
    "    return arr\n",
    "\n",
    "lst = [5, 3, 7, 6, 4, 1, 0, 2, 9, 10, 8]\n",
    "print(quick_sort(lst, 0, len(lst)-1))\n"
   ]
  },
  {
   "cell_type": "code",
   "execution_count": 70,
   "metadata": {},
   "outputs": [
    {
     "name": "stdout",
     "output_type": "stream",
     "text": [
      "[0, 1, 2, 3, 4, 5, 6, 7, 8, 9, 10]\n",
      "-1\n"
     ]
    }
   ],
   "source": [
    "lst = [5, 3, 7, 6, 4, 1, 0, 2, 9, 10, 8]\n",
    "lst.sort()\n",
    "n = 4\n",
    "b = -1\n",
    "left, right = 0, len(lst)-1\n",
    "while left < right:\n",
    "    m = (left + right) // 2\n",
    "    if n == lst[m]:\n",
    "        b = m\n",
    "        break\n",
    "    elif n > lst[m]:\n",
    "        left = m + 1\n",
    "    elif n < lst[m]:\n",
    "        right = m - 1\n",
    "print(lst)\n",
    "print(b)"
   ]
  },
  {
   "cell_type": "code",
   "execution_count": 86,
   "metadata": {},
   "outputs": [
    {
     "name": "stdout",
     "output_type": "stream",
     "text": [
      "[0, 1, 2, 3, 4, 5, 6, 7, 8, 9, 10]\n",
      "9\n"
     ]
    }
   ],
   "source": [
    "def bin_search(arr, target, left, right):\n",
    "    if left > right:\n",
    "        return -1\n",
    "    m = (left + right) // 2\n",
    "    if arr[m] == target:\n",
    "        return m\n",
    "    elif arr[m] > target:\n",
    "        return bin_search(arr, target, left, m - 1)\n",
    "    else:\n",
    "        return bin_search(arr, target, m + 1, right)\n",
    "\n",
    "\n",
    "lst = [5, 3, 7, 6, 4, 1, 0, 2, 9, 10, 8]\n",
    "lst.sort()\n",
    "print(lst)\n",
    "print(bin_search(lst, 9, 0, len(lst)-1))"
   ]
  }
 ],
 "metadata": {
  "kernelspec": {
   "display_name": "python310",
   "language": "python",
   "name": "python3"
  },
  "language_info": {
   "codemirror_mode": {
    "name": "ipython",
    "version": 3
   },
   "file_extension": ".py",
   "mimetype": "text/x-python",
   "name": "python",
   "nbconvert_exporter": "python",
   "pygments_lexer": "ipython3",
   "version": "3.1.undefined"
  }
 },
 "nbformat": 4,
 "nbformat_minor": 2
}
