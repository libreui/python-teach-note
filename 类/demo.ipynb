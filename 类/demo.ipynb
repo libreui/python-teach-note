{
 "cells": [
  {
   "cell_type": "markdown",
   "source": [
    "# 1.定义一个桌子类（Desk），包含长（length）、宽（width）、高（height）属性，包含一个打印桌子信息属性的方法（showInfo）。实例化2个桌子对象，为其赋予不同的属性值，并调用showInfo方法，输出每个桌子的信息。"
   ],
   "metadata": {
    "collapsed": false
   },
   "id": "ab5c2940b6a629ee"
  },
  {
   "cell_type": "code",
   "execution_count": null,
   "outputs": [],
   "source": [
    "class Desk:\n",
    "    def __init__(self,length,width,height):\n",
    "        self.length=length\n",
    "        self.width=width\n",
    "        self.height=height\n",
    "    def showInfo(self):\n",
    "        print(\"桌子的长为{}，宽为{}，高为{}\".format(self.length,self.width,self.height))\n",
    "desk1=Desk(1,2,3)\n",
    "desk2=Desk(4,5,6)\n",
    "desk1.showInfo()\n",
    "desk2.showInfo()"
   ],
   "metadata": {
    "collapsed": false
   },
   "id": "a77ee47bb5f46999"
  },
  {
   "cell_type": "markdown",
   "source": [
    "# 2.定义一个学生类（Student），包含姓名（name）、年龄（age）、性别（sex）属性，包含一个打印学生信息属性的方法（showInfo）。实例化2个学生对象，为其赋予不同的属性值，并调用showInfo方法，输出每个学生的信息。   "
   ],
   "metadata": {
    "collapsed": false
   },
   "id": "6532d13dfd15a5c7"
  },
  {
   "cell_type": "code",
   "execution_count": null,
   "outputs": [],
   "source": [
    "class Student: \n",
    "    def __init__(self,name,age,sex):\n",
    "        self.name=name\n",
    "        self.age=age\n",
    "        self.sex=sex\n",
    "    def showInfo(self):\n",
    "        print(\"学生的姓名为{}，年龄为{}，性别为{}\".format(self.name,self.age,self.sex))\n",
    "student1=Student(\"张三\",18,\"男\")\n",
    "student2=Student(\"李四\",19,\"女\")\n",
    "student1.showInfo()\n",
    "student2.showInfo()"
   ],
   "metadata": {
    "collapsed": false
   },
   "id": "4df149acbbd22e0d"
  },
  {
   "cell_type": "markdown",
   "source": [
    "# 2.定义一个用户类(User),用户名(username)和密码(password)是这个类的属性。\n",
    "\n",
    "（1）实例化两个用户,分别有不同的用户名和密码。\n",
    "（2）设计一个方法 修改密码(change_password)"
   ],
   "metadata": {
    "collapsed": false
   },
   "id": "7c7f0cef40e5687a"
  },
  {
   "cell_type": "code",
   "execution_count": null,
   "outputs": [],
   "source": [
    "class User:\n",
    "    def __init__(self,username,password):\n",
    "        self.username=username\n",
    "        self.password=password\n",
    "    def change_password(self,new_password):\n",
    "        self.password=new_password\n",
    "user1=User(\"张三\",\"123456\")\n",
    "user2=User(\"李四\",\"654321\")\n",
    "user1.change_password(\"654321\")\n",
    "user2.change_password(\"123456\")"
   ],
   "metadata": {
    "collapsed": false
   },
   "id": "6b32a88e93edd0af"
  },
  {
   "cell_type": "markdown",
   "source": [
    "# 题目一：学生成绩管理系统\n",
    "创建一个名为 Student 的类，包含属性 name（学生姓名）、grades（一个列表，存储学生的各门课程成绩）。\n",
    "为 Student 类添加方法，能够计算学生的平均成绩。\n",
    "创建多个 Student 对象，代表不同的学生，将这些学生对象存储在一个列表中。实现以下功能：\n",
    "- 可以添加新的学生对象到列表中。\n",
    "- 可以根据学生的平均成绩对学生列表进行排序并打印出排序后的学生信息。\n",
    "- 可以查询特定姓名的学生对象，如果找到则打印其信息，否则提示未找到。"
   ],
   "metadata": {
    "collapsed": false
   },
   "id": "349e292d6500f4d2"
  },
  {
   "cell_type": "code",
   "execution_count": 13,
   "outputs": [
    {
     "name": "stdout",
     "output_type": "stream",
     "text": [
      "姓名：王五，平均成绩：91.66666666666667\n",
      "姓名：张三，平均成绩：90.0\n",
      "姓名：李四，平均成绩：80.0\n",
      "姓名：王五，平均成绩：91.66666666666667\n",
      "姓名：张三，平均成绩：90.0\n",
      "姓名：李四，平均成绩：80.0\n"
     ]
    }
   ],
   "source": [
    "class Student:\n",
    "    def __init__(self, name, grandes):\n",
    "        self.name = name\n",
    "        self.grades = grandes\n",
    "        \n",
    "    def average(self):\n",
    "        if len(self.grades) == 0:\n",
    "            return 0\n",
    "        return sum(self.grades) / len(self.grades)\n",
    "    \n",
    "    def __str__(self):\n",
    "        return f\"姓名：{self.name}，平均成绩：{self.average()}\"\n",
    "    \n",
    "    \n",
    "students = []\n",
    "\n",
    "def add_student(student):\n",
    "    students.append(student)\n",
    "    \n",
    "def print_students(name):\n",
    "    for student in students:\n",
    "        if student.name == name:\n",
    "            print(student)\n",
    "            return\n",
    "    print(\"未找到该学生\")\n",
    "    \n",
    "    \n",
    "def sort_student():\n",
    "    for i in range(len(students)):\n",
    "        for j in range(len(students) - i - 1):\n",
    "            if students[j].average() < students[j + 1].average():\n",
    "                students[j], students[j + 1] = students[j + 1], students[j]\n",
    "                \n",
    "    for student in students:\n",
    "        print(student)\n",
    "        \n",
    "def sort_student_a():\n",
    "    s = sorted(students, key = lambda x: x.average(), reverse=True)\n",
    "    \n",
    "    for student in s:\n",
    "        print(student)\n",
    "    \n",
    "add_student(Student(\"张三\", [90, 85, 95]))\n",
    "add_student(Student(\"李四\", [80, 75, 85]))\n",
    "add_student(Student(\"王五\", [100, 100, 75]))\n",
    "\n",
    "sort_student_a()\n",
    "\n",
    "for student in students:\n",
    "    print(student)\n",
    "\n",
    "    \n"
   ],
   "metadata": {
    "collapsed": false,
    "ExecuteTime": {
     "end_time": "2024-09-22T00:31:43.707841Z",
     "start_time": "2024-09-22T00:31:43.700336Z"
    }
   },
   "id": "b3a6350297a7c6f"
  },
  {
   "cell_type": "code",
   "execution_count": 15,
   "outputs": [],
   "source": [
    "# 题目二：图书管理系统\n",
    "# 创建一个名为 Book 的类，包含属性 title（书名）、author（作者）、isbn(编号。\n",
    "class Book:\n",
    "    def __init__(self, title, author, isbn):\n",
    "        self.title = title\n",
    "        self.author = author\n",
    "        self.isbn = isbn\n",
    "        self.available = True\n",
    "        \n",
    "    \n",
    "    def jie(self):\n",
    "        if self.available:\n",
    "            self.available = False\n",
    "        else:\n",
    "            print(\"该书已被借出\")\n",
    "            \n",
    "            \n",
    "    def huan(self):\n",
    "        self.available = True\n",
    "# 创建一个名为 Library 的类，包含属性 books（一个列表，存储图书馆中的所有书籍）。\n",
    "class Library:\n",
    "    def __init__(self, books = []):\n",
    "        self.books = books\n",
    "        \n",
    "        \n",
    "    def add(self, book: Book):\n",
    "        self.books.append(book)\n",
    "        \n",
    "    \n",
    "    def search(self, s):\n",
    "        books = []\n",
    "        keyword = s.strip()\n",
    "        for book in self.books:\n",
    "            if keyword in book.title or keyword in book.author:\n",
    "                books.append(book)\n",
    "        return books\n",
    "        \n",
    "        \n",
    "        \n",
    "        \n",
    "lib = Library()"
   ],
   "metadata": {
    "collapsed": false,
    "ExecuteTime": {
     "end_time": "2024-09-28T00:38:47.523076Z",
     "start_time": "2024-09-28T00:38:47.510198Z"
    }
   },
   "id": "ef78a22173469e2d"
  },
  {
   "cell_type": "markdown",
   "source": [
    "### 题目四：订单管理系统\n",
    "定义一个名为 Order 的类，包含属性 order_id（订单编号）、items（一个列表，存储订单中的商品）、total_price（订单总价，初始值为 0）。\n",
    "{\n",
    "    name: \"\",\n",
    "    price: 99\n",
    "}\n",
    "为 Order 类添加方法，用于添加商品到订单中，并更新总价。\n",
    "- 创建一个订单管理类 OrderManager，可以存储多个订单对象。实现以下功能：\n",
    "- 创建新的订单。\n",
    "- 根据订单编号查询订单信息。\n",
    "- 显示所有订单的总金额。"
   ],
   "metadata": {
    "collapsed": false
   },
   "id": "6dce44fae6a34122"
  },
  {
   "cell_type": "code",
   "execution_count": 4,
   "outputs": [
    {
     "name": "stdout",
     "output_type": "stream",
     "text": [
      "订单编号：2，订单总价：30\n"
     ]
    }
   ],
   "source": [
    "class Order:\n",
    "    def __init__(self, order_id, items):\n",
    "        self.order_id = order_id\n",
    "        self.items = items\n",
    "        self.total_price = 0\n",
    "        \n",
    "        self.__updatePrice()\n",
    "        \n",
    "        \n",
    "    def addItem(self, item):\n",
    "        # 添加商品\n",
    "        self.items.append(item)\n",
    "        \n",
    "        self.__updatePrice()\n",
    "            \n",
    "            \n",
    "    def __updatePrice(self):\n",
    "        \"\"\"更新总价\"\"\"\n",
    "        self.total_price = 0\n",
    "        for item in self.items:\n",
    "            self.total_price += item[\"price\"]\n",
    "            \n",
    "            \n",
    "    def showTotalPrice(self):\n",
    "        print(f\"订单编号：{self.order_id}，订单总价：{self.total_price}\")\n",
    "        \n",
    "        \n",
    "    def __str__(self):\n",
    "        return f\"订单编号：{self.order_id}，订单总价：{self.total_price}\"\n",
    "        \n",
    "        \n",
    "class OrderManager:\n",
    "    def __init__(self, orders):\n",
    "        self.orders = orders\n",
    "        \n",
    "        \n",
    "    def addOrder(self, order):\n",
    "        self.orders.append(order)\n",
    "        \n",
    "    \n",
    "    def findOrder(self, order_id):\n",
    "        for order in self.orders:\n",
    "            if order.order_id == order_id:\n",
    "                return order\n",
    "        return None\n",
    "    \n",
    "    \n",
    "order_1 = Order(1, [{\"name\": \"苹果\", \"price\": 10}, {\"name\": \"香蕉\", \"price\": 20}])\n",
    "order_2 = Order(2, [{\"name\": \"苹果\", \"price\": 10}, {\"name\": \"香蕉\", \"price\": 20}])\n",
    "\n",
    "om = OrderManager([order_1, order_2])\n",
    "\n",
    "order_3 = Order(3, [{\"name\": \"苹果\", \"price\": 10}, {\"name\": \"香蕉\", \"price\": 20}])\n",
    "om.addOrder(order_3)\n",
    "\n",
    "print(om.findOrder(2))"
   ],
   "metadata": {
    "collapsed": false,
    "ExecuteTime": {
     "end_time": "2024-10-05T00:28:22.315939Z",
     "start_time": "2024-10-05T00:28:22.273578Z"
    }
   },
   "id": "5e70a3800db2fe40"
  }
 ],
 "metadata": {
  "kernelspec": {
   "display_name": "Python 3",
   "language": "python",
   "name": "python3"
  },
  "language_info": {
   "codemirror_mode": {
    "name": "ipython",
    "version": 2
   },
   "file_extension": ".py",
   "mimetype": "text/x-python",
   "name": "python",
   "nbconvert_exporter": "python",
   "pygments_lexer": "ipython2",
   "version": "2.7.6"
  }
 },
 "nbformat": 4,
 "nbformat_minor": 5
}
