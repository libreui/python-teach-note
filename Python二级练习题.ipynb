{
 "cells": [
  {
   "attachments": {},
   "cell_type": "markdown",
   "metadata": {},
   "source": [
    "1. 编写一个程序，让用户输入一个字符串，然后计算字符串中每个字符出现的次数，并将结果保存在一个字典中输出。\n",
    "\n",
    "2. 编写一个程序，生成一个长度为10的随机数列表，然后对这个列表进行从小到大排序并输出结果。\n",
    "\n",
    "3. 编写一个程序，让用户输入一个数n，然后生成一个包含n个随机数的列表，并计算其中所有奇数的累加和并输出结果。\n",
    "\n",
    "4. 编写一个程序，让用户输入一个字符串，然后判断这个字符串是否为回文字符串（即正序和倒序都相同），并输出结果。\n",
    "\n",
    "5. 编写一个程序，生成一个包含10个随机数的列表，然后让用户猜其中一个数的索引位置，如果猜对了就输出“恭喜你，猜对了”，否则输出“猜错了，正确的位置是x”"
   ]
  },
  {
   "cell_type": "code",
   "execution_count": 5,
   "metadata": {},
   "outputs": [
    {
     "name": "stdout",
     "output_type": "stream",
     "text": [
      "负数\n",
      "负数\n",
      "正数\n"
     ]
    }
   ],
   "source": [
    "while int(input(\"输入：\")) < 0:\n",
    "    print(\"负数\");\n",
    "print(\"正数\")"
   ]
  },
  {
   "cell_type": "code",
   "execution_count": 6,
   "metadata": {},
   "outputs": [
    {
     "name": "stdout",
     "output_type": "stream",
     "text": [
      "{1: [1], 2: [1, 4], 3: [1, 4, 9], 4: [1, 4, 9, 16], 5: [1, 4, 9, 16, 25]}\n"
     ]
    }
   ],
   "source": [
    "import random\n",
    "\n",
    "n = int(input(\"请输入一个正整数：\"))\n",
    "\n",
    "square_dict = {}\n",
    "for i in range(1, n+1):\n",
    "    square_list = []\n",
    "    for j in range(1, i+1):\n",
    "        square_list.append(j ** 2)\n",
    "    square_dict[i] = square_list\n",
    "\n",
    "print(square_dict)\n"
   ]
  }
 ],
 "metadata": {
  "kernelspec": {
   "display_name": "python310",
   "language": "python",
   "name": "python3"
  },
  "language_info": {
   "codemirror_mode": {
    "name": "ipython",
    "version": 3
   },
   "file_extension": ".py",
   "mimetype": "text/x-python",
   "name": "python",
   "nbconvert_exporter": "python",
   "pygments_lexer": "ipython3",
   "version": "3.10.9"
  },
  "orig_nbformat": 4
 },
 "nbformat": 4,
 "nbformat_minor": 2
}
