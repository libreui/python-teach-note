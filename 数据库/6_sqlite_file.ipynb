{
 "cells": [
  {
   "cell_type": "code",
   "id": "initial_id",
   "metadata": {
    "collapsed": true,
    "ExecuteTime": {
     "end_time": "2024-11-21T07:13:13.272407Z",
     "start_time": "2024-11-21T07:13:13.264008Z"
    }
   },
   "source": "import sqlite3",
   "outputs": [],
   "execution_count": 18
  },
  {
   "metadata": {},
   "cell_type": "markdown",
   "source": [
    "## Python中的数据类型和SQLite中的数据类型之间的转换\n",
    "| Python 类型 | SQLite 类型 |\n",
    "| ----------- | ----------- |\n",
    "| int         | INTEGER     |\n",
    "| float       | REAL        |\n",
    "| str         | TEXT        |\n",
    "| bool        | INTEGER     |\n",
    "| None        | NULL        |\n",
    "| bytes       | BLOB        |\n"
   ],
   "id": "2baeb65d333dd81c"
  },
  {
   "metadata": {},
   "cell_type": "markdown",
   "source": [
    "## 二进制文件的操作\n",
    "- 保存文件到数据库\n",
    "    - execute(\"insert into t values (?)\", (f.read())\")\n",
    "- 获取时和获取普通的列类似"
   ],
   "id": "43dc3fff2679152a"
  },
  {
   "metadata": {
    "ExecuteTime": {
     "end_time": "2024-11-21T07:13:13.287664Z",
     "start_time": "2024-11-21T07:13:13.279154Z"
    }
   },
   "cell_type": "code",
   "source": [
    "# 链接数据库\n",
    "conn = sqlite3.connect(\"./db/test.db\")\n",
    "# 创建游标\n",
    "cur = conn.cursor()"
   ],
   "id": "b4a7ffb8eea2841e",
   "outputs": [],
   "execution_count": 19
  },
  {
   "metadata": {
    "ExecuteTime": {
     "end_time": "2024-11-21T07:13:13.303721Z",
     "start_time": "2024-11-21T07:13:13.293715Z"
    }
   },
   "cell_type": "code",
   "source": [
    "# 创建脚本\n",
    "sql_script = \"\"\"\n",
    "drop table if exists files;\n",
    "create table files(id integer, data blob);\n",
    "\"\"\""
   ],
   "id": "74acee7df3b06acf",
   "outputs": [],
   "execution_count": 20
  },
  {
   "metadata": {
    "ExecuteTime": {
     "end_time": "2024-11-21T07:13:13.554337Z",
     "start_time": "2024-11-21T07:13:13.305230Z"
    }
   },
   "cell_type": "code",
   "source": [
    "# 执行脚本\n",
    "cur.executescript(sql_script)"
   ],
   "id": "d7e0c37e87680311",
   "outputs": [
    {
     "data": {
      "text/plain": [
       "<sqlite3.Cursor at 0x20dad9a7e40>"
      ]
     },
     "execution_count": 21,
     "metadata": {},
     "output_type": "execute_result"
    }
   ],
   "execution_count": 21
  },
  {
   "metadata": {
    "ExecuteTime": {
     "end_time": "2024-11-21T07:13:13.569995Z",
     "start_time": "2024-11-21T07:13:13.554914Z"
    }
   },
   "cell_type": "code",
   "source": [
    "# 读取文件并写入数据库\n",
    "with open(\"./res/cat.jpg\", \"rb\") as f:\n",
    "    data = f.read()\n",
    "    cur.execute(\"insert into files values (?, ?)\", (1, data))"
   ],
   "id": "cf4799da893a9883",
   "outputs": [],
   "execution_count": 22
  },
  {
   "metadata": {
    "ExecuteTime": {
     "end_time": "2024-11-21T07:13:13.585529Z",
     "start_time": "2024-11-21T07:13:13.571550Z"
    }
   },
   "cell_type": "code",
   "source": [
    "# 从数据库中读取图片并写入文件夹\n",
    "with open(\"./res/cat_1.jpg\", \"wb+\") as f:\n",
    "    cur.execute(\"select * from files where id = 1\")\n",
    "    record = cur.fetchone()\n",
    "    f.write(record[1])"
   ],
   "id": "38bbf534ce8a5a4c",
   "outputs": [],
   "execution_count": 23
  },
  {
   "metadata": {
    "ExecuteTime": {
     "end_time": "2024-11-21T07:13:13.696747Z",
     "start_time": "2024-11-21T07:13:13.586033Z"
    }
   },
   "cell_type": "code",
   "source": [
    "# 提交事务\n",
    "conn.commit()\n",
    "# 关闭\n",
    "conn.close()"
   ],
   "id": "f36b42ec260a9715",
   "outputs": [],
   "execution_count": 24
  }
 ],
 "metadata": {
  "kernelspec": {
   "display_name": "Python 3",
   "language": "python",
   "name": "python3"
  },
  "language_info": {
   "codemirror_mode": {
    "name": "ipython",
    "version": 2
   },
   "file_extension": ".py",
   "mimetype": "text/x-python",
   "name": "python",
   "nbconvert_exporter": "python",
   "pygments_lexer": "ipython2",
   "version": "2.7.6"
  }
 },
 "nbformat": 4,
 "nbformat_minor": 5
}
