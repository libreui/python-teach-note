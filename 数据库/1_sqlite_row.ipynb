{
 "cells": [
  {
   "metadata": {
    "ExecuteTime": {
     "end_time": "2024-11-21T06:54:35.163365Z",
     "start_time": "2024-11-21T06:54:35.147066Z"
    }
   },
   "cell_type": "code",
   "source": "import sqlite3",
   "id": "83d7beb3369558f9",
   "outputs": [],
   "execution_count": 48
  },
  {
   "metadata": {},
   "cell_type": "markdown",
   "source": [
    "## SQLite 中Row对象的简介\n",
    "- Row对象是SQLite中的一种数据类型，它表示数据库中的一行数据。\n",
    "- 支持的操作\n",
    "  - row[column_name] 获取指定列的值\n",
    "  - row[column_index] 获取指定索引的值\n",
    "  - 支持迭代访问\n",
    "  - 支持len()函数"
   ],
   "id": "e4d4d106050e4c"
  },
  {
   "metadata": {
    "ExecuteTime": {
     "end_time": "2024-11-21T06:54:35.178895Z",
     "start_time": "2024-11-21T06:54:35.164370Z"
    }
   },
   "cell_type": "code",
   "source": [
    "# 连接到SQLite数据库\n",
    "db_name = './db/example.db'\n",
    "conn = sqlite3.connect(db_name)"
   ],
   "id": "c96f08fa2dfe4a03",
   "outputs": [],
   "execution_count": 49
  },
  {
   "metadata": {
    "ExecuteTime": {
     "end_time": "2024-11-21T06:54:35.194436Z",
     "start_time": "2024-11-21T06:54:35.179901Z"
    }
   },
   "cell_type": "code",
   "source": [
    "# 设置行模式\n",
    "conn.row_factory = sqlite3.Row"
   ],
   "id": "2b79c583c7ae75ee",
   "outputs": [],
   "execution_count": 50
  },
  {
   "metadata": {
    "ExecuteTime": {
     "end_time": "2024-11-21T06:54:35.209967Z",
     "start_time": "2024-11-21T06:54:35.196437Z"
    }
   },
   "cell_type": "code",
   "source": [
    "# 创建一个游标对象\n",
    "cursor = conn.cursor()"
   ],
   "id": "df7efe6ee16c3d06",
   "outputs": [],
   "execution_count": 51
  },
  {
   "metadata": {
    "ExecuteTime": {
     "end_time": "2024-11-21T06:54:35.225303Z",
     "start_time": "2024-11-21T06:54:35.210966Z"
    }
   },
   "cell_type": "code",
   "source": [
    "# 执行查询语句\n",
    "sql = \"select * from star\"\n",
    "cursor.execute(sql)"
   ],
   "id": "89815b551bc47af1",
   "outputs": [
    {
     "data": {
      "text/plain": [
       "<sqlite3.Cursor at 0x2b187256b40>"
      ]
     },
     "execution_count": 52,
     "metadata": {},
     "output_type": "execute_result"
    }
   ],
   "execution_count": 52
  },
  {
   "metadata": {
    "ExecuteTime": {
     "end_time": "2024-11-21T06:54:35.240903Z",
     "start_time": "2024-11-21T06:54:35.226303Z"
    }
   },
   "cell_type": "code",
   "source": [
    "# 获取一行数据\n",
    "row = cursor.fetchone()"
   ],
   "id": "5c02116f53c65094",
   "outputs": [],
   "execution_count": 53
  },
  {
   "metadata": {
    "ExecuteTime": {
     "end_time": "2024-11-21T06:54:35.256566Z",
     "start_time": "2024-11-21T06:54:35.241903Z"
    }
   },
   "cell_type": "code",
   "source": [
    "# 打印row类型\n",
    "print(type(row))"
   ],
   "id": "7bfdb2082e573bc7",
   "outputs": [
    {
     "name": "stdout",
     "output_type": "stream",
     "text": [
      "<class 'sqlite3.Row'>\n"
     ]
    }
   ],
   "execution_count": 54
  },
  {
   "metadata": {
    "ExecuteTime": {
     "end_time": "2024-11-21T06:54:35.272336Z",
     "start_time": "2024-11-21T06:54:35.257503Z"
    }
   },
   "cell_type": "code",
   "source": [
    "# 以列名访问\n",
    "print(\"以列名访问：\", row['name'])"
   ],
   "id": "da64072b1464e85a",
   "outputs": [
    {
     "name": "stdout",
     "output_type": "stream",
     "text": [
      "以列名访问： 李四\n"
     ]
    }
   ],
   "execution_count": 55
  },
  {
   "metadata": {
    "ExecuteTime": {
     "end_time": "2024-11-21T06:54:35.287603Z",
     "start_time": "2024-11-21T06:54:35.273337Z"
    }
   },
   "cell_type": "code",
   "source": [
    "# 以列索引访问\n",
    "print(\"以索引访问：\", row[0])"
   ],
   "id": "6b43da148f48094e",
   "outputs": [
    {
     "name": "stdout",
     "output_type": "stream",
     "text": [
      "以索引访问： 2\n"
     ]
    }
   ],
   "execution_count": 56
  },
  {
   "metadata": {
    "ExecuteTime": {
     "end_time": "2024-11-21T06:54:35.303151Z",
     "start_time": "2024-11-21T06:54:35.289581Z"
    }
   },
   "cell_type": "code",
   "source": [
    "# 支持迭代访问\n",
    "for item in row:\n",
    "    print(item)"
   ],
   "id": "8860da0093b8d14",
   "outputs": [
    {
     "name": "stdout",
     "output_type": "stream",
     "text": [
      "2\n",
      "李四\n",
      "20\n",
      "上海\n"
     ]
    }
   ],
   "execution_count": 57
  },
  {
   "metadata": {
    "ExecuteTime": {
     "end_time": "2024-11-21T06:54:35.318730Z",
     "start_time": "2024-11-21T06:54:35.304217Z"
    }
   },
   "cell_type": "code",
   "source": [
    "# 支持len()函数\n",
    "print(\"len()：\", len(row))"
   ],
   "id": "738f8eb7f7215633",
   "outputs": [
    {
     "name": "stdout",
     "output_type": "stream",
     "text": [
      "len()： 4\n"
     ]
    }
   ],
   "execution_count": 58
  },
  {
   "metadata": {
    "ExecuteTime": {
     "end_time": "2024-11-21T06:54:35.334397Z",
     "start_time": "2024-11-21T06:54:35.319729Z"
    }
   },
   "cell_type": "code",
   "source": [
    "# 关闭游标和连接\n",
    "cursor.close()\n",
    "conn.close()"
   ],
   "id": "1a1d86e08049073e",
   "outputs": [],
   "execution_count": 59
  }
 ],
 "metadata": {
  "kernelspec": {
   "display_name": "Python 3",
   "language": "python",
   "name": "python3"
  },
  "language_info": {
   "codemirror_mode": {
    "name": "ipython",
    "version": 2
   },
   "file_extension": ".py",
   "mimetype": "text/x-python",
   "name": "python",
   "nbconvert_exporter": "python",
   "pygments_lexer": "ipython2",
   "version": "2.7.6"
  }
 },
 "nbformat": 4,
 "nbformat_minor": 5
}
