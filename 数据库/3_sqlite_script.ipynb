{
 "cells": [
  {
   "cell_type": "code",
   "id": "initial_id",
   "metadata": {
    "collapsed": true,
    "ExecuteTime": {
     "end_time": "2024-11-21T06:03:36.163077Z",
     "start_time": "2024-11-21T06:03:36.151514Z"
    }
   },
   "source": "import sqlite3",
   "outputs": [],
   "execution_count": 22
  },
  {
   "metadata": {},
   "cell_type": "markdown",
   "source": "## 使用SQL脚本来操作数据库",
   "id": "f9d441019505de0b"
  },
  {
   "metadata": {
    "ExecuteTime": {
     "end_time": "2024-11-21T06:03:36.178867Z",
     "start_time": "2024-11-21T06:03:36.169610Z"
    }
   },
   "cell_type": "code",
   "source": [
    "# 连接到SQLite数据库\n",
    "db_name = \"./db/example_1.db\"\n",
    "conn = sqlite3.connect(db_name)\n",
    "conn.row_factory = sqlite3.Row"
   ],
   "id": "1116191b52b1077",
   "outputs": [],
   "execution_count": 23
  },
  {
   "metadata": {
    "ExecuteTime": {
     "end_time": "2024-11-21T06:03:36.194485Z",
     "start_time": "2024-11-21T06:03:36.185916Z"
    }
   },
   "cell_type": "code",
   "source": [
    "# 创建一个游标对象\n",
    "cursor = conn.cursor()"
   ],
   "id": "9504721be4d91caf",
   "outputs": [],
   "execution_count": 24
  },
  {
   "metadata": {
    "ExecuteTime": {
     "end_time": "2024-11-21T06:03:36.209721Z",
     "start_time": "2024-11-21T06:03:36.195994Z"
    }
   },
   "cell_type": "code",
   "source": [
    "# 创建SQL脚本\n",
    "sql_script = \"\"\"\n",
    "create table if not exists users (id integer, name text);\n",
    "insert into users (id, name) values (1, 'Alice');\n",
    "insert into users (id, name) values (2, 'Bob');\n",
    "insert into users (id, name) values (3, 'Charlie');\n",
    "\"\"\""
   ],
   "id": "328665f17f037dd8",
   "outputs": [],
   "execution_count": 25
  },
  {
   "metadata": {
    "ExecuteTime": {
     "end_time": "2024-11-21T06:03:36.550291Z",
     "start_time": "2024-11-21T06:03:36.210293Z"
    }
   },
   "cell_type": "code",
   "source": [
    "# 执行SQL脚本\n",
    "cursor.executescript(sql_script)"
   ],
   "id": "e80b4fe25868b7e1",
   "outputs": [
    {
     "data": {
      "text/plain": [
       "<sqlite3.Cursor at 0x150857377c0>"
      ]
     },
     "execution_count": 26,
     "metadata": {},
     "output_type": "execute_result"
    }
   ],
   "execution_count": 26
  },
  {
   "metadata": {
    "ExecuteTime": {
     "end_time": "2024-11-21T06:03:36.565937Z",
     "start_time": "2024-11-21T06:03:36.551828Z"
    }
   },
   "cell_type": "code",
   "source": [
    "# 查询数据\n",
    "cursor.execute(\"select * from users\")\n",
    "for row in cursor.fetchall():\n",
    "    print(row['id'], row['name'])"
   ],
   "id": "4b83b3b61b973de9",
   "outputs": [
    {
     "name": "stdout",
     "output_type": "stream",
     "text": [
      "1 Alice\n",
      "2 Bob\n",
      "3 Charlie\n",
      "1 Alice\n",
      "2 Bob\n",
      "3 Charlie\n"
     ]
    }
   ],
   "execution_count": 27
  },
  {
   "metadata": {
    "ExecuteTime": {
     "end_time": "2024-11-21T06:54:05.721457Z",
     "start_time": "2024-11-21T06:54:05.706075Z"
    }
   },
   "cell_type": "code",
   "source": [
    "# 关闭游标和连接\n",
    "cursor.close()\n",
    "conn.close()"
   ],
   "id": "867a0953823c032f",
   "outputs": [
    {
     "ename": "ProgrammingError",
     "evalue": "Cannot operate on a closed database.",
     "output_type": "error",
     "traceback": [
      "\u001B[1;31m---------------------------------------------------------------------------\u001B[0m",
      "\u001B[1;31mProgrammingError\u001B[0m                          Traceback (most recent call last)",
      "Cell \u001B[1;32mIn[29], line 2\u001B[0m\n\u001B[0;32m      1\u001B[0m \u001B[38;5;66;03m# 关闭游标和连接\u001B[39;00m\n\u001B[1;32m----> 2\u001B[0m \u001B[43mcursor\u001B[49m\u001B[38;5;241;43m.\u001B[39;49m\u001B[43mclose\u001B[49m\u001B[43m(\u001B[49m\u001B[43m)\u001B[49m\n\u001B[0;32m      3\u001B[0m conn\u001B[38;5;241m.\u001B[39mclose()\n",
      "\u001B[1;31mProgrammingError\u001B[0m: Cannot operate on a closed database."
     ]
    }
   ],
   "execution_count": 29
  }
 ],
 "metadata": {
  "kernelspec": {
   "display_name": "Python 3",
   "language": "python",
   "name": "python3"
  },
  "language_info": {
   "codemirror_mode": {
    "name": "ipython",
    "version": 2
   },
   "file_extension": ".py",
   "mimetype": "text/x-python",
   "name": "python",
   "nbconvert_exporter": "python",
   "pygments_lexer": "ipython2",
   "version": "2.7.6"
  }
 },
 "nbformat": 4,
 "nbformat_minor": 5
}
