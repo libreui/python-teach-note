{
 "cells": [
  {
   "cell_type": "code",
   "id": "initial_id",
   "metadata": {
    "collapsed": true,
    "ExecuteTime": {
     "end_time": "2024-11-21T06:51:48.137730Z",
     "start_time": "2024-11-21T06:51:48.120337Z"
    }
   },
   "source": [
    "import sqlite3"
   ],
   "outputs": [],
   "execution_count": 17
  },
  {
   "metadata": {},
   "cell_type": "markdown",
   "source": [
    "# SQLite 创建自定义函数\n",
    "- 创建基本函数\n",
    "    - conn.create_function(name, params_num, fun_name)\n",
    "- 创建聚合函数\n",
    "    - conn.create_aggregate(name, params_num, class_name)"
   ],
   "id": "6e015dca89be76aa"
  },
  {
   "metadata": {
    "ExecuteTime": {
     "end_time": "2024-11-21T06:51:48.153300Z",
     "start_time": "2024-11-21T06:51:48.139286Z"
    }
   },
   "cell_type": "code",
   "source": [
    "db_name = \"./db/test.db\""
   ],
   "id": "acaca3acafc69811",
   "outputs": [],
   "execution_count": 18
  },
  {
   "metadata": {
    "ExecuteTime": {
     "end_time": "2024-11-21T06:51:48.168444Z",
     "start_time": "2024-11-21T06:51:48.155843Z"
    }
   },
   "cell_type": "code",
   "source": [
    "# 创建聚合函数类\n",
    "class AbsSum:\n",
    "    def __init__(self):\n",
    "        self.s = 0\n",
    "        \n",
    "    def step(self, value):\n",
    "        self.s += abs(value)\n",
    "        \n",
    "    def finalize(self):\n",
    "        return self.s"
   ],
   "id": "d7dfc3cd96ee1ca6",
   "outputs": [],
   "execution_count": 19
  },
  {
   "metadata": {
    "ExecuteTime": {
     "end_time": "2024-11-21T06:51:48.184245Z",
     "start_time": "2024-11-21T06:51:48.170016Z"
    }
   },
   "cell_type": "code",
   "source": [
    "# 创建连接\n",
    "conn = sqlite3.connect(db_name)\n",
    "# 注册聚合函数\n",
    "conn.create_aggregate(\"abssum\", 1, AbsSum)"
   ],
   "id": "70d633ffdf4b4b90",
   "outputs": [],
   "execution_count": 20
  },
  {
   "metadata": {
    "ExecuteTime": {
     "end_time": "2024-11-21T06:51:48.200325Z",
     "start_time": "2024-11-21T06:51:48.184748Z"
    }
   },
   "cell_type": "code",
   "source": [
    "# 创建游标\n",
    "cur = conn.cursor()\n",
    "# 创建sql脚本\n",
    "sql_script = \"\"\"\n",
    "drop table if exists test;\n",
    "create table test(id integer, name text, score integer);\n",
    "insert into test values(1, 'Tom', 90);\n",
    "insert into test values(2, 'Jerry', -80);\n",
    "\"\"\""
   ],
   "id": "46646829fa7958f",
   "outputs": [],
   "execution_count": 21
  },
  {
   "metadata": {
    "ExecuteTime": {
     "end_time": "2024-11-21T06:51:48.621650Z",
     "start_time": "2024-11-21T06:51:48.201835Z"
    }
   },
   "cell_type": "code",
   "source": [
    "# 执行sql脚本\n",
    "cur.executescript(sql_script)"
   ],
   "id": "59675ee1b6b3f2f3",
   "outputs": [
    {
     "data": {
      "text/plain": [
       "<sqlite3.Cursor at 0x24153390440>"
      ]
     },
     "execution_count": 22,
     "metadata": {},
     "output_type": "execute_result"
    }
   ],
   "execution_count": 22
  },
  {
   "metadata": {
    "ExecuteTime": {
     "end_time": "2024-11-21T06:51:48.652972Z",
     "start_time": "2024-11-21T06:51:48.627830Z"
    }
   },
   "cell_type": "code",
   "source": [
    "# 查询\n",
    "cur.execute(\"select abssum(score) from test\")\n",
    "for row in cur:\n",
    "    print(row)"
   ],
   "id": "53fc61d4ebba17c7",
   "outputs": [
    {
     "name": "stdout",
     "output_type": "stream",
     "text": [
      "(170,)\n"
     ]
    }
   ],
   "execution_count": 23
  },
  {
   "metadata": {
    "ExecuteTime": {
     "end_time": "2024-11-21T06:51:48.668413Z",
     "start_time": "2024-11-21T06:51:48.653977Z"
    }
   },
   "cell_type": "code",
   "source": [
    "# 提交\n",
    "conn.commit()\n",
    "# 关闭连接\n",
    "conn.close()"
   ],
   "id": "fed934d3e671da5a",
   "outputs": [],
   "execution_count": 24
  }
 ],
 "metadata": {
  "kernelspec": {
   "display_name": "Python 3",
   "language": "python",
   "name": "python3"
  },
  "language_info": {
   "codemirror_mode": {
    "name": "ipython",
    "version": 2
   },
   "file_extension": ".py",
   "mimetype": "text/x-python",
   "name": "python",
   "nbconvert_exporter": "python",
   "pygments_lexer": "ipython2",
   "version": "2.7.6"
  }
 },
 "nbformat": 4,
 "nbformat_minor": 5
}
