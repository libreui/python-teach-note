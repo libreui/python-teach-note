{
 "cells": [
  {
   "cell_type": "code",
   "execution_count": 26,
   "id": "initial_id",
   "metadata": {
    "collapsed": true,
    "ExecuteTime": {
     "end_time": "2025-07-29T02:39:37.223729Z",
     "start_time": "2025-07-29T02:39:37.213474Z"
    }
   },
   "outputs": [
    {
     "name": "stdout",
     "output_type": "stream",
     "text": [
      "数据连接成功\n"
     ]
    }
   ],
   "source": [
    "import  sqlite3\n",
    "conn = sqlite3.connect('./db/snc.db')\n",
    "print(\"数据连接成功\")\n",
    "cursor = conn.cursor()"
   ]
  },
  {
   "cell_type": "code",
   "execution_count": 30,
   "outputs": [
    {
     "name": "stdout",
     "output_type": "stream",
     "text": [
      "(421, '冬日重现', '作者：雪梨炖茶', '1460-244-7333', '边路出版社', 1987, '都市小说', 0)\n",
      "(423, '遮天：娶妻变强，凡体镇世间', '作者：慢步书海', '1252-428-0585', '边路出版社', 1997, '玄幻小说', 0)\n",
      "(427, '斗罗大陆V重生唐三', '作者：唐家三少', '1367-129-0652', '人民出版社', 1992, '玄幻小说', 0)\n",
      "(430, '最强狂兵2：黑暗荣耀', '作者：烈焰滔滔', '1693-807-6209', '人民出版社', 1984, '都市小说', 0)\n",
      "(431, '艾尔登法环，但是带着风灵月影', '油炸小青龙', '1392-987-7556', '新路出版社', 1980, '奇幻小说', 0)\n",
      "(432, '神探陈益', '勤奋的关关', '1096-554-5837', '红花出版社', 1986, '都市小说', 0)\n",
      "(435, '史上最强师兄', '八月飞鹰', '1137-179-2337', '边路出版社', 1982, '玄幻小说', 0)\n",
      "(436, '择天记', '猫腻', '1857-955-1880', '新路出版社', 1993, '玄幻小说', 0)\n",
      "(438, '大内御猫', '白喵赴捋谁', '1563-729-1633', '边路出版社', 1999, '玄幻小说', 0)\n",
      "(439, '我本边军一小卒', '四月花黄', '1867-011-0498', '人民出版社', 1988, '玄幻小说', 0)\n",
      "(440, '我才一岁，逆袭系统什么鬼？', '卫八月', '1592-401-5677', '宏光出版社', 1988, '玄幻小说', 0)\n",
      "(446, '没人比我更懂重生', '一文倒', '1559-041-2001', '新路出版社', 1980, '都市小说', 0)\n",
      "(448, '新概念诡道升仙', '残酷厕纸天使', '1974-593-2345', '宏光出版社', 1994, '仙侠小说', 0)\n",
      "(451, '九天斩神诀', '小知了', '1773-416-9603', '宏光出版社', 1985, '玄幻小说', 0)\n",
      "(452, 'LOL：夺冠之后，举世皆敌', '老老五了', '1490-508-3281', '红花出版社', 1991, '游戏小说', 0)\n",
      "(455, '重生：我的80年代', '刀9', '1834-274-3475', '新路出版社', 1987, '都市小说', 0)\n",
      "(459, '神话：天帝今天不上班', '死三二一', '1808-507-1763', '红花出版社', 1994, '玄幻小说', 0)\n",
      "(460, '欺师灭祖后，我恶堕成邪祟妖女', '芝士如如鸭', '1513-542-1242', '宏光出版社', 1984, '仙侠小说', 0)\n",
      "(465, '人在仙古，刚成至尊', '有相皆虚', '1157-225-3161', '新路出版社', 1999, '玄幻小说', 0)\n",
      "(468, '斗罗：绝世之玄武月神', '雨下听石', '1860-170-6790', '宏光出版社', 1994, '轻小说', 0)\n"
     ]
    }
   ],
   "source": [
    "# 查询“前20条”的数据并打印\n",
    "sql = \"select * from book where publication_year<2000 limit 20\"\n",
    "cursor.execute(sql)\n",
    "# 数据返回\n",
    "for row in cursor.fetchall():\n",
    "    print(row)\n"
   ],
   "metadata": {
    "collapsed": false,
    "ExecuteTime": {
     "end_time": "2025-07-29T02:40:49.494723Z",
     "start_time": "2025-07-29T02:40:49.483808Z"
    }
   },
   "id": "aa0a64d87d216bba"
  },
  {
   "cell_type": "code",
   "execution_count": 33,
   "outputs": [
    {
     "name": "stdout",
     "output_type": "stream",
     "text": [
      "['仙侠小说', '历史小说', '古代言情', '奇幻小说', '悬疑小说', '武侠小说', '游戏小说', '玄幻小说', '科幻小说', '诸天无限', '轻小说', '都市小说']\n"
     ]
    }
   ],
   "source": [
    "sql = \"select category from book group by category\"\n",
    "cursor.execute(sql)\n",
    "print([c[0] for c in cursor.fetchall()])"
   ],
   "metadata": {
    "collapsed": false,
    "ExecuteTime": {
     "end_time": "2025-07-29T02:43:55.492022Z",
     "start_time": "2025-07-29T02:43:55.480912Z"
    }
   },
   "id": "81abc1e9416127e2"
  },
  {
   "cell_type": "code",
   "execution_count": 40,
   "outputs": [
    {
     "name": "stdout",
     "output_type": "stream",
     "text": [
      "1 (511, '一人一驴一狗去修仙', 1990)\n",
      "2 (439, '我本边军一小卒', 1988)\n",
      "3 (440, '我才一岁，逆袭系统什么鬼？', 1988)\n",
      "4 (479, '佣兵战纪', 1988)\n",
      "5 (519, '新时代艺术家', 1988)\n",
      "6 (421, '冬日重现', 1987)\n",
      "7 (455, '重生：我的80年代', 1987)\n",
      "8 (482, '我，落难王子，打钱', 1987)\n",
      "9 (507, '开局过目不忘，铸造记忆宫殿', 1987)\n",
      "10 (432, '神探陈益', 1986)\n"
     ]
    }
   ],
   "source": [
    "# 查询第{page}页的数据，每页10条数据\n",
    "page = 2\n",
    "page_size = 10\n",
    "sql = f\"select id, title, publication_year from book \\\n",
    "         where publication_year<=2000 \\\n",
    "         order by publication_year desc \\\n",
    "         limit {page * page_size}, {page_size}\"\n",
    "cursor.execute(sql)\n",
    "for index, row in enumerate(cursor.fetchall(), 1):\n",
    "    print(index, row)\n"
   ],
   "metadata": {
    "collapsed": false,
    "ExecuteTime": {
     "end_time": "2025-07-29T03:10:13.067555Z",
     "start_time": "2025-07-29T03:10:13.059523Z"
    }
   },
   "id": "2077c170c08fce3f"
  }
 ],
 "metadata": {
  "kernelspec": {
   "display_name": "Python 3",
   "language": "python",
   "name": "python3"
  },
  "language_info": {
   "codemirror_mode": {
    "name": "ipython",
    "version": 2
   },
   "file_extension": ".py",
   "mimetype": "text/x-python",
   "name": "python",
   "nbconvert_exporter": "python",
   "pygments_lexer": "ipython2",
   "version": "2.7.6"
  }
 },
 "nbformat": 4,
 "nbformat_minor": 5
}
