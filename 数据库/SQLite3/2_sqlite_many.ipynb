{
 "cells": [
  {
   "cell_type": "code",
   "id": "initial_id",
   "metadata": {
    "collapsed": true,
    "ExecuteTime": {
     "end_time": "2024-11-21T05:54:06.122557Z",
     "start_time": "2024-11-21T05:54:06.117528Z"
    }
   },
   "source": [
    "import sqlite3"
   ],
   "outputs": [],
   "execution_count": 9
  },
  {
   "metadata": {},
   "cell_type": "markdown",
   "source": [
    "## 批量插入数据\n",
    "- executemany(sql, records)\n",
    "- 参数：sql，records:（列表，元组，字典）"
   ],
   "id": "38e343253d2093d1"
  },
  {
   "metadata": {
    "ExecuteTime": {
     "end_time": "2024-11-21T05:54:06.138586Z",
     "start_time": "2024-11-21T05:54:06.124559Z"
    }
   },
   "cell_type": "code",
   "source": [
    "conn = sqlite3.connect('./db/example.db')\n",
    "conn.row_factory = sqlite3.Row"
   ],
   "id": "f08beb5caf2d0c97",
   "outputs": [],
   "execution_count": 10
  },
  {
   "metadata": {
    "ExecuteTime": {
     "end_time": "2024-11-21T05:54:06.154109Z",
     "start_time": "2024-11-21T05:54:06.139584Z"
    }
   },
   "cell_type": "code",
   "source": [
    "cursor = conn.cursor()"
   ],
   "id": "39ec85c720855980",
   "outputs": [],
   "execution_count": 11
  },
  {
   "metadata": {
    "ExecuteTime": {
     "end_time": "2024-11-21T05:54:06.170128Z",
     "start_time": "2024-11-21T05:54:06.156108Z"
    }
   },
   "cell_type": "code",
   "source": [
    "# 定义数据 (id, name, age, address)\n",
    "data = [\n",
    "    (23, '张三', '男', '北京'),\n",
    "    (24, '李四', '男', '上海'),\n",
    "    (25, '王五', '男', '广州'),\n",
    "]"
   ],
   "id": "ade5f55441511af5",
   "outputs": [],
   "execution_count": 12
  },
  {
   "metadata": {
    "ExecuteTime": {
     "end_time": "2024-11-21T05:54:06.186194Z",
     "start_time": "2024-11-21T05:54:06.171635Z"
    }
   },
   "cell_type": "code",
   "source": [
    "# 执行插入操作\n",
    "sql = \"insert into star (id, name, age, address) values (?, ?, ?, ?)\"\n",
    "cursor.executemany(sql, data)"
   ],
   "id": "3bfad29168be80a4",
   "outputs": [
    {
     "data": {
      "text/plain": [
       "<sqlite3.Cursor at 0x1d0a7fe0bc0>"
      ]
     },
     "execution_count": 13,
     "metadata": {},
     "output_type": "execute_result"
    }
   ],
   "execution_count": 13
  },
  {
   "metadata": {
    "ExecuteTime": {
     "end_time": "2024-11-21T05:54:06.202308Z",
     "start_time": "2024-11-21T05:54:06.187194Z"
    }
   },
   "cell_type": "code",
   "source": [
    "# 查询数据\n",
    "sql = \"select * from star\"\n",
    "cursor.execute(sql)\n",
    "for row in cursor.fetchall():\n",
    "    for item in row:\n",
    "        print(item, end='\\t')"
   ],
   "id": "315d80accaf70714",
   "outputs": [
    {
     "name": "stdout",
     "output_type": "stream",
     "text": [
      "2\t李四\t20\t上海\t3\t王五\t22\t广州\t23\t张三\t男\t北京\t24\t李四\t男\t上海\t25\t王五\t男\t广州\t23\t张三\t男\t北京\t24\t李四\t男\t上海\t25\t王五\t男\t广州\t"
     ]
    }
   ],
   "execution_count": 14
  },
  {
   "metadata": {
    "ExecuteTime": {
     "end_time": "2024-11-21T05:54:06.311459Z",
     "start_time": "2024-11-21T05:54:06.203309Z"
    }
   },
   "cell_type": "code",
   "source": [
    "# 提交事务\n",
    "conn.commit()"
   ],
   "id": "b337ce485662c03c",
   "outputs": [],
   "execution_count": 15
  },
  {
   "metadata": {
    "ExecuteTime": {
     "end_time": "2024-11-21T06:54:11.276198Z",
     "start_time": "2024-11-21T06:54:11.267180Z"
    }
   },
   "cell_type": "code",
   "source": [
    "# 关闭连接\n",
    "conn.close()"
   ],
   "id": "a768d4ac2faafcdb",
   "outputs": [],
   "execution_count": 17
  }
 ],
 "metadata": {
  "kernelspec": {
   "display_name": "Python 3",
   "language": "python",
   "name": "python3"
  },
  "language_info": {
   "codemirror_mode": {
    "name": "ipython",
    "version": 2
   },
   "file_extension": ".py",
   "mimetype": "text/x-python",
   "name": "python",
   "nbconvert_exporter": "python",
   "pygments_lexer": "ipython2",
   "version": "2.7.6"
  }
 },
 "nbformat": 4,
 "nbformat_minor": 5
}
