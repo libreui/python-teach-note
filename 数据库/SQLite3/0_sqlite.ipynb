{
 "cells": [
  {
   "metadata": {},
   "cell_type": "markdown",
   "source": [
    "## 打开并链接数据库"
   ],
   "id": "828cd28c04068a4"
  },
  {
   "cell_type": "code",
   "id": "initial_id",
   "metadata": {
    "collapsed": true,
    "ExecuteTime": {
     "end_time": "2025-07-24T01:47:34.634641Z",
     "start_time": "2025-07-24T01:47:34.609241Z"
    }
   },
   "source": [
    "import sqlite3\n",
    "conn = sqlite3.connect('./db/example.db')\n",
    "print(\"数据库打开成功！\")"
   ],
   "outputs": [
    {
     "name": "stdout",
     "output_type": "stream",
     "text": [
      "数据库打开成功！\n"
     ]
    }
   ],
   "execution_count": 1
  },
  {
   "metadata": {},
   "cell_type": "markdown",
   "source": [
    "## 获取游标\n",
    "- cursor.execute(\"SQL语句\") 执行SQL语句\n",
    "- cursor.executemany(\"SQL语句\", [(参数1, 参数2, ...), (参数1, 参数2, ...), ...]) 执行SQL语句，参数为列表\n",
    "- cursor.executescript(\"SQL语句\") 执行多条SQL语句\n",
    "- cursor.fetchone() 获取一条数据\n",
    "- cursor.fetchall() 获取所有数据\n",
    "- cursor.fetchmany(size) 获取指定数量的数据\n",
    "- conn.commit() 提交事务\n",
    "- conn.rollback() 回滚事务\n",
    "- conn.close() 关闭游标"
   ],
   "id": "927db69db0ac4142"
  },
  {
   "metadata": {
    "ExecuteTime": {
     "end_time": "2025-07-24T01:47:38.147073Z",
     "start_time": "2025-07-24T01:47:38.136363Z"
    }
   },
   "cell_type": "code",
   "source": [
    "cursor = conn.cursor()\n",
    "print(cursor)"
   ],
   "id": "ff3da54dd9226ea9",
   "outputs": [
    {
     "name": "stdout",
     "output_type": "stream",
     "text": [
      "<sqlite3.Cursor object at 0x1095f6940>\n"
     ]
    }
   ],
   "execution_count": 2
  },
  {
   "metadata": {},
   "cell_type": "markdown",
   "source": [
    "## 创建表 create table \"table_name\""
   ],
   "id": "b41fbbff37bd5e32"
  },
  {
   "cell_type": "code",
   "execution_count": 3,
   "outputs": [],
   "source": [
    "# 创建图书管理表\n",
    "sql = '''\n",
    "CREATE TABLE if NOT EXISTS \"books\" (\n",
    "    \"id\" INTEGER ,\n",
    "    \"title\" TEXT NOT NULL,\n",
    "    \"author\" TEXT NOT NULL,\n",
    "    \"isbn\" TEXT NOT NULL,\n",
    "    \"publisher\" TEXT,\n",
    "    \"publication_year\" INTEGER,\n",
    "    \"category\" TEXT,\n",
    "    \"status\" INTEGER,\n",
    "    PRIMARY KEY (\"id\" AUTOINCREMENT)\n",
    ");\n",
    "'''\n",
    "ret = cursor.execute(sql)\n"
   ],
   "metadata": {
    "collapsed": false,
    "ExecuteTime": {
     "end_time": "2025-07-24T01:47:41.456168Z",
     "start_time": "2025-07-24T01:47:41.446328Z"
    }
   },
   "id": "1c959eab04a66df7"
  },
  {
   "metadata": {},
   "cell_type": "code",
   "source": [
    "sql = \"create table if not exists star (id integer, name text, age integer, address text)\"\n",
    "cursor.execute(sql)"
   ],
   "id": "d91fe8efef5bce2b",
   "outputs": [],
   "execution_count": null
  },
  {
   "metadata": {},
   "cell_type": "markdown",
   "source": [
    "## 数据表的操作方法以及语句\n",
    "- 插入数据 insert into \"table_name\" values (\"value1\", \"value2\", ...\n",
    "- 查询数据 select * from \"table_name\"\n",
    "- 检索数据 retrieve \"column_name\" from \"table_name\" where \"column_name\" = \"value\"\n",
    "- 更新数据 update \"table_name\" set \"column_name\" = \"value\" where \"column_name\" = \"value\"\n",
    "- 删除数据 delete from \"table_name\" where \"column_name\" = \"value\""
   ],
   "id": "e5d4cdee4e799bf"
  },
  {
   "metadata": {},
   "cell_type": "markdown",
   "source": [
    "## 插入数据 insert into \"table_name\" values (\"value1\", \"value2\", ..."
   ],
   "id": "76805cc1ec305d3a"
  },
  {
   "cell_type": "code",
   "execution_count": 4,
   "outputs": [],
   "source": [
    "# 插入图书数据\n",
    "row =  ['西游记', '吴承恩', 'xxxxxxxx', '人民出版社', '2025', '小说', 0]\n",
    "sql = \"INSERT INTO books(title, author, isbn, publisher, publication_year, category, status) VALUES (?,?,?,?,?,?,?)\"\n",
    "cursor.execute(sql, row)\n",
    "conn.commit()"
   ],
   "metadata": {
    "collapsed": false,
    "ExecuteTime": {
     "end_time": "2025-07-24T01:47:56.893118Z",
     "start_time": "2025-07-24T01:47:56.880498Z"
    }
   },
   "id": "11bacfe5cdaabbf0"
  },
  {
   "cell_type": "code",
   "execution_count": 5,
   "outputs": [],
   "source": [
    "rows =  [\n",
    "    ['西游记1', '吴承恩1', 'xxxxxxxx', '人民出版社', '2025', '小说', 0],\n",
    "    ['西游记2', '吴承恩2', 'xxxxxxxx', '人民出版社', '2025', '小说', 0],\n",
    "    ['西游记3', '吴承恩3', 'xxxxxxxx', '人民出版社', '2025', '小说', 0],\n",
    "]\n",
    "sql = \"INSERT INTO books(title, author, isbn, publisher, publication_year, category, status) VALUES (?,?,?,?,?,?,?)\"\n",
    "for row in rows:\n",
    "    cursor.execute(sql, row)\n",
    "conn.commit()"
   ],
   "metadata": {
    "collapsed": false,
    "ExecuteTime": {
     "end_time": "2025-07-24T01:57:13.083188Z",
     "start_time": "2025-07-24T01:57:13.072582Z"
    }
   },
   "id": "d618dcb0371b268a"
  },
  {
   "metadata": {},
   "cell_type": "code",
   "source": [
    "rows = [\n",
    "    (1, '张三', 18, '北京'),\n",
    "    (2, '李四', 20, '上海'),\n",
    "    (3, '王五', 22, '广州')\n",
    "]\n",
    "for item in rows:\n",
    "    sql = \"insert into star (id, name, age, address) values (?, ?, ?, ?)\"\n",
    "    cursor.execute(sql, item)\n",
    "\n",
    "# 提交插入信息\n",
    "conn.commit()"
   ],
   "id": "6902e4d5efa525f6",
   "outputs": [],
   "execution_count": null
  },
  {
   "metadata": {},
   "cell_type": "markdown",
   "source": [
    "## 查询数据 select * from \"table_name\""
   ],
   "id": "ce60fe5ec3f73aa"
  },
  {
   "metadata": {},
   "cell_type": "code",
   "source": [
    "sql = \"select * from star\"\n",
    "cursor.execute(sql)\n",
    "for item in cursor.fetchall():\n",
    "    print(item)"
   ],
   "id": "d71bce1c584c49fb",
   "outputs": [],
   "execution_count": null
  },
  {
   "metadata": {},
   "cell_type": "markdown",
   "source": [
    "## 更新数据 update \"table_name\" set \"column_name\" = \"value\" where \"column_name\" = \"value\""
   ],
   "id": "75aa6879f22163ba"
  },
  {
   "metadata": {},
   "cell_type": "code",
   "source": [
    "sql = \"update star set age=? where id=?\"\n",
    "cursor.execute(sql, (99, 1))\n",
    "# 提交更新信息\n",
    "conn.commit()\n",
    "\n",
    "# 显示数据\n",
    "sql = \"select * from star\"\n",
    "cursor.execute(sql)\n",
    "for item in cursor.fetchall():\n",
    "    print(item)"
   ],
   "id": "232655ce25222bdd",
   "outputs": [],
   "execution_count": null
  },
  {
   "metadata": {},
   "cell_type": "markdown",
   "source": [
    "## 删除数据 delete from \"table_name\" where \"column_name\" = \"value\""
   ],
   "id": "4b6341dcb7b2aed9"
  },
  {
   "metadata": {},
   "cell_type": "code",
   "source": [
    "sql = \"delete from star where id=?\"\n",
    "cursor.execute(sql, (1,))\n",
    "# 提交删除信息\n",
    "conn.commit()\n",
    "\n",
    "# 显示数据 \n",
    "sql = \"select * from star\"\n",
    "cursor.execute(sql)\n",
    "for item in cursor.fetchall():\n",
    "    print(item)"
   ],
   "id": "6e1538b6f4ceac4c",
   "outputs": [],
   "execution_count": null
  },
  {
   "metadata": {},
   "cell_type": "code",
   "source": [
    "# 关闭数据库连接\n",
    "conn.close()"
   ],
   "id": "34db3cbfe50433a5",
   "outputs": [],
   "execution_count": null
  }
 ],
 "metadata": {
  "kernelspec": {
   "display_name": "Python 3",
   "language": "python",
   "name": "python3"
  },
  "language_info": {
   "codemirror_mode": {
    "name": "ipython",
    "version": 2
   },
   "file_extension": ".py",
   "mimetype": "text/x-python",
   "name": "python",
   "nbconvert_exporter": "python",
   "pygments_lexer": "ipython2",
   "version": "2.7.6"
  }
 },
 "nbformat": 4,
 "nbformat_minor": 5
}
