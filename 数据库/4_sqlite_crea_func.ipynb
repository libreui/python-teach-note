{
 "cells": [
  {
   "cell_type": "code",
   "id": "initial_id",
   "metadata": {
    "collapsed": true,
    "ExecuteTime": {
     "end_time": "2024-11-21T06:53:46.295204Z",
     "start_time": "2024-11-21T06:53:46.277634Z"
    }
   },
   "source": [
    "import sqlite3\n",
    "import binascii"
   ],
   "outputs": [],
   "execution_count": 64
  },
  {
   "metadata": {},
   "cell_type": "markdown",
   "source": [
    "# SQLite 创建自定义函数\n",
    "- 创建基本函数\n",
    "    - conn.create_function(name, params_num, fun_name)\n",
    "- 创建聚合函数\n",
    "    - conn.create_aggregate(name, params_num, class_name)"
   ],
   "id": "345bdc61bc4d7f93"
  },
  {
   "metadata": {
    "ExecuteTime": {
     "end_time": "2024-11-21T06:53:46.310218Z",
     "start_time": "2024-11-21T06:53:46.297205Z"
    }
   },
   "cell_type": "code",
   "source": "db_name = \"./db/exemple_1.db\"",
   "id": "79cbb0176ce273e9",
   "outputs": [],
   "execution_count": 65
  },
  {
   "metadata": {
    "ExecuteTime": {
     "end_time": "2024-11-21T06:53:46.325364Z",
     "start_time": "2024-11-21T06:53:46.311289Z"
    }
   },
   "cell_type": "code",
   "source": [
    "def encrypt(mydata):\n",
    "    crc = str(binascii.crc32(mydata.encode()))\n",
    "    while len(crc) < 10:\n",
    "        crc = \"0\" + crc\n",
    "    return mydata + crc"
   ],
   "id": "8c704363cc64720c",
   "outputs": [],
   "execution_count": 66
  },
  {
   "metadata": {
    "ExecuteTime": {
     "end_time": "2024-11-21T06:53:46.340949Z",
     "start_time": "2024-11-21T06:53:46.326363Z"
    }
   },
   "cell_type": "code",
   "source": [
    "def check(mydata):\n",
    "    if len(mydata) < 11:\n",
    "        return None\n",
    "    crc_res = str(binascii.crc32(mydata[:-10].encode()))\n",
    "    while len(crc_res) < 10:\n",
    "        crc_res = \"0\" + crc_res\n",
    "    if crc_res == mydata[-10:]:\n",
    "        return mydata[:-10]"
   ],
   "id": "ccc16f925f8d56ce",
   "outputs": [],
   "execution_count": 67
  },
  {
   "metadata": {
    "ExecuteTime": {
     "end_time": "2024-11-21T06:53:46.356876Z",
     "start_time": "2024-11-21T06:53:46.341954Z"
    }
   },
   "cell_type": "code",
   "source": [
    "# 创建连接\n",
    "conn = sqlite3.connect(db_name)\n",
    "# 创建函数\n",
    "conn.create_function(\"checkk\", 1, check)\n",
    "# 创建游标\n",
    "cursor = conn.cursor()"
   ],
   "id": "70ef8163bf32022f",
   "outputs": [],
   "execution_count": 68
  },
  {
   "metadata": {
    "ExecuteTime": {
     "end_time": "2024-11-21T06:53:46.373465Z",
     "start_time": "2024-11-21T06:53:46.357877Z"
    }
   },
   "cell_type": "code",
   "source": [
    "# 创建表\n",
    "sql_script = \"\"\"\n",
    "drop table if exists users;\n",
    "create table users(id integer, name text);\n",
    "insert into users values(1, \"%s\");\n",
    "insert into users values(2, \"%s\");\n",
    "\"\"\""
   ],
   "id": "de7b2ddbdec1257c",
   "outputs": [],
   "execution_count": 69
  },
  {
   "metadata": {
    "ExecuteTime": {
     "end_time": "2024-11-21T06:53:46.388996Z",
     "start_time": "2024-11-21T06:53:46.374469Z"
    }
   },
   "cell_type": "code",
   "source": [
    "names = ['Alice', 'Bob']\n",
    "names = tuple(encrypt(name) for name in names) # 加密\n",
    "sql_script = sql_script % names"
   ],
   "id": "2b2bc66b2eb59a0c",
   "outputs": [],
   "execution_count": 70
  },
  {
   "metadata": {
    "ExecuteTime": {
     "end_time": "2024-11-21T06:53:46.841874Z",
     "start_time": "2024-11-21T06:53:46.389997Z"
    }
   },
   "cell_type": "code",
   "source": [
    "# 执行脚本\n",
    "cursor.executescript(sql_script)"
   ],
   "id": "10b9bcd84caf9952",
   "outputs": [
    {
     "data": {
      "text/plain": [
       "<sqlite3.Cursor at 0x2dfaf194cc0>"
      ]
     },
     "execution_count": 71,
     "metadata": {},
     "output_type": "execute_result"
    }
   ],
   "execution_count": 71
  },
  {
   "metadata": {
    "ExecuteTime": {
     "end_time": "2024-11-21T06:53:46.857611Z",
     "start_time": "2024-11-21T06:53:46.847485Z"
    }
   },
   "cell_type": "code",
   "source": [
    "# 查询\n",
    "cursor.execute(\"select id, checkk(name) from users\")\n",
    "for row in cursor.fetchall():\n",
    "    print(row)"
   ],
   "id": "432a864fae458866",
   "outputs": [
    {
     "name": "stdout",
     "output_type": "stream",
     "text": [
      "(1, 'Alice')\n",
      "(2, 'Bob')\n"
     ]
    }
   ],
   "execution_count": 72
  },
  {
   "metadata": {
    "ExecuteTime": {
     "end_time": "2024-11-21T06:53:46.873486Z",
     "start_time": "2024-11-21T06:53:46.859582Z"
    }
   },
   "cell_type": "code",
   "source": [
    "# 修改下名字，然后再次查询\n",
    "cursor.execute(\"update users set name = ? where id = ?\", ('dsfsfsfsf34242424', 2))\n",
    "cursor.execute(\"select id, checkk(name) from users\")\n",
    "for row in cursor.fetchall():\n",
    "    print(row)"
   ],
   "id": "36184e0ee3b4ec63",
   "outputs": [
    {
     "name": "stdout",
     "output_type": "stream",
     "text": [
      "(1, 'Alice')\n",
      "(2, None)\n"
     ]
    }
   ],
   "execution_count": 73
  },
  {
   "metadata": {
    "ExecuteTime": {
     "end_time": "2024-11-21T06:53:46.967351Z",
     "start_time": "2024-11-21T06:53:46.873486Z"
    }
   },
   "cell_type": "code",
   "source": [
    "conn.commit()\n",
    "cursor.close()\n",
    "conn.close()"
   ],
   "id": "46324f19200fe42d",
   "outputs": [],
   "execution_count": 74
  }
 ],
 "metadata": {
  "kernelspec": {
   "display_name": "Python 3",
   "language": "python",
   "name": "python3"
  },
  "language_info": {
   "codemirror_mode": {
    "name": "ipython",
    "version": 2
   },
   "file_extension": ".py",
   "mimetype": "text/x-python",
   "name": "python",
   "nbconvert_exporter": "python",
   "pygments_lexer": "ipython2",
   "version": "2.7.6"
  }
 },
 "nbformat": 4,
 "nbformat_minor": 5
}
