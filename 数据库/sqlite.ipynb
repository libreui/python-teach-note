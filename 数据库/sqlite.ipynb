{
 "cells": [
  {
   "metadata": {},
   "cell_type": "markdown",
   "source": "## 打开并链接数据库",
   "id": "828cd28c04068a4"
  },
  {
   "cell_type": "code",
   "id": "initial_id",
   "metadata": {
    "collapsed": true,
    "ExecuteTime": {
     "end_time": "2024-11-19T06:42:24.183574Z",
     "start_time": "2024-11-19T06:42:24.175058Z"
    }
   },
   "source": [
    "import sqlite3\n",
    "conn = sqlite3.connect('./db/example.db')\n",
    "print(\"数据库打开成功！\")"
   ],
   "outputs": [
    {
     "name": "stdout",
     "output_type": "stream",
     "text": [
      "数据库打开成功！\n"
     ]
    }
   ],
   "execution_count": 34
  },
  {
   "metadata": {},
   "cell_type": "markdown",
   "source": [
    "## 获取游标\n",
    "- cursor.execute(\"SQL语句\") 执行SQL语句\n",
    "- cursor.executemany(\"SQL语句\", [(参数1, 参数2, ...), (参数1, 参数2, ...), ...]) 执行SQL语句，参数为列表\n",
    "- cursor.executescript(\"SQL语句\") 执行多条SQL语句\n",
    "- cursor.fetchone() 获取一条数据\n",
    "- cursor.fetchall() 获取所有数据\n",
    "- cursor.fetchmany(size) 获取指定数量的数据\n",
    "- conn.commit() 提交事务\n",
    "- conn.rollback() 回滚事务\n",
    "- conn.close() 关闭游标"
   ],
   "id": "927db69db0ac4142"
  },
  {
   "metadata": {
    "ExecuteTime": {
     "end_time": "2024-11-19T06:42:24.199621Z",
     "start_time": "2024-11-19T06:42:24.184573Z"
    }
   },
   "cell_type": "code",
   "source": [
    "cursor = conn.cursor()\n",
    "print(cursor)"
   ],
   "id": "ff3da54dd9226ea9",
   "outputs": [
    {
     "name": "stdout",
     "output_type": "stream",
     "text": [
      "<sqlite3.Cursor object at 0x000001962DC2E6C0>\n"
     ]
    }
   ],
   "execution_count": 35
  },
  {
   "metadata": {},
   "cell_type": "markdown",
   "source": "## 创建表 create table \"table_name\"",
   "id": "b41fbbff37bd5e32"
  },
  {
   "metadata": {
    "ExecuteTime": {
     "end_time": "2024-11-19T06:42:24.214657Z",
     "start_time": "2024-11-19T06:42:24.200625Z"
    }
   },
   "cell_type": "code",
   "source": [
    "sql = \"create table if not exists star (id integer, name text, age integer, address text)\"\n",
    "cursor.execute(sql)"
   ],
   "id": "d91fe8efef5bce2b",
   "outputs": [
    {
     "data": {
      "text/plain": [
       "<sqlite3.Cursor at 0x1962dc2e6c0>"
      ]
     },
     "execution_count": 36,
     "metadata": {},
     "output_type": "execute_result"
    }
   ],
   "execution_count": 36
  },
  {
   "metadata": {},
   "cell_type": "markdown",
   "source": [
    "## 数据表的操作方法以及语句\n",
    "- 插入数据 insert into \"table_name\" values (\"value1\", \"value2\", ...\n",
    "- 查询数据 select * from \"table_name\"\n",
    "- 检索数据 retrieve \"column_name\" from \"table_name\" where \"column_name\" = \"value\"\n",
    "- 更新数据 update \"table_name\" set \"column_name\" = \"value\" where \"column_name\" = \"value\"\n",
    "- 删除数据 delete from \"table_name\" where \"column_name\" = \"value\""
   ],
   "id": "e5d4cdee4e799bf"
  },
  {
   "metadata": {},
   "cell_type": "markdown",
   "source": "## 插入数据 insert into \"table_name\" values (\"value1\", \"value2\", ...",
   "id": "76805cc1ec305d3a"
  },
  {
   "metadata": {
    "ExecuteTime": {
     "end_time": "2024-11-19T06:42:24.339827Z",
     "start_time": "2024-11-19T06:42:24.215627Z"
    }
   },
   "cell_type": "code",
   "source": [
    "rows = [\n",
    "    (1, '张三', 18, '北京'),\n",
    "    (2, '李四', 20, '上海'),\n",
    "    (3, '王五', 22, '广州')\n",
    "]\n",
    "for item in rows:\n",
    "    sql = \"insert into star (id, name, age, address) values (?, ?, ?, ?)\"\n",
    "    cursor.execute(sql, item)\n",
    "\n",
    "# 提交插入信息\n",
    "conn.commit()"
   ],
   "id": "6902e4d5efa525f6",
   "outputs": [],
   "execution_count": 37
  },
  {
   "metadata": {},
   "cell_type": "markdown",
   "source": "## 查询数据 select * from \"table_name\"",
   "id": "ce60fe5ec3f73aa"
  },
  {
   "metadata": {
    "ExecuteTime": {
     "end_time": "2024-11-19T06:42:24.371005Z",
     "start_time": "2024-11-19T06:42:24.345470Z"
    }
   },
   "cell_type": "code",
   "source": [
    "sql = \"select * from star\"\n",
    "cursor.execute(sql)\n",
    "for item in cursor.fetchall():\n",
    "    print(item)"
   ],
   "id": "d71bce1c584c49fb",
   "outputs": [
    {
     "name": "stdout",
     "output_type": "stream",
     "text": [
      "(1, '张三', 18, '北京')\n",
      "(2, '李四', 20, '上海')\n",
      "(3, '王五', 22, '广州')\n"
     ]
    }
   ],
   "execution_count": 38
  },
  {
   "metadata": {},
   "cell_type": "markdown",
   "source": "## 更新数据 update \"table_name\" set \"column_name\" = \"value\" where \"column_name\" = \"value\"",
   "id": "75aa6879f22163ba"
  },
  {
   "metadata": {
    "ExecuteTime": {
     "end_time": "2024-11-19T06:45:04.670018Z",
     "start_time": "2024-11-19T06:45:04.552773Z"
    }
   },
   "cell_type": "code",
   "source": [
    "sql = \"update star set age=? where id=?\"\n",
    "cursor.execute(sql, (99, 1))\n",
    "# 提交更新信息\n",
    "conn.commit()\n",
    "\n",
    "# 显示数据\n",
    "sql = \"select * from star\"\n",
    "cursor.execute(sql)\n",
    "for item in cursor.fetchall():\n",
    "    print(item)"
   ],
   "id": "232655ce25222bdd",
   "outputs": [
    {
     "name": "stdout",
     "output_type": "stream",
     "text": [
      "(1, '张三', 99, '北京')\n",
      "(2, '李四', 20, '上海')\n",
      "(3, '王五', 22, '广州')\n"
     ]
    }
   ],
   "execution_count": 39
  },
  {
   "metadata": {},
   "cell_type": "markdown",
   "source": "## 删除数据 delete from \"table_name\" where \"column_name\" = \"value\"",
   "id": "4b6341dcb7b2aed9"
  },
  {
   "metadata": {
    "ExecuteTime": {
     "end_time": "2024-11-19T06:48:49.628105Z",
     "start_time": "2024-11-19T06:48:49.386382Z"
    }
   },
   "cell_type": "code",
   "source": [
    "sql = \"delete from star where id=?\"\n",
    "cursor.execute(sql, (1,))\n",
    "# 提交删除信息\n",
    "conn.commit()\n",
    "\n",
    "# 显示数据 \n",
    "sql = \"select * from star\"\n",
    "cursor.execute(sql)\n",
    "for item in cursor.fetchall():\n",
    "    print(item)"
   ],
   "id": "6e1538b6f4ceac4c",
   "outputs": [
    {
     "ename": "ProgrammingError",
     "evalue": "Cannot operate on a closed database.",
     "output_type": "error",
     "traceback": [
      "\u001B[1;31m---------------------------------------------------------------------------\u001B[0m",
      "\u001B[1;31mProgrammingError\u001B[0m                          Traceback (most recent call last)",
      "Cell \u001B[1;32mIn[42], line 2\u001B[0m\n\u001B[0;32m      1\u001B[0m sql \u001B[38;5;241m=\u001B[39m \u001B[38;5;124m\"\u001B[39m\u001B[38;5;124mdelete from star where id=?\u001B[39m\u001B[38;5;124m\"\u001B[39m\n\u001B[1;32m----> 2\u001B[0m \u001B[43mcursor\u001B[49m\u001B[38;5;241;43m.\u001B[39;49m\u001B[43mexecute\u001B[49m\u001B[43m(\u001B[49m\u001B[43msql\u001B[49m\u001B[43m,\u001B[49m\u001B[43m \u001B[49m\u001B[43m(\u001B[49m\u001B[38;5;241;43m1\u001B[39;49m\u001B[43m,\u001B[49m\u001B[43m)\u001B[49m\u001B[43m)\u001B[49m\n\u001B[0;32m      3\u001B[0m \u001B[38;5;66;03m# 提交删除信息\u001B[39;00m\n\u001B[0;32m      4\u001B[0m conn\u001B[38;5;241m.\u001B[39mcommit()\n",
      "\u001B[1;31mProgrammingError\u001B[0m: Cannot operate on a closed database."
     ]
    }
   ],
   "execution_count": 42
  },
  {
   "metadata": {
    "ExecuteTime": {
     "end_time": "2024-11-19T06:48:46.451612Z",
     "start_time": "2024-11-19T06:48:46.434035Z"
    }
   },
   "cell_type": "code",
   "source": [
    "# 关闭数据库连接\n",
    "conn.close()"
   ],
   "id": "34db3cbfe50433a5",
   "outputs": [],
   "execution_count": 41
  }
 ],
 "metadata": {
  "kernelspec": {
   "display_name": "Python 3",
   "language": "python",
   "name": "python3"
  },
  "language_info": {
   "codemirror_mode": {
    "name": "ipython",
    "version": 2
   },
   "file_extension": ".py",
   "mimetype": "text/x-python",
   "name": "python",
   "nbconvert_exporter": "python",
   "pygments_lexer": "ipython2",
   "version": "2.7.6"
  }
 },
 "nbformat": 4,
 "nbformat_minor": 5
}
