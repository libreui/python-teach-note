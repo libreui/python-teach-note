{
 "cells": [
  {
   "cell_type": "code",
   "execution_count": 5,
   "metadata": {},
   "outputs": [
    {
     "name": "stdout",
     "output_type": "stream",
     "text": [
      "['apple', 'banana', 'orange', 'lemon']\n",
      "apple@banana@orange@lemon\n"
     ]
    }
   ],
   "source": [
    "# 分割字符串\n",
    "str = \"apple,banana,orange,lemon\"\n",
    "list = str.split(',')\n",
    "print(list)\n",
    "\n",
    "# 连接字符串\n",
    "list = ['apple', 'banana', 'orange', 'lemon']\n",
    "str_1 = \"@\".join(list)\n",
    "print(str_1)"
   ]
  }
 ],
 "metadata": {
  "kernelspec": {
   "display_name": "python310",
   "language": "python",
   "name": "python3"
  },
  "language_info": {
   "codemirror_mode": {
    "name": "ipython",
    "version": 3
   },
   "file_extension": ".py",
   "mimetype": "text/x-python",
   "name": "python",
   "nbconvert_exporter": "python",
   "pygments_lexer": "ipython3",
   "version": "3.10.9"
  },
  "orig_nbformat": 4
 },
 "nbformat": 4,
 "nbformat_minor": 2
}
