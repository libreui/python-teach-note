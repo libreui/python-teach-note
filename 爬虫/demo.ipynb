{
 "cells": [
  {
   "cell_type": "code",
   "execution_count": 12,
   "outputs": [],
   "source": [
    "import os\n",
    "from pprint import pprint\n",
    "from urllib.parse import urlparse\n",
    "from os.path import basename, splitext"
   ],
   "metadata": {
    "collapsed": false,
    "ExecuteTime": {
     "end_time": "2025-07-15T02:01:22.540150Z",
     "start_time": "2025-07-15T02:01:22.533775Z"
    }
   },
   "id": "89f7aad0e0fff7f5"
  },
  {
   "cell_type": "code",
   "execution_count": 14,
   "id": "initial_id",
   "metadata": {
    "collapsed": true,
    "ExecuteTime": {
     "end_time": "2025-07-15T02:01:48.499349Z",
     "start_time": "2025-07-15T02:01:48.490966Z"
    }
   },
   "outputs": [
    {
     "name": "stdout",
     "output_type": "stream",
     "text": [
      "'142_2'\n"
     ]
    }
   ],
   "source": [
    "url = \"http://www.ybrbnews.cn/i/142_2.html\"\n",
    "# 解析url中的各个值\n",
    "lst = urlparse(url)\n",
    "file_name = basename(lst.path)\n",
    "pprint(splitext(file_name)[0])"
   ]
  },
  {
   "cell_type": "code",
   "execution_count": 32,
   "outputs": [
    {
     "name": "stdout",
     "output_type": "stream",
     "text": [
      "www.ybrbnews.cn_2.csv\n"
     ]
    }
   ],
   "source": [
    "# http://www.ybrbnews.cn/i/142_2.html\n",
    "# \"www.ybrbnes.cn_2.csv\"\n",
    "url_1 = \"http://www.ybrbnews.cn/i/142.html\"\n",
    "url_2 = \"http://www.ybrbnews.cn/i/142_2.html\"\n",
    "def parse_file_name(url):\n",
    "    url_list = url.split('/')\n",
    "    domain = url_list[2]\n",
    "    page = 1\n",
    "    # 如果不包含下划线\n",
    "    if url.count('_') > 0:\n",
    "        page = url_list[4].split('_')[1].split('.')[0]\n",
    "    return f\"{domain}_{page}.csv\"\n",
    "\n",
    "print(parse_file_name(url_2))\n"
   ],
   "metadata": {
    "collapsed": false,
    "ExecuteTime": {
     "end_time": "2025-07-15T02:40:15.103856Z",
     "start_time": "2025-07-15T02:40:15.096333Z"
    }
   },
   "id": "1d350dc82bf01aca"
  }
 ],
 "metadata": {
  "kernelspec": {
   "display_name": "Python 3",
   "language": "python",
   "name": "python3"
  },
  "language_info": {
   "codemirror_mode": {
    "name": "ipython",
    "version": 2
   },
   "file_extension": ".py",
   "mimetype": "text/x-python",
   "name": "python",
   "nbconvert_exporter": "python",
   "pygments_lexer": "ipython2",
   "version": "2.7.6"
  }
 },
 "nbformat": 4,
 "nbformat_minor": 5
}
