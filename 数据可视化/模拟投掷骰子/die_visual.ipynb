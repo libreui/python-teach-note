{
 "cells": [
  {
   "cell_type": "code",
   "id": "initial_id",
   "metadata": {
    "collapsed": true,
    "ExecuteTime": {
     "end_time": "2024-11-19T05:33:52.540345Z",
     "start_time": "2024-11-19T05:33:52.500135Z"
    }
   },
   "source": [
    "from die import Die\n",
    "from plotly.graph_objs import Bar, Layout\n",
    "from plotly import offline"
   ],
   "outputs": [],
   "execution_count": 2
  },
  {
   "metadata": {
    "ExecuteTime": {
     "end_time": "2024-11-19T05:33:52.697901Z",
     "start_time": "2024-11-19T05:33:52.541921Z"
    }
   },
   "cell_type": "code",
   "source": [
    "# 15.4.4 分析结果\n",
    "\n",
    "die = Die()\n",
    "# 掷几次骰子并将结果储存在一个列表中\n",
    "results = []\n",
    "for _ in range(1000):\n",
    "    results.append(die.roll())\n",
    "# 分析结果\n",
    "frequencies = []\n",
    "for value in range(1, die.num_sides+1):\n",
    "    frequency = results.count(value)\n",
    "    frequencies.append(frequency)\n",
    "print(frequencies)\n",
    "# 15.4.5 绘制直方图\n",
    "x_values = list(range(1, die.num_sides+1))\n",
    "data = Bar(x=x_values, y=frequencies)\n",
    "\n",
    "x_axis_config = {'title': '结果'}\n",
    "y_axis_config = {'title': '结果的频率'}\n",
    "my_layout = Layout(title='掷一个D6 1000次的结果', xaxis=x_axis_config, yaxis=y_axis_config)\n",
    "\n",
    "offline.plot({'data': data, 'layout': my_layout}, filename='d6.html')"
   ],
   "id": "902c4f22bf080d59",
   "outputs": [
    {
     "name": "stdout",
     "output_type": "stream",
     "text": [
      "[146, 167, 179, 158, 172, 178]\n"
     ]
    },
    {
     "data": {
      "text/plain": [
       "'d6.html'"
      ]
     },
     "execution_count": 3,
     "metadata": {},
     "output_type": "execute_result"
    }
   ],
   "execution_count": 3
  },
  {
   "metadata": {
    "ExecuteTime": {
     "end_time": "2024-11-19T05:33:52.744064Z",
     "start_time": "2024-11-19T05:33:52.699411Z"
    }
   },
   "cell_type": "code",
   "source": [
    "# 15.4.6 同时掷两个骰子 18063.99\n",
    "\n",
    "die_1 = Die()\n",
    "die_2 = Die()\n",
    "results = []\n",
    "for _ in range(1000):\n",
    "    result = die_1.roll() + die_2.roll()\n",
    "    results.append(result)\n",
    "\n",
    "frequencies = []\n",
    "for value in range(2, die_1.num_sides+die_2.num_sides+1):\n",
    "    frequency = results.count(value)\n",
    "    frequencies.append(frequency)\n",
    "    \n",
    "x_values = list(range(2, die_1.num_sides+die_2.num_sides+1))\n",
    "data = Bar(x=x_values, y=frequencies)\n",
    "my_layout = Layout(title='掷两个D6 1000次的结果', xaxis={'title': '结果'}, yaxis={'title': '结果的频率'})\n",
    "offline.plot({'data': data, 'layout': my_layout}, filename='d6_d6.html')"
   ],
   "id": "df50fc5ff05ce67d",
   "outputs": [
    {
     "data": {
      "text/plain": [
       "'d6_d6.html'"
      ]
     },
     "execution_count": 4,
     "metadata": {},
     "output_type": "execute_result"
    }
   ],
   "execution_count": 4
  },
  {
   "metadata": {
    "ExecuteTime": {
     "end_time": "2024-11-19T05:33:52.869659Z",
     "start_time": "2024-11-19T05:33:52.745620Z"
    }
   },
   "cell_type": "code",
   "source": [
    "# 15.4.7 同时掷两个面数不同的骰子\n",
    "\n",
    "die_1 = Die()\n",
    "die_2 = Die(10)\n",
    "\n",
    "# 掷骰子并将结果存储在一个列表中\n",
    "results = []\n",
    "for _ in range(50000):\n",
    "    result = die_1.roll() + die_2.roll()\n",
    "    results.append(result)\n",
    "    \n",
    "frequencies = []\n",
    "for value in range(2, die_1.num_sides+die_2.num_sides+1):\n",
    "    frequency = results.count(value)\n",
    "    frequencies.append(frequency)\n",
    "    \n",
    "x_values = list(range(2, die_1.num_sides+die_2.num_sides+1))\n",
    "data = Bar(x=x_values, y=frequencies)\n",
    "\n",
    "my_layout = Layout(title='掷一个D6和一个D10 50000次的结果', xaxis={'title': '结果'}, yaxis={'title': '结果的频率'})\n",
    "\n",
    "offline.plot({'data': data, 'layout': my_layout}, filename='d6_d10.html')"
   ],
   "id": "a0ae9c7a28e61894",
   "outputs": [
    {
     "data": {
      "text/plain": [
       "'d6_d10.html'"
      ]
     },
     "execution_count": 5,
     "metadata": {},
     "output_type": "execute_result"
    }
   ],
   "execution_count": 5
  }
 ],
 "metadata": {
  "kernelspec": {
   "display_name": "Python 3",
   "language": "python",
   "name": "python3"
  },
  "language_info": {
   "codemirror_mode": {
    "name": "ipython",
    "version": 2
   },
   "file_extension": ".py",
   "mimetype": "text/x-python",
   "name": "python",
   "nbconvert_exporter": "python",
   "pygments_lexer": "ipython2",
   "version": "2.7.6"
  }
 },
 "nbformat": 4,
 "nbformat_minor": 5
}
