{
 "cells": [
  {
   "cell_type": "code",
   "execution_count": null,
   "id": "initial_id",
   "metadata": {
    "collapsed": true
   },
   "outputs": [],
   "source": [
    "import pandas as pd\n",
    "dic = {\n",
    "    'Name': ['Tom', 'Mick', 'Marry'],\n",
    "    'Age': [18, 16, 18]\n",
    "}\n",
    "dataset = pd.DataFrame(dic)\n",
    "print(dataset)"
   ]
  },
  {
   "cell_type": "code",
   "execution_count": null,
   "outputs": [],
   "source": [
    "lst = [\n",
    "    ['Tom', 18, '男'],\n",
    "    ['Mick', 16, '女'],\n",
    "    ['Marry', 17, '女']\n",
    "]\n",
    "dataset = pd.DataFrame(lst, columns=['Name', 'Age', 'Sex'])\n",
    "print(dataset)"
   ],
   "metadata": {
    "collapsed": false
   },
   "id": "fcbd5518519e97db"
  },
  {
   "cell_type": "code",
   "execution_count": null,
   "outputs": [],
   "source": [
    "dic = [\n",
    "    {'Name': 'Tom', 'Age': 16},\n",
    "    {'Name': 'Mick', 'Age': 17},\n",
    "    {'Name': 'Marry', 'Age': 18}\n",
    "]\n",
    "dataset = pd.DataFrame(dic)\n",
    "# 获取第一行数据\n",
    "print(dataset.loc[[0, 1]])\n",
    "\n"
   ],
   "metadata": {
    "collapsed": false
   },
   "id": "f7c964d03fbfac70"
  },
  {
   "cell_type": "code",
   "execution_count": 89,
   "outputs": [],
   "source": [
    "import pandas as pd\n",
    "\n",
    "# 创建 DataFrame\n",
    "data = {\n",
    "    'Name': ['Alice', 'Bob', 'Charlie', 'David', 'Tom'],\n",
    "    'Age': [25, 30, 35, 40, None],\n",
    "    'City': ['New York', 'Los Angeles', 'Chicago', 'Houston', 'Houston']\n",
    "}\n",
    "df = pd.DataFrame(data)\n",
    "# 查看前两行数据\n",
    "# 查看 DataFrame 的基本信息\n",
    "# 获取描述统计信息\n",
    "# 按年龄排序\n",
    "\n",
    "# 选择指定列\n",
    "# print(df[['City', 'Age']])\n",
    "# 按索引选择行\n",
    "# print(df.loc[0:2])\n",
    "# 按标签选择行\n",
    "# 计算分组统计（按城市分组，计算平均年龄）\n",
    "# 处理缺失值（填充缺失值）\n",
    "\n",
    "# 导出为 CSV 文件\n",
    "df.to_csv('./db/city_01.csv', index=False)\n"
   ],
   "metadata": {
    "collapsed": false,
    "ExecuteTime": {
     "end_time": "2025-07-10T03:31:05.916513Z",
     "start_time": "2025-07-10T03:31:05.907216Z"
    }
   },
   "id": "2ef269a157c32632"
  }
 ],
 "metadata": {
  "kernelspec": {
   "display_name": "Python 3",
   "language": "python",
   "name": "python3"
  },
  "language_info": {
   "codemirror_mode": {
    "name": "ipython",
    "version": 2
   },
   "file_extension": ".py",
   "mimetype": "text/x-python",
   "name": "python",
   "nbconvert_exporter": "python",
   "pygments_lexer": "ipython2",
   "version": "2.7.6"
  }
 },
 "nbformat": 4,
 "nbformat_minor": 5
}
