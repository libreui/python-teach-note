{
 "cells": [
  {
   "cell_type": "code",
   "execution_count": null,
   "id": "initial_id",
   "metadata": {
    "collapsed": true
   },
   "outputs": [],
   "source": [
    "import pandas as pd\n",
    "dic = {\n",
    "    'Name': ['Tom', 'Mick', 'Marry'],\n",
    "    'Age': [18, 16, 18]\n",
    "}\n",
    "dataset = pd.DataFrame(dic)\n",
    "print(dataset)"
   ]
  },
  {
   "cell_type": "code",
   "execution_count": null,
   "outputs": [],
   "source": [
    "lst = [\n",
    "    ['Tom', 18, '男'],\n",
    "    ['Mick', 16, '女'],\n",
    "    ['Marry', 17, '女']\n",
    "]\n",
    "dataset = pd.DataFrame(lst, columns=['Name', 'Age', 'Sex'])\n",
    "print(dataset)"
   ],
   "metadata": {
    "collapsed": false
   },
   "id": "fcbd5518519e97db"
  },
  {
   "cell_type": "code",
   "execution_count": null,
   "outputs": [],
   "source": [
    "dic = [\n",
    "    {'Name': 'Tom', 'Age': 16},\n",
    "    {'Name': 'Mick', 'Age': 17},\n",
    "    {'Name': 'Marry', 'Age': 18}\n",
    "]\n",
    "dataset = pd.DataFrame(dic)\n",
    "# 获取第一行数据\n",
    "print(dataset.loc[[0, 1]])\n",
    "\n"
   ],
   "metadata": {
    "collapsed": false
   },
   "id": "f7c964d03fbfac70"
  },
  {
   "cell_type": "code",
   "execution_count": null,
   "outputs": [],
   "source": [
    "import pandas as pd\n",
    "\n",
    "# 创建 DataFrame\n",
    "data = {\n",
    "    'Name': ['Alice', 'Bob', 'Charlie', 'David', 'Tom'],\n",
    "    'Age': [25, 30, 35, 40, None],\n",
    "    'City': ['New York', 'Los Angeles', 'Chicago', 'Houston', 'Houston']\n",
    "}\n",
    "df = pd.DataFrame(data)\n",
    "# 查看前两行数据\n",
    "df.head(2)\n",
    "# 查看 DataFrame 的基本信息\n",
    "df.info()\n",
    "# 获取描述统计信息\n",
    "df.describe()\n",
    "# 按年龄排序\n",
    "df.sort_values(by=\"Age\", ascending=True)\n",
    "# 选择指定列\n",
    "print(df[['Name', 'Age']])\n",
    "# 按索引选择行\n",
    "df.iloc([[1, 3]])\n",
    "# 按标签选择行\n",
    "print(df.loc[0:3])\n",
    "# 计算分组统计（按城市分组，计算平均年龄）\n",
    "df.groupby('City').mean()\n",
    "# 处理缺失值（填充缺失值）\n",
    "df['Age'] = df['Age'].fillna(0)\n",
    "# 导出为 CSV 文件\n",
    "df.to_csv('./db/xx.csv', index=False)\n"
   ],
   "metadata": {
    "collapsed": false
   },
   "id": "2ef269a157c32632"
  },
  {
   "cell_type": "code",
   "execution_count": 95,
   "outputs": [
    {
     "data": {
      "text/plain": "      Name   Age         City\n0    Alice  25.0     New York\n1      Bob  30.0  Los Angeles\n2  Charlie  35.0      Chicago\n3    David  40.0      Houston\n4      Tom   NaN      Houston",
      "text/html": "<div>\n<style scoped>\n    .dataframe tbody tr th:only-of-type {\n        vertical-align: middle;\n    }\n\n    .dataframe tbody tr th {\n        vertical-align: top;\n    }\n\n    .dataframe thead th {\n        text-align: right;\n    }\n</style>\n<table border=\"1\" class=\"dataframe\">\n  <thead>\n    <tr style=\"text-align: right;\">\n      <th></th>\n      <th>Name</th>\n      <th>Age</th>\n      <th>City</th>\n    </tr>\n  </thead>\n  <tbody>\n    <tr>\n      <th>0</th>\n      <td>Alice</td>\n      <td>25.0</td>\n      <td>New York</td>\n    </tr>\n    <tr>\n      <th>1</th>\n      <td>Bob</td>\n      <td>30.0</td>\n      <td>Los Angeles</td>\n    </tr>\n    <tr>\n      <th>2</th>\n      <td>Charlie</td>\n      <td>35.0</td>\n      <td>Chicago</td>\n    </tr>\n    <tr>\n      <th>3</th>\n      <td>David</td>\n      <td>40.0</td>\n      <td>Houston</td>\n    </tr>\n    <tr>\n      <th>4</th>\n      <td>Tom</td>\n      <td>NaN</td>\n      <td>Houston</td>\n    </tr>\n  </tbody>\n</table>\n</div>"
     },
     "execution_count": 95,
     "metadata": {},
     "output_type": "execute_result"
    }
   ],
   "source": [
    "import pandas as pd\n",
    "# dataset = pd.read_csv('./db/city_01.csv')\n",
    "# dataset = pd.read_excel('./db/city_02.xlsx')\n",
    "dataset = pd.read_html()\n",
    "dataset"
   ],
   "metadata": {
    "collapsed": false,
    "ExecuteTime": {
     "end_time": "2025-07-10T03:41:21.252740Z",
     "start_time": "2025-07-10T03:41:21.230903Z"
    }
   },
   "id": "f8d0184caeacb46c"
  }
 ],
 "metadata": {
  "kernelspec": {
   "display_name": "Python 3",
   "language": "python",
   "name": "python3"
  },
  "language_info": {
   "codemirror_mode": {
    "name": "ipython",
    "version": 2
   },
   "file_extension": ".py",
   "mimetype": "text/x-python",
   "name": "python",
   "nbconvert_exporter": "python",
   "pygments_lexer": "ipython2",
   "version": "2.7.6"
  }
 },
 "nbformat": 4,
 "nbformat_minor": 5
}
