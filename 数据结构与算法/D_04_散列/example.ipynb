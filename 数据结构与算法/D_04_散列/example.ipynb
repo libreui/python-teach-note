{
 "cells": [
  {
   "cell_type": "code",
   "id": "initial_id",
   "metadata": {
    "collapsed": true,
    "ExecuteTime": {
     "end_time": "2025-09-17T03:58:00.681770Z",
     "start_time": "2025-09-17T03:58:00.676471Z"
    }
   },
   "source": [
    "# 异序词散列函数, 用字符位置作为权重，避免相同字符的字符串散列值相同\n",
    "def hash(s, table_size):\n",
    "    sum = 0\n",
    "    for pos in range(len(s)):\n",
    "        sum += ord(s[pos]) * pos\n",
    "    return sum % table_size\n",
    "\n",
    "print(hash('cat', 11))\n",
    "print(hash('act', 11))\n",
    "print(hash('tac', 11))\n"
   ],
   "outputs": [
    {
     "name": "stdout",
     "output_type": "stream",
     "text": [
      "10\n",
      "1\n",
      "9\n"
     ]
    }
   ],
   "execution_count": 13
  }
 ],
 "metadata": {
  "kernelspec": {
   "display_name": "Python 3",
   "language": "python",
   "name": "python3"
  },
  "language_info": {
   "codemirror_mode": {
    "name": "ipython",
    "version": 2
   },
   "file_extension": ".py",
   "mimetype": "text/x-python",
   "name": "python",
   "nbconvert_exporter": "python",
   "pygments_lexer": "ipython2",
   "version": "2.7.6"
  }
 },
 "nbformat": 4,
 "nbformat_minor": 5
}
