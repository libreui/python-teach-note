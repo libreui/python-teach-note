{
 "cells": [
  {
   "cell_type": "code",
   "id": "initial_id",
   "metadata": {
    "collapsed": true
   },
   "source": [
    "# 将数字转换为2-16进制字符串\n",
    "def to_str(n, base):\n",
    "    convert_string = '0123456789ABCDEF'\n",
    "    if n < base:\n",
    "        return convert_string[n]\n",
    "    else:\n",
    "        return to_str(n // base, base) + convert_string[n % base]\n",
    "\n",
    "print(to_str(17, 10))\n",
    "print(to_str(45, 2))\n",
    "print(to_str(255, 16))\n"
   ],
   "outputs": [],
   "execution_count": null
  }
 ],
 "metadata": {
  "kernelspec": {
   "display_name": "Python 3",
   "language": "python",
   "name": "python3"
  },
  "language_info": {
   "codemirror_mode": {
    "name": "ipython",
    "version": 2
   },
   "file_extension": ".py",
   "mimetype": "text/x-python",
   "name": "python",
   "nbconvert_exporter": "python",
   "pygments_lexer": "ipython2",
   "version": "2.7.6"
  }
 },
 "nbformat": 4,
 "nbformat_minor": 5
}
