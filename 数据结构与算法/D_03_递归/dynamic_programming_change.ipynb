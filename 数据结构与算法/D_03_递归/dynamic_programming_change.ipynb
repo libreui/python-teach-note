{
 "cells": [
  {
   "cell_type": "code",
   "id": "initial_id",
   "metadata": {
    "collapsed": true,
    "ExecuteTime": {
     "end_time": "2025-09-16T06:04:38.746102Z",
     "start_time": "2025-09-16T06:04:24.491341Z"
    }
   },
   "source": [
    "def rec_mc(coin_value_list, change):\n",
    "    \"\"\"\n",
    "    递归实现找零问题\n",
    "    \"\"\"\n",
    "    min_coins = change\n",
    "    if change in coin_value_list:\n",
    "        return 1\n",
    "    else:\n",
    "        for i in [c for c in coin_value_list if c <= change]:\n",
    "            num_coins = 1 + rec_mc(coin_value_list, change - i)\n",
    "            if num_coins < min_coins:\n",
    "                min_coins = num_coins\n",
    "    return min_coins\n",
    "\n",
    "print(rec_mc([1, 5, 10, 25], 63))"
   ],
   "outputs": [
    {
     "name": "stdout",
     "output_type": "stream",
     "text": [
      "6\n"
     ]
    }
   ],
   "execution_count": 10
  },
  {
   "metadata": {
    "ExecuteTime": {
     "end_time": "2025-09-16T07:10:25.396662Z",
     "start_time": "2025-09-16T07:10:25.385302Z"
    }
   },
   "cell_type": "code",
   "source": [
    "def rec_dc(coin_value_list, change, known_results):\n",
    "    \"\"\"\n",
    "    递归实现找零问题，使用记忆化搜索优化\n",
    "    \n",
    "    参数：\n",
    "    coin_value_list -- 可用的硬币面值列表（例如[1, 5, 10, 25]）\n",
    "    change -- 需要找零的目标金额\n",
    "    known_results -- 数组，用于存储已计算过的子问题解，实现记忆化搜索\n",
    "    \n",
    "    返回值：\n",
    "    int -- 凑成目标金额change所需的最少硬币数\n",
    "    \"\"\"\n",
    "    # 初始化最小硬币数量为最坏情况：假设只用面值为1的硬币\n",
    "    min_coins = change\n",
    "    \n",
    "    # 基础情况1：如果目标金额恰好是某个硬币的面值，直接返回1\n",
    "    if change in coin_value_list:\n",
    "        # 将结果存储到known_results中，供后续计算使用\n",
    "        known_results[change] = 1\n",
    "        return 1\n",
    "    # 基础情况2：如果当前金额的最优解已经计算过，直接返回已存储的结果\n",
    "    elif known_results[change] > 0:\n",
    "        return known_results[change]\n",
    "    # 递归情况：尝试所有可能的硬币面值组合\n",
    "    else:\n",
    "        # 遍历所有不大于目标金额的硬币面值\n",
    "        for i in [c for c in coin_value_list if c <= change]:\n",
    "            # 递归计算使用当前面值i后，剩余金额(change-i)所需的最少硬币数\n",
    "            # 1 + 递归结果 表示使用当前面值i后总共需要的硬币数\n",
    "            num_coins = 1 + rec_dc(coin_value_list, change - i, known_results)\n",
    "            # 如果找到更优的解（使用更少的硬币），更新最小硬币数量\n",
    "            if num_coins < min_coins:\n",
    "                min_coins = num_coins\n",
    "                # 将最优解存储到known_results中，避免重复计算\n",
    "                known_results[change] = min_coins\n",
    "    \n",
    "    # 返回凑成目标金额所需的最少硬币数量\n",
    "    return min_coins\n",
    "print(rec_dc([1, 5, 10, 25], 63, [0] * 64))\n"
   ],
   "id": "cfb73cdaa5882826",
   "outputs": [
    {
     "name": "stdout",
     "output_type": "stream",
     "text": [
      "6\n"
     ]
    }
   ],
   "execution_count": 33
  },
  {
   "metadata": {
    "ExecuteTime": {
     "end_time": "2025-09-16T06:49:03.590821Z",
     "start_time": "2025-09-16T06:49:03.582611Z"
    }
   },
   "cell_type": "code",
   "source": [
    "def dp_make_change(coin_value_list, change, min_coins):\n",
    "    \"\"\"\n",
    "    动态规划解决找零钱问题，计算凑成指定金额所需的最少硬币数量\n",
    "\n",
    "    参数：\n",
    "    coin_value_list -- 可用的硬币面值列表（例如[1, 5, 10, 25]）\n",
    "    change -- 需要找零的目标金额\n",
    "    min_coins -- 数组，用于存储从0到change每个金额所需的最少硬币数量\n",
    "\n",
    "    返回值：\n",
    "    int -- 凑成目标金额change所需的最少硬币数\n",
    "    \"\"\"\n",
    "    # 自底向上计算从0到change每个金额所需的最少硬币数\n",
    "    for cents in range(change + 1):\n",
    "        # 初始假设：只用面值为1的硬币，最多需要cents个硬币\n",
    "        coin_count = cents\n",
    "        # 遍历所有不大于当前金额的硬币面值\n",
    "        for j in [c for c in coin_value_list if c <= cents]:\n",
    "            # 状态转移方程：如果使用面值为j的硬币，那么问题转化为计算(cents-j)金额所需的最少硬币数+1\n",
    "            # 如果这种方法比当前找到的解更优，则更新最优解\n",
    "            if min_coins[cents - j] + 1 < coin_count:\n",
    "                coin_count = min_coins[cents - j] + 1\n",
    "        # 存储当前金额所需的最少硬币数到结果数组\n",
    "        min_coins[cents] = coin_count\n",
    "    # 返回目标金额所需的最少硬币数\n",
    "    return min_coins[change]\n",
    "\n",
    "a = dp_make_change([1, 5, 10, 25], 63, [0] * 64)\n",
    "print(a)"
   ],
   "id": "4f550e2fd379c5f",
   "outputs": [
    {
     "name": "stdout",
     "output_type": "stream",
     "text": [
      "6\n"
     ]
    }
   ],
   "execution_count": 32
  },
  {
   "metadata": {
    "ExecuteTime": {
     "end_time": "2025-09-16T06:45:37.897625Z",
     "start_time": "2025-09-16T06:45:37.891490Z"
    }
   },
   "cell_type": "code",
   "source": [
    "def dp_make_change(coin_value_list, change, min_coins, coin_used):\n",
    "    for cents in range(change + 1):\n",
    "        coin_count = cents\n",
    "        new_coin = 1\n",
    "        for j in [c for c in coin_value_list if c <= cents]:\n",
    "            if min_coins[cents - j] + 1 < coin_count:\n",
    "                coin_count = min_coins[cents - j] + 1\n",
    "                new_coin = j\n",
    "        min_coins[cents] = coin_count\n",
    "        coin_used[cents] = new_coin\n",
    "    return min_coins[change]\n",
    "\n",
    "def print_coins(coins_used, change):\n",
    "    coin = change\n",
    "    while coin > 0:\n",
    "        this_coin = coins_used[coin]\n",
    "        print(this_coin)\n",
    "        coin = coin - this_coin\n",
    "\n",
    "change = 11\n",
    "c1 = [1, 5, 10, 21, 25]\n",
    "coin_used = [0] * (change + 1)\n",
    "coin_count = [0] * (change + 1)\n",
    "a = dp_make_change(c1, change, coin_count, coin_used)\n",
    "print_coins(coin_used, change)\n",
    "print(a)\n",
    "print(coin_count)"
   ],
   "id": "db89410737dd0d8a",
   "outputs": [
    {
     "name": "stdout",
     "output_type": "stream",
     "text": [
      "1\n",
      "10\n",
      "2\n",
      "[0, 1, 2, 3, 4, 1, 2, 3, 4, 5, 1, 2]\n"
     ]
    }
   ],
   "execution_count": 31
  }
 ],
 "metadata": {
  "kernelspec": {
   "display_name": "Python 3",
   "language": "python",
   "name": "python3"
  },
  "language_info": {
   "codemirror_mode": {
    "name": "ipython",
    "version": 2
   },
   "file_extension": ".py",
   "mimetype": "text/x-python",
   "name": "python",
   "nbconvert_exporter": "python",
   "pygments_lexer": "ipython2",
   "version": "2.7.6"
  }
 },
 "nbformat": 4,
 "nbformat_minor": 5
}
