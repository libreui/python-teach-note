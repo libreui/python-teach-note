{
 "cells": [
  {
   "cell_type": "code",
   "id": "initial_id",
   "metadata": {
    "collapsed": true,
    "ExecuteTime": {
     "end_time": "2025-09-19T05:13:53.490070Z",
     "start_time": "2025-09-19T05:13:53.485213Z"
    }
   },
   "source": [
    "from prompt_toolkit.key_binding.bindings.named_commands import end_of_history\n",
    "\n",
    "# 插入排序\n",
    "a = [54, 26, 93, 17, 77, 31, 44, 55, 20]\n",
    "print(a)\n",
    "n = len(a)\n",
    "for i in range(1, n):\n",
    "    key = a[i]\n",
    "    j = i - 1\n",
    "    while j >= 0 and a[j] > key:\n",
    "        a[j + 1] = a[j]\n",
    "        j -= 1\n",
    "    a[j + 1] = key\n",
    "print(a)\n"
   ],
   "outputs": [
    {
     "name": "stdout",
     "output_type": "stream",
     "text": [
      "[54, 26, 93, 17, 77, 31, 44, 55, 20]\n",
      "[17, 20, 26, 31, 44, 54, 55, 77, 93]\n"
     ]
    }
   ],
   "execution_count": 4
  },
  {
   "metadata": {
    "ExecuteTime": {
     "end_time": "2025-09-19T05:33:39.718214Z",
     "start_time": "2025-09-19T05:33:39.712609Z"
    }
   },
   "cell_type": "code",
   "source": [
    "# 希尔排序\n",
    "a = [54, 26, 93, 17, 77, 31, 44, 55, 20]\n",
    "def gap_insert_sort(alist, start, gap):\n",
    "    for i in range(start + gap, len(alist), gap):\n",
    "        current_value = alist[i]\n",
    "        position = i\n",
    "        while position >= gap and alist[position - gap] > current_value:\n",
    "            alist[position] = alist[position - gap]\n",
    "            position -= gap\n",
    "        alist[position] = current_value\n",
    "\n",
    "def shell_sort(alist):\n",
    "    sub_list_count = len(alist) // 2\n",
    "    while sub_list_count > 0:\n",
    "        for start_position in range(sub_list_count):\n",
    "            gap_insert_sort(alist, start_position, sub_list_count)\n",
    "        sub_list_count //= 2\n",
    "print(a)\n",
    "shell_sort(a)\n",
    "print(a)\n"
   ],
   "id": "1970937f62e3fb88",
   "outputs": [
    {
     "name": "stdout",
     "output_type": "stream",
     "text": [
      "[54, 26, 93, 17, 77, 31, 44, 55, 20]\n",
      "[17, 20, 26, 31, 44, 54, 55, 77, 93]\n"
     ]
    }
   ],
   "execution_count": 9
  },
  {
   "metadata": {
    "ExecuteTime": {
     "end_time": "2025-09-19T05:44:09.927755Z",
     "start_time": "2025-09-19T05:44:09.921917Z"
    }
   },
   "cell_type": "code",
   "source": [
    "# 归并排序\n",
    "def merge_sort(alist):\n",
    "    if len(alist) > 1:\n",
    "        mid = len(alist) // 2\n",
    "        left_half = alist[:mid]\n",
    "        right_half = alist[mid:]\n",
    "\n",
    "        merge_sort(left_half)\n",
    "        merge_sort(right_half)\n",
    "\n",
    "        i = j = k = 0\n",
    "        while i < len(left_half) and j < len(right_half):\n",
    "            if left_half[i] < right_half[j]:\n",
    "                alist[k] = left_half[i]\n",
    "                i += 1\n",
    "            else:\n",
    "                alist[k] = right_half[j]\n",
    "                j += 1\n",
    "            k += 1\n",
    "\n",
    "        while i < len(left_half):\n",
    "            alist[k] = left_half[i]\n",
    "            i += 1\n",
    "            k += 1\n",
    "\n",
    "        while j < len(right_half):\n",
    "            alist[k] = right_half[j]\n",
    "            j += 1\n",
    "            k += 1\n",
    "\n",
    "a = [54, 26, 93, 17, 77, 31, 44, 55, 20]\n",
    "print(a)\n",
    "merge_sort(a)\n",
    "print(a)"
   ],
   "id": "f88ea409a2279561",
   "outputs": [
    {
     "name": "stdout",
     "output_type": "stream",
     "text": [
      "[54, 26, 93, 17, 77, 31, 44, 55, 20]\n",
      "[17, 20, 26, 31, 44, 54, 55, 77, 93]\n"
     ]
    }
   ],
   "execution_count": 15
  },
  {
   "metadata": {
    "ExecuteTime": {
     "end_time": "2025-09-19T05:50:45.622798Z",
     "start_time": "2025-09-19T05:50:45.617392Z"
    }
   },
   "cell_type": "code",
   "source": [
    "# 快速排序\n",
    "def partition(alist, left, right):\n",
    "    i = left - 1\n",
    "    for j in range(left, right):\n",
    "        if alist[j] <= alist[right]:\n",
    "            i += 1\n",
    "            alist[i], alist[j] = alist[j], alist[i]\n",
    "    alist[i+1], alist[right] = alist[right], alist[i+1]\n",
    "    return i\n",
    "\n",
    "\n",
    "def quick_sort(alist, left, right):\n",
    "    if left < right:\n",
    "        p = partition(alist, left, right)\n",
    "        quick_sort(alist, left, p)\n",
    "        quick_sort(alist, p + 1, right)\n",
    "\n",
    "a = [54, 26, 93, 17, 77, 31, 44, 55, 20]\n",
    "print(a)\n",
    "quick_sort(a, 0, len(a)-1)\n",
    "print(a)\n"
   ],
   "id": "7e4a9b0079d0b757",
   "outputs": [
    {
     "name": "stdout",
     "output_type": "stream",
     "text": [
      "[54, 26, 93, 17, 77, 31, 44, 55, 20]\n",
      "[17, 20, 26, 31, 44, 54, 55, 77, 93]\n"
     ]
    }
   ],
   "execution_count": 19
  },
  {
   "metadata": {
    "ExecuteTime": {
     "end_time": "2025-10-15T11:40:19.381459Z",
     "start_time": "2025-10-15T11:40:19.366333Z"
    }
   },
   "cell_type": "code",
   "source": [
    "# 堆排序\n",
    "def heapify(alist, heap_size, root_idx):\n",
    "    \"\"\"堆化函数，用于维护最大堆的性质\n",
    "\n",
    "    此函数确保以root_idx为根的子树满足最大堆性质：根节点的值大于或等于其子节点的值。\n",
    "    如果根节点不是最大的，则与最大的子节点交换，并递归对受影响的子树进行堆化。\n",
    "\n",
    "    Args:\n",
    "        alist: 待堆化的数组\n",
    "        heap_size: 当前堆的大小\n",
    "        root_idx: 当前需要进行堆化操作的根节点索引\n",
    "    \"\"\"\n",
    "    # 初始化最大值索引为根节点索引\n",
    "    largest = root_idx\n",
    "\n",
    "    # 计算左子节点索引（在数组表示的完全二叉树中，左子节点索引 = 2 * 根节点索引 + 1）\n",
    "    left_child = 2 * root_idx + 1\n",
    "\n",
    "    # 计算右子节点索引（在数组表示的完全二叉树中，右子节点索引 = 2 * 根节点索引 + 2）\n",
    "    right_child = 2 * root_idx + 2\n",
    "\n",
    "    # 如果左子节点存在（索引小于堆大小）且左子节点值大于当前最大值，则更新最大值索引\n",
    "    if left_child < heap_size and alist[left_child] > alist[largest]:\n",
    "        largest = left_child\n",
    "\n",
    "    # 如果右子节点存在且右子节点值大于当前最大值，则更新最大值索引\n",
    "    if right_child < heap_size and alist[right_child] > alist[largest]:\n",
    "        largest = right_child\n",
    "\n",
    "    # 如果最大值不是根节点（说明需要调整堆）\n",
    "    if largest != root_idx:\n",
    "        # 交换根节点与最大值节点的值\n",
    "        alist[root_idx], alist[largest] = alist[largest], alist[root_idx]\n",
    "\n",
    "        # 递归对被交换的子树进行堆化，确保调整后仍然保持最大堆性质\n",
    "        heapify(alist, heap_size, largest)\n",
    "\n",
    "\n",
    "def heap_sort(alist):\n",
    "    heap_size = len(alist)\n",
    "\n",
    "    # 从最后一个非叶子节点开始，从下往上进行堆化\n",
    "    for i in range(heap_size // 2 - 1, -1, -1):\n",
    "        heapify(alist, heap_size, i)\n",
    "\n",
    "    print(alist)\n",
    "\n",
    "    # 从堆的最后一个元素开始，将根节点（最大值）与当前最后一个元素交换，\n",
    "    # 然后对根节点进行堆化，重复此过程直到堆大小为1\n",
    "    for i in range(heap_size - 1, -1, -1):\n",
    "        alist[0], alist[i] = alist[i], alist[0]\n",
    "        heapify(alist, i, 0)\n",
    "    return alist\n",
    "\n",
    "alist = [19, 33, 5, 9, 11, 14, 18, 21, 17, 27]\n",
    "print(alist)\n",
    "sorted_arr = heap_sort(alist)\n",
    "print(sorted_arr)"
   ],
   "id": "a24e53ac38a6b113",
   "outputs": [
    {
     "name": "stdout",
     "output_type": "stream",
     "text": [
      "[19, 33, 5, 9, 11, 14, 18, 21, 17, 27]\n",
      "[33, 27, 18, 21, 19, 14, 5, 9, 17, 11]\n",
      "[5, 9, 11, 14, 17, 18, 19, 21, 27, 33]\n"
     ]
    }
   ],
   "execution_count": 1
  }
 ],
 "metadata": {
  "kernelspec": {
   "display_name": "Python 3",
   "language": "python",
   "name": "python3"
  },
  "language_info": {
   "codemirror_mode": {
    "name": "ipython",
    "version": 2
   },
   "file_extension": ".py",
   "mimetype": "text/x-python",
   "name": "python",
   "nbconvert_exporter": "python",
   "pygments_lexer": "ipython2",
   "version": "2.7.6"
  }
 },
 "nbformat": 4,
 "nbformat_minor": 5
}
