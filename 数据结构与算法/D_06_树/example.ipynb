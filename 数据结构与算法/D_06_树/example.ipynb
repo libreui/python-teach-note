{
 "cells": [
  {
   "cell_type": "code",
   "id": "initial_id",
   "metadata": {
    "collapsed": true,
    "ExecuteTime": {
     "end_time": "2025-09-19T06:09:41.596244Z",
     "start_time": "2025-09-19T06:09:41.590405Z"
    }
   },
   "source": [
    "# 二叉树函数实现\n",
    "def binary_tree(r):\n",
    "    return [r, [], []]\n",
    "\n",
    "def insert_left(root, new_branch):\n",
    "    t = root.pop(1)\n",
    "    if len(t) > 1:\n",
    "        root.insert(1, [new_branch, t, []])\n",
    "    else:\n",
    "        root.insert(1, [new_branch, [], []])\n",
    "    return root\n",
    "\n",
    "def insert_right(root, new_branch):\n",
    "    t = root.pop(2)\n",
    "    if len(t) > 1:\n",
    "        root.insert(2, [new_branch, [], t])\n",
    "    else:\n",
    "        root.insert(2, [new_branch, [], []])\n",
    "    return root\n",
    "\n",
    "def get_root_val(root):\n",
    "    return root[0]\n",
    "\n",
    "def set_root_val(root, new_value):\n",
    "    root[0] = new_value\n",
    "\n",
    "def get_left_child(root):\n",
    "    return root[1]\n",
    "\n",
    "def get_right_child(root):\n",
    "    return root[2]"
   ],
   "outputs": [],
   "execution_count": 9
  },
  {
   "metadata": {
    "ExecuteTime": {
     "end_time": "2025-09-19T06:12:36.557256Z",
     "start_time": "2025-09-19T06:12:36.551937Z"
    }
   },
   "cell_type": "code",
   "source": [
    "# 测试二叉树函数\n",
    "r = binary_tree(3)\n",
    "insert_left(r, 4)\n",
    "print(r)\n",
    "insert_left(r, 5)\n",
    "print(r)\n",
    "insert_right(r, 6)\n",
    "print(r)\n",
    "insert_right(r, 7)\n",
    "print(r)\n",
    "l = get_left_child(r)\n",
    "print(r)\n",
    "print(l)\n",
    "set_root_val(l, 9)\n",
    "print(r)\n",
    "insert_left(l, 11)\n",
    "print(l)\n",
    "print(r)\n",
    "right = get_right_child(get_right_child(r))\n",
    "print(r)\n",
    "print(right)\n"
   ],
   "id": "ded0f333e8897c16",
   "outputs": [
    {
     "name": "stdout",
     "output_type": "stream",
     "text": [
      "[3, [4, [], []], []]\n",
      "[3, [5, [4, [], []], []], []]\n",
      "[3, [5, [4, [], []], []], [6, [], []]]\n",
      "[3, [5, [4, [], []], []], [7, [], [6, [], []]]]\n",
      "[3, [5, [4, [], []], []], [7, [], [6, [], []]]]\n",
      "[5, [4, [], []], []]\n",
      "[3, [9, [4, [], []], []], [7, [], [6, [], []]]]\n",
      "[9, [11, [4, [], []], []], []]\n",
      "[3, [9, [11, [4, [], []], []], []], [7, [], [6, [], []]]]\n",
      "[3, [9, [11, [4, [], []], []], []], [7, [], [6, [], []]]]\n",
      "[6, [], []]\n"
     ]
    }
   ],
   "execution_count": 17
  }
 ],
 "metadata": {
  "kernelspec": {
   "display_name": "Python 3",
   "language": "python",
   "name": "python3"
  },
  "language_info": {
   "codemirror_mode": {
    "name": "ipython",
    "version": 2
   },
   "file_extension": ".py",
   "mimetype": "text/x-python",
   "name": "python",
   "nbconvert_exporter": "python",
   "pygments_lexer": "ipython2",
   "version": "2.7.6"
  }
 },
 "nbformat": 4,
 "nbformat_minor": 5
}
