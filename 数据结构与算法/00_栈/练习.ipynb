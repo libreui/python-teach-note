{
 "cells": [
  {
   "cell_type": "code",
   "id": "initial_id",
   "metadata": {
    "collapsed": true,
    "ExecuteTime": {
     "end_time": "2025-09-10T03:46:19.124638Z",
     "start_time": "2025-09-10T03:46:19.118973Z"
    }
   },
   "source": "from stack import Stack",
   "outputs": [],
   "execution_count": 2
  },
  {
   "metadata": {
    "ExecuteTime": {
     "end_time": "2025-09-10T03:46:20.350662Z",
     "start_time": "2025-09-10T03:46:20.345595Z"
    }
   },
   "cell_type": "code",
   "source": [
    "# 使用“除以2”算法将下列值转换成二进制数。列出转换过程中的余数\n",
    "# 17 45 96\n",
    "\n",
    "def div_by_2(dec_num):\n",
    "    stack = Stack()\n",
    "    while dec_num > 0:\n",
    "        stack.push(dec_num % 2)\n",
    "        dec_num //= 2\n",
    "\n",
    "    binary_str = ''\n",
    "    while not stack.is_empty():\n",
    "        binary_str += str(stack.pop())\n",
    "    return binary_str\n",
    "\n",
    "print(div_by_2(17))\n",
    "print(div_by_2(45))\n",
    "print(div_by_2(96))\n"
   ],
   "id": "8df754f634ebc1c4",
   "outputs": [
    {
     "name": "stdout",
     "output_type": "stream",
     "text": [
      "10001\n",
      "101101\n",
      "1100000\n"
     ]
    }
   ],
   "execution_count": 3
  }
 ],
 "metadata": {
  "kernelspec": {
   "display_name": "Python 3",
   "language": "python",
   "name": "python3"
  },
  "language_info": {
   "codemirror_mode": {
    "name": "ipython",
    "version": 2
   },
   "file_extension": ".py",
   "mimetype": "text/x-python",
   "name": "python",
   "nbconvert_exporter": "python",
   "pygments_lexer": "ipython2",
   "version": "2.7.6"
  }
 },
 "nbformat": 4,
 "nbformat_minor": 5
}
