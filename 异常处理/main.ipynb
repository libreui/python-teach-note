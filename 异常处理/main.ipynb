{
 "cells": [
  {
   "cell_type": "code",
   "execution_count": 10,
   "metadata": {},
   "outputs": [
    {
     "ename": "IndentationError",
     "evalue": "expected an indented block after 'if' statement on line 2 (3393378303.py, line 4)",
     "output_type": "error",
     "traceback": [
      "\u001b[0;36m  Cell \u001b[0;32mIn[10], line 4\u001b[0;36m\u001b[0m\n\u001b[0;31m    b= int(\"ABC\")\u001b[0m\n\u001b[0m    ^\u001b[0m\n\u001b[0;31mIndentationError\u001b[0m\u001b[0;31m:\u001b[0m expected an indented block after 'if' statement on line 2\n"
     ]
    }
   ],
   "source": [
    "try:\n",
    "    b= int(\"ABC\")\n",
    "    a = 8/b\n",
    "    print(a)\n",
    "except ZeroDivisionError:\n",
    "    print(\"除数不能为0\")\n",
    "except ValueError:\n",
    "    print(\"值错误，不能吧字符串转为int\")\n",
    "\n"
   ]
  },
  {
   "cell_type": "code",
   "execution_count": 16,
   "metadata": {},
   "outputs": [
    {
     "name": "stdout",
     "output_type": "stream",
     "text": [
      "除数不能为0\n",
      "你不能输入字符串，只能写数字\n",
      "1.0\n"
     ]
    }
   ],
   "source": [
    "\n",
    "for x in range(3):\n",
    "    try:\n",
    "        a = int(input(\"除数a\"))\n",
    "        b = int(input(\"除数b\"))\n",
    "        print(a/b)\n",
    "    except ZeroDivisionError:\n",
    "        print(\"除数不能为0\")\n",
    "    except ValueError:\n",
    "        print(\"你不能输入字符串，只能写数字\")\n"
   ]
  },
  {
   "cell_type": "code",
   "execution_count": 18,
   "metadata": {},
   "outputs": [
    {
     "name": "stdout",
     "output_type": "stream",
     "text": [
      "错误\n",
      "程序结束\n"
     ]
    }
   ],
   "source": [
    "try:\n",
    "    a = int(input(\"输入一个数:\"))\n",
    "    b = int(input(\"输入另一个数:\"))\n",
    "    m = a/b\n",
    "    print(\"商是：\", m)\n",
    "except:\n",
    "    print(\"错误\")\n",
    "else:\n",
    "    print(\"正确\")\n",
    "finally:\n",
    "    print(\"程序结束\")"
   ]
  },
  {
   "cell_type": "code",
   "execution_count": 20,
   "metadata": {},
   "outputs": [
    {
     "ename": "ValueError",
     "evalue": "invalid literal for int() with base 10: 'yes'",
     "output_type": "error",
     "traceback": [
      "\u001b[0;31m---------------------------------------------------------------------------\u001b[0m",
      "\u001b[0;31mValueError\u001b[0m                                Traceback (most recent call last)",
      "\u001b[1;32m/Users/libre1/Code/PythonJupyter/异常处理/main.ipynb 单元格 4\u001b[0m line \u001b[0;36m1\n\u001b[0;32m----> <a href='vscode-notebook-cell:/Users/libre1/Code/PythonJupyter/%E5%BC%82%E5%B8%B8%E5%A4%84%E7%90%86/main.ipynb#W4sZmlsZQ%3D%3D?line=0'>1</a>\u001b[0m x \u001b[39m=\u001b[39m \u001b[39mint\u001b[39;49m(\u001b[39minput\u001b[39;49m())\n\u001b[1;32m      <a href='vscode-notebook-cell:/Users/libre1/Code/PythonJupyter/%E5%BC%82%E5%B8%B8%E5%A4%84%E7%90%86/main.ipynb#W4sZmlsZQ%3D%3D?line=1'>2</a>\u001b[0m \u001b[39mprint\u001b[39m(x)\n",
      "\u001b[0;31mValueError\u001b[0m: invalid literal for int() with base 10: 'yes'"
     ]
    }
   ],
   "source": [
    "x = int(input())\n",
    "print(x)"
   ]
  },
  {
   "cell_type": "code",
   "execution_count": 22,
   "metadata": {},
   "outputs": [
    {
     "name": "stdout",
     "output_type": "stream",
     "text": [
      "OK\n"
     ]
    }
   ],
   "source": [
    "try:\n",
    "    x = eval(input())\n",
    "    print(x)\n",
    "except NameError:\n",
    "    print(\"OK\")"
   ]
  },
  {
   "cell_type": "code",
   "execution_count": null,
   "metadata": {},
   "outputs": [],
   "source": [
    "try:\n",
    "    a = int(input())\n",
    "    b = int(input())\n",
    "    print(a/b)\n",
    "except NameError:\n",
    "    print(\"错误2\")\n",
    "except ZeroDivisionError:\n",
    "    print(\"错误1\")\n",
    "finally:\n",
    "    print(\"程序结束\")"
   ]
  }
 ],
 "metadata": {
  "kernelspec": {
   "display_name": "python310",
   "language": "python",
   "name": "python3"
  },
  "language_info": {
   "codemirror_mode": {
    "name": "ipython",
    "version": 3
   },
   "file_extension": ".py",
   "mimetype": "text/x-python",
   "name": "python",
   "nbconvert_exporter": "python",
   "pygments_lexer": "ipython3",
   "version": "3.10.9"
  }
 },
 "nbformat": 4,
 "nbformat_minor": 2
}
