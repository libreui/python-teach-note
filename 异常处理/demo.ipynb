{
 "cells": [
  {
   "cell_type": "code",
   "execution_count": null,
   "outputs": [],
   "source": [
    "try:\n",
    "    m = int(input(\"请输入一个数字：\"))\n",
    "    n = int(input(\"请输入一个数字：\"))\n",
    "    print(f\"商是：{m/n}\")\n",
    "except ValueError:\n",
    "    print(\"请输入一个数字！\")\n",
    "except ZeroDivisionError:\n",
    "    print(\"除数不能为零!\")\n",
    "except:\n",
    "    print(\"未知错误!\")\n",
    "\n"
   ],
   "metadata": {
    "collapsed": false
   },
   "id": "a6da0d17b8cf8330"
  },
  {
   "cell_type": "code",
   "execution_count": null,
   "outputs": [],
   "source": [
    "m = 12\n",
    "n = 11\n",
    "l = []\n",
    "print(f\"商是：{m/n}\", l[1])"
   ],
   "metadata": {
    "collapsed": false
   },
   "id": "c0ec1c88a71841e1"
  },
  {
   "cell_type": "code",
   "execution_count": null,
   "outputs": [],
   "source": [
    "x = eval(input())\n",
    "print(x)\n"
   ],
   "metadata": {
    "collapsed": false
   },
   "id": "fbb45a3954f642c2"
  },
  {
   "cell_type": "code",
   "execution_count": null,
   "outputs": [],
   "source": [
    "# SyntaxError 语法错误\n",
    "# IndexError 索引错误\n",
    "# ValueError 值错误\n",
    "# ZeroDivisionError 除数为零错误\n",
    "# NameError 变量名错误"
   ],
   "metadata": {
    "collapsed": false
   },
   "id": "f982fc4e3dc03517"
  },
  {
   "cell_type": "code",
   "execution_count": 20,
   "outputs": [
    {
     "name": "stdout",
     "output_type": "stream",
     "text": [
      "Error\n",
      "Complete!\n"
     ]
    }
   ],
   "source": [
    "# try except else finally\n",
    "def foo():\n",
    "    print(1/0)\n",
    "      \n",
    "try:\n",
    "    x = foo()\n",
    "except ZeroDivisionError:\n",
    "    print(\"除数不能为零！\")\n",
    "except:\n",
    "    print(\"Error\")\n",
    "else:\n",
    "    print(\"Else\")\n",
    "finally:\n",
    "    print(\"Complete!\")\n"
   ],
   "metadata": {
    "collapsed": false,
    "ExecuteTime": {
     "end_time": "2025-07-31T09:09:00.917936Z",
     "start_time": "2025-07-31T09:09:00.906812Z"
    }
   },
   "id": "ccf0e6cad2b761f4"
  },
  {
   "cell_type": "markdown",
   "source": [
    "### 分析问题、设计算法、编写程序、调试及运行\n",
    "\n",
    "### 算法的类型：\n",
    "- 解析、枚举、排序、查找\n",
    "### 算法的特征：\n",
    "- 有穷性\n",
    "- 确定性\n",
    "- 可行性\n",
    "- 有0个或多个输入\n",
    "- 有一个或多个输出 \n",
    "### 算法的3种表示方式\n",
    "#### 自然语言\n",
    "    - 输入圆的半径r input\n",
    "    - 计算圆的面积S（计算公式：πr²） S = 3.14*r**2\n",
    "    - 输出结果 print()\n",
    "#### 流程图\n",
    "    - 图形来描述算法\n",
    "#### 程序设计语言\n",
    "    r = int(input())\n",
    "    S = 3.14 * r ** 2\n",
    "    print(S)"
   ],
   "metadata": {
    "collapsed": false
   },
   "id": "ed021f53ca8f54d6"
  }
 ],
 "metadata": {
  "kernelspec": {
   "display_name": "Python 3",
   "language": "python",
   "name": "python3"
  },
  "language_info": {
   "codemirror_mode": {
    "name": "ipython",
    "version": 2
   },
   "file_extension": ".py",
   "mimetype": "text/x-python",
   "name": "python",
   "nbconvert_exporter": "python",
   "pygments_lexer": "ipython2",
   "version": "2.7.6"
  }
 },
 "nbformat": 4,
 "nbformat_minor": 5
}
