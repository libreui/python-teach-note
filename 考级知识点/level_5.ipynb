{
 "cells": [
  {
   "cell_type": "code",
   "execution_count": 1,
   "id": "initial_id",
   "metadata": {
    "collapsed": true,
    "ExecuteTime": {
     "end_time": "2025-05-23T02:40:22.832106Z",
     "start_time": "2025-05-23T02:40:22.710956Z"
    }
   },
   "outputs": [
    {
     "name": "stdout",
     "output_type": "stream",
     "text": [
      "5.368479276409092\n"
     ]
    }
   ],
   "source": [
    "import random\n",
    "print(random.random() * 10)"
   ]
  },
  {
   "cell_type": "code",
   "execution_count": 4,
   "outputs": [
    {
     "name": "stdout",
     "output_type": "stream",
     "text": [
      "人定胜天 鸿鹄之志\n",
      "人定 人定胜天 鸿鹄 鸿鹄之志\n"
     ]
    }
   ],
   "source": [
    "import jieba\n",
    "a = \"人定胜天鸿鹄之志\"\n",
    "kl = jieba.cut(a)\n",
    "print(\" \".join(kl))\n",
    "kl = jieba.cut(a, cut_all=True)\n",
    "print(\" \".join(kl))"
   ],
   "metadata": {
    "collapsed": false,
    "ExecuteTime": {
     "end_time": "2025-05-23T02:46:46.712944Z",
     "start_time": "2025-05-23T02:46:46.704510Z"
    }
   },
   "id": "83db2e30e81d31c2"
  },
  {
   "cell_type": "code",
   "execution_count": 10,
   "outputs": [
    {
     "name": "stdout",
     "output_type": "stream",
     "text": [
      "cba\n"
     ]
    }
   ],
   "source": [
    "a = \"abc\"\n",
    "print(a[3::-1])"
   ],
   "metadata": {
    "collapsed": false,
    "ExecuteTime": {
     "end_time": "2025-05-23T03:11:49.662727Z",
     "start_time": "2025-05-23T03:11:49.651714Z"
    }
   },
   "id": "486fef2a9f969acd"
  },
  {
   "cell_type": "code",
   "execution_count": 11,
   "outputs": [
    {
     "name": "stdout",
     "output_type": "stream",
     "text": [
      "99\n"
     ]
    }
   ],
   "source": [
    "numbers={'football':90,'basketball':99,'robot':80}\n",
    "result=numbers.pop('basketball')\n",
    "print(result)"
   ],
   "metadata": {
    "collapsed": false,
    "ExecuteTime": {
     "end_time": "2025-05-23T03:17:23.129393Z",
     "start_time": "2025-05-23T03:17:23.120110Z"
    }
   },
   "id": "d311d9ebcb0c4f92"
  }
 ],
 "metadata": {
  "kernelspec": {
   "display_name": "Python 3",
   "language": "python",
   "name": "python3"
  },
  "language_info": {
   "codemirror_mode": {
    "name": "ipython",
    "version": 2
   },
   "file_extension": ".py",
   "mimetype": "text/x-python",
   "name": "python",
   "nbconvert_exporter": "python",
   "pygments_lexer": "ipython2",
   "version": "2.7.6"
  }
 },
 "nbformat": 4,
 "nbformat_minor": 5
}
