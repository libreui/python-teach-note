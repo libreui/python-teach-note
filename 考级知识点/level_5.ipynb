{
 "cells": [
  {
   "cell_type": "code",
   "execution_count": null,
   "id": "initial_id",
   "metadata": {
    "collapsed": true
   },
   "outputs": [],
   "source": [
    "import random\n",
    "print(random.random() * 10)"
   ]
  },
  {
   "cell_type": "code",
   "execution_count": null,
   "outputs": [],
   "source": [
    "import jieba\n",
    "a = \"人定胜天鸿鹄之志\"\n",
    "kl = jieba.cut(a)\n",
    "print(\" \".join(kl))\n",
    "kl = jieba.cut(a, cut_all=True)\n",
    "print(\" \".join(kl))"
   ],
   "metadata": {
    "collapsed": false
   },
   "id": "83db2e30e81d31c2"
  },
  {
   "cell_type": "code",
   "execution_count": null,
   "outputs": [],
   "source": [
    "a = \"abc\"\n",
    "print(a[3::-1])"
   ],
   "metadata": {
    "collapsed": false
   },
   "id": "486fef2a9f969acd"
  },
  {
   "cell_type": "code",
   "execution_count": null,
   "outputs": [],
   "source": [
    "import random \n",
    "list1=[0]*6 \n",
    "i=0 \n",
    "while i<6: \n",
    "    if i%2==0:\n",
    "        list1[i]=int(random.random()*10)\n",
    "    else: \n",
    "        list1[i]=random.randint(1,5)*2+1\n",
    "    i+=1\n",
    "print(list1)\n",
    "print([x*2+1 for x in range(1, 6)])"
   ],
   "metadata": {
    "collapsed": false
   },
   "id": "d311d9ebcb0c4f92"
  },
  {
   "cell_type": "code",
   "execution_count": 74,
   "outputs": [
    {
     "name": "stdout",
     "output_type": "stream",
     "text": [
      "44\n"
     ]
    }
   ],
   "source": [
    "s=0\n",
    "\n",
    "for i in range(1,11):\n",
    "\n",
    "    if i%5==3:\n",
    "\n",
    "        continue\n",
    "\n",
    "    s+=i\n",
    "    \n",
    "print(s)"
   ],
   "metadata": {
    "collapsed": false,
    "ExecuteTime": {
     "end_time": "2025-07-02T02:46:09.513699Z",
     "start_time": "2025-07-02T02:46:09.503948Z"
    }
   },
   "id": "5381df7fb89b6ff9"
  }
 ],
 "metadata": {
  "kernelspec": {
   "display_name": "Python 3",
   "language": "python",
   "name": "python3"
  },
  "language_info": {
   "codemirror_mode": {
    "name": "ipython",
    "version": 2
   },
   "file_extension": ".py",
   "mimetype": "text/x-python",
   "name": "python",
   "nbconvert_exporter": "python",
   "pygments_lexer": "ipython2",
   "version": "2.7.6"
  }
 },
 "nbformat": 4,
 "nbformat_minor": 5
}
