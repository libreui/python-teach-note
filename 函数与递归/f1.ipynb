{
 "cells": [
  {
   "cell_type": "code",
   "execution_count": null,
   "metadata": {},
   "outputs": [],
   "source": [
    "def f(n):\n",
    "    if n == 1:\n",
    "        return 3\n",
    "    else:\n",
    "        return f(n-1) + 2\n",
    "    \n",
    "print(f(6))"
   ]
  },
  {
   "cell_type": "code",
   "execution_count": null,
   "metadata": {},
   "outputs": [],
   "source": [
    "s = 'hello'\n",
    "a = \"\"\n",
    "# 递推反转字符串s\n",
    "for i in range(len(s)-1, -1, -1):\n",
    "    a += s[i]\n",
    "print(a)"
   ]
  },
  {
   "cell_type": "code",
   "execution_count": 20,
   "outputs": [
    {
     "name": "stdout",
     "output_type": "stream",
     "text": [
      "3628800\n"
     ]
    }
   ],
   "source": [
    "\"\"\"\n",
    "n! = n*(n-1)*(n-2).....*1\n",
    "n! = n*(n-1)!\n",
    "(n-1)! = (n-1) * (n-2)!\n",
    "(n-2)! = (n-2) * (n-3)!\n",
    "....\n",
    "1! = 1\n",
    "\n",
    "fn(n) = n * f(n-1)\n",
    "5! = 5*4!\n",
    "4! = 4*3!\n",
    "...\n",
    "1! = 1\n",
    "\"\"\"\n",
    "\n",
    "# 某是个数的阶乘\n",
    "\n",
    "# n = 5\n",
    "# fn(5) = 5 * fn(4) = 5 * 24 = 120\n",
    "# fn(4) = 4 * fn(3) = 4 * 6 = 24\n",
    "# fn(3) = 3 * fn(2) = 3 * 2 = 6\n",
    "# fn(2) = 2 * fn(1) = 2 * 1 = 2\n",
    "# fn(1) = 1\n"
   ],
   "metadata": {
    "collapsed": false,
    "ExecuteTime": {
     "end_time": "2025-06-21T05:35:01.581094Z",
     "start_time": "2025-06-21T05:35:01.570241Z"
    }
   }
  },
  {
   "cell_type": "code",
   "execution_count": null,
   "outputs": [],
   "source": [
    "# 问以下代码执行后，输出的结果是？\n",
    "ans = 0\n",
    "def fu(a, b, x=1):\n",
    "    if b == 1:\n",
    "        return 2\n",
    "    global ans\n",
    "    ans += fu(a-x, b-1, 2)\n",
    "    return ans\n",
    "print(fu(5, 4, 3))"
   ],
   "metadata": {
    "collapsed": false
   }
  },
  {
   "cell_type": "code",
   "execution_count": 6,
   "outputs": [
    {
     "name": "stdout",
     "output_type": "stream",
     "text": [
      "8\n",
      "8\n"
     ]
    }
   ],
   "source": [
    "\"\"\"\n",
    "什么事斐波那契数列\n",
    "每一个数是他前两个数之和，这样的数列叫做斐波那契数列\n",
    "[1, 1, 2, 3, 5, 8, 12, 20, ....]\n",
    "\n",
    "\"\"\"\n",
    "# 斐波那契数列的第N个数是多少？\n",
    "def fib(n):\n",
    "    # 函数过程怎么写\n",
    "    if n == 1:\n",
    "        return 1\n",
    "    if n == 2:\n",
    "        return 1\n",
    "    return fib(n-1) + fib(n-2)\n",
    "\n",
    "print(fib(6))\n",
    "\n",
    "n = 6\n",
    "a = 1\n",
    "b = 1\n",
    "c = 0\n",
    "for _ in range(2, n):\n",
    "    c = a + b\n",
    "    a = b\n",
    "    b = c\n",
    "    \n",
    "print(c)\n",
    "    \n",
    "\n"
   ],
   "metadata": {
    "collapsed": false,
    "ExecuteTime": {
     "end_time": "2025-06-22T05:55:09.435566Z",
     "start_time": "2025-06-22T05:55:09.428373Z"
    }
   }
  }
 ],
 "metadata": {
  "kernelspec": {
   "display_name": "python310",
   "language": "python",
   "name": "python3"
  },
  "language_info": {
   "codemirror_mode": {
    "name": "ipython",
    "version": 3
   },
   "file_extension": ".py",
   "mimetype": "text/x-python",
   "name": "python",
   "nbconvert_exporter": "python",
   "pygments_lexer": "ipython3",
   "version": "3.10.9"
  }
 },
 "nbformat": 4,
 "nbformat_minor": 2
}
