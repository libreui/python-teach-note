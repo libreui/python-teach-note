{
 "cells": [
  {
   "cell_type": "code",
   "id": "initial_id",
   "metadata": {
    "collapsed": true
   },
   "source": [
    "# nonlocal\n",
    "\n",
    "def fn():\n",
    "\tcount = 1\n",
    "\tdef fn1():\n",
    "\t\tnonlocal count\n",
    "\t\tprint(count)\n",
    "\t\tcount += 2\n",
    "\treturn fn1\n",
    "\n",
    "a = fn()\n",
    "a()\n",
    "a()\n",
    "a()"
   ],
   "outputs": [],
   "execution_count": null
  },
  {
   "metadata": {},
   "cell_type": "code",
   "source": [
    "def fn(x, y):\n",
    "\treturn x + y\n"
   ],
   "id": "430af63bb5b79368",
   "outputs": [],
   "execution_count": null
  },
  {
   "metadata": {},
   "cell_type": "code",
   "source": [
    "def postage(w: int, f: str) -> int:\n",
    "\t# 邮费\n",
    "\tif f == 'y':\n",
    "\t\tcount = 13\n",
    "\telse:\n",
    "\t\tcount = 8\n",
    "\t\t\n",
    "\tif w > 1000:\n",
    "\t\tcount += ((w-1000) // 500) * 4\n",
    "\t\tif w % 500 > 0:\n",
    "\t\t\tcount += 4\n",
    "\t\n",
    "\treturn count\n",
    "\n",
    "print(postage(1200, 'y'))\n",
    "\t\t\n"
   ],
   "id": "6e4459668ff7e02a",
   "outputs": [],
   "execution_count": null
  },
  {
   "metadata": {},
   "cell_type": "code",
   "source": [
    "def calculate_change(amount):\n",
    "    \"\"\"\n",
    "    计算找零钱的各种面额纸币数量\n",
    "    \n",
    "    参数:\n",
    "        amount (int): 需要找零的金额（单位：元）\n",
    "        \n",
    "    返回:\n",
    "        dict: 包含各面额纸币数量的字典\n",
    "    \"\"\"\n",
    "    denominations = [100, 50, 20, 10, 5, 1]  # 纸币面额\n",
    "    change = {}  # 存储找零结果\n",
    "    \n",
    "    for denom in denominations:\n",
    "        if amount >= denom:\n",
    "            count = amount // denom  # 计算当前面额纸币的数量\n",
    "            change[denom] = count\n",
    "            amount -= count * denom  # 减去已找零的金额\n",
    "            \n",
    "        # 当金额为0时提前结束循环\n",
    "        if amount == 0:\n",
    "            break\n",
    "    \n",
    "    # 确保所有面额都出现在结果中（即使数量为0）\n",
    "    # for denom in [100, 50, 20, 10, 5, 1]:\n",
    "    #     if denom not in change:\n",
    "    #         change[denom] = 0\n",
    "    \n",
    "    return change\n",
    "\n",
    "\n",
    "# 测试示例\n",
    "print(calculate_change(287))  # 输出: {100: 2, 50: 1, 20: 1, 10: 1, 5: 1, 1: 2}\n",
    "print(calculate_change(73))   # 输出: {50: 1, 20: 1, 1: 3, 100: 0, 10: 0, 5: 0}\n",
    "print(calculate_change(0))    # 输出: {100: 0, 50: 0, 20: 0, 10: 0, 5: 0, 1: 0}"
   ],
   "id": "bc7ba23ed9bdf817",
   "outputs": [],
   "execution_count": null
  },
  {
   "cell_type": "code",
   "execution_count": null,
   "outputs": [],
   "source": [
    "def fib(n):\n",
    "\tif n == 1:\n",
    "\t\treturn 1\n",
    "\tif n == 2:\n",
    "\t\treturn 1\n",
    "\treturn fib(n-1) + fib(n-2) + fib(n-3)\n",
    "\n",
    "print(fib(6))"
   ],
   "metadata": {
    "collapsed": false
   },
   "id": "d4800127fac8b1be"
  },
  {
   "cell_type": "code",
   "execution_count": null,
   "outputs": [],
   "source": [
    "# n = 36532\n",
    "# while n > 0:\n",
    "# \tm = n % 10\n",
    "# \tprint(m)\n",
    "# \tn //= 10\n",
    "\t\n",
    "# def foo(n):\n",
    "# \tif n > 0:\n",
    "# \t\tk = n % 10\n",
    "# \t\tprint(k)\n",
    "# \t\treturn foo(n//10)\n",
    "\t\t\n",
    "n = 3456\n",
    "for i in str(n):\n",
    "\tprint(int(i))\n",
    "\t\t"
   ],
   "metadata": {
    "collapsed": false
   },
   "id": "b395409e69c26f22"
  },
  {
   "cell_type": "code",
   "execution_count": 3,
   "outputs": [
    {
     "name": "stdout",
     "output_type": "stream",
     "text": [
      "发车时车上的乘客有 528 位。\n"
     ]
    }
   ],
   "source": [
    "'''\n",
    "1 => n\n",
    "2 => F(1)-F(1)/2 + 6\n",
    "3 => F(2)-F(2)/2 + 5\n",
    "4 => F(3)-F(3)/2 + 4\n",
    "5 => F(4)-F(4)/2 + 3\n",
    "6 => F(5)-F(5)/2 + 2\n",
    "7 => F(6)-F(6)/2 + 1\n",
    "8 => F(7)-F(7)/2 + 0 = 6\n",
    "\n",
    "step\n",
    "1. 8 => 6             -0\n",
    "2. 7 => (F(8)-step)*2 -1 \n",
    "3. 6 => (F(7)-step)*2 -2\n",
    "4. 5 => (F(6)-step)*2 -3\n",
    "5. 4 => (F(5)-step)*2 -4\n",
    "6. 3 => (F(4)-step)*2\n",
    "7. 2 => (F(3)-step)*2\n",
    "8. 1 => (F(2)-step)*2 -7\n",
    "'''\n",
    "\n",
    "\n",
    "\n",
    "\n",
    "\n",
    "\n",
    "def bus_passengers(stop=8, current_passengers=6):\n",
    "    # 当到达第一站时，返回车上的乘客数\n",
    "    if stop == 1:\n",
    "        return current_passengers\n",
    "    # 根据逆向递推公式计算上一站的乘客数\n",
    "    prev_passengers = 2 * (current_passengers - (8 - stop))\n",
    "    return bus_passengers(stop - 1, prev_passengers)\n",
    "\n",
    "# 调用函数计算始发站的乘客数\n",
    "initial_passengers = bus_passengers()\n",
    "print(f\"发车时车上的乘客有 {initial_passengers} 位。\")\n",
    "\t"
   ],
   "metadata": {
    "collapsed": false,
    "ExecuteTime": {
     "end_time": "2025-07-14T05:22:43.952980Z",
     "start_time": "2025-07-14T05:22:43.943195Z"
    }
   },
   "id": "3caf36a91fcb00f4"
  },
  {
   "cell_type": "code",
   "execution_count": 6,
   "outputs": [
    {
     "name": "stdout",
     "output_type": "stream",
     "text": [
      "-1.9921875\n"
     ]
    }
   ],
   "source": [
    "'''\n",
    "每日吃了多少\n",
    "1 => n\n",
    "2 => F(1)/2 + 1\n",
    "3 => F(2)/2 + 1\n",
    "4 => F(3)/2 + 1\n",
    "5 => F(4)/2 + 1\n",
    "6 => F(5)/2 + 1\n",
    "7 => F(6)/2 + 1\n",
    "8 => F(7)/2 + 1\n",
    "9 => F(8)\n",
    "\n",
    "每日剩下几个\n",
    "1 = n\n",
    "2 = F(1)/2 - 1\n",
    "3 = F(2)/2 - 1\n",
    "...\n",
    "9 = 0\n",
    "9 = n\n",
    "8 = (F(9) + 1)) * 2\n",
    "'''\n",
    "\n",
    "def peach_count(day=9, remaining=0):\n",
    "    # 当到达第一天时，返回最初的桃子数\n",
    "    if day == 1:\n",
    "        return remaining\n",
    "    # 根据逆向递推公式计算前一天的桃子数\n",
    "    prev_remaining = 2 * (remaining + 1)\n",
    "    return peach_count(day - 1, prev_remaining)\n",
    "\n",
    "# 调用函数计算最初的桃子数\n",
    "initial_peaches = peach_count()\n",
    "print(f\"猴子们最初摘来的桃子有 {initial_peaches} 个。\")"
   ],
   "metadata": {
    "collapsed": false,
    "ExecuteTime": {
     "end_time": "2025-07-14T05:55:32.756489Z",
     "start_time": "2025-07-14T05:55:32.742880Z"
    }
   },
   "id": "4384265651e9aaff"
  }
 ],
 "metadata": {
  "kernelspec": {
   "display_name": "Python 3",
   "language": "python",
   "name": "python3"
  },
  "language_info": {
   "codemirror_mode": {
    "name": "ipython",
    "version": 2
   },
   "file_extension": ".py",
   "mimetype": "text/x-python",
   "name": "python",
   "nbconvert_exporter": "python",
   "pygments_lexer": "ipython2",
   "version": "2.7.6"
  }
 },
 "nbformat": 4,
 "nbformat_minor": 5
}
