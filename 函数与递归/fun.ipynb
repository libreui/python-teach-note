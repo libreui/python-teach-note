{
 "cells": [
  {
   "cell_type": "code",
   "execution_count": null,
   "id": "92b9ed7809afafb3",
   "metadata": {
    "ExecuteTime": {
     "end_time": "2024-03-23T23:44:13.369406Z",
     "start_time": "2024-03-23T23:44:13.352520Z"
    },
    "collapsed": false
   },
   "outputs": [],
   "source": [
    "def hello(age, name='小红'):\n",
    "    \"\"\"打招呼\"\"\"\n",
    "    print(f'Hello {name}, {age}')\n",
    "\n",
    "\n",
    "def plus(x:int, y:int) -> int:\n",
    "    return \"str\"\n",
    "\n",
    "print(plus('2', 6))"
   ]
  },
  {
   "cell_type": "code",
   "execution_count": null,
   "id": "4a4cbf2b",
   "metadata": {},
   "outputs": [],
   "source": [
    "def zhishu(n:int) -> int:\n",
    "    count = 1\n",
    "    for i in range(3, n):\n",
    "        flag = True\n",
    "        for j in range(2, i):\n",
    "            if i % j == 0:\n",
    "                flag = False\n",
    "                break\n",
    "        if flag:\n",
    "            count += 1\n",
    "    return count\n",
    "\n",
    "print(zhishu(10))"
   ]
  },
  {
   "cell_type": "code",
   "execution_count": null,
   "id": "3d8a8d4b",
   "metadata": {},
   "outputs": [],
   "source": [
    "def f(*args):\n",
    "    print(args)\n",
    "\n",
    "f(*[2,3,5])\n",
    "\n",
    "def f(**kwargs):\n",
    "    print(kwargs)\n",
    "\n",
    "f(y=1)\n",
    "\n",
    "def f(*args, **kwargs):\n",
    "    print(args, kwargs)\n",
    "\n",
    "f(1,2,3, y=22,x=2)\n",
    "\n",
    "f = lambda x:x+1\n",
    "print(f(3))"
   ]
  },
  {
   "cell_type": "markdown",
   "id": "ba45fc03",
   "metadata": {},
   "source": [
    "### 1. 定义 两个数的 加、减、乘、除 四个函数并返回结果"
   ]
  },
  {
   "cell_type": "code",
   "execution_count": null,
   "id": "39a4d53c",
   "metadata": {},
   "outputs": [],
   "source": [
    "def add(a, b):\n",
    "    return a + b\n",
    "\n",
    "def subtract(a, b):\n",
    "    return a - b\n",
    "\n",
    "def multiply(a, b):\n",
    "    return a * b\n",
    "\n",
    "def divide(a, b):\n",
    "    try:\n",
    "        return a / b\n",
    "    except:\n",
    "        print(\"除数不能为0\")\n",
    "\n",
    "print(add(2, 3))\n",
    "print(subtract(5, 2))\n",
    "print(multiply(2, 3))\n",
    "print(divide(10, 0))\n",
    "print(divide(10, 2))"
   ]
  },
  {
   "cell_type": "markdown",
   "id": "178a20a0",
   "metadata": {},
   "source": [
    "### 2. 判定一个正整数N是否为质数,如果是返回True，否则返回False。\n",
    "### 3. 判定两个数之间有几个质数。"
   ]
  },
  {
   "cell_type": "code",
   "execution_count": null,
   "id": "9a1d2ecf",
   "metadata": {},
   "outputs": [],
   "source": [
    "def isPrime(n):\n",
    "    if n <= 1: \n",
    "        return False\n",
    "    for i in range(2, n):\n",
    "        if n % i == 0:\n",
    "            return False\n",
    "    return True\n",
    "\n",
    "\n",
    "def primeCount(start, end):\n",
    "    if start > end:\n",
    "        start, end = end, start\n",
    "        \n",
    "    count = 0\n",
    "    for i in range(start, end + 1):\n",
    "        if isPrime(i):\n",
    "            count += 1\n",
    "    return count\n"
   ]
  },
  {
   "cell_type": "markdown",
   "id": "76639f20",
   "metadata": {},
   "source": [
    "### 匿名函数\n",
    "f = lambda x: x + 1"
   ]
  },
  {
   "cell_type": "code",
   "execution_count": null,
   "id": "47d36fef",
   "metadata": {},
   "outputs": [],
   "source": [
    "import math\n",
    "s = lambda r:math.pi * (r ** 2)\n",
    "add = lambda x, y: x + y\n",
    "print(add(2, 3))\n",
    "print(s(5))\n"
   ]
  },
  {
   "cell_type": "code",
   "execution_count": null,
   "id": "26a05b01",
   "metadata": {},
   "outputs": [],
   "source": [
    "# 任意参数 argments\n",
    "def foo(*args):\n",
    "    print(args)\n",
    "\n",
    "foo(1)\n",
    "foo(1, 2)\n",
    "foo(1, 2, 3)\n",
    "foo([1, 3], 'a', True, (1, 2))\n",
    "\n",
    "def foo(**kwargs):\n",
    "    print(kwargs)\n",
    "\n",
    "foo(name='john', age=25)\n",
    "foo(name='john', age=25, sex='male')\n",
    "\n",
    "def foo(*args, **kwargs):\n",
    "    print(args, kwargs)\n",
    "    \n",
    "foo(1,3, x=1,y=3)\n"
   ]
  },
  {
   "cell_type": "code",
   "execution_count": null,
   "id": "87b47904",
   "metadata": {},
   "outputs": [],
   "source": [
    "# 全局变量 & 局部变量\n",
    "name = \"zhang\"\n",
    "\n",
    "def foo():\n",
    "    # global name\n",
    "    name = \"li\"\n",
    "    print(name)\n",
    "\n",
    "foo()\n",
    "print(name)"
   ]
  },
  {
   "cell_type": "code",
   "execution_count": null,
   "id": "15402a4c",
   "metadata": {},
   "outputs": [],
   "source": [
    "# global nolocal\n",
    "def add():\n",
    "    count = 1\n",
    "    def fun():\n",
    "        nonlocal count\n",
    "        print(count)\n",
    "        count += 1\n",
    "    return fun\n",
    "\n",
    "a = add()\n",
    "a()\n",
    "a()"
   ]
  },
  {
   "cell_type": "code",
   "execution_count": 20,
   "id": "179c4f3c",
   "metadata": {},
   "outputs": [
    {
     "name": "stdout",
     "output_type": "stream",
     "text": [
      "3\n"
     ]
    }
   ],
   "source": [
    "def f(s):\n",
    "    t = 0\n",
    "    max = 0\n",
    "    for i in s:\n",
    "        if i >= '0' and i <= '9':\n",
    "            t = t + 1\n",
    "        else:\n",
    "            if t > max:\n",
    "                max = t\n",
    "            t = 0\n",
    "    print(max)\n",
    "list = \"123ab45cd6d\"\n",
    "f(list)\n",
    "\n",
    "\n",
    "def foo(x:int, y:int) -> int:\n",
    "    return x + y"
   ]
  },
  {
   "cell_type": "markdown",
   "id": "7fef375c",
   "metadata": {},
   "source": [
    "### 1. 编写函数，求1+2+3+…N的和\n",
    "### 2. 编写一个函数，求多个数中的最大值\n",
    "### 3. 编写一个函数，提取指定字符串中所有的字母，然后拼接在一起产生一个新的字符串"
   ]
  },
  {
   "cell_type": "code",
   "execution_count": null,
   "id": "b2adf6c6",
   "metadata": {},
   "outputs": [],
   "source": [
    "# 判断一个字符是不是字符串\n",
    "def is_letter(ch):  \n",
    "    return ch.isalpha() ch.isdigit()"
   ]
  },
  {
   "metadata": {},
   "cell_type": "code",
   "outputs": [],
   "execution_count": null,
   "source": [
    "a = 1\n",
    "b = 2\n",
    "print(a,b)\n",
    "\n",
    "def fn(a,b ):\n",
    "    print(a + b)"
   ],
   "id": "48b3ed81c9f4d387"
  }
 ],
 "metadata": {
  "kernelspec": {
   "display_name": "Python 3",
   "language": "python",
   "name": "python3"
  },
  "language_info": {
   "codemirror_mode": {
    "name": "ipython",
    "version": 3
   },
   "file_extension": ".py",
   "mimetype": "text/x-python",
   "name": "python",
   "nbconvert_exporter": "python",
   "pygments_lexer": "ipython3",
   "version": "3.10.9"
  }
 },
 "nbformat": 4,
 "nbformat_minor": 5
}
