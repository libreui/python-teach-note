{
 "cells": [
  {
   "cell_type": "code",
   "execution_count": null,
   "metadata": {},
   "outputs": [],
   "source": [
    "# 十进制转二进制\n",
    "def decimal_to_binary(n):\n",
    "    '''递归完成十进制转二进制'''\n",
    "    if n < 2:\n",
    "        return n\n",
    "    else:\n",
    "        return n % 2 + 10 * decimal_to_binary(n // 2)\n",
    "\n",
    "def decimal_to_octal(n):\n",
    "    '''递归完成十进制转八进制'''\n",
    "    if n < 8:\n",
    "        return n\n",
    "    else:\n",
    "        return n % 8 + 10 * decimal_to_octal(n // 8)\n",
    "    \n",
    "print(decimal_to_octal(143))\n",
    "\n"
   ]
  },
  {
   "cell_type": "code",
   "execution_count": null,
   "metadata": {},
   "outputs": [],
   "source": [
    "lst = [5, 3, 7, 6, 4, 1, 0, 2, 9, 10, 8]\n",
    "povit = lst[0]\n",
    "low, high = 0, len(lst) - 1\n",
    "while low < high:\n",
    "    while low < high and lst[high] >= povit:\n",
    "        high -= 1\n",
    "    lst[low] = lst[high]\n",
    "    while low < high and lst[low] <= povit:\n",
    "        low += 1\n",
    "    lst[high] = lst[low]\n",
    "lst[low] = povit\n",
    "print(lst)"
   ]
  },
  {
   "cell_type": "code",
   "execution_count": null,
   "metadata": {},
   "outputs": [],
   "source": [
    "def quick_sort(arr, left, right):\n",
    "    if left >= right:\n",
    "        return arr\n",
    "    \n",
    "    povit = arr[left]\n",
    "    low = left\n",
    "    high = right\n",
    "\n",
    "    while left < right:\n",
    "        while left < right and arr[right] >= povit:\n",
    "            right -= 1\n",
    "        arr[left] = arr[right]\n",
    "        \n",
    "        while left < right and arr[left] <= povit:\n",
    "            left += 1\n",
    "        arr[right] = arr[left]\n",
    "    \n",
    "    arr[left] = povit\n",
    "\n",
    "    quick_sort(arr, low, left-1)\n",
    "    quick_sort(arr, left+1, high)\n",
    "\n",
    "    return arr\n",
    "\n",
    "lst = [5, 3, 7, 6, 4, 1, 0, 2, 9, 10, 8]\n",
    "print(quick_sort(lst, 0, len(lst)-1))"
   ]
  },
  {
   "cell_type": "code",
   "execution_count": null,
   "metadata": {},
   "outputs": [],
   "source": [
    "\n",
    "a = [5, 3, 7, 6, 4, 1, 0, 2, 9, 10, 8]\n",
    "def partion(arr, left, right):\n",
    "    i = left - 1\n",
    "    for j in range(left, right):\n",
    "        if arr[j] < arr[right]:\n",
    "            i += 1\n",
    "            arr[i], arr[j] = arr[j], arr[i]\n",
    "    arr[i+1], arr[right] = arr[right], arr[i+1]\n",
    "    return i\n",
    "\n",
    "def quick_sort(arr, left, right):\n",
    "    if left < right:\n",
    "        # 满足条件进入递归，否则什么都不做\n",
    "        p = partion(arr, left, right)\n",
    "        quick_sort(arr, left, p)\n",
    "        quick_sort(arr, p+1, right)\n",
    "\n",
    "\n",
    "quick_sort(a, 0, len(a)-1)\n",
    "print(a)\n"
   ]
  },
  {
   "cell_type": "code",
   "execution_count": null,
   "metadata": {},
   "outputs": [],
   "source": [
    "a = [5, 3, 7, 6, 4, 1, 0, 2, 9, 10, 8]\n",
    "def f(lst,l,r):\n",
    "    i = l-1\n",
    "    for j in range(l,r):\n",
    "        if lst[j] < lst[r]:\n",
    "            i += 1\n",
    "            lst[i], lst[j] = lst[j], lst[i]\n",
    "    lst[i+1], lst[r] = lst[r], lst[i+1]\n",
    "    return i\n",
    "f(a,0,len(a)-1)\n",
    "print(a)"
   ]
  },
  {
   "cell_type": "code",
   "execution_count": null,
   "metadata": {},
   "outputs": [],
   "source": [
    "def qk(lst,l,r):\n",
    "    if l >= r:\n",
    "        return lst\n",
    "    p = lst[l]\n",
    "    low = l\n",
    "    h = r\n",
    "    while l<r:\n",
    "        # while l<r and lst[r] >= lst[p]:\n",
    "        while l<r and lst[r] >= p:\n",
    "            r -= 1\n",
    "        lst[l] = lst[r]\n",
    "        # while l<r and lst[l] <= lst[p]:\n",
    "        while l<r and lst[l] <= p:\n",
    "            l += 1\n",
    "        lst[r] = lst[l]\n",
    "        \n",
    "    lst[l] = p\n",
    "    qk(lst,low,l)\n",
    "    qk(lst,l+1,h)\n",
    "\n",
    "    return lst\n",
    "a = [5, 3, 7, 6, 4, 1, 0, 2, 9, 10, 8]\n",
    "print(qk(a,0,len(a)-1))"
   ]
  },
  {
   "cell_type": "code",
   "execution_count": null,
   "metadata": {},
   "outputs": [],
   "source": []
  },
  {
   "cell_type": "code",
   "execution_count": null,
   "metadata": {},
   "outputs": [],
   "source": [
    "def get_max(arr):\n",
    "    return max (arr)\n",
    "def solve(arr):\n",
    "    n = len(arr)\n",
    "    if n <= 2:\n",
    "        return get_max(arr)\n",
    "    l,r = solve (arr[:n//2]),solve(arr[n//2:])\n",
    "    return get_max([l,r])"
   ]
  },
  {
   "cell_type": "code",
   "execution_count": null,
   "metadata": {},
   "outputs": [],
   "source": [
    "def qk(lst,l,r):\n",
    "    if l >= r:\n",
    "        return lst\n",
    "    p = lst[l]\n",
    "    low = l\n",
    "    h = r\n",
    "    while l<r:\n",
    "        while l<r and lst[r] >= p:\n",
    "            r -= 1\n",
    "        lst[l] = lst[r]\n",
    "        while l<r and lst[l] <= p:\n",
    "            l += 1\n",
    "        lst[r] = lst[l]\n",
    "        \n",
    "    lst[l] = p\n",
    "    qk(lst,low,l)\n",
    "    qk(lst,l+1,h)\n",
    "    return lst\n",
    "a = [5,7,8,6,4,9,3,2,0,1,10]\n",
    "print(qk(a,0,len(a)-1))\n"
   ]
  },
  {
   "cell_type": "code",
   "execution_count": null,
   "metadata": {},
   "outputs": [],
   "source": [
    "a = [5, 3, 7, 6, 4, 1, 0, 2, 9, 10, 8]\n",
    "def so(lst,l,r):\n",
    "    i = l-1\n",
    "    for j in range(l,r):\n",
    "        if lst[j] < lst[r]:\n",
    "            i += 1\n",
    "            lst[i], lst[j] = lst[j], lst[i]\n",
    "    lst[i+1], lst[r] = lst[r], lst[i+1]\n",
    "    return i\n",
    "\n",
    "def rt(lst,l,r):\n",
    "    if l < r:\n",
    "        p = so(lst,l,r)\n",
    "        rt(lst,l,p)\n",
    "        rt(lst,p+1,r)\n",
    "\n",
    "    return lst\n",
    "a = [5, 3, 7, 6, 4, 1, 0, 2, 9, 10, 8]\n",
    "rt(a,0,len(a)-1)\n",
    "print(a)"
   ]
  },
  {
   "cell_type": "code",
   "execution_count": null,
   "metadata": {},
   "outputs": [],
   "source": [
    "def sort(lst,l,r):\n",
    "    i = l-1\n",
    "    for j in range(l,r):\n",
    "        if lst[j]< lst[r]:\n",
    "            i += 1\n",
    "            lst[i],lst[j] = lst[j],lst[i]\n",
    "    lst[i+1],lst[r] = lst[r],lst[i+1]\n",
    "    return i\n",
    "\n",
    "def quick(lst,l,r):\n",
    "    print(l,r)\n",
    "    if l < r:\n",
    "        p = sort(lst,l,r)\n",
    "        quick(lst,l,p)\n",
    "        quick(lst,p+1,r)\n",
    "    return lst\n",
    "a = [5, 3, 7, 6, 4, 1, 0, 2, 2, 10, 8]\n",
    "sort(a,0,len(a)-1)\n",
    "print(a)\n"
   ]
  },
  {
   "cell_type": "code",
   "execution_count": null,
   "metadata": {},
   "outputs": [],
   "source": [
    "def quick_sort(arr, left:int, right:int):\n",
    "    if left >= right:\n",
    "        return arr\n",
    "    \n",
    "    povit = arr[left]\n",
    "    low = left\n",
    "    high = right\n",
    "    while left < right:\n",
    "        while left < right and arr[right] >= povit:\n",
    "            right -= 1\n",
    "        arr[left] = arr[right]\n",
    "        while left < right and arr[left] <= povit:\n",
    "            left += 1\n",
    "        arr[right] = arr[left]\n",
    "    arr[left] = povit\n",
    "\n",
    "    quick_sort(arr, low, left-1)\n",
    "    quick_sort(arr, left+1, high)\n",
    "    return arr\n",
    "\n",
    "a = [5, 3, 7, 6, 4, 1, 0, 2, 2, 10, 8]\n",
    "quick_sort(a, 0, len(a)-1)\n",
    "print(a)\n",
    "\n"
   ]
  },
  {
   "cell_type": "code",
   "execution_count": null,
   "metadata": {},
   "outputs": [],
   "source": [
    "def partation(arr, left, right):\n",
    "    i = left-1\n",
    "    for j in range(left, right):\n",
    "        if arr[j] <= arr[right]:\n",
    "            i += 1\n",
    "            arr[i], arr[j] = arr[j], arr[i]\n",
    "    arr[i+1], arr[right] = arr[right], arr[i+1]\n",
    "    return i\n",
    "\n",
    "def quick_sort(arr, left, right):\n",
    "    if left < right:\n",
    "        p = partation(arr, left, right)\n",
    "        quick_sort(arr, left, p)\n",
    "        quick_sort(arr, p+1, right)\n",
    "\n",
    "a = [5, 3, 7, 6, 4, 1, 0, 2, 2, 10, 8]\n",
    "quick_sort(a, 0, len(a)-1)\n",
    "print(a)"
   ]
  },
  {
   "cell_type": "code",
   "execution_count": null,
   "metadata": {},
   "outputs": [],
   "source": [
    "def partation(arr):\n",
    "    p = arr[0]\n",
    "    low = [x for x in arr[1:] if x <= p]\n",
    "    high = [x for x in arr[1:] if x > p]\n",
    "    return low, p, high\n",
    "\n",
    "def quick_sort(arr):\n",
    "    if len(arr) <= 1:\n",
    "        return arr\n",
    "    low, p, high = partation(arr)\n",
    "    return quick_sort(low) + [p] + quick_sort(high)\n",
    "\n",
    "a = [5, 3, 7, 6, 4, 1, 0, 2, 2, 10, 8]\n",
    "print(quick_sort(a))\n"
   ]
  },
  {
   "cell_type": "code",
   "execution_count": 15,
   "outputs": [
    {
     "name": "stdout",
     "output_type": "stream",
     "text": [
      "3.00\n",
      "3.142\n",
      "3.14\n",
      "40.0\n"
     ]
    }
   ],
   "source": [
    "n = 3.14159\n",
    "# 保留2位\n",
    "print(\"%d\" % 3)\n",
    "print(round(n, 3))\n",
    "print(\"{:.2f}\".format(n))\n",
    "\n",
    "c = 40\n",
    "z = 100\n",
    "print((c/z)*100)"
   ],
   "metadata": {
    "collapsed": false,
    "ExecuteTime": {
     "end_time": "2025-04-16T01:26:59.948006Z",
     "start_time": "2025-04-16T01:26:59.933702Z"
    }
   }
  }
 ],
 "metadata": {
  "kernelspec": {
   "display_name": "python310",
   "language": "python",
   "name": "python3"
  },
  "language_info": {
   "codemirror_mode": {
    "name": "ipython",
    "version": 3
   },
   "file_extension": ".py",
   "mimetype": "text/x-python",
   "name": "python",
   "nbconvert_exporter": "python",
   "pygments_lexer": "ipython3",
   "version": "3.10.9"
  }
 },
 "nbformat": 4,
 "nbformat_minor": 2
}
